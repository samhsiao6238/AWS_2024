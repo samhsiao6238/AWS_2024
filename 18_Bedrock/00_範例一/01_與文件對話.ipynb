{
 "cells": [
  {
   "cell_type": "markdown",
   "id": "645c0cae-c6f6-4855-a265-1083891f7c5c",
   "metadata": {},
   "source": [
    "# Amazon Bedrock"
   ]
  },
  {
   "cell_type": "markdown",
   "id": "f9001d6e-1ddc-4bf7-b002-c92b9ce221f7",
   "metadata": {},
   "source": [
    "導入庫"
   ]
  },
  {
   "cell_type": "code",
   "execution_count": null,
   "id": "132a2518-8e4c-451b-881a-9a792fb717ce",
   "metadata": {},
   "outputs": [],
   "source": [
    "# 導入庫\n",
    "import boto3\n",
    "# 建立 AWS 客戶端\n",
    "bedrock_client = boto3.client(\n",
    "    service_name='bedrock-agent-runtime'\n",
    ")\n",
    "\n",
    "session = boto3.session.Session()\n",
    "region = session.region_name"
   ]
  },
  {
   "cell_type": "markdown",
   "id": "a1192530-c4c9-424f-af42-d98469e59f01",
   "metadata": {},
   "source": [
    "調用 API 的函數 `retrieve_and_generate`"
   ]
  },
  {
   "cell_type": "code",
   "execution_count": null,
   "id": "de9f5f31-74ec-47de-915f-2ef8d02e2beb",
   "metadata": {},
   "outputs": [],
   "source": [
    "def retrieveAndGenerate(\n",
    "    input_text,\n",
    "    sourceType,\n",
    "    model_id,\n",
    "    region,\n",
    "    document_s3_uri=None,\n",
    "    data=None,\n",
    "    identifier=None\n",
    "):\n",
    "    # URI \n",
    "    model_arn = f'arn:aws:bedrock:{region}::foundation-model/{model_id}'\n",
    "    # 假如是 S3\n",
    "    if sourceType == \"S3\":\n",
    "        # 透過客戶端調用 retrieve_and_generate 函數\n",
    "        return bedrock_client.retrieve_and_generate(\n",
    "            input={'text': input_text},\n",
    "            retrieveAndGenerateConfiguration={\n",
    "                'type': 'EXTERNAL_SOURCES',\n",
    "                'externalSourcesConfiguration': {\n",
    "                    'modelArn': model_arn,\n",
    "                    'sources': [\n",
    "                        {\n",
    "                            \"sourceType\": sourceType,\n",
    "                            \"s3Location\": {\n",
    "                                \"uri\": document_s3_uri  \n",
    "                            }\n",
    "                        }\n",
    "                    ]\n",
    "                }\n",
    "            }\n",
    "        )\n",
    "    else:\n",
    "        return bedrock_client.retrieve_and_generate(\n",
    "            input={'text': input_text},\n",
    "            retrieveAndGenerateConfiguration={\n",
    "                'type': 'EXTERNAL_SOURCES',\n",
    "                'externalSourcesConfiguration': {\n",
    "                    'modelArn': model_arn,\n",
    "                    'sources': [\n",
    "                        {\n",
    "                            \"sourceType\": sourceType,\n",
    "                            \"byteContent\": {\n",
    "                                \"identifier\": identifier,\n",
    "                                \"contentType\": \"text/plain\",\n",
    "                                \"data\": data  \n",
    "                            }\n",
    "                        }\n",
    "                    ]\n",
    "                }\n",
    "            }\n",
    "        )"
   ]
  },
  {
   "cell_type": "markdown",
   "id": "36bf9766-47fd-4366-a9e0-d26cb6074910",
   "metadata": {},
   "source": [
    "跟文件對話"
   ]
  },
  {
   "cell_type": "code",
   "execution_count": null,
   "id": "a2387141-2e5b-48f2-b01d-479bf7ed2e72",
   "metadata": {},
   "outputs": [],
   "source": [
    "# 模型 ID\n",
    "model_id = \"anthropic.claude-3-sonnet-20240229-v1:0\"\n",
    "# 替換自己的 S3 URI\n",
    "# document_uri = \"s3://data-dump-2024/FAQ_Zappos.com.pdf\"\n",
    "document_uri = \"論文01.pdf\""
   ]
  },
  {
   "cell_type": "code",
   "execution_count": null,
   "id": "33db198a-4ed6-4f83-abc1-8652f20d2929",
   "metadata": {},
   "outputs": [],
   "source": [
    "def my_chatbot(question):\n",
    "    response = retrieveAndGenerate(\n",
    "        input_text=question,\n",
    "        sourceType=\"S3\",\n",
    "        model_id=model_id,\n",
    "        region=region,\n",
    "        document_s3_uri=document_uri,\n",
    "    )\n",
    "    return response"
   ]
  },
  {
   "cell_type": "markdown",
   "id": "f9905302",
   "metadata": {},
   "source": [
    "提問"
   ]
  },
  {
   "cell_type": "code",
   "execution_count": null,
   "id": "9723950b-db59-4454-ac33-76c8b9afa87e",
   "metadata": {},
   "outputs": [],
   "source": [
    "# my_question = \"你們的退費政策是什麼？\"\n",
    "my_question = \"論文的作者及考官有哪幾位？\"\n",
    "response = my_chatbot(question=my_question)\n",
    "print(response['output']['text'])"
   ]
  },
  {
   "cell_type": "markdown",
   "id": "7432dbef",
   "metadata": {},
   "source": [
    "提問"
   ]
  },
  {
   "cell_type": "code",
   "execution_count": null,
   "id": "f6c37821-96b0-4439-94ef-71332e3dcf0b",
   "metadata": {},
   "outputs": [],
   "source": [
    "my_question =  \"我需要多長時間才能收到退款？\"\n",
    "response = my_chatbot(question=my_question)\n",
    "print(response['output']['text'])"
   ]
  },
  {
   "cell_type": "markdown",
   "id": "d2207796",
   "metadata": {},
   "source": [
    "查詢版本"
   ]
  },
  {
   "cell_type": "code",
   "execution_count": null,
   "id": "c1725b1a-4c60-4090-b436-3c8f562f6115",
   "metadata": {},
   "outputs": [],
   "source": [
    "boto3.__version__"
   ]
  },
  {
   "cell_type": "markdown",
   "id": "1fbeb4a0",
   "metadata": {},
   "source": [
    "# 改為本地文件"
   ]
  },
  {
   "cell_type": "code",
   "execution_count": null,
   "id": "1d086150",
   "metadata": {},
   "outputs": [],
   "source": [
    "%pip install PyPDF2"
   ]
  },
  {
   "cell_type": "code",
   "execution_count": 3,
   "id": "6e5da323",
   "metadata": {},
   "outputs": [
    {
     "name": "stdout",
     "output_type": "stream",
     "text": [
      "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\n",
      "根據搜尋結果中的內容,本論文的主要作者是沈俊儒(Shen, Chun-Ju)。 \n",
      "\n",
      "\n",
      "根據搜尋結果,論文中沒有明確提到考試官的人數。論文主要探討了年輕教師和年長教師在線教學行為和工作壓力之間的關係和差異。\n"
     ]
    }
   ],
   "source": [
    "import boto3\n",
    "from PyPDF2 import PdfReader\n",
    "import base64\n",
    "import os\n",
    "from dotenv import load_dotenv\n",
    "\n",
    "# 環境變數\n",
    "load_dotenv()\n",
    "\n",
    "bedrock_client = boto3.client(service_name='bedrock-agent-runtime')\n",
    "\n",
    "session = boto3.session.Session()\n",
    "region = session.region_name\n",
    "\n",
    "def retrieveAndGenerate(\n",
    "    input_text,\n",
    "    sourceType,\n",
    "    model_id,\n",
    "    region,\n",
    "    document_content=None,\n",
    "    identifier=None\n",
    "):\n",
    "    model_arn = f'arn:aws:bedrock:{region}::foundation-model/{model_id}'\n",
    "\n",
    "    if sourceType == \"S3\":\n",
    "        return bedrock_client.retrieve_and_generate(\n",
    "            input={'text': input_text},\n",
    "            retrieveAndGenerateConfiguration={\n",
    "                'type': 'EXTERNAL_SOURCES',\n",
    "                'externalSourcesConfiguration': {\n",
    "                    'modelArn': model_arn,\n",
    "                    'sources': [\n",
    "                        {\n",
    "                            \"sourceType\": sourceType,\n",
    "                            \"s3Location\": {\n",
    "                                \"uri\": document_content  \n",
    "                            }\n",
    "                        }\n",
    "                    ]\n",
    "                }\n",
    "            }\n",
    "        )\n",
    "    else:\n",
    "        return bedrock_client.retrieve_and_generate(\n",
    "            input={'text': input_text},\n",
    "            retrieveAndGenerateConfiguration={\n",
    "                'type': 'EXTERNAL_SOURCES',\n",
    "                'externalSourcesConfiguration': {\n",
    "                    'modelArn': model_arn,\n",
    "                    'sources': [\n",
    "                        {\n",
    "                            \"sourceType\": sourceType,\n",
    "                            \"byteContent\": {\n",
    "                                \"identifier\": identifier,\n",
    "                                \"contentType\": \"application/pdf\",\n",
    "                                \"data\": document_content  \n",
    "                            }\n",
    "                        }\n",
    "                    ]\n",
    "                }\n",
    "            }\n",
    "        )\n",
    "\n",
    "def read_pdf_as_base64(file_path, max_pages=5):\n",
    "    pdf_text = \"\"\n",
    "    with open(file_path, \"rb\") as pdf_file:\n",
    "        pdf_reader = PdfReader(pdf_file)\n",
    "        for page in range(min(max_pages, len(pdf_reader.pages))):\n",
    "            pdf_text += pdf_reader.pages[page].extract_text()\n",
    "        return base64.b64encode(pdf_text.encode('utf-8')).decode('utf-8')\n",
    "\n",
    "model_id = \"anthropic.claude-3-sonnet-20240229-v1:0\"\n",
    "document_path = \"論文01.pdf\"\n",
    "pdf_content_base64 = read_pdf_as_base64(document_path)\n",
    "print(pdf_content_base64)\n",
    "\n",
    "def my_chatbot(question):\n",
    "    response = retrieveAndGenerate(\n",
    "        input_text=question,\n",
    "        sourceType=\"BYTE_CONTENT\",\n",
    "        model_id=model_id,\n",
    "        region=region,\n",
    "        document_content=pdf_content_base64,\n",
    "        identifier=document_path\n",
    "    )\n",
    "    return response\n",
    "\n",
    "# 提問一\n",
    "my_question = \"主要的作者是誰？\"\n",
    "response = my_chatbot(question=my_question)\n",
    "print(response['output']['text'], '\\n\\n')\n",
    "\n",
    "# 提問二\n",
    "my_question =  \"考試官有哪幾位？\"\n",
    "response = my_chatbot(question=my_question)\n",
    "print(response['output']['text'])\n"
   ]
  }
 ],
 "metadata": {
  "kernelspec": {
   "display_name": "Python 3 (ipykernel)",
   "language": "python",
   "name": "python3"
  },
  "language_info": {
   "codemirror_mode": {
    "name": "ipython",
    "version": 3
   },
   "file_extension": ".py",
   "mimetype": "text/x-python",
   "name": "python",
   "nbconvert_exporter": "python",
   "pygments_lexer": "ipython3",
   "version": "3.10.11"
  }
 },
 "nbformat": 4,
 "nbformat_minor": 5
}
