{
 "cells": [
  {
   "cell_type": "markdown",
   "metadata": {},
   "source": [
    "### 建立 S3"
   ]
  },
  {
   "cell_type": "code",
   "execution_count": 2,
   "metadata": {},
   "outputs": [
    {
     "name": "stderr",
     "output_type": "stream",
     "text": [
      "ERROR:root:An error occurred (IllegalLocationConstraintException) when calling the CreateBucket operation: The unspecified location constraint is incompatible for the region specific endpoint this request was sent to.\n"
     ]
    },
    {
     "data": {
      "text/plain": [
       "False"
      ]
     },
     "execution_count": 2,
     "metadata": {},
     "output_type": "execute_result"
    }
   ],
   "source": [
    "import logging\n",
    "import boto3\n",
    "from botocore.exceptions import ClientError\n",
    "\n",
    "def create_bucket(bucket_name, region=None):\n",
    "\n",
    "    # Create bucket\n",
    "    try:\n",
    "        if region is None:\n",
    "            s3_client = boto3.client('s3')\n",
    "            s3_client.create_bucket(Bucket=bucket_name)\n",
    "        else:\n",
    "            s3_client = boto3.client('s3', region_name=region)\n",
    "            location = {'LocationConstraint': region}\n",
    "            s3_client.create_bucket(Bucket=bucket_name,\n",
    "                                    CreateBucketConfiguration=location)\n",
    "    except ClientError as e:\n",
    "        logging.error(e)\n",
    "        return False\n",
    "    return True\n",
    "\n",
    "create_bucket('my-bucket-01')"
   ]
  },
  {
   "cell_type": "markdown",
   "metadata": {},
   "source": [
    "### 查詢現有儲存桶的列表"
   ]
  },
  {
   "cell_type": "code",
   "execution_count": 7,
   "metadata": {},
   "outputs": [
    {
     "name": "stdout",
     "output_type": "stream",
     "text": [
      "Existing buckets:\n",
      "  my-bucket-623801\n",
      "  my-bucket-623802\n",
      "  mybucket-0721\n"
     ]
    }
   ],
   "source": [
    "s3 = boto3.client('s3')\n",
    "response = s3.list_buckets()\n",
    "\n",
    "# Output the bucket names\n",
    "print('Existing buckets:')\n",
    "for bucket in response['Buckets']:\n",
    "    print(f'  {bucket[\"Name\"]}')"
   ]
  },
  {
   "cell_type": "markdown",
   "metadata": {},
   "source": [
    "### forecast 專案"
   ]
  },
  {
   "cell_type": "code",
   "execution_count": 8,
   "metadata": {},
   "outputs": [
    {
     "name": "stdout",
     "output_type": "stream",
     "text": [
      "S3 Bucket 'my-bucket-623803' 建立成功\n"
     ]
    }
   ],
   "source": [
    "import boto3\n",
    "import pandas as pd\n",
    "import numpy as np\n",
    "from datetime import datetime, timedelta\n",
    "import json\n",
    "import time\n",
    "\n",
    "# 初始化 Amazon S3 客戶端\n",
    "# 指定區域\n",
    "region = 'us-east-1'\n",
    "s3 = boto3.client('s3', region_name=region)\n",
    "\n",
    "# 建立 S3 Bucket（如果尚未存在）\n",
    "# 務必確保名稱唯一\n",
    "bucket_name = 'my-bucket-623803'\n",
    "\n",
    "\n",
    "def create_bucket(bucket_name, region):\n",
    "    try:\n",
    "        if region == 'us-east-1':\n",
    "            s3.create_bucket(Bucket=bucket_name)\n",
    "        else:\n",
    "            s3.create_bucket(\n",
    "                Bucket=bucket_name,\n",
    "                CreateBucketConfiguration={'LocationConstraint': region}\n",
    "            )\n",
    "        print(f\"S3 Bucket '{bucket_name}' 建立成功\")\n",
    "    except s3.exceptions.BucketAlreadyOwnedByYou:\n",
    "        print(f\"S3 Bucket '{bucket_name}' 已經存在\")\n",
    "    except s3.exceptions.ClientError as e:\n",
    "        if e.response['Error']['Code'] == 'BucketAlreadyExists':\n",
    "            print(f\"S3 Bucket '{bucket_name}' 已經存在於其他帳戶\")\n",
    "        else:\n",
    "            raise e\n",
    "\n",
    "create_bucket(bucket_name, region)"
   ]
  },
  {
   "cell_type": "markdown",
   "metadata": {},
   "source": [
    "### 模擬數據"
   ]
  },
  {
   "cell_type": "code",
   "execution_count": 9,
   "metadata": {},
   "outputs": [],
   "source": [
    "# 模擬數據生成函數\n",
    "def generate_time_series_data(start_date, end_date, freq='D'):\n",
    "    # 生成日期範圍\n",
    "    dates = pd.date_range(start_date, end_date, freq=freq)\n",
    "    # 生成隨機數據\n",
    "    data = np.random.randint(1, 100, len(dates))\n",
    "    # 使用相同的 item_id\n",
    "    item_ids = ['item_1'] * len(dates)\n",
    "    return pd.DataFrame({'timestamp': dates, 'value': data, 'item_id': item_ids})\n",
    "\n",
    "# 開始日期\n",
    "start_date = '2024-01-01'\n",
    "# 結束日期，縮短時間範圍以減少數據量\n",
    "end_date = '2024-01-10'\n",
    "time_series_data = generate_time_series_data(start_date, end_date)\n",
    "\n",
    "# 將數據保存到本地文件\n",
    "time_series_data.to_csv('time_series_data.csv', index=False)"
   ]
  },
  {
   "cell_type": "markdown",
   "metadata": {},
   "source": [
    "### 將數據上傳到 S3"
   ]
  },
  {
   "cell_type": "code",
   "execution_count": 10,
   "metadata": {},
   "outputs": [],
   "source": [
    "s3_key = 'time_series_data.csv'\n",
    "s3.upload_file('time_series_data.csv', bucket_name, s3_key)"
   ]
  },
  {
   "cell_type": "markdown",
   "metadata": {},
   "source": [
    "### 初始化 Forecast 客戶端"
   ]
  },
  {
   "cell_type": "code",
   "execution_count": 11,
   "metadata": {},
   "outputs": [
    {
     "ename": "ClientError",
     "evalue": "An error occurred (AccessDeniedException) when calling the CreateDataset operation: User: arn:aws:iam::891377311393:user/s3user is not authorized to perform: forecast:CreateDataset on resource: arn:aws:forecast:us-east-1:891377311393:dataset/my_dataset because no identity-based policy allows the forecast:CreateDataset action",
     "output_type": "error",
     "traceback": [
      "\u001b[0;31m---------------------------------------------------------------------------\u001b[0m",
      "\u001b[0;31mClientError\u001b[0m                               Traceback (most recent call last)",
      "Cell \u001b[0;32mIn[11], line 14\u001b[0m\n\u001b[1;32m      5\u001b[0m dataset_group_name \u001b[38;5;241m=\u001b[39m \u001b[38;5;124m'\u001b[39m\u001b[38;5;124mmy_dataset_group\u001b[39m\u001b[38;5;124m'\u001b[39m\n\u001b[1;32m      6\u001b[0m schema \u001b[38;5;241m=\u001b[39m {\n\u001b[1;32m      7\u001b[0m     \u001b[38;5;124m\"\u001b[39m\u001b[38;5;124mAttributes\u001b[39m\u001b[38;5;124m\"\u001b[39m: [\n\u001b[1;32m      8\u001b[0m         {\u001b[38;5;124m\"\u001b[39m\u001b[38;5;124mAttributeName\u001b[39m\u001b[38;5;124m\"\u001b[39m: \u001b[38;5;124m\"\u001b[39m\u001b[38;5;124mtimestamp\u001b[39m\u001b[38;5;124m\"\u001b[39m, \u001b[38;5;124m\"\u001b[39m\u001b[38;5;124mAttributeType\u001b[39m\u001b[38;5;124m\"\u001b[39m: \u001b[38;5;124m\"\u001b[39m\u001b[38;5;124mtimestamp\u001b[39m\u001b[38;5;124m\"\u001b[39m},\n\u001b[0;32m   (...)\u001b[0m\n\u001b[1;32m     11\u001b[0m     ]\n\u001b[1;32m     12\u001b[0m }\n\u001b[0;32m---> 14\u001b[0m create_dataset_response \u001b[38;5;241m=\u001b[39m \u001b[43mforecast\u001b[49m\u001b[38;5;241;43m.\u001b[39;49m\u001b[43mcreate_dataset\u001b[49m\u001b[43m(\u001b[49m\n\u001b[1;32m     15\u001b[0m \u001b[43m    \u001b[49m\u001b[43mDatasetName\u001b[49m\u001b[38;5;241;43m=\u001b[39;49m\u001b[43mdataset_name\u001b[49m\u001b[43m,\u001b[49m\n\u001b[1;32m     16\u001b[0m \u001b[43m    \u001b[49m\u001b[43mDomain\u001b[49m\u001b[38;5;241;43m=\u001b[39;49m\u001b[38;5;124;43m'\u001b[39;49m\u001b[38;5;124;43mCUSTOM\u001b[39;49m\u001b[38;5;124;43m'\u001b[39;49m\u001b[43m,\u001b[49m\n\u001b[1;32m     17\u001b[0m \u001b[43m    \u001b[49m\u001b[43mDatasetType\u001b[49m\u001b[38;5;241;43m=\u001b[39;49m\u001b[38;5;124;43m'\u001b[39;49m\u001b[38;5;124;43mTARGET_TIME_SERIES\u001b[39;49m\u001b[38;5;124;43m'\u001b[39;49m\u001b[43m,\u001b[49m\n\u001b[1;32m     18\u001b[0m \u001b[43m    \u001b[49m\u001b[43mDataFrequency\u001b[49m\u001b[38;5;241;43m=\u001b[39;49m\u001b[38;5;124;43m'\u001b[39;49m\u001b[38;5;124;43mD\u001b[39;49m\u001b[38;5;124;43m'\u001b[39;49m\u001b[43m,\u001b[49m\n\u001b[1;32m     19\u001b[0m \u001b[43m    \u001b[49m\u001b[43mSchema\u001b[49m\u001b[38;5;241;43m=\u001b[39;49m\u001b[43mschema\u001b[49m\n\u001b[1;32m     20\u001b[0m \u001b[43m)\u001b[49m\n\u001b[1;32m     21\u001b[0m dataset_arn \u001b[38;5;241m=\u001b[39m create_dataset_response[\u001b[38;5;124m'\u001b[39m\u001b[38;5;124mDatasetArn\u001b[39m\u001b[38;5;124m'\u001b[39m]\n\u001b[1;32m     23\u001b[0m \u001b[38;5;66;03m# 建立數據集群組\u001b[39;00m\n",
      "File \u001b[0;32m~/Documents/PythonVenv/envAWS/lib/python3.10/site-packages/botocore/client.py:565\u001b[0m, in \u001b[0;36mClientCreator._create_api_method.<locals>._api_call\u001b[0;34m(self, *args, **kwargs)\u001b[0m\n\u001b[1;32m    561\u001b[0m     \u001b[38;5;28;01mraise\u001b[39;00m \u001b[38;5;167;01mTypeError\u001b[39;00m(\n\u001b[1;32m    562\u001b[0m         \u001b[38;5;124mf\u001b[39m\u001b[38;5;124m\"\u001b[39m\u001b[38;5;132;01m{\u001b[39;00mpy_operation_name\u001b[38;5;132;01m}\u001b[39;00m\u001b[38;5;124m() only accepts keyword arguments.\u001b[39m\u001b[38;5;124m\"\u001b[39m\n\u001b[1;32m    563\u001b[0m     )\n\u001b[1;32m    564\u001b[0m \u001b[38;5;66;03m# The \"self\" in this scope is referring to the BaseClient.\u001b[39;00m\n\u001b[0;32m--> 565\u001b[0m \u001b[38;5;28;01mreturn\u001b[39;00m \u001b[38;5;28;43mself\u001b[39;49m\u001b[38;5;241;43m.\u001b[39;49m\u001b[43m_make_api_call\u001b[49m\u001b[43m(\u001b[49m\u001b[43moperation_name\u001b[49m\u001b[43m,\u001b[49m\u001b[43m \u001b[49m\u001b[43mkwargs\u001b[49m\u001b[43m)\u001b[49m\n",
      "File \u001b[0;32m~/Documents/PythonVenv/envAWS/lib/python3.10/site-packages/botocore/client.py:1021\u001b[0m, in \u001b[0;36mBaseClient._make_api_call\u001b[0;34m(self, operation_name, api_params)\u001b[0m\n\u001b[1;32m   1017\u001b[0m     error_code \u001b[38;5;241m=\u001b[39m error_info\u001b[38;5;241m.\u001b[39mget(\u001b[38;5;124m\"\u001b[39m\u001b[38;5;124mQueryErrorCode\u001b[39m\u001b[38;5;124m\"\u001b[39m) \u001b[38;5;129;01mor\u001b[39;00m error_info\u001b[38;5;241m.\u001b[39mget(\n\u001b[1;32m   1018\u001b[0m         \u001b[38;5;124m\"\u001b[39m\u001b[38;5;124mCode\u001b[39m\u001b[38;5;124m\"\u001b[39m\n\u001b[1;32m   1019\u001b[0m     )\n\u001b[1;32m   1020\u001b[0m     error_class \u001b[38;5;241m=\u001b[39m \u001b[38;5;28mself\u001b[39m\u001b[38;5;241m.\u001b[39mexceptions\u001b[38;5;241m.\u001b[39mfrom_code(error_code)\n\u001b[0;32m-> 1021\u001b[0m     \u001b[38;5;28;01mraise\u001b[39;00m error_class(parsed_response, operation_name)\n\u001b[1;32m   1022\u001b[0m \u001b[38;5;28;01melse\u001b[39;00m:\n\u001b[1;32m   1023\u001b[0m     \u001b[38;5;28;01mreturn\u001b[39;00m parsed_response\n",
      "\u001b[0;31mClientError\u001b[0m: An error occurred (AccessDeniedException) when calling the CreateDataset operation: User: arn:aws:iam::891377311393:user/s3user is not authorized to perform: forecast:CreateDataset on resource: arn:aws:forecast:us-east-1:891377311393:dataset/my_dataset because no identity-based policy allows the forecast:CreateDataset action"
     ]
    }
   ],
   "source": [
    "forecast = boto3.client('forecast')\n",
    "\n",
    "# 建立數據集\n",
    "dataset_name = 'my_dataset'\n",
    "dataset_group_name = 'my_dataset_group'\n",
    "schema = {\n",
    "    \"Attributes\": [\n",
    "        {\"AttributeName\": \"timestamp\", \"AttributeType\": \"timestamp\"},\n",
    "        {\"AttributeName\": \"value\", \"AttributeType\": \"integer\"},\n",
    "        {\"AttributeName\": \"item_id\", \"AttributeType\": \"string\"}\n",
    "    ]\n",
    "}\n",
    "\n",
    "create_dataset_response = forecast.create_dataset(\n",
    "    DatasetName=dataset_name,\n",
    "    Domain='CUSTOM',\n",
    "    DatasetType='TARGET_TIME_SERIES',\n",
    "    DataFrequency='D',\n",
    "    Schema=schema\n",
    ")\n",
    "dataset_arn = create_dataset_response['DatasetArn']\n",
    "\n",
    "# 建立數據集群組\n",
    "create_dataset_group_response = forecast.create_dataset_group(\n",
    "    DatasetGroupName=dataset_group_name,\n",
    "    Domain='CUSTOM',\n",
    "    DatasetArns=[dataset_arn]\n",
    ")\n",
    "dataset_group_arn = create_dataset_group_response['DatasetGroupArn']\n",
    "\n",
    "# 將數據導入到數據集中\n",
    "# S3 文件路徑\n",
    "s3_data_path = f\"s3://{bucket_name}/{s3_key}\"\n",
    "# 使用你的 IAM 角色 ARN\n",
    "role_arn = \"arn:aws:iam::your-account-id:role/ForecastRole\"\n",
    "\n",
    "create_dataset_import_job_response = forecast.create_dataset_import_job(\n",
    "    DatasetImportJobName='my_dataset_import_job',\n",
    "    DatasetArn=dataset_arn,\n",
    "    DataSource={\n",
    "        \"S3Config\": {\n",
    "            \"Path\": s3_data_path,\n",
    "            \"RoleArn\": role_arn\n",
    "        }\n",
    "    },\n",
    "    TimestampFormat='yyyy-MM-dd'\n",
    ")\n",
    "dataset_import_job_arn = create_dataset_import_job_response['DatasetImportJobArn']\n",
    "\n",
    "# 等待數據導入完成\n",
    "while True:\n",
    "    status = forecast.describe_dataset_import_job(DatasetImportJobArn=dataset_import_job_arn)['Status']\n",
    "    if status in ('ACTIVE', 'CREATE_FAILED'):\n",
    "        break\n",
    "    print(f\"數據導入工作狀態: {status}\")\n",
    "    time.sleep(30)\n",
    "\n",
    "if status == 'CREATE_FAILED':\n",
    "    raise Exception(\"數據導入工作建立失敗\")\n",
    "\n",
    "# 建立預測器\n",
    "predictor_name = 'my_predictor'\n",
    "algorithm_arn = 'arn:aws:forecast:::algorithm/Prophet'\n",
    "\n",
    "create_predictor_response = forecast.create_predictor(\n",
    "    PredictorName=predictor_name,\n",
    "    # 設置較小的預測範圍\n",
    "    ForecastHorizon=3,\n",
    "    PerformAutoML=False,\n",
    "    PerformHPO=False,\n",
    "    AlgorithmArn=algorithm_arn,\n",
    "    InputDataConfig={\n",
    "        'DatasetGroupArn': dataset_group_arn\n",
    "    },\n",
    "    FeaturizationConfig={\n",
    "        'ForecastFrequency': 'D',\n",
    "        'Featurizations': [\n",
    "            {\n",
    "                'AttributeName': 'value',\n",
    "                'FeaturizationPipeline': [\n",
    "                    {\n",
    "                        'FeaturizationMethodName': 'filling',\n",
    "                        'FeaturizationMethodParameters': {\n",
    "                            'aggregation': 'sum',\n",
    "                            'backfill': 'nan',\n",
    "                            'frontfill': 'none'\n",
    "                        }\n",
    "                    }\n",
    "                ]\n",
    "            }\n",
    "        ]\n",
    "    }\n",
    ")\n",
    "predictor_arn = create_predictor_response['PredictorArn']\n",
    "\n",
    "# 等待預測器訓練完成\n",
    "while True:\n",
    "    status = forecast.describe_predictor(PredictorArn=predictor_arn)['Status']\n",
    "    if status in ('ACTIVE', 'CREATE_FAILED'):\n",
    "        break\n",
    "    print(f\"預測器訓練狀態: {status}\")\n",
    "    time.sleep(30)\n",
    "\n",
    "if status == 'CREATE_FAILED':\n",
    "    raise Exception(\"預測器建立失敗\")\n",
    "\n",
    "# 建立預測\n",
    "forecast_name = 'my_forecast'\n",
    "\n",
    "create_forecast_response = forecast.create_forecast(\n",
    "    ForecastName=forecast_name,\n",
    "    PredictorArn=predictor_arn\n",
    ")\n",
    "forecast_arn = create_forecast_response['ForecastArn']\n",
    "\n",
    "# 等待預測生成完成\n",
    "while True:\n",
    "    status = forecast.describe_forecast(ForecastArn=forecast_arn)['Status']\n",
    "    if status in ('ACTIVE', 'CREATE_FAILED'):\n",
    "        break\n",
    "    print(f\"預測狀態: {status}\")\n",
    "    time.sleep(30)\n",
    "\n",
    "if status == 'CREATE_FAILED':\n",
    "    raise Exception(\"預測建立失敗\")\n",
    "\n",
    "# 查詢預測結果\n",
    "forecastquery = boto3.client('forecastquery')\n",
    "forecast_response = forecastquery.query_forecast(\n",
    "    ForecastArn=forecast_arn,\n",
    "    Filters={\"item_id\": \"item_1\"}\n",
    ")\n",
    "\n",
    "print(forecast_response)"
   ]
  }
 ],
 "metadata": {
  "kernelspec": {
   "display_name": "envAWS",
   "language": "python",
   "name": "python3"
  },
  "language_info": {
   "codemirror_mode": {
    "name": "ipython",
    "version": 3
   },
   "file_extension": ".py",
   "mimetype": "text/x-python",
   "name": "python",
   "nbconvert_exporter": "python",
   "pygments_lexer": "ipython3",
   "version": "3.10.11"
  }
 },
 "nbformat": 4,
 "nbformat_minor": 2
}
