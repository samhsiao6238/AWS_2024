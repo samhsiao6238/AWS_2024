{
 "cells": [
  {
   "cell_type": "markdown",
   "metadata": {},
   "source": [
    "### Comprehend"
   ]
  },
  {
   "cell_type": "code",
   "execution_count": 5,
   "metadata": {},
   "outputs": [
    {
     "name": "stdout",
     "output_type": "stream",
     "text": [
      "{'Languages': [{'LanguageCode': 'zh-TW', 'Score': 1.0}], 'ResponseMetadata': {'RequestId': '158405c0-002e-49cf-b80b-a8bdaff65ae9', 'HTTPStatusCode': 200, 'HTTPHeaders': {'x-amzn-requestid': '158405c0-002e-49cf-b80b-a8bdaff65ae9', 'content-type': 'application/x-amz-json-1.1', 'content-length': '52', 'date': 'Sun, 21 Jul 2024 14:33:05 GMT'}, 'RetryAttempts': 0}}\n",
      "{'Entities': [{'Score': 0.9240604639053345, 'Type': 'DATE', 'Text': '今天是中華民國的國慶日，舉國歡騰', 'BeginOffset': 0, 'EndOffset': 16}], 'ResponseMetadata': {'RequestId': 'b54ac1e1-3bc1-4323-8ea8-422edae94cbf', 'HTTPStatusCode': 200, 'HTTPHeaders': {'x-amzn-requestid': 'b54ac1e1-3bc1-4323-8ea8-422edae94cbf', 'content-type': 'application/x-amz-json-1.1', 'content-length': '146', 'date': 'Sun, 21 Jul 2024 14:33:06 GMT'}, 'RetryAttempts': 0}}\n",
      "{'Sentiment': 'NEUTRAL', 'SentimentScore': {'Positive': 0.0040767984464764595, 'Negative': 0.0015436955727636814, 'Neutral': 0.9943777918815613, 'Mixed': 1.6289363884425256e-06}, 'ResponseMetadata': {'RequestId': '54e291ac-8b54-45eb-bf74-60b099439d7a', 'HTTPStatusCode': 200, 'HTTPHeaders': {'x-amzn-requestid': '54e291ac-8b54-45eb-bf74-60b099439d7a', 'content-type': 'application/x-amz-json-1.1', 'content-length': '167', 'date': 'Sun, 21 Jul 2024 14:33:06 GMT'}, 'RetryAttempts': 0}}\n"
     ]
    }
   ],
   "source": [
    "import boto3\n",
    "\n",
    "comprehend = boto3.client('comprehend')\n",
    "text = \"今天是中華民國的國慶日，舉國歡騰。\"\n",
    "\n",
    "# 語言偵測\n",
    "response = comprehend.detect_dominant_language(Text=text)\n",
    "print(response)\n",
    "\n",
    "# 關鍵字偵測\n",
    "response = comprehend.detect_entities(Text=text, LanguageCode='en')\n",
    "print(response)\n",
    "\n",
    "# 文本情感分析\n",
    "response = comprehend.detect_sentiment(Text=text, LanguageCode='en')\n",
    "print(response)"
   ]
  },
  {
   "cell_type": "code",
   "execution_count": 6,
   "metadata": {},
   "outputs": [
    {
     "name": "stdout",
     "output_type": "stream",
     "text": [
      "語言：zh-TW, 信心度：1.0\n",
      "實體：今天, 類型：DATE, 信心度：0.9858245849609375\n",
      "實體：中, 類型：ORGANIZATION, 信心度：0.3683246970176697\n",
      "實體：華, 類型：OTHER, 信心度：0.48079928755760193\n",
      "實體：民國, 類型：ORGANIZATION, 信心度：0.42363429069519043\n",
      "實體：國慶日, 類型：EVENT, 信心度：0.9265902042388916\n",
      "情感：NEUTRAL\n",
      "積極情感分數：0.0040767984464764595\n",
      "消極情感分數：0.0015436955727636814\n",
      "中性情感分數：0.9943777918815613\n",
      "混合情感分數：1.6289363884425256e-06\n"
     ]
    }
   ],
   "source": [
    "import boto3\n",
    "\n",
    "comprehend = boto3.client('comprehend')\n",
    "text = \"今天是中華民國的國慶日，舉國歡騰。\"\n",
    "\n",
    "# 語言偵測\n",
    "response = comprehend.detect_dominant_language(Text=text)\n",
    "languages = response['Languages']\n",
    "for language in languages:\n",
    "    print(f\"語言：{language['LanguageCode']}, 信心度：{language['Score']}\")\n",
    "\n",
    "print('=============================')\n",
    "# 關鍵字偵測\n",
    "response = comprehend.detect_entities(Text=text, LanguageCode='zh')\n",
    "entities = response['Entities']\n",
    "for entity in entities:\n",
    "    print(f\"實體：{entity['Text']}, 類型：{entity['Type']}, 信心度：{entity['Score']}\")\n",
    "\n",
    "print('=============================')\n",
    "# 文本情感分析\n",
    "response = comprehend.detect_sentiment(Text=text, LanguageCode='zh')\n",
    "sentiment = response['Sentiment']\n",
    "sentiment_scores = response['SentimentScore']\n",
    "print(f\"情感：{sentiment}\")\n",
    "print(f\"積極情感分數：{sentiment_scores['Positive']}\")\n",
    "print(f\"消極情感分數：{sentiment_scores['Negative']}\")\n",
    "print(f\"中性情感分數：{sentiment_scores['Neutral']}\")\n",
    "print(f\"混合情感分數：{sentiment_scores['Mixed']}\")\n"
   ]
  },
  {
   "cell_type": "markdown",
   "metadata": {},
   "source": [
    "### 翻譯"
   ]
  },
  {
   "cell_type": "code",
   "execution_count": 8,
   "metadata": {},
   "outputs": [
    {
     "name": "stdout",
     "output_type": "stream",
     "text": [
      "你好，世界\n"
     ]
    }
   ],
   "source": [
    "import boto3\n",
    "\n",
    "translate = boto3.client('translate')\n",
    "response = translate.translate_text(\n",
    "    Text=\"Hello, world\",\n",
    "    SourceLanguageCode=\"en\",\n",
    "    TargetLanguageCode=\"zh-TW\"\n",
    ")\n",
    "print(response['TranslatedText'])"
   ]
  },
  {
   "cell_type": "markdown",
   "metadata": {},
   "source": [
    "### Polly 文字轉語音"
   ]
  },
  {
   "cell_type": "code",
   "execution_count": 9,
   "metadata": {},
   "outputs": [],
   "source": [
    "import boto3\n",
    "\n",
    "polly = boto3.client('polly')\n",
    "response = polly.synthesize_speech(\n",
    "    Text='Hello, world!',\n",
    "    OutputFormat='mp3',\n",
    "    VoiceId='Joanna'\n",
    ")\n",
    "with open('output.mp3', 'wb') as file:\n",
    "    file.write(response['AudioStream'].read())"
   ]
  },
  {
   "cell_type": "markdown",
   "metadata": {},
   "source": [
    "### 播放音頻"
   ]
  },
  {
   "cell_type": "code",
   "execution_count": 13,
   "metadata": {},
   "outputs": [
    {
     "data": {
      "text/html": [
       "\n",
       "                <audio  controls=\"controls\" autoplay=\"autoplay\">\n",
       "                    <source src=\"data:audio/mpeg;base64,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\" type=\"audio/mpeg\" />\n",
       "                    Your browser does not support the audio element.\n",
       "                </audio>\n",
       "              "
      ],
      "text/plain": [
       "<IPython.lib.display.Audio object>"
      ]
     },
     "metadata": {},
     "output_type": "display_data"
    }
   ],
   "source": [
    "from IPython.display import Audio, display\n",
    "# 自動播放音頻\n",
    "audio = Audio('output.mp3', autoplay=True)\n",
    "display(audio)"
   ]
  },
  {
   "cell_type": "markdown",
   "metadata": {},
   "source": [
    "### 圖片辨識"
   ]
  },
  {
   "cell_type": "code",
   "execution_count": 14,
   "metadata": {},
   "outputs": [
    {
     "name": "stdout",
     "output_type": "stream",
     "text": [
      "{'Labels': [{'Name': 'Animal', 'Confidence': 99.99878692626953, 'Instances': [], 'Parents': [], 'Aliases': [], 'Categories': [{'Name': 'Animals and Pets'}]}, {'Name': 'Canine', 'Confidence': 99.99878692626953, 'Instances': [], 'Parents': [{'Name': 'Animal'}, {'Name': 'Mammal'}], 'Aliases': [], 'Categories': [{'Name': 'Animals and Pets'}]}, {'Name': 'Dog', 'Confidence': 99.99878692626953, 'Instances': [{'BoundingBox': {'Width': 0.6965767741203308, 'Height': 0.9511017799377441, 'Left': 0.08668509870767593, 'Top': 0.0038788034580647945}, 'Confidence': 97.60079956054688}], 'Parents': [{'Name': 'Animal'}, {'Name': 'Canine'}, {'Name': 'Mammal'}, {'Name': 'Pet'}], 'Aliases': [], 'Categories': [{'Name': 'Animals and Pets'}]}, {'Name': 'Hound', 'Confidence': 99.99878692626953, 'Instances': [], 'Parents': [{'Name': 'Animal'}, {'Name': 'Canine'}, {'Name': 'Dog'}, {'Name': 'Mammal'}, {'Name': 'Pet'}], 'Aliases': [], 'Categories': [{'Name': 'Animals and Pets'}]}, {'Name': 'Mammal', 'Confidence': 99.99878692626953, 'Instances': [], 'Parents': [{'Name': 'Animal'}], 'Aliases': [], 'Categories': [{'Name': 'Animals and Pets'}]}, {'Name': 'Pet', 'Confidence': 99.99878692626953, 'Instances': [], 'Parents': [{'Name': 'Animal'}], 'Aliases': [], 'Categories': [{'Name': 'Animals and Pets'}]}, {'Name': 'Puppy', 'Confidence': 99.49063110351562, 'Instances': [], 'Parents': [{'Name': 'Animal'}, {'Name': 'Canine'}, {'Name': 'Dog'}, {'Name': 'Mammal'}, {'Name': 'Pet'}], 'Aliases': [], 'Categories': [{'Name': 'Animals and Pets'}]}, {'Name': 'Beagle', 'Confidence': 97.88008117675781, 'Instances': [], 'Parents': [{'Name': 'Animal'}, {'Name': 'Canine'}, {'Name': 'Dog'}, {'Name': 'Hound'}, {'Name': 'Mammal'}, {'Name': 'Pet'}], 'Aliases': [], 'Categories': [{'Name': 'Animals and Pets'}]}, {'Name': 'Snout', 'Confidence': 55.131805419921875, 'Instances': [], 'Parents': [], 'Aliases': [], 'Categories': [{'Name': 'Animals and Pets'}]}], 'LabelModelVersion': '3.0', 'ResponseMetadata': {'RequestId': '50ad5b8e-fba0-4f8d-9939-7a0a181dc94c', 'HTTPStatusCode': 200, 'HTTPHeaders': {'x-amzn-requestid': '50ad5b8e-fba0-4f8d-9939-7a0a181dc94c', 'content-type': 'application/x-amz-json-1.1', 'content-length': '1788', 'date': 'Sun, 21 Jul 2024 14:48:02 GMT'}, 'RetryAttempts': 0}}\n"
     ]
    }
   ],
   "source": [
    "import boto3\n",
    "\n",
    "rekognition = boto3.client('rekognition')\n",
    "with open('dog.png', 'rb') as image:\n",
    "    response = rekognition.detect_labels(\n",
    "        Image={'Bytes': image.read()}\n",
    "    )\n",
    "print(response)"
   ]
  },
  {
   "cell_type": "markdown",
   "metadata": {},
   "source": [
    "### 優化輸出"
   ]
  },
  {
   "cell_type": "code",
   "execution_count": 15,
   "metadata": {},
   "outputs": [
    {
     "name": "stdout",
     "output_type": "stream",
     "text": [
      "Label: Animal, Confidence: 100.00%\n",
      "\n",
      "Label: Canine, Confidence: 100.00%\n",
      "  Parents: Animal, Mammal\n",
      "\n",
      "Label: Dog, Confidence: 100.00%\n",
      "  Instance - Bounding Box: (Left: 0.08668509870767593, Top: 0.0038788034580647945, Width: 0.6965767741203308, Height: 0.9511017799377441), Confidence: 97.60%\n",
      "  Parents: Animal, Canine, Mammal, Pet\n",
      "\n",
      "Label: Hound, Confidence: 100.00%\n",
      "  Parents: Animal, Canine, Dog, Mammal, Pet\n",
      "\n",
      "Label: Mammal, Confidence: 100.00%\n",
      "  Parents: Animal\n",
      "\n",
      "Label: Pet, Confidence: 100.00%\n",
      "  Parents: Animal\n",
      "\n",
      "Label: Puppy, Confidence: 99.49%\n",
      "  Parents: Animal, Canine, Dog, Mammal, Pet\n",
      "\n",
      "Label: Beagle, Confidence: 97.88%\n",
      "  Parents: Animal, Canine, Dog, Hound, Mammal, Pet\n",
      "\n",
      "Label: Snout, Confidence: 55.13%\n",
      "\n"
     ]
    }
   ],
   "source": [
    "import boto3\n",
    "\n",
    "rekognition = boto3.client('rekognition')\n",
    "with open('dog.png', 'rb') as image:\n",
    "    response = rekognition.detect_labels(\n",
    "        Image={'Bytes': image.read()}\n",
    "    )\n",
    "\n",
    "# 優化輸出\n",
    "for label in response['Labels']:\n",
    "    print(f\"Label: {label['Name']}, Confidence: {label['Confidence']:.2f}%\")\n",
    "    if label['Instances']:\n",
    "        for instance in label['Instances']:\n",
    "            bbox = instance['BoundingBox']\n",
    "            print(f\"  Instance - Bounding Box: (Left: {bbox['Left']}, Top: {bbox['Top']}, Width: {bbox['Width']}, Height: {bbox['Height']}), Confidence: {instance['Confidence']:.2f}%\")\n",
    "    if label['Parents']:\n",
    "        parents = \", \".join([parent['Name'] for parent in label['Parents']])\n",
    "        print(f\"  Parents: {parents}\")\n",
    "    print()\n"
   ]
  },
  {
   "cell_type": "code",
   "execution_count": 18,
   "metadata": {},
   "outputs": [
    {
     "ename": "S3UploadFailedError",
     "evalue": "Failed to upload time_series_data.csv to your-bucket/time_series_data.csv: An error occurred (AccessDenied) when calling the PutObject operation: Access Denied",
     "output_type": "error",
     "traceback": [
      "\u001b[0;31m---------------------------------------------------------------------------\u001b[0m",
      "\u001b[0;31mClientError\u001b[0m                               Traceback (most recent call last)",
      "File \u001b[0;32m~/Documents/PythonVenv/envAWS/lib/python3.10/site-packages/boto3/s3/transfer.py:372\u001b[0m, in \u001b[0;36mS3Transfer.upload_file\u001b[0;34m(self, filename, bucket, key, callback, extra_args)\u001b[0m\n\u001b[1;32m    371\u001b[0m \u001b[38;5;28;01mtry\u001b[39;00m:\n\u001b[0;32m--> 372\u001b[0m     \u001b[43mfuture\u001b[49m\u001b[38;5;241;43m.\u001b[39;49m\u001b[43mresult\u001b[49m\u001b[43m(\u001b[49m\u001b[43m)\u001b[49m\n\u001b[1;32m    373\u001b[0m \u001b[38;5;66;03m# If a client error was raised, add the backwards compatibility layer\u001b[39;00m\n\u001b[1;32m    374\u001b[0m \u001b[38;5;66;03m# that raises a S3UploadFailedError. These specific errors were only\u001b[39;00m\n\u001b[1;32m    375\u001b[0m \u001b[38;5;66;03m# ever thrown for upload_parts but now can be thrown for any related\u001b[39;00m\n\u001b[1;32m    376\u001b[0m \u001b[38;5;66;03m# client error.\u001b[39;00m\n",
      "File \u001b[0;32m~/Documents/PythonVenv/envAWS/lib/python3.10/site-packages/s3transfer/futures.py:103\u001b[0m, in \u001b[0;36mTransferFuture.result\u001b[0;34m(self)\u001b[0m\n\u001b[1;32m     99\u001b[0m \u001b[38;5;28;01mtry\u001b[39;00m:\n\u001b[1;32m    100\u001b[0m     \u001b[38;5;66;03m# Usually the result() method blocks until the transfer is done,\u001b[39;00m\n\u001b[1;32m    101\u001b[0m     \u001b[38;5;66;03m# however if a KeyboardInterrupt is raised we want want to exit\u001b[39;00m\n\u001b[1;32m    102\u001b[0m     \u001b[38;5;66;03m# out of this and propagate the exception.\u001b[39;00m\n\u001b[0;32m--> 103\u001b[0m     \u001b[38;5;28;01mreturn\u001b[39;00m \u001b[38;5;28;43mself\u001b[39;49m\u001b[38;5;241;43m.\u001b[39;49m\u001b[43m_coordinator\u001b[49m\u001b[38;5;241;43m.\u001b[39;49m\u001b[43mresult\u001b[49m\u001b[43m(\u001b[49m\u001b[43m)\u001b[49m\n\u001b[1;32m    104\u001b[0m \u001b[38;5;28;01mexcept\u001b[39;00m \u001b[38;5;167;01mKeyboardInterrupt\u001b[39;00m \u001b[38;5;28;01mas\u001b[39;00m e:\n",
      "File \u001b[0;32m~/Documents/PythonVenv/envAWS/lib/python3.10/site-packages/s3transfer/futures.py:266\u001b[0m, in \u001b[0;36mTransferCoordinator.result\u001b[0;34m(self)\u001b[0m\n\u001b[1;32m    265\u001b[0m \u001b[38;5;28;01mif\u001b[39;00m \u001b[38;5;28mself\u001b[39m\u001b[38;5;241m.\u001b[39m_exception:\n\u001b[0;32m--> 266\u001b[0m     \u001b[38;5;28;01mraise\u001b[39;00m \u001b[38;5;28mself\u001b[39m\u001b[38;5;241m.\u001b[39m_exception\n\u001b[1;32m    267\u001b[0m \u001b[38;5;28;01mreturn\u001b[39;00m \u001b[38;5;28mself\u001b[39m\u001b[38;5;241m.\u001b[39m_result\n",
      "File \u001b[0;32m~/Documents/PythonVenv/envAWS/lib/python3.10/site-packages/s3transfer/tasks.py:139\u001b[0m, in \u001b[0;36mTask.__call__\u001b[0;34m(self)\u001b[0m\n\u001b[1;32m    138\u001b[0m     \u001b[38;5;28;01mif\u001b[39;00m \u001b[38;5;129;01mnot\u001b[39;00m \u001b[38;5;28mself\u001b[39m\u001b[38;5;241m.\u001b[39m_transfer_coordinator\u001b[38;5;241m.\u001b[39mdone():\n\u001b[0;32m--> 139\u001b[0m         \u001b[38;5;28;01mreturn\u001b[39;00m \u001b[38;5;28;43mself\u001b[39;49m\u001b[38;5;241;43m.\u001b[39;49m\u001b[43m_execute_main\u001b[49m\u001b[43m(\u001b[49m\u001b[43mkwargs\u001b[49m\u001b[43m)\u001b[49m\n\u001b[1;32m    140\u001b[0m \u001b[38;5;28;01mexcept\u001b[39;00m \u001b[38;5;167;01mException\u001b[39;00m \u001b[38;5;28;01mas\u001b[39;00m e:\n",
      "File \u001b[0;32m~/Documents/PythonVenv/envAWS/lib/python3.10/site-packages/s3transfer/tasks.py:162\u001b[0m, in \u001b[0;36mTask._execute_main\u001b[0;34m(self, kwargs)\u001b[0m\n\u001b[1;32m    160\u001b[0m logger\u001b[38;5;241m.\u001b[39mdebug(\u001b[38;5;124mf\u001b[39m\u001b[38;5;124m\"\u001b[39m\u001b[38;5;124mExecuting task \u001b[39m\u001b[38;5;132;01m{\u001b[39;00m\u001b[38;5;28mself\u001b[39m\u001b[38;5;132;01m}\u001b[39;00m\u001b[38;5;124m with kwargs \u001b[39m\u001b[38;5;132;01m{\u001b[39;00mkwargs_to_display\u001b[38;5;132;01m}\u001b[39;00m\u001b[38;5;124m\"\u001b[39m)\n\u001b[0;32m--> 162\u001b[0m return_value \u001b[38;5;241m=\u001b[39m \u001b[38;5;28;43mself\u001b[39;49m\u001b[38;5;241;43m.\u001b[39;49m\u001b[43m_main\u001b[49m\u001b[43m(\u001b[49m\u001b[38;5;241;43m*\u001b[39;49m\u001b[38;5;241;43m*\u001b[39;49m\u001b[43mkwargs\u001b[49m\u001b[43m)\u001b[49m\n\u001b[1;32m    163\u001b[0m \u001b[38;5;66;03m# If the task is the final task, then set the TransferFuture's\u001b[39;00m\n\u001b[1;32m    164\u001b[0m \u001b[38;5;66;03m# value to the return value from main().\u001b[39;00m\n",
      "File \u001b[0;32m~/Documents/PythonVenv/envAWS/lib/python3.10/site-packages/s3transfer/upload.py:764\u001b[0m, in \u001b[0;36mPutObjectTask._main\u001b[0;34m(self, client, fileobj, bucket, key, extra_args)\u001b[0m\n\u001b[1;32m    763\u001b[0m \u001b[38;5;28;01mwith\u001b[39;00m fileobj \u001b[38;5;28;01mas\u001b[39;00m body:\n\u001b[0;32m--> 764\u001b[0m     \u001b[43mclient\u001b[49m\u001b[38;5;241;43m.\u001b[39;49m\u001b[43mput_object\u001b[49m\u001b[43m(\u001b[49m\u001b[43mBucket\u001b[49m\u001b[38;5;241;43m=\u001b[39;49m\u001b[43mbucket\u001b[49m\u001b[43m,\u001b[49m\u001b[43m \u001b[49m\u001b[43mKey\u001b[49m\u001b[38;5;241;43m=\u001b[39;49m\u001b[43mkey\u001b[49m\u001b[43m,\u001b[49m\u001b[43m \u001b[49m\u001b[43mBody\u001b[49m\u001b[38;5;241;43m=\u001b[39;49m\u001b[43mbody\u001b[49m\u001b[43m,\u001b[49m\u001b[43m \u001b[49m\u001b[38;5;241;43m*\u001b[39;49m\u001b[38;5;241;43m*\u001b[39;49m\u001b[43mextra_args\u001b[49m\u001b[43m)\u001b[49m\n",
      "File \u001b[0;32m~/Documents/PythonVenv/envAWS/lib/python3.10/site-packages/botocore/client.py:565\u001b[0m, in \u001b[0;36mClientCreator._create_api_method.<locals>._api_call\u001b[0;34m(self, *args, **kwargs)\u001b[0m\n\u001b[1;32m    564\u001b[0m \u001b[38;5;66;03m# The \"self\" in this scope is referring to the BaseClient.\u001b[39;00m\n\u001b[0;32m--> 565\u001b[0m \u001b[38;5;28;01mreturn\u001b[39;00m \u001b[38;5;28;43mself\u001b[39;49m\u001b[38;5;241;43m.\u001b[39;49m\u001b[43m_make_api_call\u001b[49m\u001b[43m(\u001b[49m\u001b[43moperation_name\u001b[49m\u001b[43m,\u001b[49m\u001b[43m \u001b[49m\u001b[43mkwargs\u001b[49m\u001b[43m)\u001b[49m\n",
      "File \u001b[0;32m~/Documents/PythonVenv/envAWS/lib/python3.10/site-packages/botocore/client.py:1021\u001b[0m, in \u001b[0;36mBaseClient._make_api_call\u001b[0;34m(self, operation_name, api_params)\u001b[0m\n\u001b[1;32m   1020\u001b[0m     error_class \u001b[38;5;241m=\u001b[39m \u001b[38;5;28mself\u001b[39m\u001b[38;5;241m.\u001b[39mexceptions\u001b[38;5;241m.\u001b[39mfrom_code(error_code)\n\u001b[0;32m-> 1021\u001b[0m     \u001b[38;5;28;01mraise\u001b[39;00m error_class(parsed_response, operation_name)\n\u001b[1;32m   1022\u001b[0m \u001b[38;5;28;01melse\u001b[39;00m:\n",
      "\u001b[0;31mClientError\u001b[0m: An error occurred (AccessDenied) when calling the PutObject operation: Access Denied",
      "\nDuring handling of the above exception, another exception occurred:\n",
      "\u001b[0;31mS3UploadFailedError\u001b[0m                       Traceback (most recent call last)",
      "Cell \u001b[0;32mIn[18], line 30\u001b[0m\n\u001b[1;32m     28\u001b[0m bucket_name \u001b[38;5;241m=\u001b[39m \u001b[38;5;124m'\u001b[39m\u001b[38;5;124myour-bucket\u001b[39m\u001b[38;5;124m'\u001b[39m\n\u001b[1;32m     29\u001b[0m s3_key \u001b[38;5;241m=\u001b[39m \u001b[38;5;124m'\u001b[39m\u001b[38;5;124mtime_series_data.csv\u001b[39m\u001b[38;5;124m'\u001b[39m\n\u001b[0;32m---> 30\u001b[0m \u001b[43ms3\u001b[49m\u001b[38;5;241;43m.\u001b[39;49m\u001b[43mupload_file\u001b[49m\u001b[43m(\u001b[49m\u001b[38;5;124;43m'\u001b[39;49m\u001b[38;5;124;43mtime_series_data.csv\u001b[39;49m\u001b[38;5;124;43m'\u001b[39;49m\u001b[43m,\u001b[49m\u001b[43m \u001b[49m\u001b[43mbucket_name\u001b[49m\u001b[43m,\u001b[49m\u001b[43m \u001b[49m\u001b[43ms3_key\u001b[49m\u001b[43m)\u001b[49m\n\u001b[1;32m     32\u001b[0m \u001b[38;5;66;03m# 創建數據集\u001b[39;00m\n\u001b[1;32m     33\u001b[0m dataset_name \u001b[38;5;241m=\u001b[39m \u001b[38;5;124m'\u001b[39m\u001b[38;5;124mmy_dataset\u001b[39m\u001b[38;5;124m'\u001b[39m\n",
      "File \u001b[0;32m~/Documents/PythonVenv/envAWS/lib/python3.10/site-packages/boto3/s3/inject.py:145\u001b[0m, in \u001b[0;36mupload_file\u001b[0;34m(self, Filename, Bucket, Key, ExtraArgs, Callback, Config)\u001b[0m\n\u001b[1;32m    110\u001b[0m \u001b[38;5;250m\u001b[39m\u001b[38;5;124;03m\"\"\"Upload a file to an S3 object.\u001b[39;00m\n\u001b[1;32m    111\u001b[0m \n\u001b[1;32m    112\u001b[0m \u001b[38;5;124;03mUsage::\u001b[39;00m\n\u001b[0;32m   (...)\u001b[0m\n\u001b[1;32m    142\u001b[0m \u001b[38;5;124;03m    transfer.\u001b[39;00m\n\u001b[1;32m    143\u001b[0m \u001b[38;5;124;03m\"\"\"\u001b[39;00m\n\u001b[1;32m    144\u001b[0m \u001b[38;5;28;01mwith\u001b[39;00m S3Transfer(\u001b[38;5;28mself\u001b[39m, Config) \u001b[38;5;28;01mas\u001b[39;00m transfer:\n\u001b[0;32m--> 145\u001b[0m     \u001b[38;5;28;01mreturn\u001b[39;00m \u001b[43mtransfer\u001b[49m\u001b[38;5;241;43m.\u001b[39;49m\u001b[43mupload_file\u001b[49m\u001b[43m(\u001b[49m\n\u001b[1;32m    146\u001b[0m \u001b[43m        \u001b[49m\u001b[43mfilename\u001b[49m\u001b[38;5;241;43m=\u001b[39;49m\u001b[43mFilename\u001b[49m\u001b[43m,\u001b[49m\n\u001b[1;32m    147\u001b[0m \u001b[43m        \u001b[49m\u001b[43mbucket\u001b[49m\u001b[38;5;241;43m=\u001b[39;49m\u001b[43mBucket\u001b[49m\u001b[43m,\u001b[49m\n\u001b[1;32m    148\u001b[0m \u001b[43m        \u001b[49m\u001b[43mkey\u001b[49m\u001b[38;5;241;43m=\u001b[39;49m\u001b[43mKey\u001b[49m\u001b[43m,\u001b[49m\n\u001b[1;32m    149\u001b[0m \u001b[43m        \u001b[49m\u001b[43mextra_args\u001b[49m\u001b[38;5;241;43m=\u001b[39;49m\u001b[43mExtraArgs\u001b[49m\u001b[43m,\u001b[49m\n\u001b[1;32m    150\u001b[0m \u001b[43m        \u001b[49m\u001b[43mcallback\u001b[49m\u001b[38;5;241;43m=\u001b[39;49m\u001b[43mCallback\u001b[49m\u001b[43m,\u001b[49m\n\u001b[1;32m    151\u001b[0m \u001b[43m    \u001b[49m\u001b[43m)\u001b[49m\n",
      "File \u001b[0;32m~/Documents/PythonVenv/envAWS/lib/python3.10/site-packages/boto3/s3/transfer.py:378\u001b[0m, in \u001b[0;36mS3Transfer.upload_file\u001b[0;34m(self, filename, bucket, key, callback, extra_args)\u001b[0m\n\u001b[1;32m    373\u001b[0m \u001b[38;5;66;03m# If a client error was raised, add the backwards compatibility layer\u001b[39;00m\n\u001b[1;32m    374\u001b[0m \u001b[38;5;66;03m# that raises a S3UploadFailedError. These specific errors were only\u001b[39;00m\n\u001b[1;32m    375\u001b[0m \u001b[38;5;66;03m# ever thrown for upload_parts but now can be thrown for any related\u001b[39;00m\n\u001b[1;32m    376\u001b[0m \u001b[38;5;66;03m# client error.\u001b[39;00m\n\u001b[1;32m    377\u001b[0m \u001b[38;5;28;01mexcept\u001b[39;00m ClientError \u001b[38;5;28;01mas\u001b[39;00m e:\n\u001b[0;32m--> 378\u001b[0m     \u001b[38;5;28;01mraise\u001b[39;00m S3UploadFailedError(\n\u001b[1;32m    379\u001b[0m         \u001b[38;5;124m\"\u001b[39m\u001b[38;5;124mFailed to upload \u001b[39m\u001b[38;5;132;01m{}\u001b[39;00m\u001b[38;5;124m to \u001b[39m\u001b[38;5;132;01m{}\u001b[39;00m\u001b[38;5;124m: \u001b[39m\u001b[38;5;132;01m{}\u001b[39;00m\u001b[38;5;124m\"\u001b[39m\u001b[38;5;241m.\u001b[39mformat(\n\u001b[1;32m    380\u001b[0m             filename, \u001b[38;5;124m'\u001b[39m\u001b[38;5;124m/\u001b[39m\u001b[38;5;124m'\u001b[39m\u001b[38;5;241m.\u001b[39mjoin([bucket, key]), e\n\u001b[1;32m    381\u001b[0m         )\n\u001b[1;32m    382\u001b[0m     )\n",
      "\u001b[0;31mS3UploadFailedError\u001b[0m: Failed to upload time_series_data.csv to your-bucket/time_series_data.csv: An error occurred (AccessDenied) when calling the PutObject operation: Access Denied"
     ]
    }
   ],
   "source": []
  }
 ],
 "metadata": {
  "kernelspec": {
   "display_name": "envAWS",
   "language": "python",
   "name": "python3"
  },
  "language_info": {
   "codemirror_mode": {
    "name": "ipython",
    "version": 3
   },
   "file_extension": ".py",
   "mimetype": "text/x-python",
   "name": "python",
   "nbconvert_exporter": "python",
   "pygments_lexer": "ipython3",
   "version": "3.10.11"
  }
 },
 "nbformat": 4,
 "nbformat_minor": 2
}
