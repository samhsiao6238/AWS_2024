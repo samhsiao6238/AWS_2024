{
 "cells": [
  {
   "cell_type": "code",
   "execution_count": 2,
   "metadata": {},
   "outputs": [
    {
     "name": "stdout",
     "output_type": "stream",
     "text": [
      "bucket102501\n",
      "elasticbeanstalk-us-east-1-114726445145\n"
     ]
    }
   ],
   "source": [
    "from dotenv import load_dotenv\n",
    "import os\n",
    "import boto3\n",
    "\n",
    "# 加載 .env 文件\n",
    "load_dotenv()\n",
    "\n",
    "# 使用加載的環境變數來創建 boto3 客戶端\n",
    "s3_client = boto3.client(\"s3\")\n",
    "\n",
    "# 列出所有 S3 buckets 作為測試\n",
    "buckets = s3_client.list_buckets()\n",
    "for bucket in buckets[\"Buckets\"]:\n",
    "    print(bucket[\"Name\"])"
   ]
  },
  {
   "cell_type": "code",
   "execution_count": 1,
   "metadata": {},
   "outputs": [],
   "source": [
    "from dotenv import load_dotenv\n",
    "import os\n",
    "import boto3\n",
    "from botocore.exceptions import ClientError\n",
    "\n",
    "# 加載 .env 文件\n",
    "load_dotenv()\n",
    "\n",
    "# 使用加載的環境變數來創建 boto3 客戶端\n",
    "ec2_client = boto3.client(\"ec2\")\n",
    "\n",
    "# 查詢並列出所有 EC2 實例\n",
    "try:\n",
    "    response = ec2_client.describe_instances()\n",
    "    for reservation in response[\"Reservations\"]:\n",
    "        for instance in reservation[\"Instances\"]:\n",
    "            print(f\"Instance ID: {instance['InstanceId']}\")\n",
    "            print(f\"Instance Type: {instance['InstanceType']}\")\n",
    "            print(f\"Instance State: {instance['State']['Name']}\")\n",
    "            print(f\"Public IP: {instance.get('PublicIpAddress', 'N/A')}\")\n",
    "            print(\"-\" * 20)\n",
    "except ClientError as e:\n",
    "    print(f\"An error occurred: {e}\")\n"
   ]
  },
  {
   "cell_type": "code",
   "execution_count": 3,
   "metadata": {},
   "outputs": [
    {
     "name": "stdout",
     "output_type": "stream",
     "text": [
      "創建資料表 Table_20240718_01 成功。等待資料表變為 active 狀態...\n",
      "資料表已創建並可使用。\n",
      "資料插入成功。\n",
      "查詢結果： {'movieId': Decimal('25'), 'genres': 'Action|Thriller', 'title': 'Sample Movie Title'}\n"
     ]
    }
   ],
   "source": [
    "import boto3\n",
    "from botocore.exceptions import ClientError\n",
    "import time\n",
    "\n",
    "from dotenv import load_dotenv\n",
    "import os\n",
    "# 加載 .env 文件\n",
    "load_dotenv()\n",
    "\n",
    "# 使用本地環境的認證\n",
    "dynamodb = boto3.resource('dynamodb', region_name='us-east-1')\n",
    "\n",
    "# 設定資料表名稱\n",
    "table_name = 'Table_20240718_01'\n",
    "\n",
    "# 創建資料表\n",
    "try:\n",
    "    table = dynamodb.create_table(\n",
    "        TableName=table_name,\n",
    "        KeySchema=[\n",
    "            {\n",
    "                'AttributeName': 'movieId',\n",
    "                'KeyType': 'HASH'  # 分區鍵\n",
    "            }\n",
    "        ],\n",
    "        AttributeDefinitions=[\n",
    "            {\n",
    "                'AttributeName': 'movieId',\n",
    "                'AttributeType': 'N'  # 數字型\n",
    "            }\n",
    "        ],\n",
    "        ProvisionedThroughput={\n",
    "            'ReadCapacityUnits': 5,\n",
    "            'WriteCapacityUnits': 5\n",
    "        }\n",
    "    )\n",
    "    print(f\"創建資料表 {table_name} 成功。等待資料表變為 active 狀態...\")\n",
    "    table.meta.client.get_waiter('table_exists').wait(TableName=table_name)\n",
    "    print(\"資料表已創建並可使用。\")\n",
    "except ClientError as e:\n",
    "    print(e.response['Error']['Message'])\n",
    "\n",
    "# 插入資料\n",
    "table = dynamodb.Table(table_name)\n",
    "try:\n",
    "    table.put_item(\n",
    "        Item={\n",
    "            'movieId': 25,\n",
    "            'title': 'Sample Movie Title',\n",
    "            'genres': 'Action|Thriller'\n",
    "        }\n",
    "    )\n",
    "    print(\"資料插入成功。\")\n",
    "except ClientError as e:\n",
    "    print(\"資料插入失敗:\", e.response['Error']['Message'])\n",
    "\n",
    "# 查詢資料\n",
    "try:\n",
    "    response = table.get_item(\n",
    "        Key={\n",
    "            'movieId': 25\n",
    "        }\n",
    "    )\n",
    "    item = response.get('Item')\n",
    "    if item:\n",
    "        print(\"查詢結果：\", item)\n",
    "    else:\n",
    "        print(\"未找到該 movieId 的資料\")\n",
    "except ClientError as e:\n",
    "    print(\"查詢失敗:\", e.response['Error']['Message'])"
   ]
  },
  {
   "cell_type": "code",
   "execution_count": 4,
   "metadata": {},
   "outputs": [
    {
     "name": "stdout",
     "output_type": "stream",
     "text": [
      "刪除資料表 Table_20240718_01 的請求已提交，等待資料表刪除完成...\n",
      "資料表 Table_20240718_01 已成功刪除。\n"
     ]
    }
   ],
   "source": [
    "import boto3\n",
    "from botocore.exceptions import ClientError\n",
    "\n",
    "from dotenv import load_dotenv\n",
    "import os\n",
    "# 加載 .env 文件\n",
    "load_dotenv()\n",
    "\n",
    "# 使用本地環境的認證\n",
    "dynamodb = boto3.resource('dynamodb', region_name='us-east-1')\n",
    "\n",
    "# 設定要刪除的資料表名稱\n",
    "table_name = 'Table_20240718_01'\n",
    "\n",
    "# 刪除資料表\n",
    "try:\n",
    "    table = dynamodb.Table(table_name)\n",
    "    table.delete()\n",
    "    print(f\"刪除資料表 {table_name} 的請求已提交，等待資料表刪除完成...\")\n",
    "    table.meta.client.get_waiter('table_not_exists').wait(TableName=table_name)\n",
    "    print(f\"資料表 {table_name} 已成功刪除。\")\n",
    "except ClientError as e:\n",
    "    print(\"刪除資料表失敗:\", e.response['Error']['Message'])"
   ]
  }
 ],
 "metadata": {
  "kernelspec": {
   "display_name": "envAWS",
   "language": "python",
   "name": "python3"
  },
  "language_info": {
   "codemirror_mode": {
    "name": "ipython",
    "version": 3
   },
   "file_extension": ".py",
   "mimetype": "text/x-python",
   "name": "python",
   "nbconvert_exporter": "python",
   "pygments_lexer": "ipython3",
   "version": "3.10.11"
  }
 },
 "nbformat": 4,
 "nbformat_minor": 2
}
