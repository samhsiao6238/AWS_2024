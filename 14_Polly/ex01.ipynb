{
 "cells": [
  {
   "cell_type": "code",
   "execution_count": 3,
   "metadata": {},
   "outputs": [],
   "source": [
    "import boto3\n",
    "\n",
    "polly = boto3.client('polly')\n",
    "response = polly.synthesize_speech(\n",
    "    Text='Hello, world!',\n",
    "    OutputFormat='mp3',\n",
    "    VoiceId='Joanna'\n",
    ")\n",
    "with open('output.mp3', 'wb') as file:\n",
    "    file.write(response['AudioStream'].read())"
   ]
  }
 ],
 "metadata": {
  "kernelspec": {
   "display_name": "envAWS",
   "language": "python",
   "name": "python3"
  },
  "language_info": {
   "codemirror_mode": {
    "name": "ipython",
    "version": 3
   },
   "file_extension": ".py",
   "mimetype": "text/x-python",
   "name": "python",
   "nbconvert_exporter": "python",
   "pygments_lexer": "ipython3",
   "version": "3.10.11"
  }
 },
 "nbformat": 4,
 "nbformat_minor": 2
}
