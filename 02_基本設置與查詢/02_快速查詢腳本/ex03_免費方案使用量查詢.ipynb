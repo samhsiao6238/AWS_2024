{
 "cells": [
  {
   "cell_type": "markdown",
   "metadata": {},
   "source": [
    "### 這是官方的說明"
   ]
  },
  {
   "cell_type": "code",
   "execution_count": 4,
   "metadata": {},
   "outputs": [
    {
     "name": "stdout",
     "output_type": "stream",
     "text": [
      "Fetching free tier usage for service: Glue\n",
      "Response: {'ResultsByTime': [{'TimePeriod': {'Start': '2024-07-01', 'End': '2024-07-31'}, 'Total': {'UnblendedCost': {'Amount': '0', 'Unit': 'USD'}, 'UsageQuantity': {'Amount': '0', 'Unit': 'N/A'}}, 'Groups': [], 'Estimated': True}], 'DimensionValueAttributes': [], 'ResponseMetadata': {'RequestId': 'e7a9d253-acc9-4e62-b934-b376b432566e', 'HTTPStatusCode': 200, 'HTTPHeaders': {'date': 'Tue, 16 Jul 2024 08:13:55 GMT', 'content-type': 'application/x-amz-json-1.1', 'content-length': '233', 'connection': 'keep-alive', 'x-amzn-requestid': 'e7a9d253-acc9-4e62-b934-b376b432566e', 'cache-control': 'no-cache'}, 'RetryAttempts': 0}}\n",
      "Time Period: {'Start': '2024-07-01', 'End': '2024-07-31'}\n",
      "Fetching free tier usage for service: Amazon Elastic Compute Cloud - Compute\n",
      "Response: {'ResultsByTime': [{'TimePeriod': {'Start': '2024-07-01', 'End': '2024-07-31'}, 'Total': {'UnblendedCost': {'Amount': '0', 'Unit': 'USD'}, 'UsageQuantity': {'Amount': '73.4100061751', 'Unit': 'N/A'}}, 'Groups': [], 'Estimated': True}], 'DimensionValueAttributes': [], 'ResponseMetadata': {'RequestId': '229ce110-086f-4281-bf88-f0e98d78c845', 'HTTPStatusCode': 200, 'HTTPHeaders': {'date': 'Tue, 16 Jul 2024 08:13:55 GMT', 'content-type': 'application/x-amz-json-1.1', 'content-length': '245', 'connection': 'keep-alive', 'x-amzn-requestid': '229ce110-086f-4281-bf88-f0e98d78c845', 'cache-control': 'no-cache'}, 'RetryAttempts': 0}}\n",
      "Time Period: {'Start': '2024-07-01', 'End': '2024-07-31'}\n"
     ]
    }
   ],
   "source": [
    "import boto3\n",
    "from botocore.exceptions import ClientError\n",
    "\n",
    "def get_free_tier_usage(service):\n",
    "    client = boto3.client('ce')\n",
    "    try:\n",
    "        response = client.get_cost_and_usage(\n",
    "            TimePeriod={\n",
    "                'Start': '2024-07-01',\n",
    "                'End': '2024-07-31'\n",
    "            },\n",
    "            Granularity='MONTHLY',\n",
    "            Filter={\n",
    "                'Dimensions': {\n",
    "                    'Key': 'SERVICE',\n",
    "                    'Values': [service]\n",
    "                }\n",
    "            },\n",
    "            Metrics=['UnblendedCost', 'UsageQuantity']\n",
    "        )\n",
    "        return response\n",
    "    except ClientError as e:\n",
    "        print(f\"An error occurred: {e}\")\n",
    "        return None\n",
    "\n",
    "def print_free_tier_usage(response):\n",
    "    if response:\n",
    "        for result in response['ResultsByTime']:\n",
    "            print(f\"Time Period: {result['TimePeriod']}\")\n",
    "            for group in result['Groups']:\n",
    "                print(f\"Service: {group['Keys'][0]}\")\n",
    "                print(f\"Usage Quantity: {group['Metrics']['UsageQuantity']['Amount']} {group['Metrics']['UsageQuantity']['Unit']}\")\n",
    "                print(f\"Unblended Cost: {group['Metrics']['UnblendedCost']['Amount']} {group['Metrics']['UnblendedCost']['Unit']}\")\n",
    "                print()\n",
    "\n",
    "def main():\n",
    "    service_list = [\"Glue\", \"Amazon Elastic Compute Cloud - Compute\"]\n",
    "    for service in service_list:\n",
    "        print(f\"Fetching free tier usage for service: {service}\")\n",
    "        response = get_free_tier_usage(service)\n",
    "        print(f\"Response: {response}\")\n",
    "        print_free_tier_usage(response)\n",
    "\n",
    "if __name__ == \"__main__\":\n",
    "    main()\n"
   ]
  }
 ],
 "metadata": {
  "kernelspec": {
   "display_name": "envAWS",
   "language": "python",
   "name": "python3"
  },
  "language_info": {
   "codemirror_mode": {
    "name": "ipython",
    "version": 3
   },
   "file_extension": ".py",
   "mimetype": "text/x-python",
   "name": "python",
   "nbconvert_exporter": "python",
   "pygments_lexer": "ipython3",
   "version": "3.10.11"
  }
 },
 "nbformat": 4,
 "nbformat_minor": 2
}
