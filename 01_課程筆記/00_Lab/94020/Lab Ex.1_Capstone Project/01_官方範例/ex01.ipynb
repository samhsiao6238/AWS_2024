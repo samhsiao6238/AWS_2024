{
 "cells": [
  {
   "cell_type": "markdown",
   "metadata": {},
   "source": [
    "取得 Account ID 驗證 AWS 本機設置正確完成"
   ]
  },
  {
   "cell_type": "code",
   "execution_count": 33,
   "metadata": {},
   "outputs": [
    {
     "name": "stdout",
     "output_type": "stream",
     "text": [
      "AWS Account ID: 145745076948\n"
     ]
    }
   ],
   "source": [
    "import boto3\n",
    "\n",
    "# 載入 .env 檔案中的環境變數\n",
    "from dotenv import load_dotenv\n",
    "import os\n",
    "load_dotenv()\n",
    "\n",
    "# 建立 STS 客戶端\n",
    "sts_client = boto3.client(\"sts\")\n",
    "\n",
    "# 呼叫 get_caller_identity 以取得當前 AWS 帳號資訊\n",
    "response = sts_client.get_caller_identity()\n",
    "account_id = response[\"Account\"]\n",
    "\n",
    "print(f\"AWS Account ID: {account_id}\")"
   ]
  },
  {
   "cell_type": "markdown",
   "metadata": {},
   "source": [
    "遍歷所有 S3 bucket 中的資源並顯示樹狀結構"
   ]
  },
  {
   "cell_type": "code",
   "execution_count": 2,
   "metadata": {},
   "outputs": [
    {
     "name": "stdout",
     "output_type": "stream",
     "text": [
      "Bucket: c133864a3391506l8170626t1w14574507694-lambdabucket-6tapr19qkhoa\n",
      " └──  s3cleaner_function.zip\n",
      "Bucket: c133864a3391506l8170626t1w145745076948-labbucket-ka1fhe2jobcp\n",
      " └──  lab71/challenge/sample.mp4\n",
      " └──  lab71/polly-sample/es.test.txt\n",
      " └──  lab71/transcribe-sample/test.wav\n",
      " └──  lab71/translate-sample/test.txt\n"
     ]
    }
   ],
   "source": [
    "import boto3\n",
    "\n",
    "# 建立 S3 資源對象\n",
    "s3 = boto3.resource('s3')\n",
    "\n",
    "def list_s3_bucket_structure(bucket_name):\n",
    "    bucket = s3.Bucket(bucket_name)\n",
    "    print(f\"Bucket: {bucket_name}\")\n",
    "    \n",
    "    has_objects = False\n",
    "    for obj in bucket.objects.all():\n",
    "        print(\" └── \", obj.key)\n",
    "        has_objects = True\n",
    "\n",
    "    if not has_objects:\n",
    "        print(\" └── <此 bucket 為空>\")\n",
    "\n",
    "# 取得所有 bucket 名稱並顯示每個 bucket 的樹狀結構\n",
    "s3_client = boto3.client(\"s3\")\n",
    "buckets = s3_client.list_buckets()[\"Buckets\"]\n",
    "\n",
    "if buckets:\n",
    "    for bucket in buckets:\n",
    "        list_s3_bucket_structure(bucket[\"Name\"])\n",
    "else:\n",
    "    print(\"當前為空的：沒有任何 S3 bucket\")"
   ]
  },
  {
   "cell_type": "markdown",
   "metadata": {},
   "source": []
  },
  {
   "cell_type": "code",
   "execution_count": null,
   "metadata": {},
   "outputs": [
    {
     "name": "stdout",
     "output_type": "stream",
     "text": [
      "包含 'labbucket' 的 Bucket 名稱列表：\n",
      "c133864a3391506l8170626t1w145745076948-labbucket-ka1fhe2jobcp\n"
     ]
    }
   ],
   "source": [
    "# 建立 S3 客戶端\n",
    "s3_client = boto3.client(\"s3\")\n",
    "\n",
    "# 列出 Buckets\n",
    "def list_buckets():\n",
    "    try:\n",
    "        # 呼叫 list_buckets 方法以取得所有 bucket\n",
    "        response = s3_client.list_buckets()\n",
    "\n",
    "        # 從回應中提取每個 bucket 名稱並篩選包含 'labbucket' 的\n",
    "        bucket_names = [\n",
    "            bucket[\"Name\"]\n",
    "            for bucket in response[\"Buckets\"]\n",
    "            if \"labbucket\" in bucket[\"Name\"]\n",
    "        ]\n",
    "        return bucket_names\n",
    "    except Exception as e:\n",
    "        print(f\"無法取得 bucket 列表。錯誤訊息：{e}\")\n",
    "        return None\n",
    "\n",
    "\n",
    "# 取得篩選後的 bucket 名稱\n",
    "bucket_names = list_buckets()\n",
    "# 顯示取得的 bucket 名稱\n",
    "if bucket_names:\n",
    "    print(\"包含 'labbucket' 的 Bucket 名稱列表：\")\n",
    "    for name in bucket_names:\n",
    "        print(name)\n",
    "else:\n",
    "    print(\"沒有找到包含 'labbucket' 的 Bucket。\")"
   ]
  },
  {
   "cell_type": "markdown",
   "metadata": {},
   "source": [
    "列出 S3 bucket 中的所有視頻文件"
   ]
  },
  {
   "cell_type": "code",
   "execution_count": 3,
   "metadata": {},
   "outputs": [
    {
     "name": "stdout",
     "output_type": "stream",
     "text": [
      "CUR-TF-200-ACMNLP-1/video/Mod01_Course Overview.mp4\n",
      "CUR-TF-200-ACMNLP-1/video/Mod02_Intro.mp4\n",
      "CUR-TF-200-ACMNLP-1/video/Mod02_Sect01.mp4\n",
      "CUR-TF-200-ACMNLP-1/video/Mod02_Sect02.mp4\n",
      "CUR-TF-200-ACMNLP-1/video/Mod02_Sect03.mp4\n",
      "CUR-TF-200-ACMNLP-1/video/Mod02_Sect04.mp4\n",
      "CUR-TF-200-ACMNLP-1/video/Mod02_Sect05.mp4\n",
      "CUR-TF-200-ACMNLP-1/video/Mod02_WrapUp.mp4\n",
      "CUR-TF-200-ACMNLP-1/video/Mod03_Intro.mp4\n",
      "CUR-TF-200-ACMNLP-1/video/Mod03_Sect01.mp4\n",
      "CUR-TF-200-ACMNLP-1/video/Mod03_Sect02_part1.mp4\n",
      "CUR-TF-200-ACMNLP-1/video/Mod03_Sect02_part2.mp4\n",
      "CUR-TF-200-ACMNLP-1/video/Mod03_Sect02_part3.mp4\n",
      "CUR-TF-200-ACMNLP-1/video/Mod03_Sect03_part1.mp4\n",
      "CUR-TF-200-ACMNLP-1/video/Mod03_Sect03_part2.mp4\n",
      "CUR-TF-200-ACMNLP-1/video/Mod03_Sect03_part3.mp4\n",
      "CUR-TF-200-ACMNLP-1/video/Mod03_Sect04_part1.mp4\n",
      "CUR-TF-200-ACMNLP-1/video/Mod03_Sect04_part2.mp4\n",
      "CUR-TF-200-ACMNLP-1/video/Mod03_Sect04_part3.mp4\n",
      "CUR-TF-200-ACMNLP-1/video/Mod03_Sect05.mp4\n",
      "CUR-TF-200-ACMNLP-1/video/Mod03_Sect06.mp4\n",
      "CUR-TF-200-ACMNLP-1/video/Mod03_Sect07_part1.mp4\n",
      "CUR-TF-200-ACMNLP-1/video/Mod03_Sect07_part2.mp4\n",
      "CUR-TF-200-ACMNLP-1/video/Mod03_Sect07_part3.mp4\n",
      "CUR-TF-200-ACMNLP-1/video/Mod03_Sect08.mp4\n",
      "CUR-TF-200-ACMNLP-1/video/Mod03_WrapUp.mp4\n",
      "CUR-TF-200-ACMNLP-1/video/Mod04_Intro.mp4\n",
      "CUR-TF-200-ACMNLP-1/video/Mod04_Sect01.mp4\n",
      "CUR-TF-200-ACMNLP-1/video/Mod04_Sect02_part1.mp4\n",
      "CUR-TF-200-ACMNLP-1/video/Mod04_Sect02_part2.mp4\n",
      "CUR-TF-200-ACMNLP-1/video/Mod04_Sect02_part3.mp4\n",
      "CUR-TF-200-ACMNLP-1/video/Mod04_WrapUp.mp4\n",
      "CUR-TF-200-ACMNLP-1/video/Mod05_Intro.mp4\n",
      "CUR-TF-200-ACMNLP-1/video/Mod05_Sect01_ver2.mp4\n",
      "CUR-TF-200-ACMNLP-1/video/Mod05_Sect02_part1_ver2.mp4\n",
      "CUR-TF-200-ACMNLP-1/video/Mod05_Sect02_part2.mp4\n",
      "CUR-TF-200-ACMNLP-1/video/Mod05_Sect03_part1.mp4\n",
      "CUR-TF-200-ACMNLP-1/video/Mod05_Sect03_part2.mp4\n",
      "CUR-TF-200-ACMNLP-1/video/Mod05_Sect03_part3.mp4\n",
      "CUR-TF-200-ACMNLP-1/video/Mod05_Sect03_part4_ver2.mp4\n",
      "CUR-TF-200-ACMNLP-1/video/Mod05_WrapUp_ver2.mp4\n",
      "CUR-TF-200-ACMNLP-1/video/Mod06_Intro.mp4\n",
      "CUR-TF-200-ACMNLP-1/video/Mod06_Sect01.mp4\n",
      "CUR-TF-200-ACMNLP-1/video/Mod06_Sect02.mp4\n",
      "CUR-TF-200-ACMNLP-1/video/Mod06_WrapUp.mp4\n",
      "CUR-TF-200-ACMNLP-1/video/Mod07_Sect01.mp4\n"
     ]
    }
   ],
   "source": [
    "import boto3\n",
    "\n",
    "s3_client = boto3.client(\"s3\")\n",
    "bucket_name = \"aws-tc-largeobjects\"\n",
    "prefix = \"CUR-TF-200-ACMNLP-1/video/\"\n",
    "\n",
    "response = s3_client.list_objects_v2(Bucket=bucket_name, Prefix=prefix)\n",
    "for item in response.get(\"Contents\", []):\n",
    "    print(item[\"Key\"])\n"
   ]
  },
  {
   "cell_type": "markdown",
   "metadata": {},
   "source": [
    "取得 target_bucket_name"
   ]
  },
  {
   "cell_type": "code",
   "execution_count": 7,
   "metadata": {},
   "outputs": [
    {
     "name": "stdout",
     "output_type": "stream",
     "text": [
      "使用的 Bucket: c133864a3391506l8170626t1w145745076948-labbucket-ka1fhe2jobcp\n"
     ]
    }
   ],
   "source": [
    "import boto3\n",
    "import os\n",
    "from botocore.exceptions import ClientError\n",
    "\n",
    "# 設定 S3 客戶端\n",
    "s3_client = boto3.client(\"s3\")\n",
    "\n",
    "# 列出符合條件的 Buckets\n",
    "def list_labbuckets():\n",
    "    try:\n",
    "        response = s3_client.list_buckets()\n",
    "        bucket_names = [\n",
    "            bucket[\"Name\"]\n",
    "            for bucket in response[\"Buckets\"]\n",
    "            if \"labbucket\" in bucket[\"Name\"]\n",
    "        ]\n",
    "        return bucket_names\n",
    "    except Exception as e:\n",
    "        print(f\"無法取得 bucket 列表。錯誤訊息：{e}\")\n",
    "        return None\n",
    "\n",
    "# 獲取包含 'labbucket' 的第一個 bucket 名稱\n",
    "bucket_names = list_labbuckets()\n",
    "target_bucket_name = bucket_names[0] if bucket_names else None\n",
    "\n",
    "# 顯示 bucket 名稱，並確認找到符合條件的 bucket\n",
    "if target_bucket_name:\n",
    "    print(f\"使用的 Bucket: {target_bucket_name}\")\n",
    "else:\n",
    "    print(\"沒有找到包含 'labbucket' 的 Bucket。\")\n",
    "    exit()"
   ]
  },
  {
   "cell_type": "markdown",
   "metadata": {},
   "source": [
    "步驟 1：取得第一個 .mp4 文件名稱"
   ]
  },
  {
   "cell_type": "code",
   "execution_count": 8,
   "metadata": {},
   "outputs": [
    {
     "name": "stdout",
     "output_type": "stream",
     "text": [
      "找到第一個 mp4 文件: CUR-TF-200-ACMNLP-1/video/Mod01_Course Overview.mp4\n"
     ]
    }
   ],
   "source": [
    "source_bucket_name = \"aws-tc-largeobjects\"\n",
    "source_prefix = \"CUR-TF-200-ACMNLP-1/video/\"\n",
    "try:\n",
    "    response = s3_client.list_objects_v2(\n",
    "        Bucket=source_bucket_name,\n",
    "        Prefix=source_prefix\n",
    "    )\n",
    "    first_mp4_file = None\n",
    "    for item in response.get(\"Contents\", []):\n",
    "        if item[\"Key\"].endswith(\".mp4\"):\n",
    "            first_mp4_file = item[\"Key\"]\n",
    "            print(f\"找到第一個 mp4 文件: {first_mp4_file}\")\n",
    "            break\n",
    "    if not first_mp4_file:\n",
    "        print(\"未找到任何 mp4 文件。\")\n",
    "except ClientError as e:\n",
    "    print(\"無法訪問 S3 存儲桶。錯誤訊息:\", e)\n",
    "    first_mp4_file = None"
   ]
  },
  {
   "cell_type": "markdown",
   "metadata": {},
   "source": [
    "步驟 2：下載文件至本地"
   ]
  },
  {
   "cell_type": "code",
   "execution_count": null,
   "metadata": {},
   "outputs": [
    {
     "name": "stdout",
     "output_type": "stream",
     "text": [
      "文件下載成功: Mod01_Course Overview.mp4\n"
     ]
    }
   ],
   "source": [
    "if first_mp4_file:\n",
    "    # 取得文件名稱\n",
    "    local_file_name = os.path.basename(first_mp4_file)\n",
    "    try:\n",
    "        s3_client.download_file(\n",
    "            source_bucket_name,\n",
    "            first_mp4_file,\n",
    "            local_file_name\n",
    "        )\n",
    "        print(f\"文件下載成功: {local_file_name}\")\n",
    "    except ClientError as e:\n",
    "        print(\"文件下載失敗。錯誤訊息:\", e)\n",
    "else:\n",
    "    print(\"無法找到第一個 mp4 文件，無法執行下載和上傳操作。\")"
   ]
  },
  {
   "cell_type": "markdown",
   "metadata": {},
   "source": [
    "步驟 3：上傳文件至目標 S3 bucket 的 mp4 資料夾"
   ]
  },
  {
   "cell_type": "code",
   "execution_count": 10,
   "metadata": {},
   "outputs": [
    {
     "name": "stdout",
     "output_type": "stream",
     "text": [
      "文件 Mod01_Course Overview.mp4 成功上傳至 c133864a3391506l8170626t1w145745076948-labbucket-ka1fhe2jobcp/mp4/Mod01_Course Overview.mp4\n"
     ]
    }
   ],
   "source": [
    "# 檢查是否已下載文件並確保目標 bucket 已存在\n",
    "if local_file_name and target_bucket_name:\n",
    "    # 目標 S3 路徑\n",
    "    target_key = f\"mp4/{local_file_name}\"\n",
    "    try:\n",
    "        s3_client.upload_file(local_file_name, target_bucket_name, target_key)\n",
    "        print(f\"文件 {local_file_name} 成功上傳至 {target_bucket_name}/{target_key}\")\n",
    "    except ClientError as e:\n",
    "        print(\"文件上傳失敗。錯誤訊息:\", e)\n",
    "else:\n",
    "    print(\"無法上傳，請確認文件已下載或 bucket 設定正確。\")\n"
   ]
  },
  {
   "cell_type": "markdown",
   "metadata": {},
   "source": [
    "進行轉錄"
   ]
  },
  {
   "cell_type": "code",
   "execution_count": 21,
   "metadata": {},
   "outputs": [
    {
     "name": "stdout",
     "output_type": "stream",
     "text": [
      "轉錄作業已啟動: {'TranscriptionJob': {'TranscriptionJobName': 'transcribe-job-24a1531a-9884-11ef-a5ab-3a328b8844c7', 'TranscriptionJobStatus': 'IN_PROGRESS', 'LanguageCode': 'en-US', 'MediaFormat': 'mp4', 'Media': {'MediaFileUri': 's3://c133864a3391506l8170626t1w145745076948-labbucket-ka1fhe2jobcp/mp4/Mod01_Course Overview.mp4'}, 'StartTime': datetime.datetime(2024, 11, 2, 3, 4, 39, 628000, tzinfo=tzlocal()), 'CreationTime': datetime.datetime(2024, 11, 2, 3, 4, 39, 607000, tzinfo=tzlocal())}, 'ResponseMetadata': {'RequestId': 'bb0c2188-3a2e-4d3b-bbbe-faa2c4e27492', 'HTTPStatusCode': 200, 'HTTPHeaders': {'x-amzn-requestid': 'bb0c2188-3a2e-4d3b-bbbe-faa2c4e27492', 'content-type': 'application/x-amz-json-1.1', 'content-length': '366', 'date': 'Fri, 01 Nov 2024 19:04:39 GMT'}, 'RetryAttempts': 0}}\n"
     ]
    }
   ],
   "source": [
    "import boto3\n",
    "import uuid\n",
    "\n",
    "# 目標 bucket\n",
    "bucket_name = target_bucket_name\n",
    "first_mp4_file_uri = \\\n",
    "    f\"s3://{target_bucket_name}/mp4/{local_file_name}\"\n",
    "\n",
    "# 設定 AWS Transcribe 客戶端\n",
    "transcribe_client = boto3.client(\"transcribe\")\n",
    "\n",
    "# 生成唯一的轉錄工作名稱\n",
    "job_uuid = uuid.uuid1()\n",
    "transcribe_job_name = f\"transcribe-job-{job_uuid}\"\n",
    "# 自訂義轉錄輸出的檔案名稱\n",
    "transcribe_output_filename = \"transcribe_output.txt\"\n",
    "# 定義轉錄輸出的檔案名稱和路徑\n",
    "transcribe_output_key = \\\n",
    "    f\"capstone_project/{transcribe_output_filename}\"\n",
    "\n",
    "# 啟動轉錄工作\n",
    "try:\n",
    "    response = transcribe_client.start_transcription_job(\n",
    "        TranscriptionJobName=transcribe_job_name,\n",
    "        Media={\"MediaFileUri\": first_mp4_file_uri},\n",
    "        MediaFormat=\"mp4\",\n",
    "        LanguageCode=\"en-US\",\n",
    "        OutputBucketName=bucket_name,\n",
    "        OutputKey=transcribe_output_key,\n",
    "    )\n",
    "    print(\"轉錄作業已啟動:\", response)\n",
    "except Exception as e:\n",
    "    print(\"無法啟動轉錄作業。錯誤訊息:\", e)\n"
   ]
  },
  {
   "cell_type": "markdown",
   "metadata": {},
   "source": [
    "檢查回傳值中 transcription job 的狀態，直到顯示 COMPLETED 或 FAILED 為止。"
   ]
  },
  {
   "cell_type": "code",
   "execution_count": 22,
   "metadata": {},
   "outputs": [
    {
     "name": "stdout",
     "output_type": "stream",
     "text": [
      ".\n",
      "轉錄作業狀態：COMPLETED\n",
      "\n",
      "轉錄作業已完成。轉錄文件的 URI: https://s3.us-east-1.amazonaws.com/c133864a3391506l8170626t1w145745076948-labbucket-ka1fhe2jobcp/capstone_project/transcribe_output.txt\n"
     ]
    }
   ],
   "source": [
    "import boto3\n",
    "from time import sleep\n",
    "\n",
    "# 初始化 AWS Transcribe 客戶端\n",
    "transcribe_client = boto3.client(\"transcribe\")\n",
    "\n",
    "# 假設前面已經定義了 transcribe_job_name 變數\n",
    "job = None\n",
    "while True:\n",
    "    # 檢查轉錄工作狀態，並將結果存放在變數 job 中\n",
    "    try:\n",
    "        job = transcribe_client.get_transcription_job(\n",
    "            TranscriptionJobName=transcribe_job_name\n",
    "        )\n",
    "    except Exception as e:\n",
    "        print(\"無法檢查轉錄作業狀態。錯誤訊息:\", e)\n",
    "        break\n",
    "\n",
    "    # 取得當前轉錄作業的狀態\n",
    "    job_status = job[\"TranscriptionJob\"][\"TranscriptionJobStatus\"]\n",
    "\n",
    "    # 如果轉錄作業已完成或失敗則跳出循環\n",
    "    if job_status in [\"COMPLETED\", \"FAILED\"]:\n",
    "        print(f\"\\n轉錄作業狀態：{job_status}\")\n",
    "        break\n",
    "\n",
    "    print(\".\", end=\"\", flush=True)\n",
    "    # 每 20 秒檢查一次狀態\n",
    "    sleep(20)\n",
    "\n",
    "# 確認轉錄結果\n",
    "if job_status == \"COMPLETED\":\n",
    "    transcription_file_uri = job[\"TranscriptionJob\"][\"Transcript\"][\"TranscriptFileUri\"]\n",
    "    print(\"\\n轉錄作業已完成。轉錄文件的 URI:\", transcription_file_uri)\n",
    "else:\n",
    "    print(\"\\n轉錄作業失敗。\")\n",
    "    if \"FailureReason\" in job[\"TranscriptionJob\"]:\n",
    "        print(\"失敗原因:\", job[\"TranscriptionJob\"][\"FailureReason\"])\n"
   ]
  },
  {
   "cell_type": "code",
   "execution_count": 23,
   "metadata": {},
   "outputs": [
    {
     "data": {
      "text/plain": [
       "{'TranscriptionJob': {'TranscriptionJobName': 'transcribe-job-24a1531a-9884-11ef-a5ab-3a328b8844c7',\n",
       "  'TranscriptionJobStatus': 'COMPLETED',\n",
       "  'LanguageCode': 'en-US',\n",
       "  'MediaSampleRateHertz': 48000,\n",
       "  'MediaFormat': 'mp4',\n",
       "  'Media': {'MediaFileUri': 's3://c133864a3391506l8170626t1w145745076948-labbucket-ka1fhe2jobcp/mp4/Mod01_Course Overview.mp4'},\n",
       "  'Transcript': {'TranscriptFileUri': 'https://s3.us-east-1.amazonaws.com/c133864a3391506l8170626t1w145745076948-labbucket-ka1fhe2jobcp/capstone_project/transcribe_output.txt'},\n",
       "  'StartTime': datetime.datetime(2024, 11, 2, 3, 4, 39, 628000, tzinfo=tzlocal()),\n",
       "  'CreationTime': datetime.datetime(2024, 11, 2, 3, 4, 39, 607000, tzinfo=tzlocal()),\n",
       "  'CompletionTime': datetime.datetime(2024, 11, 2, 3, 5, 24, 902000, tzinfo=tzlocal()),\n",
       "  'Settings': {'ChannelIdentification': False, 'ShowAlternatives': False}},\n",
       " 'ResponseMetadata': {'RequestId': 'cc223f4b-ec88-4f1f-9755-34fee84db5cc',\n",
       "  'HTTPStatusCode': 200,\n",
       "  'HTTPHeaders': {'x-amzn-requestid': 'cc223f4b-ec88-4f1f-9755-34fee84db5cc',\n",
       "   'content-type': 'application/x-amz-json-1.1',\n",
       "   'content-length': '668',\n",
       "   'date': 'Fri, 01 Nov 2024 19:05:41 GMT'},\n",
       "  'RetryAttempts': 0}}"
      ]
     },
     "execution_count": 23,
     "metadata": {},
     "output_type": "execute_result"
    }
   ],
   "source": [
    "job"
   ]
  },
  {
   "cell_type": "markdown",
   "metadata": {},
   "source": [
    "取得輸出的路徑"
   ]
  },
  {
   "cell_type": "code",
   "execution_count": 24,
   "metadata": {},
   "outputs": [
    {
     "name": "stdout",
     "output_type": "stream",
     "text": [
      "https://s3.us-east-1.amazonaws.com/c133864a3391506l8170626t1w145745076948-labbucket-ka1fhe2jobcp/capstone_project/transcribe_output.txt\n"
     ]
    }
   ],
   "source": [
    "transcription_file = job[\"TranscriptionJob\"][\"Transcript\"][\"TranscriptFileUri\"]\n",
    "print(transcription_file)"
   ]
  },
  {
   "cell_type": "code",
   "execution_count": 25,
   "metadata": {},
   "outputs": [
    {
     "name": "stdout",
     "output_type": "stream",
     "text": [
      "文件 transcribe_output.txt 已成功下載。\n"
     ]
    }
   ],
   "source": [
    "import boto3\n",
    "\n",
    "# 初始化 S3 客戶端\n",
    "s3_client = boto3.client(\"s3\")\n",
    "\n",
    "# 假設 bucket_name 與 transcribe_output_key 已定義\n",
    "# 並且 transcribe_output_filename 已定義為本地存儲的名稱\n",
    "\n",
    "try:\n",
    "    with open(transcribe_output_filename, \"wb\") as f:\n",
    "        # 使用下載文件的完整 S3 路徑\n",
    "        s3_client.download_fileobj(\n",
    "            bucket_name,  # bucket 名稱\n",
    "            transcribe_output_key,  # 完整的 S3 文件路徑\n",
    "            f  # 本地文件路徑\n",
    "        )\n",
    "    print(f\"文件 {transcribe_output_filename} 已成功下載。\")\n",
    "except Exception as e:\n",
    "    print(f\"無法下載文件。錯誤訊息：{e}\")\n"
   ]
  },
  {
   "cell_type": "markdown",
   "metadata": {},
   "source": [
    "### 標準化文本"
   ]
  },
  {
   "cell_type": "markdown",
   "metadata": {},
   "source": [
    "移除標點符號與特殊字符：使用正則表達式刪除不需要的符號，保留必要的語句結構。\n",
    "\n",
    "轉換成小寫：這可以統一格式，便於後續的關鍵詞提取。\n",
    "\n",
    "刪除停用詞：如「the」、「and」等無法提供語義的詞。\n",
    "\n",
    "分句或分段：根據需求，可以將文本按句子或段落進行切分，以便於進一步處理。"
   ]
  },
  {
   "cell_type": "code",
   "execution_count": null,
   "metadata": {},
   "outputs": [
    {
     "name": "stdout",
     "output_type": "stream",
     "text": [
      "標準化後的文本已保存至: transcribe_output_std.txt\n"
     ]
    }
   ],
   "source": [
    "import json\n",
    "import re\n",
    "from nltk.corpus import stopwords\n",
    "\n",
    "# 讀取轉錄文本文件\n",
    "with open(\"transcribe_output.txt\", \"r\") as file:\n",
    "    # 使用 json.load 來解析 JSON 格式\n",
    "    transcript_data = json.load(file)\n",
    "\n",
    "# 提取文本內容\n",
    "text = transcript_data[\"results\"][\"transcripts\"][0][\"transcript\"]\n",
    "\n",
    "# 1. 移除標點符號和特殊字符\n",
    "text = re.sub(r'[^\\w\\s]', '', text)\n",
    "\n",
    "# 2. 轉換為小寫\n",
    "text = text.lower()\n",
    "\n",
    "# 3. 移除停用詞 (使用 NLTK 的停用詞庫)\n",
    "stop_words = set(stopwords.words(\"english\"))\n",
    "text = \" \".join([word for word in text.split() if word not in stop_words])\n",
    "\n",
    "# 4. 分句或分段\n",
    "sentences = text.split('.')\n",
    "\n",
    "# 將標準化的文本保存到新的文件中\n",
    "normalized_filename = \"transcribe_output_std.txt\"\n",
    "with open(normalized_filename, \"w\") as normalized_file:\n",
    "    normalized_file.write(\"\\n\".join(sentences))\n",
    "\n",
    "print(\"標準化後的文本已保存至：\", normalized_filename)\n"
   ]
  },
  {
   "cell_type": "markdown",
   "metadata": {},
   "source": [
    "檢查 comprehend 權限"
   ]
  },
  {
   "cell_type": "code",
   "execution_count": 31,
   "metadata": {},
   "outputs": [
    {
     "name": "stdout",
     "output_type": "stream",
     "text": [
      "無法查詢權限，錯誤訊息: An error occurred (InvalidInput) when calling the SimulatePrincipalPolicy operation: Invalid Entity Arn: arn:aws:sts::145745076948:assumed-role/voclabs/user2069478=_________ does not clearly define entity type and name.\n"
     ]
    }
   ],
   "source": [
    "import boto3\n",
    "\n",
    "# 建立 IAM 客戶端\n",
    "iam_client = boto3.client('iam')\n",
    "\n",
    "# 當前使用者的 ARN\n",
    "user_arn = 'arn:aws:sts::145745076948:assumed-role/voclabs/user2069478=_________'\n",
    "\n",
    "# 欲檢查的操作\n",
    "actions = [\n",
    "    \"comprehend:DetectKeyPhrases\",\n",
    "    \"comprehend:DetectEntities\"\n",
    "]\n",
    "\n",
    "# 執行權限模擬\n",
    "try:\n",
    "    response = iam_client.simulate_principal_policy(\n",
    "        PolicySourceArn=user_arn,\n",
    "        ActionNames=actions\n",
    "    )\n",
    "\n",
    "    # 輸出結果\n",
    "    for result in response['EvaluationResults']:\n",
    "        print(f\"操作: {result['EvalActionName']}\")\n",
    "        print(f\"授權狀態: {result['EvalDecision']}\")\n",
    "        if 'EvalDecisionDetails' in result:\n",
    "            print(f\"詳細說明: {result['EvalDecisionDetails']}\")\n",
    "        print(\"-\" * 30)\n",
    "\n",
    "except Exception as e:\n",
    "    print(f\"無法查詢權限，錯誤訊息: {e}\")\n"
   ]
  },
  {
   "cell_type": "markdown",
   "metadata": {},
   "source": [
    "檢查當前使用者的已附加策略"
   ]
  },
  {
   "cell_type": "code",
   "execution_count": 32,
   "metadata": {},
   "outputs": [
    {
     "name": "stdout",
     "output_type": "stream",
     "text": [
      "無法取得使用者的策略列表。錯誤訊息：An error occurred (NoSuchEntity) when calling the ListAttachedUserPolicies operation: The user with name user2069478 cannot be found.\n"
     ]
    }
   ],
   "source": [
    "# 檢查 IAM 使用者策略\n",
    "try:\n",
    "    user_policies = iam_client.list_attached_user_policies(UserName='user2069478')\n",
    "    for policy in user_policies['AttachedPolicies']:\n",
    "        print(f\"策略名稱: {policy['PolicyName']}\")\n",
    "        print(f\"策略 ARN: {policy['PolicyArn']}\")\n",
    "except Exception as e:\n",
    "    print(f\"無法取得使用者的策略列表。錯誤訊息：{e}\")\n"
   ]
  },
  {
   "cell_type": "markdown",
   "metadata": {},
   "source": [
    "# 轉換 Lab"
   ]
  },
  {
   "cell_type": "code",
   "execution_count": 30,
   "metadata": {},
   "outputs": [
    {
     "name": "stdout",
     "output_type": "stream",
     "text": [
      "提取關鍵詞組時出錯: An error occurred (AccessDeniedException) when calling the DetectKeyPhrases operation: User: arn:aws:sts::145745076948:assumed-role/voclabs/user2069478=_________ is not authorized to perform: comprehend:DetectKeyPhrases because no identity-based policy allows the comprehend:DetectKeyPhrases action\n",
      "主題檢測時出錯: An error occurred (AccessDeniedException) when calling the DetectEntities operation: User: arn:aws:sts::145745076948:assumed-role/voclabs/user2069478=_________ is not authorized to perform: comprehend:DetectEntities because no identity-based policy allows the comprehend:DetectEntities action\n",
      "\n",
      "分析結果已保存至: comprehend_analysis_result.json\n"
     ]
    }
   ],
   "source": [
    "import boto3\n",
    "import json\n",
    "\n",
    "# 設定 AWS Comprehend 客戶端\n",
    "comprehend_client = boto3.client(\"comprehend\")\n",
    "\n",
    "# 讀取標準化後的文本內容\n",
    "normalized_file_path = \"transcribe_output_std.txt\"\n",
    "with open(normalized_file_path, \"r\") as file:\n",
    "    text = file.read()\n",
    "\n",
    "# 確認文本長度，Comprehend 對單次請求文本的長度限制是 5000 字符\n",
    "max_length = 5000\n",
    "if len(text) > max_length:\n",
    "    text = text[:max_length]  # 只提取前 5000 字符進行分析\n",
    "\n",
    "# 1. 提取關鍵詞組\n",
    "key_phrases = []\n",
    "try:\n",
    "    key_phrases_response = comprehend_client.detect_key_phrases(\n",
    "        Text=text,\n",
    "        LanguageCode=\"en\"\n",
    "    )\n",
    "    key_phrases = key_phrases_response.get(\"KeyPhrases\", [])\n",
    "    print(\"關鍵詞組提取結果:\")\n",
    "    for phrase in key_phrases:\n",
    "        print(f\"- {phrase['Text']} (信心分數: {phrase['Score']:.2f})\")\n",
    "except Exception as e:\n",
    "    print(\"提取關鍵詞組時出錯:\", e)\n",
    "\n",
    "# 2. 主題檢測（僅適用於文本中檢測具體實體）\n",
    "entities = []\n",
    "try:\n",
    "    entities_response = comprehend_client.detect_entities(\n",
    "        Text=text,\n",
    "        LanguageCode=\"en\"\n",
    "    )\n",
    "    entities = entities_response.get(\"Entities\", [])\n",
    "    print(\"\\n主題檢測結果:\")\n",
    "    for entity in entities:\n",
    "        print(f\"- {entity['Text']} (類型: {entity['Type']}, 信心分數: {entity['Score']:.2f})\")\n",
    "except Exception as e:\n",
    "    print(\"主題檢測時出錯:\", e)\n",
    "\n",
    "# 3. 將結果保存到新文件中\n",
    "output_file_path = \"comprehend_analysis_result.json\"\n",
    "analysis_results = {\n",
    "    \"KeyPhrases\": key_phrases,\n",
    "    \"Entities\": entities\n",
    "}\n",
    "with open(output_file_path, \"w\") as output_file:\n",
    "    json.dump(analysis_results, output_file, ensure_ascii=False, indent=4)\n",
    "\n",
    "print(\"\\n分析結果已保存至:\", output_file_path)\n"
   ]
  }
 ],
 "metadata": {
  "kernelspec": {
   "display_name": "envAWS",
   "language": "python",
   "name": "python3"
  },
  "language_info": {
   "codemirror_mode": {
    "name": "ipython",
    "version": 3
   },
   "file_extension": ".py",
   "mimetype": "text/x-python",
   "name": "python",
   "nbconvert_exporter": "python",
   "pygments_lexer": "ipython3",
   "version": "3.10.11"
  }
 },
 "nbformat": 4,
 "nbformat_minor": 2
}
