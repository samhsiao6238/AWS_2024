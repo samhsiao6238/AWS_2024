{
 "cells": [
  {
   "cell_type": "markdown",
   "metadata": {},
   "source": [
    "取得 Account ID 驗證 AWS 本機設置正確完成"
   ]
  },
  {
   "cell_type": "code",
   "execution_count": 1,
   "metadata": {},
   "outputs": [
    {
     "name": "stdout",
     "output_type": "stream",
     "text": [
      "AWS Account ID: 682683043554\n"
     ]
    }
   ],
   "source": [
    "import boto3\n",
    "\n",
    "# 載入 .env 檔案中的環境變數\n",
    "from dotenv import load_dotenv\n",
    "import os\n",
    "load_dotenv()\n",
    "\n",
    "# 建立 STS 客戶端\n",
    "sts_client = boto3.client(\"sts\")\n",
    "\n",
    "# 呼叫 get_caller_identity 以取得當前 AWS 帳號資訊\n",
    "response = sts_client.get_caller_identity()\n",
    "account_id = response[\"Account\"]\n",
    "\n",
    "print(f\"AWS Account ID: {account_id}\")"
   ]
  },
  {
   "cell_type": "markdown",
   "metadata": {},
   "source": [
    "遍歷所有 S3 bucket 中的資源並顯示樹狀結構"
   ]
  },
  {
   "cell_type": "code",
   "execution_count": 2,
   "metadata": {},
   "outputs": [
    {
     "name": "stdout",
     "output_type": "stream",
     "text": [
      "Bucket: c133864a3391508l8212786t1w68268304355-lambdabucket-mlvbnwvfnjyd\n",
      " └──  s3cleaner_function.zip\n",
      "Bucket: c133864a3391508l8212786t1w682683043554-labbucket-zmynq4cbdjiw\n",
      " └── <此 bucket 為空>\n"
     ]
    }
   ],
   "source": [
    "import boto3\n",
    "\n",
    "# 建立 S3 資源對象\n",
    "s3 = boto3.resource('s3')\n",
    "\n",
    "def list_s3_bucket_structure(bucket_name):\n",
    "    bucket = s3.Bucket(bucket_name)\n",
    "    print(f\"Bucket: {bucket_name}\")\n",
    "    \n",
    "    has_objects = False\n",
    "    for obj in bucket.objects.all():\n",
    "        print(\" └── \", obj.key)\n",
    "        has_objects = True\n",
    "\n",
    "    if not has_objects:\n",
    "        print(\" └── <此 bucket 為空>\")\n",
    "\n",
    "# 取得所有 bucket 名稱並顯示每個 bucket 的樹狀結構\n",
    "s3_client = boto3.client(\"s3\")\n",
    "buckets = s3_client.list_buckets()[\"Buckets\"]\n",
    "\n",
    "if buckets:\n",
    "    for bucket in buckets:\n",
    "        list_s3_bucket_structure(bucket[\"Name\"])\n",
    "else:\n",
    "    print(\"當前為空的：沒有任何 S3 bucket\")"
   ]
  },
  {
   "cell_type": "markdown",
   "metadata": {},
   "source": [
    "查詢 Comprehend 權限的代碼"
   ]
  },
  {
   "cell_type": "code",
   "execution_count": 7,
   "metadata": {},
   "outputs": [
    {
     "name": "stdout",
     "output_type": "stream",
     "text": [
      "當前角色名稱: user2069478=_________\n",
      "無法取得當前角色的策略資訊。錯誤訊息: An error occurred (NoSuchEntity) when calling the ListAttachedRolePolicies operation: The role with name user2069478=_________ cannot be found.\n"
     ]
    }
   ],
   "source": [
    "import boto3\n",
    "from botocore.exceptions import ClientError\n",
    "\n",
    "# 建立 IAM 和 STS 客戶端\n",
    "iam_client = boto3.client(\"iam\")\n",
    "sts_client = boto3.client(\"sts\")\n",
    "\n",
    "# 取得當前角色名稱\n",
    "try:\n",
    "    identity = sts_client.get_caller_identity()\n",
    "    arn = identity[\"Arn\"]\n",
    "    # 從 ARN 中解析角色名稱\n",
    "    role_name = arn.split(\"/\")[-1]\n",
    "    print(f\"當前角色名稱: {role_name}\")\n",
    "except ClientError as e:\n",
    "    print(\"無法取得當前角色資訊。錯誤訊息:\", e)\n",
    "    role_name = None\n",
    "\n",
    "# 列出當前角色的附加策略並檢查 Comprehend 權限\n",
    "if role_name:\n",
    "    try:\n",
    "        policies = iam_client.list_attached_role_policies(RoleName=role_name)\n",
    "        comprehend_permissions = [\"comprehend:DetectKeyPhrases\", \"comprehend:DetectEntities\"]\n",
    "        has_comprehend_access = False\n",
    "\n",
    "        for policy in policies[\"AttachedPolicies\"]:\n",
    "            # 取得每個策略的詳細內容\n",
    "            policy_arn = policy[\"PolicyArn\"]\n",
    "            policy_version = iam_client.get_policy_version(\n",
    "                PolicyArn=policy_arn,\n",
    "                VersionId=iam_client.get_policy(PolicyArn=policy_arn)[\"Policy\"][\"DefaultVersionId\"]\n",
    "            )\n",
    "\n",
    "            # 檢查策略中的權限\n",
    "            for statement in policy_version[\"PolicyVersion\"][\"Document\"][\"Statement\"]:\n",
    "                actions = statement.get(\"Action\", [])\n",
    "                # 若該策略授權 comprehend 權限\n",
    "                if any(action in comprehend_permissions for action in actions):\n",
    "                    has_comprehend_access = True\n",
    "                    print(f\"權限來源策略: {policy['PolicyName']}\")\n",
    "                    break\n",
    "\n",
    "        if has_comprehend_access:\n",
    "            print(\"當前角色具備 Comprehend 相關權限。\")\n",
    "        else:\n",
    "            print(\"當前角色不具備 Comprehend 相關權限。\")\n",
    "    except ClientError as e:\n",
    "        print(\"無法取得當前角色的策略資訊。錯誤訊息:\", e)\n"
   ]
  },
  {
   "cell_type": "markdown",
   "metadata": {},
   "source": [
    "嘗試看看"
   ]
  },
  {
   "cell_type": "code",
   "execution_count": 11,
   "metadata": {},
   "outputs": [
    {
     "name": "stdout",
     "output_type": "stream",
     "text": [
      "提取關鍵詞組時出錯: An error occurred (AccessDeniedException) when calling the DetectKeyPhrases operation: User: arn:aws:sts::682683043554:assumed-role/voclabs/user2069478=_________ is not authorized to perform: comprehend:DetectKeyPhrases because no identity-based policy allows the comprehend:DetectKeyPhrases action\n",
      "主題檢測時出錯: An error occurred (AccessDeniedException) when calling the DetectEntities operation: User: arn:aws:sts::682683043554:assumed-role/voclabs/user2069478=_________ is not authorized to perform: comprehend:DetectEntities because no identity-based policy allows the comprehend:DetectEntities action\n",
      "\n",
      "分析結果已保存至: comprehend_analysis_result.json\n"
     ]
    }
   ],
   "source": [
    "import boto3\n",
    "import json\n",
    "import re\n",
    "\n",
    "# 設定 AWS Comprehend 客戶端\n",
    "comprehend_client = boto3.client(\"comprehend\")\n",
    "\n",
    "# 讀取標準化後的文本內容\n",
    "normalized_file_path = \"transcribe_output_std.txt\"\n",
    "with open(normalized_file_path, \"r\") as file:\n",
    "    text = file.read()\n",
    "\n",
    "# 確認文本長度，Comprehend 對單次請求文本的長度限制是 5000 字符\n",
    "max_length = 5000\n",
    "if len(text) > max_length:\n",
    "    text = text[:max_length]  # 截取前 5000 字符\n",
    "\n",
    "# 初始化結果變數\n",
    "key_phrases = []\n",
    "entities = []\n",
    "\n",
    "# 1. 提取關鍵詞組\n",
    "try:\n",
    "    key_phrases_response = comprehend_client.detect_key_phrases(\n",
    "        Text=text,\n",
    "        LanguageCode=\"en\"\n",
    "    )\n",
    "    key_phrases = key_phrases_response[\"KeyPhrases\"]\n",
    "    print(\"關鍵詞組提取結果:\")\n",
    "    for phrase in key_phrases:\n",
    "        print(f\"- {phrase['Text']} (信心分數: {phrase['Score']:.2f})\")\n",
    "except Exception as e:\n",
    "    print(\"提取關鍵詞組時出錯:\", e)\n",
    "\n",
    "# 2. 主題檢測\n",
    "try:\n",
    "    entities_response = comprehend_client.detect_entities(\n",
    "        Text=text,\n",
    "        LanguageCode=\"en\"\n",
    "    )\n",
    "    entities = entities_response[\"Entities\"]\n",
    "    print(\"\\n主題檢測結果:\")\n",
    "    for entity in entities:\n",
    "        print(f\"- {entity['Text']} (類型: {entity['Type']}, 信心分數: {entity['Score']:.2f})\")\n",
    "except Exception as e:\n",
    "    print(\"主題檢測時出錯:\", e)\n",
    "\n",
    "# 3. 將結果保存到新文件中\n",
    "output_file_path = \"comprehend_analysis_result.json\"\n",
    "analysis_results = {\n",
    "    \"KeyPhrases\": key_phrases if key_phrases else \"無法取得關鍵詞組\",\n",
    "    \"Entities\": entities if entities else \"無法取得主題\"\n",
    "}\n",
    "with open(output_file_path, \"w\") as output_file:\n",
    "    json.dump(analysis_results, output_file, ensure_ascii=False, indent=4)\n",
    "\n",
    "print(\"\\n分析結果已保存至:\", output_file_path)\n"
   ]
  }
 ],
 "metadata": {
  "kernelspec": {
   "display_name": "envAWS",
   "language": "python",
   "name": "python3"
  },
  "language_info": {
   "codemirror_mode": {
    "name": "ipython",
    "version": 3
   },
   "file_extension": ".py",
   "mimetype": "text/x-python",
   "name": "python",
   "nbconvert_exporter": "python",
   "pygments_lexer": "ipython3",
   "version": "3.10.11"
  }
 },
 "nbformat": 4,
 "nbformat_minor": 2
}
