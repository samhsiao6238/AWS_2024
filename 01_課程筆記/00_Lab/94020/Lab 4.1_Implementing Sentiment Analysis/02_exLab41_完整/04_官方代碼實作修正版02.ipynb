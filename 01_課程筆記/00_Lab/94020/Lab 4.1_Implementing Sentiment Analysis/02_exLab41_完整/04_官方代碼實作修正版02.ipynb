{
 "cells": [
  {
   "cell_type": "markdown",
   "id": "fec7b597",
   "metadata": {},
   "source": [
    "_以下代碼是在 Sagemaker 中運行，所以要先上傳腳本_"
   ]
  },
  {
   "cell_type": "markdown",
   "id": "3de06aa9",
   "metadata": {},
   "source": [
    "# 安裝套件"
   ]
  },
  {
   "cell_type": "code",
   "execution_count": 1,
   "id": "30352fdd",
   "metadata": {},
   "outputs": [],
   "source": [
    "%%capture\n",
    "!python -m pip install --upgrade pip boto3 scikit-learn sagemaker nltk seaborn"
   ]
  },
  {
   "cell_type": "markdown",
   "id": "afb61e72",
   "metadata": {},
   "source": [
    "# 魔法方法\n",
    "\n",
    "%%capture 隱藏輸出"
   ]
  },
  {
   "cell_type": "markdown",
   "id": "63414b89",
   "metadata": {},
   "source": [
    "# 快速鍵\n",
    "\n",
    "DD 刪除當前 Cell\n",
    "\n",
    "A 在當前 Cell 上方添加 Cell\n",
    "\n",
    "B 在當前 Cell 下方添加 Cell\n",
    "\n",
    "C 複製當前 Cell\n",
    "\n",
    "V 貼上複製的 Cell\n",
    "\n",
    "M 將當前 Cell 轉換為 Markdown\n",
    "\n",
    "Y 將當前 Cell 轉換為 Python Code Cell"
   ]
  },
  {
   "cell_type": "markdown",
   "id": "107fcece",
   "metadata": {},
   "source": [
    "# 查詢帳號"
   ]
  },
  {
   "cell_type": "code",
   "execution_count": 2,
   "id": "8b982c0a",
   "metadata": {},
   "outputs": [
    {
     "name": "stdout",
     "output_type": "stream",
     "text": [
      "當前的 Account ID: 637423426529\n"
     ]
    }
   ],
   "source": [
    "import boto3\n",
    "\n",
    "# 初始化 STS 客戶端\n",
    "sts_client = boto3.client('sts')\n",
    "\n",
    "# 獲取當前帳戶的 Account ID\n",
    "account_id = sts_client.get_caller_identity()[\"Account\"]\n",
    "print(\"當前的 Account ID:\", account_id)"
   ]
  },
  {
   "cell_type": "markdown",
   "id": "2ac5784e",
   "metadata": {},
   "source": [
    "# 導入庫"
   ]
  },
  {
   "cell_type": "code",
   "execution_count": 3,
   "id": "988f648b",
   "metadata": {},
   "outputs": [
    {
     "name": "stderr",
     "output_type": "stream",
     "text": [
      "Matplotlib is building the font cache; this may take a moment.\n"
     ]
    }
   ],
   "source": [
    "import boto3\n",
    "import os, io, struct\n",
    "import numpy as np\n",
    "import pandas as pd\n",
    "from sklearn.metrics import (\n",
    "    roc_auc_score, roc_curve, auc, confusion_matrix\n",
    ")\n",
    "import seaborn as sns\n",
    "import matplotlib.pyplot as plt\n",
    "from datetime import datetime\n",
    "import re\n",
    "import nltk"
   ]
  },
  {
   "cell_type": "markdown",
   "id": "fff89620",
   "metadata": {},
   "source": [
    "# 下載 NLTK 資料集"
   ]
  },
  {
   "cell_type": "code",
   "execution_count": 4,
   "id": "575a2441",
   "metadata": {},
   "outputs": [
    {
     "name": "stderr",
     "output_type": "stream",
     "text": [
      "[nltk_data] Downloading package punkt to /home/ec2-user/nltk_data...\n",
      "[nltk_data]   Unzipping tokenizers/punkt.zip.\n",
      "[nltk_data] Downloading package punkt_tab to\n",
      "[nltk_data]     /home/ec2-user/nltk_data...\n",
      "[nltk_data]   Unzipping tokenizers/punkt_tab.zip.\n",
      "[nltk_data] Downloading package stopwords to\n",
      "[nltk_data]     /home/ec2-user/nltk_data...\n",
      "[nltk_data]   Unzipping corpora/stopwords.zip.\n",
      "[nltk_data] Downloading package averaged_perceptron_tagger to\n",
      "[nltk_data]     /home/ec2-user/nltk_data...\n",
      "[nltk_data]   Unzipping taggers/averaged_perceptron_tagger.zip.\n",
      "[nltk_data] Downloading package wordnet to /home/ec2-user/nltk_data...\n"
     ]
    },
    {
     "data": {
      "text/plain": [
       "True"
      ]
     },
     "execution_count": 4,
     "metadata": {},
     "output_type": "execute_result"
    }
   ],
   "source": [
    "nltk.download('punkt')\n",
    "nltk.download('punkt_tab')\n",
    "nltk.download('stopwords')\n",
    "nltk.download('averaged_perceptron_tagger')\n",
    "nltk.download('wordnet')"
   ]
  },
  {
   "cell_type": "markdown",
   "id": "bc46903c",
   "metadata": {},
   "source": [
    "# 自訂輔助函數"
   ]
  },
  {
   "cell_type": "markdown",
   "id": "2e40942e",
   "metadata": {},
   "source": [
    "繪製混淆矩陣"
   ]
  },
  {
   "cell_type": "code",
   "execution_count": 5,
   "id": "2d558a17",
   "metadata": {},
   "outputs": [],
   "source": [
    "def plot_confusion_matrix(test_labels, target_predicted):\n",
    "    matrix = confusion_matrix(test_labels, target_predicted)\n",
    "    df_confusion = pd.DataFrame(matrix)\n",
    "    colormap = sns.color_palette(\"BrBG\", 10)\n",
    "    sns.heatmap(df_confusion, annot=True, fmt='.2f', cbar=None, cmap=colormap)\n",
    "    plt.title(\"Confusion Matrix\")\n",
    "    plt.tight_layout()\n",
    "    plt.ylabel(\"True Class\")\n",
    "    plt.xlabel(\"Predicted Class\")\n",
    "    plt.show()"
   ]
  },
  {
   "cell_type": "markdown",
   "id": "fbf2cbf4",
   "metadata": {},
   "source": [
    "輸出績效指標，評估模型的分類效果，並計算各種分類指標"
   ]
  },
  {
   "cell_type": "code",
   "execution_count": 6,
   "id": "3bb27475",
   "metadata": {},
   "outputs": [],
   "source": [
    "def print_metrics(test_labels, target_predicted_binary):\n",
    "    # 調用 sklearn 的函數\n",
    "    TN, FP, FN, TP = confusion_matrix(test_labels, target_predicted_binary).ravel()\n",
    "    '''依據混淆矩陣四個向量的值進行以下運算'''\n",
    "    # Sensitivity, hit rate, recall, or true positive rate\n",
    "    Sensitivity  = float(TP)/(TP+FN)*100\n",
    "    # Specificity or true negative rate\n",
    "    Specificity  = float(TN)/(TN+FP)*100\n",
    "    # Precision or positive predictive value\n",
    "    Precision = float(TP)/(TP+FP)*100\n",
    "    # Negative predictive value\n",
    "    NPV = float(TN)/(TN+FN)*100\n",
    "    # Fall out or false positive rate\n",
    "    FPR = float(FP)/(FP+TN)*100\n",
    "    # False negative rate\n",
    "    FNR = float(FN)/(TP+FN)*100\n",
    "    # False discovery rate\n",
    "    FDR = float(FP)/(TP+FP)*100\n",
    "    # Overall accuracy\n",
    "    ACC = float(TP+TN)/(TP+FP+FN+TN)*100\n",
    "\n",
    "    '''\n",
    "    # 官方原始代碼\n",
    "    print(f\"Sensitivity or TPR: {Sensitivity}%\")    \n",
    "    print(f\"Specificity or TNR: {Specificity}%\") \n",
    "    print(f\"Precision: {Precision}%\")   \n",
    "    print(f\"Negative Predictive Value: {NPV}%\")  \n",
    "    print( f\"False Positive Rate: {FPR}%\") \n",
    "    print(f\"False Negative Rate: {FNR}%\")  \n",
    "    print(f\"False Discovery Rate: {FDR}%\" )\n",
    "    print(f\"Accuracy: {ACC}%\") \n",
    "    '''\n",
    "    # 便於閱讀\n",
    "    print(f\"敏感性/召回率 (Sensitivity or TPR): {Sensitivity}%\")    \n",
    "    print(f\"特異性 (Specificity or TNR): {Specificity}%\") \n",
    "    print(f\"精確率 (Precision): {Precision}%\")   \n",
    "    print(f\"陰性預測值 (Negative Predictive Value): {NPV}%\")  \n",
    "    print(f\"假陽性率 (False Positive Rate): {FPR}%\") \n",
    "    print(f\"假陰性率 (False Negative Rate): {FNR}%\")  \n",
    "    print(f\"假發現率 (False Discovery Rate): {FDR}%\")\n",
    "    print(f\"正確率 (Accuracy): {ACC}%\") \n"
   ]
  },
  {
   "cell_type": "markdown",
   "id": "4bf5dc08",
   "metadata": {},
   "source": [
    "# 讀取資料"
   ]
  },
  {
   "cell_type": "code",
   "execution_count": 7,
   "id": "1a98f84d",
   "metadata": {},
   "outputs": [
    {
     "data": {
      "text/html": [
       "<div>\n",
       "<style scoped>\n",
       "    .dataframe tbody tr th:only-of-type {\n",
       "        vertical-align: middle;\n",
       "    }\n",
       "\n",
       "    .dataframe tbody tr th {\n",
       "        vertical-align: top;\n",
       "    }\n",
       "\n",
       "    .dataframe thead th {\n",
       "        text-align: right;\n",
       "    }\n",
       "</style>\n",
       "<table border=\"1\" class=\"dataframe\">\n",
       "  <thead>\n",
       "    <tr style=\"text-align: right;\">\n",
       "      <th></th>\n",
       "      <th>text</th>\n",
       "      <th>label</th>\n",
       "    </tr>\n",
       "  </thead>\n",
       "  <tbody>\n",
       "    <tr>\n",
       "      <th>0</th>\n",
       "      <td>What I hoped for (or even expected) was the we...</td>\n",
       "      <td>0</td>\n",
       "    </tr>\n",
       "    <tr>\n",
       "      <th>1</th>\n",
       "      <td>Garden State must rate amongst the most contri...</td>\n",
       "      <td>0</td>\n",
       "    </tr>\n",
       "    <tr>\n",
       "      <th>2</th>\n",
       "      <td>There is a lot wrong with this film. I will no...</td>\n",
       "      <td>1</td>\n",
       "    </tr>\n",
       "    <tr>\n",
       "      <th>3</th>\n",
       "      <td>To qualify my use of \"realistic\" in the summar...</td>\n",
       "      <td>1</td>\n",
       "    </tr>\n",
       "    <tr>\n",
       "      <th>4</th>\n",
       "      <td>Dirty War is absolutely one of the best politi...</td>\n",
       "      <td>1</td>\n",
       "    </tr>\n",
       "    <tr>\n",
       "      <th>...</th>\n",
       "      <td>...</td>\n",
       "      <td>...</td>\n",
       "    </tr>\n",
       "    <tr>\n",
       "      <th>49995</th>\n",
       "      <td>You do not get more dark or tragic than \"Othel...</td>\n",
       "      <td>1</td>\n",
       "    </tr>\n",
       "    <tr>\n",
       "      <th>49996</th>\n",
       "      <td>Wow probable the worst movie i have ever seen!...</td>\n",
       "      <td>0</td>\n",
       "    </tr>\n",
       "    <tr>\n",
       "      <th>49997</th>\n",
       "      <td>Have not watched kids films for some years, so...</td>\n",
       "      <td>0</td>\n",
       "    </tr>\n",
       "    <tr>\n",
       "      <th>49998</th>\n",
       "      <td>Pickup on South Street (1953), directed by mov...</td>\n",
       "      <td>1</td>\n",
       "    </tr>\n",
       "    <tr>\n",
       "      <th>49999</th>\n",
       "      <td>The first half of the film is OK, the second h...</td>\n",
       "      <td>0</td>\n",
       "    </tr>\n",
       "  </tbody>\n",
       "</table>\n",
       "<p>50000 rows × 2 columns</p>\n",
       "</div>"
      ],
      "text/plain": [
       "                                                    text  label\n",
       "0      What I hoped for (or even expected) was the we...      0\n",
       "1      Garden State must rate amongst the most contri...      0\n",
       "2      There is a lot wrong with this film. I will no...      1\n",
       "3      To qualify my use of \"realistic\" in the summar...      1\n",
       "4      Dirty War is absolutely one of the best politi...      1\n",
       "...                                                  ...    ...\n",
       "49995  You do not get more dark or tragic than \"Othel...      1\n",
       "49996  Wow probable the worst movie i have ever seen!...      0\n",
       "49997  Have not watched kids films for some years, so...      0\n",
       "49998  Pickup on South Street (1953), directed by mov...      1\n",
       "49999  The first half of the film is OK, the second h...      0\n",
       "\n",
       "[50000 rows x 2 columns]"
      ]
     },
     "execution_count": 7,
     "metadata": {},
     "output_type": "execute_result"
    }
   ],
   "source": [
    "df = pd.read_csv('data/imdb.csv', header=0)\n",
    "df"
   ]
  },
  {
   "cell_type": "markdown",
   "id": "6b282bd9",
   "metadata": {},
   "source": [
    "# 載入庫"
   ]
  },
  {
   "cell_type": "code",
   "execution_count": 8,
   "id": "ac43475b",
   "metadata": {},
   "outputs": [],
   "source": [
    "from nltk.corpus import stopwords\n",
    "from nltk.stem import SnowballStemmer\n",
    "from nltk.tokenize import word_tokenize"
   ]
  },
  {
   "cell_type": "markdown",
   "id": "e86dbab1",
   "metadata": {},
   "source": [
    "# 自訂義拆分資料集的函數"
   ]
  },
  {
   "cell_type": "markdown",
   "id": "dffc13b9",
   "metadata": {},
   "source": [
    "train_test_split 不會改變資料的索引，分割後的集合會保留原始資料框的索引值"
   ]
  },
  {
   "cell_type": "code",
   "execution_count": 9,
   "id": "54c743a9",
   "metadata": {},
   "outputs": [],
   "source": [
    "# train_test_split 用於資料集的分割\n",
    "from sklearn.model_selection import train_test_split\n",
    "\n",
    "def split_data(df):\n",
    "\n",
    "    # 將資料集分割為訓練集、測試、驗證集\n",
    "    train, test_and_validate = train_test_split(\n",
    "        # 要分割的資料集\n",
    "        df,\n",
    "        # 這是 `測試+驗證` 的比例\n",
    "        test_size=0.2,\n",
    "        # 分割前是否隨機打亂資料\n",
    "        shuffle=True,\n",
    "        # 設定隨機種子，這可用於重現分割結果\n",
    "        random_state=324\n",
    "    )\n",
    "    \n",
    "    # 將 `測試集` 再分割為 `測試集` 和 `驗證集`\n",
    "    test, validate = train_test_split(\n",
    "        # 要分割的資料集\n",
    "        test_and_validate,\n",
    "        # 將集合分割兩部分各佔 `50%`，即測試和驗證各佔整體 `10%`\n",
    "        test_size=0.5,\n",
    "        shuffle=True,\n",
    "        random_state=324\n",
    "    )\n",
    "    # 返回三個子集\n",
    "    return train, validate, test"
   ]
  },
  {
   "cell_type": "markdown",
   "id": "1ab6b9ff",
   "metadata": {},
   "source": [
    "# 分拆資料集"
   ]
  },
  {
   "cell_type": "code",
   "execution_count": 10,
   "id": "019e020a",
   "metadata": {},
   "outputs": [],
   "source": [
    "train, validate, test = split_data(df)"
   ]
  },
  {
   "cell_type": "markdown",
   "id": "3fc571d0",
   "metadata": {},
   "source": [
    "# 查看分拆後的資料集"
   ]
  },
  {
   "cell_type": "markdown",
   "id": "b8c12a02",
   "metadata": {},
   "source": [
    "資料只有兩個欄位，最前面的是原始資料索引，不是欄位"
   ]
  },
  {
   "cell_type": "code",
   "execution_count": 11,
   "id": "e866265d",
   "metadata": {},
   "outputs": [
    {
     "name": "stdout",
     "output_type": "stream",
     "text": [
      "Train Dataset:\n",
      "                                                    text  label\n",
      "29572  Caught this movie on the tube on a Sunday. I t...      0\n",
      "42816  Seeing as Keifer Sutherland plays my favorite ...      1\n",
      "15853  Stan as a bullfighter, and a good one, is quit...      1\n",
      "38282  Ok so I was bored and I watched it all the way...      0\n",
      "36321  This can't be Mandy Schaffer's last film. Some...      0\n",
      "\n",
      "Validate Dataset:\n",
      "                                                    text  label\n",
      "21391  I've loved this movie since I was a little kid...      1\n",
      "48119  This was a complete disappointment. The acting...      0\n",
      "49328  Interesting film about an actual event that to...      0\n",
      "4339   This is by far the most vapid, idiotic, insane...      0\n",
      "34891  I enjoyed it. In general, I'm not a fan of com...      1\n",
      "\n",
      "Test Dataset:\n",
      "                                                    text  label\n",
      "16591  This is a charming movie starring everyone's f...      1\n",
      "21931  I really should have learned more about this m...      0\n",
      "22143  There have been several comments already on th...      1\n",
      "1133   My wife and I struggle to find movies like thi...      1\n",
      "10413  Basil Rathbone and Nigel Bruce return as Sherl...      1\n"
     ]
    }
   ],
   "source": [
    "# 列出每個資料集的前五筆資料\n",
    "print(\"Train Dataset:\")\n",
    "print(train.head())\n",
    "\n",
    "print(\"\\nValidate Dataset:\")\n",
    "print(validate.head())\n",
    "\n",
    "print(\"\\nTest Dataset:\")\n",
    "print(test.head())"
   ]
  },
  {
   "cell_type": "markdown",
   "id": "daf6aebf",
   "metadata": {},
   "source": [
    "# 導入庫"
   ]
  },
  {
   "cell_type": "code",
   "execution_count": 12,
   "id": "8e1e1f64",
   "metadata": {},
   "outputs": [],
   "source": [
    "from sklearn.feature_extraction.text import CountVectorizer\n",
    "# 導入 Pipeline，用於將多個處理步驟串聯\n",
    "from sklearn.pipeline import Pipeline\n",
    "# 導入 ColumnTransformer，用於選擇和轉換特定的列\n",
    "from sklearn.compose import ColumnTransformer"
   ]
  },
  {
   "cell_type": "markdown",
   "id": "1ffecfe8",
   "metadata": {},
   "source": [
    "# 查看數據"
   ]
  },
  {
   "cell_type": "markdown",
   "id": "b75ae539",
   "metadata": {},
   "source": [
    "第二個輸出是欄位數"
   ]
  },
  {
   "cell_type": "code",
   "execution_count": 13,
   "id": "e9816684",
   "metadata": {},
   "outputs": [
    {
     "name": "stdout",
     "output_type": "stream",
     "text": [
      "轉換前的 shapes： (40000, 2) (5000, 2) (5000, 2)\n"
     ]
    }
   ],
   "source": [
    "print('轉換前的 shapes：', train.shape, validate.shape, test.shape)"
   ]
  },
  {
   "cell_type": "markdown",
   "id": "59bd2331",
   "metadata": {},
   "source": [
    "# 建立管道"
   ]
  },
  {
   "cell_type": "code",
   "execution_count": 15,
   "id": "cfc4d681",
   "metadata": {},
   "outputs": [],
   "source": [
    "text_features = ['text']\n",
    "model_target = 'label'\n",
    "\n",
    "# 建立文本處理管道\n",
    "text_processor_0 = Pipeline([\n",
    "    ('text_vect_0', CountVectorizer(max_features=500))\n",
    "])"
   ]
  },
  {
   "cell_type": "markdown",
   "id": "6bd512a3",
   "metadata": {},
   "source": [
    "# 建立欄位轉換器"
   ]
  },
  {
   "cell_type": "code",
   "execution_count": 16,
   "id": "9af29d7e",
   "metadata": {},
   "outputs": [],
   "source": [
    "data_preprocessor = ColumnTransformer([(\n",
    "    'text_pre_0', \n",
    "    text_processor_0, \n",
    "    text_features[0]\n",
    ")])"
   ]
  },
  {
   "cell_type": "markdown",
   "id": "70d7502b",
   "metadata": {},
   "source": [
    "# 開始轉換"
   ]
  },
  {
   "cell_type": "markdown",
   "id": "f6ba8641",
   "metadata": {},
   "source": [
    "對數據集進行擬合與轉換，轉換就是轉換為矩陣提供機器學習使用"
   ]
  },
  {
   "cell_type": "code",
   "execution_count": 17,
   "id": "0bb4d905",
   "metadata": {},
   "outputs": [
    {
     "name": "stdout",
     "output_type": "stream",
     "text": [
      "開始進行數據轉換 ...\n"
     ]
    },
    {
     "data": {
      "text/plain": [
       "<Compressed Sparse Row sparse matrix of dtype 'int64'\n",
       "\twith 3019796 stored elements and shape (40000, 500)>"
      ]
     },
     "execution_count": 17,
     "metadata": {},
     "output_type": "execute_result"
    }
   ],
   "source": [
    "print(\"開始進行數據轉換 ...\")\n",
    "train_matrix = data_preprocessor.fit_transform(train)\n",
    "train_matrix"
   ]
  },
  {
   "cell_type": "markdown",
   "id": "bb8e8268",
   "metadata": {},
   "source": [
    "對測試集與驗證集進行轉換，不會再次擬合"
   ]
  },
  {
   "cell_type": "code",
   "execution_count": 18,
   "id": "d24596aa",
   "metadata": {},
   "outputs": [
    {
     "data": {
      "text/plain": [
       "<Compressed Sparse Row sparse matrix of dtype 'int64'\n",
       "\twith 375287 stored elements and shape (5000, 500)>"
      ]
     },
     "execution_count": 18,
     "metadata": {},
     "output_type": "execute_result"
    }
   ],
   "source": [
    "test_matrix = data_preprocessor.transform(test)\n",
    "test_matrix"
   ]
  },
  {
   "cell_type": "code",
   "execution_count": 19,
   "id": "3178193e",
   "metadata": {},
   "outputs": [
    {
     "data": {
      "text/plain": [
       "<Compressed Sparse Row sparse matrix of dtype 'int64'\n",
       "\twith 382058 stored elements and shape (5000, 500)>"
      ]
     },
     "execution_count": 19,
     "metadata": {},
     "output_type": "execute_result"
    }
   ],
   "source": [
    "validate_matrix = data_preprocessor.transform(validate)\n",
    "validate_matrix"
   ]
  },
  {
   "cell_type": "code",
   "execution_count": 20,
   "id": "d35881dc",
   "metadata": {},
   "outputs": [
    {
     "name": "stdout",
     "output_type": "stream",
     "text": [
      "轉換完成，轉換後的 shape： (40000, 500) (5000, 500) (5000, 500)\n"
     ]
    }
   ],
   "source": [
    "print(\n",
    "    '轉換完成，轉換後的 shape：', \n",
    "    train_matrix.shape, \n",
    "    validate_matrix.shape, \n",
    "    test_matrix.shape\n",
    ")"
   ]
  },
  {
   "cell_type": "markdown",
   "id": "46a3a86b",
   "metadata": {},
   "source": [
    "# 寫入 S3"
   ]
  },
  {
   "cell_type": "markdown",
   "id": "91df883b",
   "metadata": {},
   "source": [
    "自訂寫入 S3 的函數"
   ]
  },
  {
   "cell_type": "code",
   "execution_count": 21,
   "id": "f2fc5edc",
   "metadata": {},
   "outputs": [],
   "source": [
    "# 建立 S3 資源層接口\n",
    "s3_resource = boto3.Session().resource('s3')\n",
    "\n",
    "def upload_s3_csv(filename, folder, X_train, y_train, is_test=False):\n",
    "    csv_buffer = io.StringIO()\n",
    "    features = [t.toarray().astype('float32').flatten().tolist() for t in X_train]\n",
    "    if is_test:\n",
    "        temp_list = features\n",
    "    else:\n",
    "        temp_list = np.insert(features, 0, y_train['label'], axis=1)\n",
    "        \n",
    "    np.savetxt(csv_buffer, temp_list, delimiter=',' )\n",
    "    \n",
    "    s3_resource.Bucket(bucket).Object(os.path.join(prefix, folder, filename)).put(Body=csv_buffer.getvalue())"
   ]
  },
  {
   "cell_type": "markdown",
   "id": "cd88e5fb",
   "metadata": {},
   "source": [
    "# 取得 bucket 名稱"
   ]
  },
  {
   "cell_type": "code",
   "execution_count": 22,
   "id": "ca0c136e",
   "metadata": {},
   "outputs": [
    {
     "name": "stdout",
     "output_type": "stream",
     "text": [
      "包含 'labbucket' 的 S3 Bucket： c133864a3391494l8261467t1w637423426529-labbucket-dqqh0buvbkaj\n",
      "當前使用的 bucket：\n"
     ]
    },
    {
     "data": {
      "text/plain": [
       "'c133864a3391494l8261467t1w637423426529-labbucket-dqqh0buvbkaj'"
      ]
     },
     "execution_count": 22,
     "metadata": {},
     "output_type": "execute_result"
    }
   ],
   "source": [
    "# 初始化 S3 客戶端接口\n",
    "s3_client = boto3.client('s3')\n",
    "\n",
    "# 列出所有 S3 buckets 並篩選名稱包含 'labbucket' 的\n",
    "try:\n",
    "    response = s3_client.list_buckets()\n",
    "    # 只取出第一個名稱包含 'labbucket' 的 S3 bucket，若無則返回 None\n",
    "    bucket_name = next((bucket['Name'] for bucket in response['Buckets'] if 'labbucket' in bucket['Name']), None)\n",
    "\n",
    "    # 顯示結果\n",
    "    if bucket_name:\n",
    "        print(\"包含 'labbucket' 的 S3 Bucket：\", bucket_name)\n",
    "    else:\n",
    "        print(\"找不到包含 'labbucket' 的 S3 Bucket。\")\n",
    "except Exception as e:\n",
    "    print(f\"發生錯誤: {e}\")\n",
    "\n",
    "# 配合官方範例，將命名為 `bucket`\n",
    "bucket = bucket_name\n",
    "print(\"當前使用的 bucket：\")\n",
    "bucket"
   ]
  },
  {
   "cell_type": "markdown",
   "id": "fc5eca02",
   "metadata": {},
   "source": [
    "# 建立路徑名稱"
   ]
  },
  {
   "cell_type": "markdown",
   "id": "63cc1b87",
   "metadata": {},
   "source": [
    "檔名與範例相同，路徑添加尾綴 `_new`"
   ]
  },
  {
   "cell_type": "code",
   "execution_count": 23,
   "id": "27b8c5cd",
   "metadata": {},
   "outputs": [],
   "source": [
    "prefix='lab41_new'\n",
    "train_file='train-pass1.csv'\n",
    "validate_file='validate-pass1.csv'\n",
    "test_file='test-pass1.csv'"
   ]
  },
  {
   "cell_type": "markdown",
   "id": "32bfca97",
   "metadata": {},
   "source": [
    "# 上傳到 S3"
   ]
  },
  {
   "cell_type": "code",
   "execution_count": 24,
   "id": "37756d6c",
   "metadata": {},
   "outputs": [],
   "source": [
    "upload_s3_csv(train_file, 'train', train_matrix, train)\n",
    "upload_s3_csv(validate_file, 'validate', validate_matrix, validate)\n",
    "upload_s3_csv(test_file, 'test', test_matrix, test, True)"
   ]
  },
  {
   "cell_type": "markdown",
   "id": "08bb2089",
   "metadata": {},
   "source": [
    "# 查看上傳結果"
   ]
  },
  {
   "cell_type": "markdown",
   "id": "8495d5bc",
   "metadata": {},
   "source": [
    "自訂函數查看 S3"
   ]
  },
  {
   "cell_type": "code",
   "execution_count": 25,
   "id": "31c5c262",
   "metadata": {},
   "outputs": [],
   "source": [
    "def list_s3_structure(bucket_name, prefix='', level=0):\n",
    "    s3_client = boto3.client('s3')\n",
    "    result = s3_client.list_objects_v2(\n",
    "        Bucket=bucket_name, Prefix=prefix, Delimiter='/'\n",
    "    )\n",
    "    # 根據層級縮進\n",
    "    indent = '    ' * level\n",
    "    has_content = False\n",
    "\n",
    "    # 列出資料夾\n",
    "    if 'CommonPrefixes' in result:\n",
    "        has_content = True\n",
    "        for folder in result['CommonPrefixes']:\n",
    "            # 顯示資料夾名稱\n",
    "            print(\n",
    "                f\"{indent}📁 {folder['Prefix'].split('/')[-2]}\"\n",
    "            )\n",
    "            # 遞歸列出子資料夾\n",
    "            list_s3_structure(\n",
    "                bucket_name, \n",
    "                prefix=folder['Prefix'], \n",
    "                level=level + 1\n",
    "            )\n",
    "\n",
    "    # 列出文件\n",
    "    if 'Contents' in result:\n",
    "        has_content = True\n",
    "        for file in result['Contents']:\n",
    "            # 避免重複顯示資料夾的 key\n",
    "            if file['Key'] != prefix:\n",
    "                # 顯示文件名稱\n",
    "                print(f\"{indent}📄 {file['Key'].split('/')[-1]}\")\n",
    "\n",
    "    # 如果沒有內容，則輸出通知\n",
    "    if not has_content and level == 0:\n",
    "        print(f\"Bucket '{bucket_name}' 中沒有任何內容。\")\n"
   ]
  },
  {
   "cell_type": "markdown",
   "id": "0e91a0b0",
   "metadata": {},
   "source": [
    "# 查看指定 Bucket"
   ]
  },
  {
   "cell_type": "code",
   "execution_count": 26,
   "id": "0911fa9f",
   "metadata": {},
   "outputs": [
    {
     "name": "stdout",
     "output_type": "stream",
     "text": [
      "📁 lab41_new\n",
      "    📁 test\n",
      "        📄 test-pass1.csv\n",
      "    📁 train\n",
      "        📄 train-pass1.csv\n",
      "    📁 validate\n",
      "        📄 validate-pass1.csv\n"
     ]
    }
   ],
   "source": [
    "list_s3_structure(bucket_name)"
   ]
  },
  {
   "cell_type": "markdown",
   "id": "66d5e821",
   "metadata": {},
   "source": [
    "# 訓練模型"
   ]
  },
  {
   "cell_type": "markdown",
   "id": "0f192554",
   "metadata": {},
   "source": [
    "設定模型"
   ]
  },
  {
   "cell_type": "code",
   "execution_count": 27,
   "id": "f6c80141",
   "metadata": {},
   "outputs": [
    {
     "name": "stdout",
     "output_type": "stream",
     "text": [
      "sagemaker.config INFO - Not applying SDK defaults from location: /etc/xdg/sagemaker/config.yaml\n",
      "sagemaker.config INFO - Not applying SDK defaults from location: /home/ec2-user/.config/sagemaker/config.yaml\n"
     ]
    }
   ],
   "source": [
    "import sagemaker\n",
    "from sagemaker.image_uris import retrieve\n",
    "\n",
    "# 取得容器\n",
    "container = retrieve('xgboost',boto3.Session().region_name,'1.0-1')\n",
    "# 定義輸出路徑\n",
    "s3_output_location=f's3://{bucket}/{prefix}/output/'\n",
    "# 超參數\n",
    "hyperparams={\n",
    "    \"num_round\":\"42\",\n",
    "    \"eval_metric\": \"error\",\n",
    "    \"objective\": \"binary:logistic\",\n",
    "    \"silent\" : 1\n",
    "}"
   ]
  },
  {
   "cell_type": "markdown",
   "id": "8fd3a4d7",
   "metadata": {},
   "source": [
    "建立估計器"
   ]
  },
  {
   "cell_type": "code",
   "execution_count": 28,
   "id": "2f4c1c02",
   "metadata": {},
   "outputs": [],
   "source": [
    "xgb_model=sagemaker.estimator.Estimator(\n",
    "    container,\n",
    "    role=sagemaker.get_execution_role(),\n",
    "    instance_count=1,\n",
    "    instance_type='ml.m5.2xlarge',\n",
    "    output_path=s3_output_location,\n",
    "    hyperparameters=hyperparams,\n",
    "    sagemaker_session=sagemaker.Session()\n",
    ")"
   ]
  },
  {
   "cell_type": "markdown",
   "id": "d1715081",
   "metadata": {},
   "source": [
    "設定輸入管道"
   ]
  },
  {
   "cell_type": "code",
   "execution_count": 29,
   "id": "a3d8e0ac",
   "metadata": {},
   "outputs": [],
   "source": [
    "train_channel = sagemaker.inputs.TrainingInput(\n",
    "    f's3://{bucket}/{prefix}/train/{train_file}',\n",
    "    content_type='text/csv')\n",
    "\n",
    "validate_channel = sagemaker.inputs.TrainingInput(\n",
    "    f's3://{bucket}/{prefix}/validate/{validate_file}',\n",
    "    content_type='text/csv')\n",
    "\n",
    "# 組合管道\n",
    "data_channels = {\n",
    "    'train': train_channel,\n",
    "    'validation': validate_channel\n",
    "}"
   ]
  },
  {
   "cell_type": "markdown",
   "id": "f8447f9b",
   "metadata": {},
   "source": [
    "定義訓練名稱"
   ]
  },
  {
   "cell_type": "code",
   "execution_count": 30,
   "id": "4c4e6680",
   "metadata": {},
   "outputs": [
    {
     "data": {
      "text/plain": [
       "'xgb-pass1-11-12-2024-19-14-53'"
      ]
     },
     "execution_count": 30,
     "metadata": {},
     "output_type": "execute_result"
    }
   ],
   "source": [
    "training_job_name = 'xgb-pass1-'+datetime.now().strftime(\"%m-%d-%Y-%H-%M-%S\")\n",
    "training_job_name"
   ]
  },
  {
   "cell_type": "markdown",
   "id": "d49769d7",
   "metadata": {},
   "source": [
    "開始訓練"
   ]
  },
  {
   "cell_type": "code",
   "execution_count": 31,
   "id": "1d87e27e",
   "metadata": {},
   "outputs": [
    {
     "name": "stderr",
     "output_type": "stream",
     "text": [
      "INFO:sagemaker:Creating training-job with name: xgb-pass1-11-12-2024-19-14-53\n"
     ]
    },
    {
     "name": "stdout",
     "output_type": "stream",
     "text": [
      "\n",
      "2024-11-12 19:14:56 Starting - Starting the training job...\n",
      "2024-11-12 19:15:20 Starting - Preparing the instances for training.....\n",
      "2024-11-12 19:15:50 Downloading - Downloading input data...\n",
      "2024-11-12 19:16:11 Downloading - Downloading the training image.....\n",
      "2024-11-12 19:16:42 Training - Training image download completed. Training in progress......\n",
      "2024-11-12 19:17:13 Uploading - Uploading generated training model..\n",
      "2024-11-12 19:17:26 Completed - Training job completed\n"
     ]
    }
   ],
   "source": [
    "xgb_model.fit(\n",
    "    inputs=data_channels, \n",
    "    logs=False, \n",
    "    job_name=training_job_name\n",
    ")"
   ]
  },
  {
   "cell_type": "markdown",
   "id": "014cfb98",
   "metadata": {},
   "source": [
    "# 查看績效指標"
   ]
  },
  {
   "cell_type": "code",
   "execution_count": 32,
   "id": "fe7e90e3",
   "metadata": {},
   "outputs": [
    {
     "data": {
      "text/plain": [
       "<sagemaker.TrainingJobAnalytics for xgb-pass1-11-12-2024-19-14-53>"
      ]
     },
     "execution_count": 32,
     "metadata": {},
     "output_type": "execute_result"
    }
   ],
   "source": [
    "_resulr_analytic = sagemaker.analytics.TrainingJobAnalytics(\n",
    "    xgb_model._current_job_name, \n",
    "    metric_names = ['train:error','validation:error']\n",
    ")\n",
    "_resulr_analytic"
   ]
  },
  {
   "cell_type": "markdown",
   "id": "2a209193",
   "metadata": {},
   "source": [
    "# 輸出為 df"
   ]
  },
  {
   "cell_type": "code",
   "execution_count": 36,
   "id": "1fdbf55a",
   "metadata": {},
   "outputs": [
    {
     "data": {
      "text/html": [
       "<div>\n",
       "<style scoped>\n",
       "    .dataframe tbody tr th:only-of-type {\n",
       "        vertical-align: middle;\n",
       "    }\n",
       "\n",
       "    .dataframe tbody tr th {\n",
       "        vertical-align: top;\n",
       "    }\n",
       "\n",
       "    .dataframe thead th {\n",
       "        text-align: right;\n",
       "    }\n",
       "</style>\n",
       "<table border=\"1\" class=\"dataframe\">\n",
       "  <thead>\n",
       "    <tr style=\"text-align: right;\">\n",
       "      <th></th>\n",
       "      <th>timestamp</th>\n",
       "      <th>metric_name</th>\n",
       "      <th>value</th>\n",
       "    </tr>\n",
       "  </thead>\n",
       "  <tbody>\n",
       "    <tr>\n",
       "      <th>0</th>\n",
       "      <td>0.0</td>\n",
       "      <td>train:error</td>\n",
       "      <td>0.20855</td>\n",
       "    </tr>\n",
       "    <tr>\n",
       "      <th>1</th>\n",
       "      <td>0.0</td>\n",
       "      <td>validation:error</td>\n",
       "      <td>0.23550</td>\n",
       "    </tr>\n",
       "  </tbody>\n",
       "</table>\n",
       "</div>"
      ],
      "text/plain": [
       "   timestamp       metric_name    value\n",
       "0        0.0       train:error  0.20855\n",
       "1        0.0  validation:error  0.23550"
      ]
     },
     "execution_count": 36,
     "metadata": {},
     "output_type": "execute_result"
    }
   ],
   "source": [
    "df_analytic = _resulr_analytic.dataframe()\n",
    "df_analytic"
   ]
  },
  {
   "cell_type": "markdown",
   "id": "9a367486",
   "metadata": {},
   "source": [
    "# 上傳文件到 S3"
   ]
  },
  {
   "cell_type": "markdown",
   "id": "5d1510e5",
   "metadata": {},
   "source": [
    "調用自訂函數上傳"
   ]
  },
  {
   "cell_type": "code",
   "execution_count": 37,
   "id": "b798cfbd",
   "metadata": {},
   "outputs": [],
   "source": [
    "upload_s3_csv(\n",
    "    'batch-in.csv', \n",
    "    'batch-in', \n",
    "    test_matrix, \n",
    "    test, \n",
    "    True\n",
    ")"
   ]
  },
  {
   "cell_type": "markdown",
   "id": "f2c1d7ef",
   "metadata": {},
   "source": [
    "查看 S3 Bucket 的結構"
   ]
  },
  {
   "cell_type": "code",
   "execution_count": 38,
   "id": "8d7b8bd5",
   "metadata": {},
   "outputs": [
    {
     "name": "stdout",
     "output_type": "stream",
     "text": [
      "📁 lab41_new\n",
      "    📁 batch-in\n",
      "        📄 batch-in.csv\n",
      "    📁 output\n",
      "        📁 xgb-pass1-11-12-2024-19-14-53\n",
      "            📁 debug-output\n",
      "                📁 collections\n",
      "                    📁 000000000\n",
      "                        📄 worker_0_collections.json\n",
      "                📁 events\n",
      "                    📁 000000000000\n",
      "                        📄 000000000000_worker_0.tfevents\n",
      "                    📁 000000000010\n",
      "                        📄 000000000010_worker_0.tfevents\n",
      "                    📁 000000000020\n",
      "                        📄 000000000020_worker_0.tfevents\n",
      "                    📁 000000000030\n",
      "                        📄 000000000030_worker_0.tfevents\n",
      "                    📁 000000000040\n",
      "                        📄 000000000040_worker_0.tfevents\n",
      "                📁 index\n",
      "                    📁 000000000\n",
      "                        📄 000000000000_worker_0.json\n",
      "                        📄 000000000010_worker_0.json\n",
      "                        📄 000000000020_worker_0.json\n",
      "                        📄 000000000030_worker_0.json\n",
      "                        📄 000000000040_worker_0.json\n",
      "                📄 claim.smd\n",
      "                📄 training_job_end.ts\n",
      "            📁 output\n",
      "                📄 model.tar.gz\n",
      "            📁 profiler-output\n",
      "                📁 framework\n",
      "                    📄 training_job_end.ts\n",
      "                📁 system\n",
      "                    📁 incremental\n",
      "                        📁 2024111219\n",
      "                            📄 1731438900.algo-1.json\n",
      "                            📄 1731438960.algo-1.json\n",
      "                            📄 1731439020.algo-1.json\n",
      "                    📄 training_job_end.ts\n",
      "    📁 test\n",
      "        📄 test-pass1.csv\n",
      "    📁 train\n",
      "        📄 train-pass1.csv\n",
      "    📁 validate\n",
      "        📄 validate-pass1.csv\n"
     ]
    }
   ],
   "source": [
    "list_s3_structure(bucket_name)"
   ]
  },
  {
   "cell_type": "markdown",
   "id": "961d9360",
   "metadata": {},
   "source": [
    "# 建立轉換器"
   ]
  },
  {
   "cell_type": "markdown",
   "id": "0c319402",
   "metadata": {},
   "source": [
    "建立路徑"
   ]
  },
  {
   "cell_type": "code",
   "execution_count": 39,
   "id": "ad7507cb",
   "metadata": {},
   "outputs": [],
   "source": [
    "batch_X_file='batch-in.csv'\n",
    "batch_output = f's3://{bucket}/{prefix}/batch-out/'\n",
    "batch_input = f's3://{bucket}/{prefix}/batch-in/{batch_X_file}'"
   ]
  },
  {
   "cell_type": "markdown",
   "id": "2ba568fe",
   "metadata": {},
   "source": [
    "建立轉換器，也稱為 `批次推理器`、`批次推理實例`"
   ]
  },
  {
   "cell_type": "code",
   "execution_count": 40,
   "id": "5dc0cbcd",
   "metadata": {},
   "outputs": [
    {
     "name": "stderr",
     "output_type": "stream",
     "text": [
      "INFO:sagemaker:Creating model with name: sagemaker-xgboost-2024-11-12-19-19-30-132\n"
     ]
    }
   ],
   "source": [
    "xgb_transformer = xgb_model.transformer(\n",
    "    instance_count=1,\n",
    "    instance_type='ml.m5.2xlarge',\n",
    "    strategy='MultiRecord',\n",
    "    assemble_with='Line',\n",
    "    output_path=batch_output\n",
    ")"
   ]
  },
  {
   "cell_type": "markdown",
   "id": "035b1985",
   "metadata": {},
   "source": [
    "取得自動生成的模型名稱"
   ]
  },
  {
   "cell_type": "code",
   "execution_count": 41,
   "id": "d0de99a4",
   "metadata": {},
   "outputs": [
    {
     "data": {
      "text/plain": [
       "'sagemaker-xgboost-2024-11-12-19-19-30-132'"
      ]
     },
     "execution_count": 41,
     "metadata": {},
     "output_type": "execute_result"
    }
   ],
   "source": [
    "model_name = xgb_transformer.model_name\n",
    "model_name"
   ]
  },
  {
   "cell_type": "markdown",
   "id": "053a99be",
   "metadata": {},
   "source": [
    "# 轉換 Job"
   ]
  },
  {
   "cell_type": "markdown",
   "id": "bc2066c7",
   "metadata": {},
   "source": [
    "建立 job 名稱"
   ]
  },
  {
   "cell_type": "code",
   "execution_count": 42,
   "id": "79d22a03",
   "metadata": {},
   "outputs": [
    {
     "data": {
      "text/plain": [
       "'sagemaker-xgboost-2024-11-12-19-19-30-132-20241112191936'"
      ]
     },
     "execution_count": 42,
     "metadata": {},
     "output_type": "execute_result"
    }
   ],
   "source": [
    "# 使用 timestamp 作為後綴\n",
    "timestamp = datetime.now().strftime('%Y%m%d%H%M%S')\n",
    "\n",
    "# 合成轉換 Job 名稱\n",
    "transformer_job_name = f\"{model_name}-{timestamp}\"\n",
    "transformer_job_name"
   ]
  },
  {
   "cell_type": "markdown",
   "id": "4583ca4f",
   "metadata": {},
   "source": [
    "開始轉換，可能需要五分鐘，轉換完成才會輸出日誌"
   ]
  },
  {
   "cell_type": "code",
   "execution_count": 43,
   "id": "12a1d55c",
   "metadata": {},
   "outputs": [
    {
     "name": "stderr",
     "output_type": "stream",
     "text": [
      "INFO:sagemaker:Creating transform job with name: sagemaker-xgboost-2024-11-12-19-19-30-132-20241112191936\n"
     ]
    },
    {
     "name": "stdout",
     "output_type": "stream",
     "text": [
      "................................\u001b[34m[2024-11-12:19:25:52:INFO] No GPUs detected (normal if no gpus installed)\u001b[0m\n",
      "\u001b[34m[2024-11-12:19:25:52:INFO] No GPUs detected (normal if no gpus installed)\u001b[0m\n",
      "\u001b[34m[2024-11-12:19:25:52:INFO] nginx config: \u001b[0m\n",
      "\u001b[34mworker_processes auto;\u001b[0m\n",
      "\u001b[34mdaemon off;\u001b[0m\n",
      "\u001b[34mpid /tmp/nginx.pid;\u001b[0m\n",
      "\u001b[34merror_log  /dev/stderr;\u001b[0m\n",
      "\u001b[34mworker_rlimit_nofile 4096;\u001b[0m\n",
      "\u001b[34mevents {\n",
      "  worker_connections 2048;\u001b[0m\n",
      "\u001b[35m[2024-11-12:19:25:52:INFO] No GPUs detected (normal if no gpus installed)\u001b[0m\n",
      "\u001b[35m[2024-11-12:19:25:52:INFO] No GPUs detected (normal if no gpus installed)\u001b[0m\n",
      "\u001b[35m[2024-11-12:19:25:52:INFO] nginx config: \u001b[0m\n",
      "\u001b[35mworker_processes auto;\u001b[0m\n",
      "\u001b[35mdaemon off;\u001b[0m\n",
      "\u001b[35mpid /tmp/nginx.pid;\u001b[0m\n",
      "\u001b[35merror_log  /dev/stderr;\u001b[0m\n",
      "\u001b[35mworker_rlimit_nofile 4096;\u001b[0m\n",
      "\u001b[35mevents {\n",
      "  worker_connections 2048;\u001b[0m\n",
      "\u001b[34m}\u001b[0m\n",
      "\u001b[34mhttp {\n",
      "  include /etc/nginx/mime.types;\n",
      "  default_type application/octet-stream;\n",
      "  access_log /dev/stdout combined;\n",
      "  upstream gunicorn {\n",
      "    server unix:/tmp/gunicorn.sock;\n",
      "  }\n",
      "  server {\n",
      "    listen 8080 deferred;\n",
      "    client_max_body_size 0;\n",
      "    keepalive_timeout 3;\n",
      "    location ~ ^/(ping|invocations|execution-parameters) {\n",
      "      proxy_set_header X-Forwarded-For $proxy_add_x_forwarded_for;\n",
      "      proxy_set_header Host $http_host;\n",
      "      proxy_redirect off;\n",
      "      proxy_read_timeout 60s;\n",
      "      proxy_pass http://gunicorn;\n",
      "    }\n",
      "    location / {\n",
      "      return 404 \"{}\";\n",
      "    }\n",
      "  }\u001b[0m\n",
      "\u001b[34m}\u001b[0m\n",
      "\u001b[34m[2024-11-12 19:25:53 +0000] [28] [INFO] Starting gunicorn 19.10.0\u001b[0m\n",
      "\u001b[34m[2024-11-12 19:25:53 +0000] [28] [INFO] Listening at: unix:/tmp/gunicorn.sock (28)\u001b[0m\n",
      "\u001b[34m[2024-11-12 19:25:53 +0000] [28] [INFO] Using worker: gevent\u001b[0m\n",
      "\u001b[34m[2024-11-12 19:25:53 +0000] [39] [INFO] Booting worker with pid: 39\u001b[0m\n",
      "\u001b[34m[2024-11-12 19:25:53 +0000] [40] [INFO] Booting worker with pid: 40\u001b[0m\n",
      "\u001b[34m[2024-11-12 19:25:53 +0000] [41] [INFO] Booting worker with pid: 41\u001b[0m\n",
      "\u001b[34m[2024-11-12 19:25:53 +0000] [42] [INFO] Booting worker with pid: 42\u001b[0m\n",
      "\u001b[34m[2024-11-12 19:25:53 +0000] [43] [INFO] Booting worker with pid: 43\u001b[0m\n",
      "\u001b[34m[2024-11-12 19:25:53 +0000] [58] [INFO] Booting worker with pid: 58\u001b[0m\n",
      "\u001b[34m[2024-11-12 19:25:53 +0000] [59] [INFO] Booting worker with pid: 59\u001b[0m\n",
      "\u001b[34m[2024-11-12 19:25:53 +0000] [67] [INFO] Booting worker with pid: 67\u001b[0m\n",
      "\u001b[35m}\u001b[0m\n",
      "\u001b[35mhttp {\n",
      "  include /etc/nginx/mime.types;\n",
      "  default_type application/octet-stream;\n",
      "  access_log /dev/stdout combined;\n",
      "  upstream gunicorn {\n",
      "    server unix:/tmp/gunicorn.sock;\n",
      "  }\n",
      "  server {\n",
      "    listen 8080 deferred;\n",
      "    client_max_body_size 0;\n",
      "    keepalive_timeout 3;\n",
      "    location ~ ^/(ping|invocations|execution-parameters) {\n",
      "      proxy_set_header X-Forwarded-For $proxy_add_x_forwarded_for;\n",
      "      proxy_set_header Host $http_host;\n",
      "      proxy_redirect off;\n",
      "      proxy_read_timeout 60s;\n",
      "      proxy_pass http://gunicorn;\n",
      "    }\n",
      "    location / {\n",
      "      return 404 \"{}\";\n",
      "    }\n",
      "  }\u001b[0m\n",
      "\u001b[35m}\u001b[0m\n",
      "\u001b[35m[2024-11-12 19:25:53 +0000] [28] [INFO] Starting gunicorn 19.10.0\u001b[0m\n",
      "\u001b[35m[2024-11-12 19:25:53 +0000] [28] [INFO] Listening at: unix:/tmp/gunicorn.sock (28)\u001b[0m\n",
      "\u001b[35m[2024-11-12 19:25:53 +0000] [28] [INFO] Using worker: gevent\u001b[0m\n",
      "\u001b[35m[2024-11-12 19:25:53 +0000] [39] [INFO] Booting worker with pid: 39\u001b[0m\n",
      "\u001b[35m[2024-11-12 19:25:53 +0000] [40] [INFO] Booting worker with pid: 40\u001b[0m\n",
      "\u001b[35m[2024-11-12 19:25:53 +0000] [41] [INFO] Booting worker with pid: 41\u001b[0m\n",
      "\u001b[35m[2024-11-12 19:25:53 +0000] [42] [INFO] Booting worker with pid: 42\u001b[0m\n",
      "\u001b[35m[2024-11-12 19:25:53 +0000] [43] [INFO] Booting worker with pid: 43\u001b[0m\n",
      "\u001b[35m[2024-11-12 19:25:53 +0000] [58] [INFO] Booting worker with pid: 58\u001b[0m\n",
      "\u001b[35m[2024-11-12 19:25:53 +0000] [59] [INFO] Booting worker with pid: 59\u001b[0m\n",
      "\u001b[35m[2024-11-12 19:25:53 +0000] [67] [INFO] Booting worker with pid: 67\u001b[0m\n",
      "\u001b[34m[2024-11-12:19:25:57:INFO] No GPUs detected (normal if no gpus installed)\u001b[0m\n",
      "\u001b[34m169.254.255.130 - - [12/Nov/2024:19:25:57 +0000] \"GET /ping HTTP/1.1\" 200 0 \"-\" \"Go-http-client/1.1\"\u001b[0m\n",
      "\u001b[34m[2024-11-12:19:25:57:INFO] No GPUs detected (normal if no gpus installed)\u001b[0m\n",
      "\u001b[34m169.254.255.130 - - [12/Nov/2024:19:25:57 +0000] \"GET /execution-parameters HTTP/1.1\" 200 84 \"-\" \"Go-http-client/1.1\"\u001b[0m\n",
      "\u001b[34m[2024-11-12:19:25:58:INFO] No GPUs detected (normal if no gpus installed)\u001b[0m\n",
      "\u001b[35m[2024-11-12:19:25:57:INFO] No GPUs detected (normal if no gpus installed)\u001b[0m\n",
      "\u001b[35m169.254.255.130 - - [12/Nov/2024:19:25:57 +0000] \"GET /ping HTTP/1.1\" 200 0 \"-\" \"Go-http-client/1.1\"\u001b[0m\n",
      "\u001b[35m[2024-11-12:19:25:57:INFO] No GPUs detected (normal if no gpus installed)\u001b[0m\n",
      "\u001b[35m169.254.255.130 - - [12/Nov/2024:19:25:57 +0000] \"GET /execution-parameters HTTP/1.1\" 200 84 \"-\" \"Go-http-client/1.1\"\u001b[0m\n",
      "\u001b[35m[2024-11-12:19:25:58:INFO] No GPUs detected (normal if no gpus installed)\u001b[0m\n",
      "\u001b[34m[2024-11-12:19:25:58:INFO] Determined delimiter of CSV input is ','\u001b[0m\n",
      "\u001b[34m[2024-11-12:19:25:58:INFO] Determined delimiter of CSV input is ','\u001b[0m\n",
      "\u001b[34m[2024-11-12:19:25:58:INFO] No GPUs detected (normal if no gpus installed)\u001b[0m\n",
      "\u001b[34m169.254.255.130 - - [12/Nov/2024:19:25:58 +0000] \"POST /invocations HTTP/1.1\" 200 9711 \"-\" \"Go-http-client/1.1\"\u001b[0m\n",
      "\u001b[34m[2024-11-12:19:25:58:INFO] No GPUs detected (normal if no gpus installed)\u001b[0m\n",
      "\u001b[34m[2024-11-12:19:25:58:INFO] Determined delimiter of CSV input is ','\u001b[0m\n",
      "\u001b[34m169.254.255.130 - - [12/Nov/2024:19:25:58 +0000] \"POST /invocations HTTP/1.1\" 200 9711 \"-\" \"Go-http-client/1.1\"\u001b[0m\n",
      "\u001b[34m[2024-11-12:19:25:58:INFO] Determined delimiter of CSV input is ','\u001b[0m\n",
      "\u001b[34m[2024-11-12:19:25:58:INFO] Determined delimiter of CSV input is ','\u001b[0m\n",
      "\u001b[34m[2024-11-12:19:25:58:INFO] No GPUs detected (normal if no gpus installed)\u001b[0m\n",
      "\u001b[34m[2024-11-12:19:25:58:INFO] Determined delimiter of CSV input is ','\u001b[0m\n",
      "\u001b[34m[2024-11-12:19:25:58:INFO] No GPUs detected (normal if no gpus installed)\u001b[0m\n",
      "\u001b[34m[2024-11-12:19:25:58:INFO] Determined delimiter of CSV input is ','\u001b[0m\n",
      "\u001b[34m[2024-11-12:19:25:58:INFO] Determined delimiter of CSV input is ','\u001b[0m\n",
      "\u001b[34m[2024-11-12:19:25:58:INFO] No GPUs detected (normal if no gpus installed)\u001b[0m\n",
      "\u001b[34m[2024-11-12:19:25:58:INFO] Determined delimiter of CSV input is ','\u001b[0m\n",
      "\u001b[34m169.254.255.130 - - [12/Nov/2024:19:25:58 +0000] \"POST /invocations HTTP/1.1\" 200 9704 \"-\" \"Go-http-client/1.1\"\u001b[0m\n",
      "\u001b[34m[2024-11-12:19:25:58:INFO] Determined delimiter of CSV input is ','\u001b[0m\n",
      "\u001b[34m169.254.255.130 - - [12/Nov/2024:19:25:59 +0000] \"POST /invocations HTTP/1.1\" 200 9747 \"-\" \"Go-http-client/1.1\"\u001b[0m\n",
      "\u001b[34m169.254.255.130 - - [12/Nov/2024:19:25:59 +0000] \"POST /invocations HTTP/1.1\" 200 9729 \"-\" \"Go-http-client/1.1\"\u001b[0m\n",
      "\u001b[34m169.254.255.130 - - [12/Nov/2024:19:25:59 +0000] \"POST /invocations HTTP/1.1\" 200 9705 \"-\" \"Go-http-client/1.1\"\u001b[0m\n",
      "\u001b[34m169.254.255.130 - - [12/Nov/2024:19:25:59 +0000] \"POST /invocations HTTP/1.1\" 200 9739 \"-\" \"Go-http-client/1.1\"\u001b[0m\n",
      "\u001b[34m169.254.255.130 - - [12/Nov/2024:19:25:59 +0000] \"POST /invocations HTTP/1.1\" 200 9730 \"-\" \"Go-http-client/1.1\"\u001b[0m\n",
      "\u001b[35m[2024-11-12:19:25:58:INFO] Determined delimiter of CSV input is ','\u001b[0m\n",
      "\u001b[35m[2024-11-12:19:25:58:INFO] Determined delimiter of CSV input is ','\u001b[0m\n",
      "\u001b[35m[2024-11-12:19:25:58:INFO] No GPUs detected (normal if no gpus installed)\u001b[0m\n",
      "\u001b[35m169.254.255.130 - - [12/Nov/2024:19:25:58 +0000] \"POST /invocations HTTP/1.1\" 200 9711 \"-\" \"Go-http-client/1.1\"\u001b[0m\n",
      "\u001b[35m[2024-11-12:19:25:58:INFO] No GPUs detected (normal if no gpus installed)\u001b[0m\n",
      "\u001b[35m[2024-11-12:19:25:58:INFO] Determined delimiter of CSV input is ','\u001b[0m\n",
      "\u001b[35m169.254.255.130 - - [12/Nov/2024:19:25:58 +0000] \"POST /invocations HTTP/1.1\" 200 9711 \"-\" \"Go-http-client/1.1\"\u001b[0m\n",
      "\u001b[35m[2024-11-12:19:25:58:INFO] Determined delimiter of CSV input is ','\u001b[0m\n",
      "\u001b[35m[2024-11-12:19:25:58:INFO] Determined delimiter of CSV input is ','\u001b[0m\n",
      "\u001b[35m[2024-11-12:19:25:58:INFO] No GPUs detected (normal if no gpus installed)\u001b[0m\n",
      "\u001b[35m[2024-11-12:19:25:58:INFO] Determined delimiter of CSV input is ','\u001b[0m\n",
      "\u001b[35m[2024-11-12:19:25:58:INFO] No GPUs detected (normal if no gpus installed)\u001b[0m\n",
      "\u001b[35m[2024-11-12:19:25:58:INFO] Determined delimiter of CSV input is ','\u001b[0m\n",
      "\u001b[35m[2024-11-12:19:25:58:INFO] Determined delimiter of CSV input is ','\u001b[0m\n",
      "\u001b[35m[2024-11-12:19:25:58:INFO] No GPUs detected (normal if no gpus installed)\u001b[0m\n",
      "\u001b[35m[2024-11-12:19:25:58:INFO] Determined delimiter of CSV input is ','\u001b[0m\n",
      "\u001b[35m169.254.255.130 - - [12/Nov/2024:19:25:58 +0000] \"POST /invocations HTTP/1.1\" 200 9704 \"-\" \"Go-http-client/1.1\"\u001b[0m\n",
      "\u001b[35m[2024-11-12:19:25:58:INFO] Determined delimiter of CSV input is ','\u001b[0m\n",
      "\u001b[35m169.254.255.130 - - [12/Nov/2024:19:25:59 +0000] \"POST /invocations HTTP/1.1\" 200 9747 \"-\" \"Go-http-client/1.1\"\u001b[0m\n",
      "\u001b[35m169.254.255.130 - - [12/Nov/2024:19:25:59 +0000] \"POST /invocations HTTP/1.1\" 200 9729 \"-\" \"Go-http-client/1.1\"\u001b[0m\n",
      "\u001b[35m169.254.255.130 - - [12/Nov/2024:19:25:59 +0000] \"POST /invocations HTTP/1.1\" 200 9705 \"-\" \"Go-http-client/1.1\"\u001b[0m\n",
      "\u001b[35m169.254.255.130 - - [12/Nov/2024:19:25:59 +0000] \"POST /invocations HTTP/1.1\" 200 9739 \"-\" \"Go-http-client/1.1\"\u001b[0m\n",
      "\u001b[35m169.254.255.130 - - [12/Nov/2024:19:25:59 +0000] \"POST /invocations HTTP/1.1\" 200 9730 \"-\" \"Go-http-client/1.1\"\u001b[0m\n",
      "\u001b[34m169.254.255.130 - - [12/Nov/2024:19:25:59 +0000] \"POST /invocations HTTP/1.1\" 200 9168 \"-\" \"Go-http-client/1.1\"\u001b[0m\n",
      "\u001b[34m169.254.255.130 - - [12/Nov/2024:19:25:59 +0000] \"POST /invocations HTTP/1.1\" 200 9732 \"-\" \"Go-http-client/1.1\"\u001b[0m\n",
      "\u001b[35m169.254.255.130 - - [12/Nov/2024:19:25:59 +0000] \"POST /invocations HTTP/1.1\" 200 9168 \"-\" \"Go-http-client/1.1\"\u001b[0m\n",
      "\u001b[35m169.254.255.130 - - [12/Nov/2024:19:25:59 +0000] \"POST /invocations HTTP/1.1\" 200 9732 \"-\" \"Go-http-client/1.1\"\u001b[0m\n",
      "\u001b[32m2024-11-12T19:25:57.739:[sagemaker logs]: MaxConcurrentTransforms=8, MaxPayloadInMB=6, BatchStrategy=MULTI_RECORD\u001b[0m\n",
      "\n"
     ]
    }
   ],
   "source": [
    "xgb_transformer.transform(\n",
    "    data=batch_input,\n",
    "    data_type='S3Prefix',\n",
    "    content_type='text/csv',\n",
    "    split_type='Line',\n",
    "    job_name=transformer_job_name\n",
    ")"
   ]
  },
  {
   "cell_type": "markdown",
   "id": "b4556890",
   "metadata": {},
   "source": [
    "# 阻塞進程"
   ]
  },
  {
   "cell_type": "markdown",
   "id": "03a87a26",
   "metadata": {},
   "source": [
    "這個語句在新版系統中並無效，在舊版系統中用於控制流程，設置 False 用意是等待時不要在控制台輸出日誌"
   ]
  },
  {
   "cell_type": "code",
   "execution_count": 44,
   "id": "9e70d8ef",
   "metadata": {},
   "outputs": [
    {
     "name": "stdout",
     "output_type": "stream",
     "text": [
      "!\n"
     ]
    }
   ],
   "source": [
    "xgb_transformer.wait(logs=False)"
   ]
  },
  {
   "cell_type": "markdown",
   "id": "c3efb7ef",
   "metadata": {},
   "source": [
    "# 下載績效文件"
   ]
  },
  {
   "cell_type": "markdown",
   "id": "1d7fa1dd",
   "metadata": {},
   "source": [
    "輸出形式是二進制字串"
   ]
  },
  {
   "cell_type": "code",
   "execution_count": 46,
   "id": "f4e36757",
   "metadata": {},
   "outputs": [
    {
     "data": {
      "text/plain": [
       "b'0.8042524456977844\\n0.05381881073117256\\n0.6019071340560913\\n0.6807563900947571\\n0.8007111549377441\\n0.25'"
      ]
     },
     "execution_count": 46,
     "metadata": {},
     "output_type": "execute_result"
    }
   ],
   "source": [
    "s3 = boto3.client('s3')\n",
    "obj = s3.get_object(\n",
    "    Bucket=bucket, \n",
    "    Key=f'{prefix}/batch-out/batch-in.csv.out'\n",
    ")\n",
    "# .read() 在讀取後會消耗掉文件的內容\n",
    "# 所以要先一次性將文件內容讀取到變量中才可重複使用\n",
    "file_content = obj['Body'].read()\n",
    "file_content[:100]"
   ]
  },
  {
   "cell_type": "markdown",
   "id": "31e99f89",
   "metadata": {},
   "source": [
    "# 轉換為 DataFrame"
   ]
  },
  {
   "cell_type": "markdown",
   "id": "37764815",
   "metadata": {},
   "source": [
    "儲存在變數 data 中"
   ]
  },
  {
   "cell_type": "code",
   "execution_count": 47,
   "id": "dd149072",
   "metadata": {},
   "outputs": [
    {
     "name": "stdout",
     "output_type": "stream",
     "text": [
      "成功讀取為 CSV 格式如下：\n",
      "   0.8042524456977844\n",
      "0            0.053819\n",
      "1            0.601907\n",
      "2            0.680756\n",
      "3            0.800711\n",
      "4            0.256345\n"
     ]
    }
   ],
   "source": [
    "try:\n",
    "    data = pd.read_csv(\n",
    "        io.BytesIO(file_content), \n",
    "        sep=','\n",
    "    )\n",
    "    print(\"成功讀取為 CSV 格式如下：\")\n",
    "    print(data.head())\n",
    "except Exception as e:\n",
    "    print(\"文件無法以 CSV 格式讀取，錯誤訊息：\", e)\n",
    "    # 可能需要其他方法來讀取，例如使用其他分隔符"
   ]
  },
  {
   "cell_type": "markdown",
   "id": "6429dfe7",
   "metadata": {},
   "source": [
    "# 添加欄位"
   ]
  },
  {
   "cell_type": "code",
   "execution_count": 48,
   "id": "9338ff0e",
   "metadata": {},
   "outputs": [
    {
     "data": {
      "text/html": [
       "<div>\n",
       "<style scoped>\n",
       "    .dataframe tbody tr th:only-of-type {\n",
       "        vertical-align: middle;\n",
       "    }\n",
       "\n",
       "    .dataframe tbody tr th {\n",
       "        vertical-align: top;\n",
       "    }\n",
       "\n",
       "    .dataframe thead th {\n",
       "        text-align: right;\n",
       "    }\n",
       "</style>\n",
       "<table border=\"1\" class=\"dataframe\">\n",
       "  <thead>\n",
       "    <tr style=\"text-align: right;\">\n",
       "      <th></th>\n",
       "      <th>class</th>\n",
       "    </tr>\n",
       "  </thead>\n",
       "  <tbody>\n",
       "    <tr>\n",
       "      <th>0</th>\n",
       "      <td>0.804252</td>\n",
       "    </tr>\n",
       "    <tr>\n",
       "      <th>1</th>\n",
       "      <td>0.053819</td>\n",
       "    </tr>\n",
       "    <tr>\n",
       "      <th>2</th>\n",
       "      <td>0.601907</td>\n",
       "    </tr>\n",
       "    <tr>\n",
       "      <th>3</th>\n",
       "      <td>0.680756</td>\n",
       "    </tr>\n",
       "    <tr>\n",
       "      <th>4</th>\n",
       "      <td>0.800711</td>\n",
       "    </tr>\n",
       "    <tr>\n",
       "      <th>...</th>\n",
       "      <td>...</td>\n",
       "    </tr>\n",
       "    <tr>\n",
       "      <th>4995</th>\n",
       "      <td>0.842964</td>\n",
       "    </tr>\n",
       "    <tr>\n",
       "      <th>4996</th>\n",
       "      <td>0.122265</td>\n",
       "    </tr>\n",
       "    <tr>\n",
       "      <th>4997</th>\n",
       "      <td>0.475704</td>\n",
       "    </tr>\n",
       "    <tr>\n",
       "      <th>4998</th>\n",
       "      <td>0.098467</td>\n",
       "    </tr>\n",
       "    <tr>\n",
       "      <th>4999</th>\n",
       "      <td>0.773739</td>\n",
       "    </tr>\n",
       "  </tbody>\n",
       "</table>\n",
       "<p>5000 rows × 1 columns</p>\n",
       "</div>"
      ],
      "text/plain": [
       "         class\n",
       "0     0.804252\n",
       "1     0.053819\n",
       "2     0.601907\n",
       "3     0.680756\n",
       "4     0.800711\n",
       "...        ...\n",
       "4995  0.842964\n",
       "4996  0.122265\n",
       "4997  0.475704\n",
       "4998  0.098467\n",
       "4999  0.773739\n",
       "\n",
       "[5000 rows x 1 columns]"
      ]
     },
     "execution_count": 48,
     "metadata": {},
     "output_type": "execute_result"
    }
   ],
   "source": [
    "target_predicted = pd.read_csv(\n",
    "    io.BytesIO(file_content),\n",
    "    sep=',',\n",
    "    names=['class']\n",
    ")\n",
    "target_predicted"
   ]
  },
  {
   "cell_type": "markdown",
   "id": "2d6a909f",
   "metadata": {},
   "source": [
    "# 進行二元轉換"
   ]
  },
  {
   "cell_type": "markdown",
   "id": "3528d85e",
   "metadata": {},
   "source": [
    "自訂閾值轉換函數"
   ]
  },
  {
   "cell_type": "code",
   "execution_count": 49,
   "id": "59f50122",
   "metadata": {},
   "outputs": [],
   "source": [
    "def binary_convert(x):\n",
    "    threshold = 0.5\n",
    "    if x > threshold:\n",
    "        return 1\n",
    "    else:\n",
    "        return 0\n"
   ]
  },
  {
   "cell_type": "markdown",
   "id": "4b29e626",
   "metadata": {},
   "source": [
    "# 將資料進行二元轉換"
   ]
  },
  {
   "cell_type": "code",
   "execution_count": 50,
   "id": "06fb67eb",
   "metadata": {},
   "outputs": [
    {
     "data": {
      "text/plain": [
       "0       1\n",
       "1       0\n",
       "2       1\n",
       "3       1\n",
       "4       1\n",
       "       ..\n",
       "4995    1\n",
       "4996    0\n",
       "4997    0\n",
       "4998    0\n",
       "4999    1\n",
       "Name: class, Length: 5000, dtype: int64"
      ]
     },
     "execution_count": 50,
     "metadata": {},
     "output_type": "execute_result"
    }
   ],
   "source": [
    "target_predicted_binary = target_predicted['class'].apply(binary_convert)\n",
    "target_predicted_binary"
   ]
  },
  {
   "cell_type": "markdown",
   "id": "2029f21b",
   "metadata": {},
   "source": [
    "# 調用自訂函數繪製混淆矩陣"
   ]
  },
  {
   "cell_type": "code",
   "execution_count": 51,
   "id": "3d383948",
   "metadata": {},
   "outputs": [
    {
     "data": {
      "image/png": "[encoded data removed]",
      "text/plain": [
       "<Figure size 640x480 with 1 Axes>"
      ]
     },
     "metadata": {},
     "output_type": "display_data"
    }
   ],
   "source": [
    "plot_confusion_matrix(test['label'], target_predicted_binary)"
   ]
  },
  {
   "cell_type": "markdown",
   "id": "bc30d2c9",
   "metadata": {},
   "source": [
    "# 調用自訂函數輸出指標"
   ]
  },
  {
   "cell_type": "markdown",
   "id": "8d9b30ab",
   "metadata": {},
   "source": [
    "提供真實值與預測值計算績效"
   ]
  },
  {
   "cell_type": "code",
   "execution_count": 52,
   "id": "c9247e11",
   "metadata": {},
   "outputs": [
    {
     "name": "stdout",
     "output_type": "stream",
     "text": [
      "敏感性/召回率 (Sensitivity or TPR): 85.4672704816797%\n",
      "特異性 (Specificity or TNR): 79.15208090237262%\n",
      "精確率 (Precision): 79.47932618683001%\n",
      "陰性預測值 (Negative Predictive Value): 85.2177554438861%\n",
      "假陽性率 (False Positive Rate): 20.847919097627383%\n",
      "假陰性率 (False Negative Rate): 14.532729518320298%\n",
      "假發現率 (False Discovery Rate): 20.520673813169985%\n",
      "正確率 (Accuracy): 82.22%\n"
     ]
    }
   ],
   "source": [
    "print_metrics(\n",
    "    test['label'], \n",
    "    target_predicted_binary\n",
    ")"
   ]
  },
  {
   "cell_type": "markdown",
   "id": "505c1296",
   "metadata": {},
   "source": [
    "# 標準化文本"
   ]
  },
  {
   "cell_type": "markdown",
   "id": "44866f1a",
   "metadata": {},
   "source": [
    "從 NLTK 庫獲取停用詞列表"
   ]
  },
  {
   "cell_type": "code",
   "execution_count": 53,
   "id": "22c37108",
   "metadata": {},
   "outputs": [],
   "source": [
    "stop = stopwords.words('english')"
   ]
  },
  {
   "cell_type": "markdown",
   "id": "de2cc955",
   "metadata": {},
   "source": [
    "自訂函數更新停用詞列"
   ]
  },
  {
   "cell_type": "code",
   "execution_count": 54,
   "id": "959a667f",
   "metadata": {},
   "outputs": [
    {
     "data": {
      "text/plain": [
       "['i', 'me', 'my', 'myself', 'we']"
      ]
     },
     "execution_count": 54,
     "metadata": {},
     "output_type": "execute_result"
    }
   ],
   "source": [
    "def remove_stopwords(stopwords):\n",
    "    # 特定停用詞\n",
    "    excluding = ['against', 'not', 'don', 'don\\'t', 'ain', 'are', 'aren\\'t']\n",
    "\n",
    "    # 定義需要排除的詞彙，這些詞將不會被視為停用詞\n",
    "    excluding = [\n",
    "        'against', 'not', 'don', 'don\\'t', 'ain', 'are', 'aren\\'t', 'could',\n",
    "        'couldn\\'t','did', 'didn\\'t', 'does', 'doesn\\'t', 'had', 'hadn\\'t',\n",
    "        'has', 'hasn\\'t', 'have', 'haven\\'t', 'is', 'isn\\'t', 'might',\n",
    "        'mightn\\'t', 'must', 'mustn\\'t', 'need', 'needn\\'t', 'should',\n",
    "        'shouldn\\'t', 'was', 'wasn\\'t', 'were', 'weren\\'t', 'won\\'t',\n",
    "        'would', 'wouldn\\'t'\n",
    "    ]\n",
    "\n",
    "    # 返回移除指定排除詞後的停用詞列表\n",
    "    return [word for word in stop if word not in excluding]\n",
    "\n",
    "# 更新後的停用詞列表\n",
    "stopwords = remove_stopwords(stop)\n",
    "stopwords[:5]"
   ]
  },
  {
   "cell_type": "markdown",
   "id": "d73c412a",
   "metadata": {},
   "source": [
    "# 詞幹還原"
   ]
  },
  {
   "cell_type": "markdown",
   "id": "97e29be6",
   "metadata": {},
   "source": [
    "選用英文詞幹化"
   ]
  },
  {
   "cell_type": "code",
   "execution_count": 55,
   "id": "f595c636",
   "metadata": {},
   "outputs": [],
   "source": [
    "# SnowballStemmer 是 NLTK 的詞幹還原工具\n",
    "snow = SnowballStemmer('english')"
   ]
  },
  {
   "cell_type": "markdown",
   "id": "cb769f00",
   "metadata": {},
   "source": [
    "自定義清理函數"
   ]
  },
  {
   "cell_type": "code",
   "execution_count": 56,
   "id": "bf6f1333",
   "metadata": {},
   "outputs": [],
   "source": [
    "def clean(sent):\n",
    "    # 將句子轉換為小寫，統一字母大小寫\n",
    "    sent = sent.lower()\n",
    "    \n",
    "    # 使用正則表達式移除多餘的空白字符，將連續的空白轉為單一空格\n",
    "    sent = re.sub('\\s+', ' ', sent)\n",
    "    \n",
    "    ### 開始清理過程\n",
    "    # 移除句首和句尾的空白字符\n",
    "    sent = sent.strip()\n",
    "    \n",
    "    # 使用正則表達式移除 HTML 標籤，例如 `<tag>text</tag>` 會被替換為 `text`\n",
    "    sent = re.compile('<.*?>').sub('', sent)\n",
    "    ### 清理結束\n",
    "    \n",
    "    # 初始化一個空的列表，存儲經過篩選和詞幹化處理的單詞\n",
    "    filtered_sentence = []\n",
    "    \n",
    "    # 使用 `word_tokenize` 將句子分割成單詞\n",
    "    for w in word_tokenize(sent):\n",
    "        # 這裡進行自定義的篩選：檢查該單詞是否符合以下條件：\n",
    "        # 1. 不是數字\n",
    "        # 2. 單詞長度大於 2 個字母\n",
    "        # 3. 不在停用詞列表 `stopwords` 中\n",
    "        if (not w.isnumeric()) and (len(w) > 2) and (w not in stopwords):  \n",
    "            # 對符合條件的單詞進行詞幹化處理，並添加到 `filtered_sentence` 列表\n",
    "            filtered_sentence.append(snow.stem(w))\n",
    "    \n",
    "    # 將處理後的單詞列表組合成最終的清理後字串，單詞間以空格分隔\n",
    "    final_string = \" \".join(filtered_sentence) \n",
    "    \n",
    "    # 返回最終清理後的字串\n",
    "    return final_string"
   ]
  },
  {
   "cell_type": "markdown",
   "id": "2ac72090",
   "metadata": {},
   "source": [
    "# 觀察一下當前的 df"
   ]
  },
  {
   "cell_type": "code",
   "execution_count": 57,
   "id": "cfabc0ec",
   "metadata": {},
   "outputs": [
    {
     "data": {
      "text/html": [
       "<div>\n",
       "<style scoped>\n",
       "    .dataframe tbody tr th:only-of-type {\n",
       "        vertical-align: middle;\n",
       "    }\n",
       "\n",
       "    .dataframe tbody tr th {\n",
       "        vertical-align: top;\n",
       "    }\n",
       "\n",
       "    .dataframe thead th {\n",
       "        text-align: right;\n",
       "    }\n",
       "</style>\n",
       "<table border=\"1\" class=\"dataframe\">\n",
       "  <thead>\n",
       "    <tr style=\"text-align: right;\">\n",
       "      <th></th>\n",
       "      <th>timestamp</th>\n",
       "      <th>metric_name</th>\n",
       "      <th>value</th>\n",
       "    </tr>\n",
       "  </thead>\n",
       "  <tbody>\n",
       "    <tr>\n",
       "      <th>0</th>\n",
       "      <td>0.0</td>\n",
       "      <td>train:error</td>\n",
       "      <td>0.20855</td>\n",
       "    </tr>\n",
       "    <tr>\n",
       "      <th>1</th>\n",
       "      <td>0.0</td>\n",
       "      <td>validation:error</td>\n",
       "      <td>0.23550</td>\n",
       "    </tr>\n",
       "  </tbody>\n",
       "</table>\n",
       "</div>"
      ],
      "text/plain": [
       "   timestamp       metric_name    value\n",
       "0        0.0       train:error  0.20855\n",
       "1        0.0  validation:error  0.23550"
      ]
     },
     "execution_count": 57,
     "metadata": {},
     "output_type": "execute_result"
    }
   ],
   "source": [
    "df"
   ]
  },
  {
   "cell_type": "markdown",
   "id": "c513d52e",
   "metadata": {},
   "source": [
    "為求謹慎，重新進行拆分"
   ]
  },
  {
   "cell_type": "code",
   "execution_count": 58,
   "id": "c887bd34",
   "metadata": {},
   "outputs": [
    {
     "ename": "ValueError",
     "evalue": "With n_samples=1, test_size=0.5 and train_size=None, the resulting train set will be empty. Adjust any of the aforementioned parameters.",
     "output_type": "error",
     "traceback": [
      "\u001b[0;31m---------------------------------------------------------------------------\u001b[0m",
      "\u001b[0;31mValueError\u001b[0m                                Traceback (most recent call last)",
      "Cell \u001b[0;32mIn[58], line 1\u001b[0m\n\u001b[0;32m----> 1\u001b[0m train, validate, test \u001b[38;5;241m=\u001b[39m \u001b[43msplit_data\u001b[49m\u001b[43m(\u001b[49m\u001b[43mdf\u001b[49m\u001b[43m)\u001b[49m\n",
      "Cell \u001b[0;32mIn[9], line 19\u001b[0m, in \u001b[0;36msplit_data\u001b[0;34m(df)\u001b[0m\n\u001b[1;32m      7\u001b[0m train, test_and_validate \u001b[38;5;241m=\u001b[39m train_test_split(\n\u001b[1;32m      8\u001b[0m     \u001b[38;5;66;03m# 要分割的資料集\u001b[39;00m\n\u001b[1;32m      9\u001b[0m     df,\n\u001b[0;32m   (...)\u001b[0m\n\u001b[1;32m     15\u001b[0m     random_state\u001b[38;5;241m=\u001b[39m\u001b[38;5;241m324\u001b[39m\n\u001b[1;32m     16\u001b[0m )\n\u001b[1;32m     18\u001b[0m \u001b[38;5;66;03m# 將 `測試集` 再分割為 `測試集` 和 `驗證集`\u001b[39;00m\n\u001b[0;32m---> 19\u001b[0m test, validate \u001b[38;5;241m=\u001b[39m \u001b[43mtrain_test_split\u001b[49m\u001b[43m(\u001b[49m\n\u001b[1;32m     20\u001b[0m \u001b[43m    \u001b[49m\u001b[38;5;66;43;03m# 要分割的資料集\u001b[39;49;00m\n\u001b[1;32m     21\u001b[0m \u001b[43m    \u001b[49m\u001b[43mtest_and_validate\u001b[49m\u001b[43m,\u001b[49m\n\u001b[1;32m     22\u001b[0m \u001b[43m    \u001b[49m\u001b[38;5;66;43;03m# 將集合分割兩部分各佔 `50%`，即測試和驗證各佔整體 `10%`\u001b[39;49;00m\n\u001b[1;32m     23\u001b[0m \u001b[43m    \u001b[49m\u001b[43mtest_size\u001b[49m\u001b[38;5;241;43m=\u001b[39;49m\u001b[38;5;241;43m0.5\u001b[39;49m\u001b[43m,\u001b[49m\n\u001b[1;32m     24\u001b[0m \u001b[43m    \u001b[49m\u001b[43mshuffle\u001b[49m\u001b[38;5;241;43m=\u001b[39;49m\u001b[38;5;28;43;01mTrue\u001b[39;49;00m\u001b[43m,\u001b[49m\n\u001b[1;32m     25\u001b[0m \u001b[43m    \u001b[49m\u001b[43mrandom_state\u001b[49m\u001b[38;5;241;43m=\u001b[39;49m\u001b[38;5;241;43m324\u001b[39;49m\n\u001b[1;32m     26\u001b[0m \u001b[43m\u001b[49m\u001b[43m)\u001b[49m\n\u001b[1;32m     27\u001b[0m \u001b[38;5;66;03m# 返回三個子集\u001b[39;00m\n\u001b[1;32m     28\u001b[0m \u001b[38;5;28;01mreturn\u001b[39;00m train, validate, test\n",
      "File \u001b[0;32m~/anaconda3/envs/python3/lib/python3.10/site-packages/sklearn/utils/_param_validation.py:213\u001b[0m, in \u001b[0;36mvalidate_params.<locals>.decorator.<locals>.wrapper\u001b[0;34m(*args, **kwargs)\u001b[0m\n\u001b[1;32m    207\u001b[0m \u001b[38;5;28;01mtry\u001b[39;00m:\n\u001b[1;32m    208\u001b[0m     \u001b[38;5;28;01mwith\u001b[39;00m config_context(\n\u001b[1;32m    209\u001b[0m         skip_parameter_validation\u001b[38;5;241m=\u001b[39m(\n\u001b[1;32m    210\u001b[0m             prefer_skip_nested_validation \u001b[38;5;129;01mor\u001b[39;00m global_skip_validation\n\u001b[1;32m    211\u001b[0m         )\n\u001b[1;32m    212\u001b[0m     ):\n\u001b[0;32m--> 213\u001b[0m         \u001b[38;5;28;01mreturn\u001b[39;00m \u001b[43mfunc\u001b[49m\u001b[43m(\u001b[49m\u001b[38;5;241;43m*\u001b[39;49m\u001b[43margs\u001b[49m\u001b[43m,\u001b[49m\u001b[43m \u001b[49m\u001b[38;5;241;43m*\u001b[39;49m\u001b[38;5;241;43m*\u001b[39;49m\u001b[43mkwargs\u001b[49m\u001b[43m)\u001b[49m\n\u001b[1;32m    214\u001b[0m \u001b[38;5;28;01mexcept\u001b[39;00m InvalidParameterError \u001b[38;5;28;01mas\u001b[39;00m e:\n\u001b[1;32m    215\u001b[0m     \u001b[38;5;66;03m# When the function is just a wrapper around an estimator, we allow\u001b[39;00m\n\u001b[1;32m    216\u001b[0m     \u001b[38;5;66;03m# the function to delegate validation to the estimator, but we replace\u001b[39;00m\n\u001b[1;32m    217\u001b[0m     \u001b[38;5;66;03m# the name of the estimator by the name of the function in the error\u001b[39;00m\n\u001b[1;32m    218\u001b[0m     \u001b[38;5;66;03m# message to avoid confusion.\u001b[39;00m\n\u001b[1;32m    219\u001b[0m     msg \u001b[38;5;241m=\u001b[39m re\u001b[38;5;241m.\u001b[39msub(\n\u001b[1;32m    220\u001b[0m         \u001b[38;5;124mr\u001b[39m\u001b[38;5;124m\"\u001b[39m\u001b[38;5;124mparameter of \u001b[39m\u001b[38;5;124m\\\u001b[39m\u001b[38;5;124mw+ must be\u001b[39m\u001b[38;5;124m\"\u001b[39m,\n\u001b[1;32m    221\u001b[0m         \u001b[38;5;124mf\u001b[39m\u001b[38;5;124m\"\u001b[39m\u001b[38;5;124mparameter of \u001b[39m\u001b[38;5;132;01m{\u001b[39;00mfunc\u001b[38;5;241m.\u001b[39m\u001b[38;5;18m__qualname__\u001b[39m\u001b[38;5;132;01m}\u001b[39;00m\u001b[38;5;124m must be\u001b[39m\u001b[38;5;124m\"\u001b[39m,\n\u001b[1;32m    222\u001b[0m         \u001b[38;5;28mstr\u001b[39m(e),\n\u001b[1;32m    223\u001b[0m     )\n",
      "File \u001b[0;32m~/anaconda3/envs/python3/lib/python3.10/site-packages/sklearn/model_selection/_split.py:2785\u001b[0m, in \u001b[0;36mtrain_test_split\u001b[0;34m(test_size, train_size, random_state, shuffle, stratify, *arrays)\u001b[0m\n\u001b[1;32m   2782\u001b[0m arrays \u001b[38;5;241m=\u001b[39m indexable(\u001b[38;5;241m*\u001b[39marrays)\n\u001b[1;32m   2784\u001b[0m n_samples \u001b[38;5;241m=\u001b[39m _num_samples(arrays[\u001b[38;5;241m0\u001b[39m])\n\u001b[0;32m-> 2785\u001b[0m n_train, n_test \u001b[38;5;241m=\u001b[39m \u001b[43m_validate_shuffle_split\u001b[49m\u001b[43m(\u001b[49m\n\u001b[1;32m   2786\u001b[0m \u001b[43m    \u001b[49m\u001b[43mn_samples\u001b[49m\u001b[43m,\u001b[49m\u001b[43m \u001b[49m\u001b[43mtest_size\u001b[49m\u001b[43m,\u001b[49m\u001b[43m \u001b[49m\u001b[43mtrain_size\u001b[49m\u001b[43m,\u001b[49m\u001b[43m \u001b[49m\u001b[43mdefault_test_size\u001b[49m\u001b[38;5;241;43m=\u001b[39;49m\u001b[38;5;241;43m0.25\u001b[39;49m\n\u001b[1;32m   2787\u001b[0m \u001b[43m\u001b[49m\u001b[43m)\u001b[49m\n\u001b[1;32m   2789\u001b[0m \u001b[38;5;28;01mif\u001b[39;00m shuffle \u001b[38;5;129;01mis\u001b[39;00m \u001b[38;5;28;01mFalse\u001b[39;00m:\n\u001b[1;32m   2790\u001b[0m     \u001b[38;5;28;01mif\u001b[39;00m stratify \u001b[38;5;129;01mis\u001b[39;00m \u001b[38;5;129;01mnot\u001b[39;00m \u001b[38;5;28;01mNone\u001b[39;00m:\n",
      "File \u001b[0;32m~/anaconda3/envs/python3/lib/python3.10/site-packages/sklearn/model_selection/_split.py:2415\u001b[0m, in \u001b[0;36m_validate_shuffle_split\u001b[0;34m(n_samples, test_size, train_size, default_test_size)\u001b[0m\n\u001b[1;32m   2412\u001b[0m n_train, n_test \u001b[38;5;241m=\u001b[39m \u001b[38;5;28mint\u001b[39m(n_train), \u001b[38;5;28mint\u001b[39m(n_test)\n\u001b[1;32m   2414\u001b[0m \u001b[38;5;28;01mif\u001b[39;00m n_train \u001b[38;5;241m==\u001b[39m \u001b[38;5;241m0\u001b[39m:\n\u001b[0;32m-> 2415\u001b[0m     \u001b[38;5;28;01mraise\u001b[39;00m \u001b[38;5;167;01mValueError\u001b[39;00m(\n\u001b[1;32m   2416\u001b[0m         \u001b[38;5;124m\"\u001b[39m\u001b[38;5;124mWith n_samples=\u001b[39m\u001b[38;5;132;01m{}\u001b[39;00m\u001b[38;5;124m, test_size=\u001b[39m\u001b[38;5;132;01m{}\u001b[39;00m\u001b[38;5;124m and train_size=\u001b[39m\u001b[38;5;132;01m{}\u001b[39;00m\u001b[38;5;124m, the \u001b[39m\u001b[38;5;124m\"\u001b[39m\n\u001b[1;32m   2417\u001b[0m         \u001b[38;5;124m\"\u001b[39m\u001b[38;5;124mresulting train set will be empty. Adjust any of the \u001b[39m\u001b[38;5;124m\"\u001b[39m\n\u001b[1;32m   2418\u001b[0m         \u001b[38;5;124m\"\u001b[39m\u001b[38;5;124maforementioned parameters.\u001b[39m\u001b[38;5;124m\"\u001b[39m\u001b[38;5;241m.\u001b[39mformat(n_samples, test_size, train_size)\n\u001b[1;32m   2419\u001b[0m     )\n\u001b[1;32m   2421\u001b[0m \u001b[38;5;28;01mreturn\u001b[39;00m n_train, n_test\n",
      "\u001b[0;31mValueError\u001b[0m: With n_samples=1, test_size=0.5 and train_size=None, the resulting train set will be empty. Adjust any of the aforementioned parameters."
     ]
    }
   ],
   "source": [
    "train, validate, test = split_data(df)"
   ]
  },
  {
   "cell_type": "code",
   "execution_count": null,
   "id": "94de89df",
   "metadata": {},
   "outputs": [],
   "source": [
    "print(train.shape)\n",
    "print(test.shape)\n",
    "print(validate.shape)"
   ]
  },
  {
   "cell_type": "markdown",
   "id": "49cb7cd8",
   "metadata": {},
   "source": [
    "# 建立管道"
   ]
  },
  {
   "cell_type": "markdown",
   "id": "49214ba1",
   "metadata": {},
   "source": [
    "設定特徵與目標欄位"
   ]
  },
  {
   "cell_type": "code",
   "execution_count": null,
   "id": "8d727d30",
   "metadata": {},
   "outputs": [],
   "source": [
    "# 設定文本特徵的欄位名稱\n",
    "text_features = ['text']\n",
    "# 設定目標欄位名稱\n",
    "model_target = 'label'"
   ]
  },
  {
   "cell_type": "markdown",
   "id": "f0d1b5b7",
   "metadata": {},
   "source": [
    "建立轉換管道"
   ]
  },
  {
   "cell_type": "code",
   "execution_count": null,
   "id": "d1363cc1",
   "metadata": {},
   "outputs": [],
   "source": [
    "text_processor_0 = Pipeline([(\n",
    "    # 命名任務\n",
    "    'text_vect_0', \n",
    "    # 進行文本向量化，並使用 clean 函數作為預處理器\n",
    "    CountVectorizer(\n",
    "        preprocessor=clean, \n",
    "        max_features=500\n",
    "    )\n",
    ")])\n",
    "text_processor_0"
   ]
  },
  {
   "cell_type": "markdown",
   "id": "041515d1",
   "metadata": {},
   "source": [
    "定義數據處理的欄位轉換器"
   ]
  },
  {
   "cell_type": "code",
   "execution_count": null,
   "id": "3a57d32e",
   "metadata": {},
   "outputs": [],
   "source": [
    "data_preprocessor = ColumnTransformer([(\n",
    "    # 命名\n",
    "    'text_pre_0',\n",
    "    # 指定轉換管道，就是前一個步驟建立的\n",
    "    text_processor_0, \n",
    "    # 要轉換的欄位名稱\n",
    "    text_features[0]\n",
    ")])\n",
    "data_preprocessor"
   ]
  },
  {
   "cell_type": "markdown",
   "id": "928048c6",
   "metadata": {},
   "source": [
    "# 輸出之前需要排除可能的錯誤"
   ]
  },
  {
   "cell_type": "code",
   "execution_count": null,
   "id": "60e62f79",
   "metadata": {},
   "outputs": [],
   "source": [
    "import os\n",
    "import nltk\n",
    "import zipfile\n",
    "import urllib.request\n",
    "\n",
    "# 定義 punkt 資源的下載 URL\n",
    "punkt_url = \"https://github.com/nltk/nltk_data/raw/gh-pages/packages/tokenizers/punkt.zip\"\n",
    "\n",
    "# 定義下載和解壓縮的目標資料夾\n",
    "nltk_data_path = \"/home/ec2-user/SageMaker/nltk_data/tokenizers\"\n",
    "punkt_zip_path = os.path.join(nltk_data_path, \"punkt.zip\")\n",
    "\n",
    "# 檢查目標資料夾是否存在，若不存在則建立\n",
    "if not os.path.exists(nltk_data_path):\n",
    "    os.makedirs(nltk_data_path)\n",
    "\n",
    "# 下載 punkt.zip\n",
    "print(\"正在下載 punkt.zip...\")\n",
    "urllib.request.urlretrieve(punkt_url, punkt_zip_path)\n",
    "print(\"下載完成！\")\n",
    "\n",
    "# 解壓縮 punkt.zip 到指定資料夾\n",
    "with zipfile.ZipFile(punkt_zip_path, \"r\") as zip_ref:\n",
    "    zip_ref.extractall(nltk_data_path)\n",
    "print(\"解壓縮完成！\")\n",
    "\n",
    "# 刪除下載的 zip 文件\n",
    "os.remove(punkt_zip_path)\n",
    "print(\"punkt 資源已成功下載並解壓縮到 NLTK 資料夾中！\")\n",
    "\n",
    "# 確保 NLTK 可以找到新的資源\n",
    "nltk.data.path.append('/home/ec2-user/SageMaker/nltk_data')\n",
    "\n",
    "import nltk\n",
    "\n",
    "# 檢查 nltk_data 的目錄路徑\n",
    "print(\"目前 NLTK 資源路徑：\")\n",
    "for path in nltk.data.path:\n",
    "    print(path)\n",
    "\n",
    "# 嘗試載入 punkt 資源進行檢查\n",
    "try:\n",
    "    nltk.data.find(\"tokenizers/punkt\")\n",
    "    print(\"punkt 資源配置成功，可以正常載入！\")\n",
    "except LookupError:\n",
    "    print(\"punkt 資源未找到，請確認下載和配置路徑。\")\n",
    "\n"
   ]
  },
  {
   "cell_type": "markdown",
   "id": "7c9216f9",
   "metadata": {},
   "source": [
    "輸出"
   ]
  },
  {
   "cell_type": "code",
   "execution_count": null,
   "id": "c4739a60",
   "metadata": {},
   "outputs": [],
   "source": [
    "import re\n",
    "\n",
    "# 顯示數據集在處理前的形狀（列數和行數）\n",
    "print(\n",
    "    '轉換前資料的 shapes：', \n",
    "    train.shape, \n",
    "    validate.shape, \n",
    "    test.shape\n",
    ")\n",
    "\n",
    "# 對訓練數據集進行欄位轉換並向量化\n",
    "train_matrix = data_preprocessor.fit_transform(train)\n",
    "# 對測試數據集進行欄位轉換並向量化\n",
    "test_matrix = data_preprocessor.transform(test)\n",
    "# 對驗證數據集進行欄位轉換並向量化\n",
    "validate_matrix = data_preprocessor.transform(validate)\n",
    "\n",
    "# 顯示數據集在處理後的形狀（列數和行數），以確認轉換後的數據形狀變化\n",
    "print(\n",
    "    '轉換後資料的 shapes：', \n",
    "    train_matrix.shape, \n",
    "    validate_matrix.shape, \n",
    "    test_matrix.shape\n",
    ")\n"
   ]
  },
  {
   "cell_type": "code",
   "execution_count": null,
   "id": "66340b15",
   "metadata": {},
   "outputs": [],
   "source": []
  },
  {
   "cell_type": "code",
   "execution_count": null,
   "id": "28c5e916",
   "metadata": {},
   "outputs": [],
   "source": []
  }
 ],
 "metadata": {
  "kernelspec": {
   "display_name": "conda_python3",
   "language": "python",
   "name": "conda_python3"
  },
  "language_info": {
   "codemirror_mode": {
    "name": "ipython",
    "version": 3
   },
   "file_extension": ".py",
   "mimetype": "text/x-python",
   "name": "python",
   "nbconvert_exporter": "python",
   "pygments_lexer": "ipython3",
   "version": "3.10.15"
  }
 },
 "nbformat": 4,
 "nbformat_minor": 5
}
