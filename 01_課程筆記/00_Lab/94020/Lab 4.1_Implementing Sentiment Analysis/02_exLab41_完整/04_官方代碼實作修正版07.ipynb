{
 "cells": [
  {
   "cell_type": "markdown",
   "id": "f3267ba5",
   "metadata": {},
   "source": [
    "_以下代碼是在 Sagemaker 中運行，所以要先上傳腳本_"
   ]
  },
  {
   "cell_type": "markdown",
   "id": "6edcbfdc",
   "metadata": {},
   "source": [
    "# 安裝套件"
   ]
  },
  {
   "cell_type": "code",
   "execution_count": 1,
   "id": "41dcb2c8",
   "metadata": {},
   "outputs": [],
   "source": [
    "%%capture\n",
    "!python -m pip install --upgrade pip boto3 scikit-learn sagemaker nltk seaborn"
   ]
  },
  {
   "cell_type": "markdown",
   "id": "f4d32854",
   "metadata": {},
   "source": [
    "# 魔法方法\n",
    "\n",
    "%%capture 隱藏輸出"
   ]
  },
  {
   "cell_type": "markdown",
   "id": "ae901da5",
   "metadata": {},
   "source": [
    "# 快速鍵\n",
    "\n",
    "DD 刪除當前 Cell\n",
    "\n",
    "A 在當前 Cell 上方添加 Cell\n",
    "\n",
    "B 在當前 Cell 下方添加 Cell\n",
    "\n",
    "C 複製當前 Cell\n",
    "\n",
    "V 貼上複製的 Cell\n",
    "\n",
    "M 將當前 Cell 轉換為 Markdown\n",
    "\n",
    "Y 將當前 Cell 轉換為 Python Code Cell"
   ]
  },
  {
   "cell_type": "markdown",
   "id": "4ca5164c",
   "metadata": {},
   "source": [
    "# 查詢帳號"
   ]
  },
  {
   "cell_type": "markdown",
   "id": "00bf0984",
   "metadata": {},
   "source": [
    "這僅僅是個習慣，用以確認當前使用的帳號"
   ]
  },
  {
   "cell_type": "code",
   "execution_count": 2,
   "id": "f3007b84",
   "metadata": {},
   "outputs": [
    {
     "name": "stdout",
     "output_type": "stream",
     "text": [
      "當前的 Account ID: 211125745218\n"
     ]
    }
   ],
   "source": [
    "import boto3\n",
    "\n",
    "# 初始化 STS 客戶端\n",
    "sts_client = boto3.client('sts')\n",
    "\n",
    "# 取得當前帳戶的 Account ID\n",
    "account_id = sts_client.get_caller_identity()[\"Account\"]\n",
    "print(\"當前的 Account ID:\", account_id)"
   ]
  },
  {
   "cell_type": "markdown",
   "id": "5cfd0b48",
   "metadata": {},
   "source": [
    "# 導入庫"
   ]
  },
  {
   "cell_type": "markdown",
   "id": "78d56191",
   "metadata": {},
   "source": [
    "在 .ipynb 腳本中，可依據區段需求導入庫"
   ]
  },
  {
   "cell_type": "code",
   "execution_count": 3,
   "id": "7e0c3435",
   "metadata": {},
   "outputs": [
    {
     "name": "stderr",
     "output_type": "stream",
     "text": [
      "Matplotlib is building the font cache; this may take a moment.\n"
     ]
    }
   ],
   "source": [
    "import boto3\n",
    "import os, io, struct\n",
    "import numpy as np\n",
    "import pandas as pd\n",
    "from sklearn.metrics import (\n",
    "    roc_auc_score, roc_curve, auc, confusion_matrix\n",
    ")\n",
    "import seaborn as sns\n",
    "import matplotlib.pyplot as plt\n",
    "from datetime import datetime\n",
    "import re\n",
    "import nltk"
   ]
  },
  {
   "cell_type": "markdown",
   "id": "4696d5d7",
   "metadata": {},
   "source": [
    "# 下載 NLTK 資料集"
   ]
  },
  {
   "cell_type": "markdown",
   "id": "245d9c6a",
   "metadata": {},
   "source": [
    "NLTK 會檢查這些路徑是否存在指定的資源"
   ]
  },
  {
   "cell_type": "code",
   "execution_count": 4,
   "id": "6b95809b",
   "metadata": {},
   "outputs": [
    {
     "name": "stderr",
     "output_type": "stream",
     "text": [
      "[nltk_data] Downloading package punkt to /home/ec2-user/nltk_data...\n",
      "[nltk_data]   Unzipping tokenizers/punkt.zip.\n",
      "[nltk_data] Downloading package punkt_tab to\n",
      "[nltk_data]     /home/ec2-user/nltk_data...\n",
      "[nltk_data]   Unzipping tokenizers/punkt_tab.zip.\n",
      "[nltk_data] Downloading package stopwords to\n",
      "[nltk_data]     /home/ec2-user/nltk_data...\n",
      "[nltk_data]   Unzipping corpora/stopwords.zip.\n",
      "[nltk_data] Downloading package averaged_perceptron_tagger to\n",
      "[nltk_data]     /home/ec2-user/nltk_data...\n",
      "[nltk_data]   Unzipping taggers/averaged_perceptron_tagger.zip.\n",
      "[nltk_data] Downloading package wordnet to /home/ec2-user/nltk_data...\n"
     ]
    },
    {
     "data": {
      "text/plain": [
       "True"
      ]
     },
     "execution_count": 4,
     "metadata": {},
     "output_type": "execute_result"
    }
   ],
   "source": [
    "nltk.download('punkt')\n",
    "nltk.download('punkt_tab')\n",
    "nltk.download('stopwords')\n",
    "nltk.download('averaged_perceptron_tagger')\n",
    "nltk.download('wordnet')"
   ]
  },
  {
   "cell_type": "markdown",
   "id": "4dbf1bd7",
   "metadata": {},
   "source": [
    "# 自訂輔助函數"
   ]
  },
  {
   "cell_type": "markdown",
   "id": "4169bb75",
   "metadata": {},
   "source": [
    "繪製混淆矩陣"
   ]
  },
  {
   "cell_type": "code",
   "execution_count": 5,
   "id": "1ade5a44",
   "metadata": {},
   "outputs": [],
   "source": [
    "def plot_confusion_matrix(test_labels, target_predicted):\n",
    "    matrix = confusion_matrix(test_labels, target_predicted)\n",
    "    df_confusion = pd.DataFrame(matrix)\n",
    "    colormap = sns.color_palette(\"BrBG\", 10)\n",
    "    sns.heatmap(df_confusion, annot=True, fmt='.2f', cbar=None, cmap=colormap)\n",
    "    plt.title(\"Confusion Matrix\")\n",
    "    plt.tight_layout()\n",
    "    plt.ylabel(\"True Class\")\n",
    "    plt.xlabel(\"Predicted Class\")\n",
    "    plt.show()"
   ]
  },
  {
   "cell_type": "markdown",
   "id": "595b98d8",
   "metadata": {},
   "source": [
    "輸出績效指標，評估模型的分類效果，並計算各種分類指標"
   ]
  },
  {
   "cell_type": "code",
   "execution_count": 6,
   "id": "23566c55",
   "metadata": {},
   "outputs": [],
   "source": [
    "def print_metrics(test_labels, target_predicted_binary):\n",
    "    # 調用 sklearn 的函數\n",
    "    TN, FP, FN, TP = confusion_matrix(test_labels, target_predicted_binary).ravel()\n",
    "    '''依據混淆矩陣四個向量的值進行以下運算'''\n",
    "    # Sensitivity, hit rate, recall, or true positive rate\n",
    "    Sensitivity  = float(TP)/(TP+FN)*100\n",
    "    # Specificity or true negative rate\n",
    "    Specificity  = float(TN)/(TN+FP)*100\n",
    "    # Precision or positive predictive value\n",
    "    Precision = float(TP)/(TP+FP)*100\n",
    "    # Negative predictive value\n",
    "    NPV = float(TN)/(TN+FN)*100\n",
    "    # Fall out or false positive rate\n",
    "    FPR = float(FP)/(FP+TN)*100\n",
    "    # False negative rate\n",
    "    FNR = float(FN)/(TP+FN)*100\n",
    "    # False discovery rate\n",
    "    FDR = float(FP)/(TP+FP)*100\n",
    "    # Overall accuracy\n",
    "    ACC = float(TP+TN)/(TP+FP+FN+TN)*100\n",
    "\n",
    "    '''\n",
    "    # 官方原始代碼\n",
    "    print(f\"Sensitivity or TPR: {Sensitivity}%\")    \n",
    "    print(f\"Specificity or TNR: {Specificity}%\") \n",
    "    print(f\"Precision: {Precision}%\")   \n",
    "    print(f\"Negative Predictive Value: {NPV}%\")  \n",
    "    print( f\"False Positive Rate: {FPR}%\") \n",
    "    print(f\"False Negative Rate: {FNR}%\")  \n",
    "    print(f\"False Discovery Rate: {FDR}%\" )\n",
    "    print(f\"Accuracy: {ACC}%\") \n",
    "    '''\n",
    "    # 便於閱讀\n",
    "    print(f\"敏感性/召回率 (Sensitivity or TPR): {Sensitivity}%\")    \n",
    "    print(f\"特異性 (Specificity or TNR): {Specificity}%\") \n",
    "    print(f\"精確率 (Precision): {Precision}%\")   \n",
    "    print(f\"陰性預測值 (Negative Predictive Value): {NPV}%\")  \n",
    "    print(f\"假陽性率 (False Positive Rate): {FPR}%\") \n",
    "    print(f\"假陰性率 (False Negative Rate): {FNR}%\")  \n",
    "    print(f\"假發現率 (False Discovery Rate): {FDR}%\")\n",
    "    print(f\"正確率 (Accuracy): {ACC}%\") \n"
   ]
  },
  {
   "cell_type": "markdown",
   "id": "8fbc0b08",
   "metadata": {},
   "source": [
    "# 讀取資料"
   ]
  },
  {
   "cell_type": "markdown",
   "id": "ab57724e",
   "metadata": {},
   "source": [
    "Lab 中是預先準備好的，在本地腳本筆記中已改寫為從網路取得"
   ]
  },
  {
   "cell_type": "code",
   "execution_count": 7,
   "id": "d11a1224",
   "metadata": {},
   "outputs": [
    {
     "data": {
      "text/html": [
       "<div>\n",
       "<style scoped>\n",
       "    .dataframe tbody tr th:only-of-type {\n",
       "        vertical-align: middle;\n",
       "    }\n",
       "\n",
       "    .dataframe tbody tr th {\n",
       "        vertical-align: top;\n",
       "    }\n",
       "\n",
       "    .dataframe thead th {\n",
       "        text-align: right;\n",
       "    }\n",
       "</style>\n",
       "<table border=\"1\" class=\"dataframe\">\n",
       "  <thead>\n",
       "    <tr style=\"text-align: right;\">\n",
       "      <th></th>\n",
       "      <th>text</th>\n",
       "      <th>label</th>\n",
       "    </tr>\n",
       "  </thead>\n",
       "  <tbody>\n",
       "    <tr>\n",
       "      <th>0</th>\n",
       "      <td>What I hoped for (or even expected) was the we...</td>\n",
       "      <td>0</td>\n",
       "    </tr>\n",
       "    <tr>\n",
       "      <th>1</th>\n",
       "      <td>Garden State must rate amongst the most contri...</td>\n",
       "      <td>0</td>\n",
       "    </tr>\n",
       "    <tr>\n",
       "      <th>2</th>\n",
       "      <td>There is a lot wrong with this film. I will no...</td>\n",
       "      <td>1</td>\n",
       "    </tr>\n",
       "    <tr>\n",
       "      <th>3</th>\n",
       "      <td>To qualify my use of \"realistic\" in the summar...</td>\n",
       "      <td>1</td>\n",
       "    </tr>\n",
       "    <tr>\n",
       "      <th>4</th>\n",
       "      <td>Dirty War is absolutely one of the best politi...</td>\n",
       "      <td>1</td>\n",
       "    </tr>\n",
       "    <tr>\n",
       "      <th>...</th>\n",
       "      <td>...</td>\n",
       "      <td>...</td>\n",
       "    </tr>\n",
       "    <tr>\n",
       "      <th>49995</th>\n",
       "      <td>You do not get more dark or tragic than \"Othel...</td>\n",
       "      <td>1</td>\n",
       "    </tr>\n",
       "    <tr>\n",
       "      <th>49996</th>\n",
       "      <td>Wow probable the worst movie i have ever seen!...</td>\n",
       "      <td>0</td>\n",
       "    </tr>\n",
       "    <tr>\n",
       "      <th>49997</th>\n",
       "      <td>Have not watched kids films for some years, so...</td>\n",
       "      <td>0</td>\n",
       "    </tr>\n",
       "    <tr>\n",
       "      <th>49998</th>\n",
       "      <td>Pickup on South Street (1953), directed by mov...</td>\n",
       "      <td>1</td>\n",
       "    </tr>\n",
       "    <tr>\n",
       "      <th>49999</th>\n",
       "      <td>The first half of the film is OK, the second h...</td>\n",
       "      <td>0</td>\n",
       "    </tr>\n",
       "  </tbody>\n",
       "</table>\n",
       "<p>50000 rows × 2 columns</p>\n",
       "</div>"
      ],
      "text/plain": [
       "                                                    text  label\n",
       "0      What I hoped for (or even expected) was the we...      0\n",
       "1      Garden State must rate amongst the most contri...      0\n",
       "2      There is a lot wrong with this film. I will no...      1\n",
       "3      To qualify my use of \"realistic\" in the summar...      1\n",
       "4      Dirty War is absolutely one of the best politi...      1\n",
       "...                                                  ...    ...\n",
       "49995  You do not get more dark or tragic than \"Othel...      1\n",
       "49996  Wow probable the worst movie i have ever seen!...      0\n",
       "49997  Have not watched kids films for some years, so...      0\n",
       "49998  Pickup on South Street (1953), directed by mov...      1\n",
       "49999  The first half of the film is OK, the second h...      0\n",
       "\n",
       "[50000 rows x 2 columns]"
      ]
     },
     "execution_count": 7,
     "metadata": {},
     "output_type": "execute_result"
    }
   ],
   "source": [
    "df = pd.read_csv('data/imdb.csv', header=0)\n",
    "df"
   ]
  },
  {
   "cell_type": "markdown",
   "id": "3193e1a2",
   "metadata": {},
   "source": [
    "在 .ipynb 中，使用 df 作為變數時，避免被覆蓋，可先進行備份"
   ]
  },
  {
   "cell_type": "code",
   "execution_count": 114,
   "id": "8c38d141",
   "metadata": {},
   "outputs": [],
   "source": [
    "_df_main_backup = df"
   ]
  },
  {
   "cell_type": "markdown",
   "id": "4d32a461",
   "metadata": {},
   "source": [
    "# 載入庫"
   ]
  },
  {
   "cell_type": "markdown",
   "id": "17003007",
   "metadata": {},
   "source": [
    "NLTK 相關庫"
   ]
  },
  {
   "cell_type": "code",
   "execution_count": 8,
   "id": "a813e635",
   "metadata": {},
   "outputs": [],
   "source": [
    "# 停用詞（stopwords），用於移除對文本處理無幫助的常見詞彙\n",
    "from nltk.corpus import stopwords\n",
    "# 用於詞幹化處理，將詞語還原為其基本形式\n",
    "from nltk.stem import SnowballStemmer\n",
    "# 詞語切割，用於將句子分割成可以處理的詞彙單位\n",
    "from nltk.tokenize import word_tokenize"
   ]
  },
  {
   "cell_type": "markdown",
   "id": "ac900a77",
   "metadata": {},
   "source": [
    "# 自訂義拆分資料集的函數"
   ]
  },
  {
   "cell_type": "markdown",
   "id": "b28dcd06",
   "metadata": {},
   "source": [
    "`sklearn` 提供的 `train_test_split` 函數不會改變資料的索引，分割後的資料集會保留原始資料的索引值"
   ]
  },
  {
   "cell_type": "code",
   "execution_count": 9,
   "id": "25a76a6b",
   "metadata": {},
   "outputs": [],
   "source": [
    "# train_test_split 用於資料集的分割\n",
    "from sklearn.model_selection import train_test_split\n",
    "\n",
    "def split_data(df):\n",
    "\n",
    "    # 將資料集分割為訓練集、測試、驗證集\n",
    "    train, test_and_validate = train_test_split(\n",
    "        # 要分割的資料集\n",
    "        df,\n",
    "        # 這是 `測試+驗證` 的比例\n",
    "        test_size=0.2,\n",
    "        # 分割前是否隨機打亂資料\n",
    "        shuffle=True,\n",
    "        # 設定隨機種子，這可用於重現分割結果\n",
    "        random_state=324\n",
    "    )\n",
    "    \n",
    "    # 將 `測試集` 再分割為 `測試集` 和 `驗證集`\n",
    "    test, validate = train_test_split(\n",
    "        # 要分割的資料集\n",
    "        test_and_validate,\n",
    "        # 將集合分割兩部分各佔 `50%`，即測試和驗證各佔整體 `10%`\n",
    "        test_size=0.5,\n",
    "        shuffle=True,\n",
    "        random_state=324\n",
    "    )\n",
    "    # 返回三個子集\n",
    "    return train, validate, test"
   ]
  },
  {
   "cell_type": "markdown",
   "id": "f9878994",
   "metadata": {},
   "source": [
    "# 分拆資料集"
   ]
  },
  {
   "cell_type": "code",
   "execution_count": 10,
   "id": "86c696f4",
   "metadata": {},
   "outputs": [],
   "source": [
    "train, validate, test = split_data(df)"
   ]
  },
  {
   "cell_type": "markdown",
   "id": "c48146b5",
   "metadata": {},
   "source": [
    "# 查看分拆後的資料集"
   ]
  },
  {
   "cell_type": "markdown",
   "id": "2ee8223d",
   "metadata": {},
   "source": [
    "資料只有兩個欄位，最前面的是原始資料索引，不是欄位"
   ]
  },
  {
   "cell_type": "code",
   "execution_count": 11,
   "id": "9cb79f36",
   "metadata": {},
   "outputs": [
    {
     "name": "stdout",
     "output_type": "stream",
     "text": [
      "Train Dataset:\n",
      "                                                    text  label\n",
      "29572  Caught this movie on the tube on a Sunday. I t...      0\n",
      "42816  Seeing as Keifer Sutherland plays my favorite ...      1\n",
      "15853  Stan as a bullfighter, and a good one, is quit...      1\n",
      "38282  Ok so I was bored and I watched it all the way...      0\n",
      "36321  This can't be Mandy Schaffer's last film. Some...      0\n",
      "\n",
      "Validate Dataset:\n",
      "                                                    text  label\n",
      "21391  I've loved this movie since I was a little kid...      1\n",
      "48119  This was a complete disappointment. The acting...      0\n",
      "49328  Interesting film about an actual event that to...      0\n",
      "4339   This is by far the most vapid, idiotic, insane...      0\n",
      "34891  I enjoyed it. In general, I'm not a fan of com...      1\n",
      "\n",
      "Test Dataset:\n",
      "                                                    text  label\n",
      "16591  This is a charming movie starring everyone's f...      1\n",
      "21931  I really should have learned more about this m...      0\n",
      "22143  There have been several comments already on th...      1\n",
      "1133   My wife and I struggle to find movies like thi...      1\n",
      "10413  Basil Rathbone and Nigel Bruce return as Sherl...      1\n"
     ]
    }
   ],
   "source": [
    "# 列出每個資料集的前五筆資料\n",
    "print(\"訓練集 Train Dataset:\")\n",
    "print(train.head())\n",
    "\n",
    "print(\"\\n驗證集 Validate Dataset:\")\n",
    "print(validate.head())\n",
    "\n",
    "print(\"\\n測試集 Test Dataset:\")\n",
    "print(test.head())"
   ]
  },
  {
   "cell_type": "markdown",
   "id": "cb6e1f0a",
   "metadata": {},
   "source": [
    "# 導入庫"
   ]
  },
  {
   "cell_type": "markdown",
   "id": "6cec0c7b",
   "metadata": {},
   "source": [
    "sklearn 相關庫"
   ]
  },
  {
   "cell_type": "code",
   "execution_count": 12,
   "id": "719b440b",
   "metadata": {},
   "outputs": [],
   "source": [
    "# 詞頻向量轉換器，將文字數據轉換成特徵矩陣\n",
    "from sklearn.feature_extraction.text import CountVectorizer\n",
    "# 建立管道，用於將多個處理步驟串聯\n",
    "from sklearn.pipeline import Pipeline\n",
    "# 欄位轉換器，用於選擇和轉換特定的列\n",
    "from sklearn.compose import ColumnTransformer"
   ]
  },
  {
   "cell_type": "markdown",
   "id": "5fdbd4a3",
   "metadata": {},
   "source": [
    "# 查看數據"
   ]
  },
  {
   "cell_type": "markdown",
   "id": "3bcd27b3",
   "metadata": {},
   "source": [
    "轉換前的數據維度，第二個輸出是欄位數"
   ]
  },
  {
   "cell_type": "code",
   "execution_count": 13,
   "id": "8c34424d",
   "metadata": {},
   "outputs": [
    {
     "name": "stdout",
     "output_type": "stream",
     "text": [
      "轉換前的 shapes： (40000, 2) (5000, 2) (5000, 2)\n"
     ]
    }
   ],
   "source": [
    "print('轉換前的 shapes：', train.shape, validate.shape, test.shape)"
   ]
  },
  {
   "cell_type": "markdown",
   "id": "31862e24",
   "metadata": {},
   "source": [
    "# 建立管道"
   ]
  },
  {
   "cell_type": "code",
   "execution_count": 14,
   "id": "2da9503e",
   "metadata": {},
   "outputs": [],
   "source": [
    "# 指定要處理的文本特徵欄位名稱\n",
    "text_features = ['text']\n",
    "model_target = 'label'\n",
    "\n",
    "# 建立文本處理管道\n",
    "text_processor_0 = Pipeline([\n",
    "    ('text_vect_0', CountVectorizer(max_features=500))\n",
    "])"
   ]
  },
  {
   "cell_type": "markdown",
   "id": "c8ca3f9b",
   "metadata": {},
   "source": [
    "# 建立欄位轉換器"
   ]
  },
  {
   "cell_type": "code",
   "execution_count": 15,
   "id": "2bca9584",
   "metadata": {},
   "outputs": [],
   "source": [
    "data_preprocessor = ColumnTransformer([(\n",
    "    'text_pre_0', \n",
    "    text_processor_0, \n",
    "    text_features[0]\n",
    ")])"
   ]
  },
  {
   "cell_type": "markdown",
   "id": "093a9691",
   "metadata": {},
   "source": [
    "# 開始轉換"
   ]
  },
  {
   "cell_type": "markdown",
   "id": "a287c30c",
   "metadata": {},
   "source": [
    "對數據集進行擬合與轉換，轉換就是轉換為矩陣提供機器學習使用"
   ]
  },
  {
   "cell_type": "code",
   "execution_count": 16,
   "id": "9017f295",
   "metadata": {},
   "outputs": [
    {
     "name": "stdout",
     "output_type": "stream",
     "text": [
      "開始進行數據轉換 ...\n"
     ]
    },
    {
     "data": {
      "text/plain": [
       "<Compressed Sparse Row sparse matrix of dtype 'int64'\n",
       "\twith 3019796 stored elements and shape (40000, 500)>"
      ]
     },
     "execution_count": 16,
     "metadata": {},
     "output_type": "execute_result"
    }
   ],
   "source": [
    "print(\"開始進行數據轉換 ...\")\n",
    "train_matrix = data_preprocessor.fit_transform(train)\n",
    "train_matrix"
   ]
  },
  {
   "cell_type": "markdown",
   "id": "7f0b6951",
   "metadata": {},
   "source": [
    "對測試集與驗證集進行轉換，不會再次擬合"
   ]
  },
  {
   "cell_type": "code",
   "execution_count": 17,
   "id": "724aea16",
   "metadata": {},
   "outputs": [
    {
     "data": {
      "text/plain": [
       "<Compressed Sparse Row sparse matrix of dtype 'int64'\n",
       "\twith 375287 stored elements and shape (5000, 500)>"
      ]
     },
     "execution_count": 17,
     "metadata": {},
     "output_type": "execute_result"
    }
   ],
   "source": [
    "test_matrix = data_preprocessor.transform(test)\n",
    "test_matrix"
   ]
  },
  {
   "cell_type": "code",
   "execution_count": 18,
   "id": "8938d2a3",
   "metadata": {},
   "outputs": [
    {
     "data": {
      "text/plain": [
       "<Compressed Sparse Row sparse matrix of dtype 'int64'\n",
       "\twith 382058 stored elements and shape (5000, 500)>"
      ]
     },
     "execution_count": 18,
     "metadata": {},
     "output_type": "execute_result"
    }
   ],
   "source": [
    "validate_matrix = data_preprocessor.transform(validate)\n",
    "validate_matrix"
   ]
  },
  {
   "cell_type": "code",
   "execution_count": 19,
   "id": "65c46d4c",
   "metadata": {},
   "outputs": [
    {
     "name": "stdout",
     "output_type": "stream",
     "text": [
      "轉換完成，轉換後的 shape： (40000, 500) (5000, 500) (5000, 500)\n"
     ]
    }
   ],
   "source": [
    "print(\n",
    "    '轉換完成，轉換後的 shape：', \n",
    "    train_matrix.shape, \n",
    "    validate_matrix.shape, \n",
    "    test_matrix.shape\n",
    ")"
   ]
  },
  {
   "cell_type": "markdown",
   "id": "c601d7b0",
   "metadata": {},
   "source": [
    "# 寫入 S3"
   ]
  },
  {
   "cell_type": "markdown",
   "id": "ba8b728a",
   "metadata": {},
   "source": [
    "自訂寫入 S3 的函數"
   ]
  },
  {
   "cell_type": "code",
   "execution_count": 20,
   "id": "b27fd62c",
   "metadata": {},
   "outputs": [],
   "source": [
    "# 建立 S3 資源層接口\n",
    "s3_resource = boto3.Session().resource('s3')\n",
    "\n",
    "def upload_s3_csv(filename, folder, X_train, y_train, is_test=False):\n",
    "    csv_buffer = io.StringIO()\n",
    "    features = [t.toarray().astype('float32').flatten().tolist() for t in X_train]\n",
    "    if is_test:\n",
    "        temp_list = features\n",
    "    else:\n",
    "        temp_list = np.insert(features, 0, y_train['label'], axis=1)\n",
    "        \n",
    "    np.savetxt(csv_buffer, temp_list, delimiter=',' )\n",
    "    \n",
    "    s3_resource.Bucket(bucket).Object(os.path.join(prefix, folder, filename)).put(Body=csv_buffer.getvalue())"
   ]
  },
  {
   "cell_type": "markdown",
   "id": "2e805fe8",
   "metadata": {},
   "source": [
    "# 取得 bucket 名稱"
   ]
  },
  {
   "cell_type": "code",
   "execution_count": 21,
   "id": "f8b9451d",
   "metadata": {},
   "outputs": [
    {
     "name": "stdout",
     "output_type": "stream",
     "text": [
      "包含 'labbucket' 的 S3 Bucket： c133864a3391494l8261467t1w211125745218-labbucket-3nrevct3iags\n",
      "當前使用的 bucket：\n"
     ]
    },
    {
     "data": {
      "text/plain": [
       "'c133864a3391494l8261467t1w211125745218-labbucket-3nrevct3iags'"
      ]
     },
     "execution_count": 21,
     "metadata": {},
     "output_type": "execute_result"
    }
   ],
   "source": [
    "# 初始化 S3 客戶端接口\n",
    "s3_client = boto3.client('s3')\n",
    "\n",
    "# 列出所有 S3 buckets 並篩選名稱包含 'labbucket' 的\n",
    "try:\n",
    "    response = s3_client.list_buckets()\n",
    "    # 只取出第一個名稱包含 'labbucket' 的 S3 bucket，若無則返回 None\n",
    "    bucket_name = next((bucket['Name'] for bucket in response['Buckets'] if 'labbucket' in bucket['Name']), None)\n",
    "\n",
    "    # 顯示結果\n",
    "    if bucket_name:\n",
    "        print(\"包含 'labbucket' 的 S3 Bucket：\", bucket_name)\n",
    "    else:\n",
    "        print(\"找不到包含 'labbucket' 的 S3 Bucket。\")\n",
    "except Exception as e:\n",
    "    print(f\"發生錯誤: {e}\")\n",
    "\n",
    "# 配合官方範例，將命名為 `bucket`\n",
    "bucket = bucket_name\n",
    "print(\"當前使用的 bucket：\")\n",
    "bucket"
   ]
  },
  {
   "cell_type": "markdown",
   "id": "ebc567c6",
   "metadata": {},
   "source": [
    "# 建立路徑名稱"
   ]
  },
  {
   "cell_type": "markdown",
   "id": "27259c7a",
   "metadata": {},
   "source": [
    "檔名與範例相同，路徑添加尾綴 `_new`"
   ]
  },
  {
   "cell_type": "code",
   "execution_count": 22,
   "id": "7a738740",
   "metadata": {},
   "outputs": [],
   "source": [
    "prefix='lab41_new'\n",
    "train_file='train-pass1.csv'\n",
    "validate_file='validate-pass1.csv'\n",
    "test_file='test-pass1.csv'"
   ]
  },
  {
   "cell_type": "markdown",
   "id": "de340f65",
   "metadata": {},
   "source": [
    "# 上傳到 S3"
   ]
  },
  {
   "cell_type": "code",
   "execution_count": 23,
   "id": "2f04ca13",
   "metadata": {},
   "outputs": [],
   "source": [
    "upload_s3_csv(train_file, 'train', train_matrix, train)\n",
    "upload_s3_csv(validate_file, 'validate', validate_matrix, validate)\n",
    "upload_s3_csv(test_file, 'test', test_matrix, test, True)"
   ]
  },
  {
   "cell_type": "markdown",
   "id": "174f204c",
   "metadata": {},
   "source": [
    "# 查看上傳結果"
   ]
  },
  {
   "cell_type": "markdown",
   "id": "58c4c34f",
   "metadata": {},
   "source": [
    "自訂函數查看 S3"
   ]
  },
  {
   "cell_type": "code",
   "execution_count": 24,
   "id": "46a9a210",
   "metadata": {},
   "outputs": [],
   "source": [
    "def list_s3_structure(bucket_name, prefix='', level=0):\n",
    "    s3_client = boto3.client('s3')\n",
    "    result = s3_client.list_objects_v2(\n",
    "        Bucket=bucket_name, Prefix=prefix, Delimiter='/'\n",
    "    )\n",
    "    # 根據層級縮進\n",
    "    indent = '    ' * level\n",
    "    has_content = False\n",
    "\n",
    "    # 列出資料夾\n",
    "    if 'CommonPrefixes' in result:\n",
    "        has_content = True\n",
    "        for folder in result['CommonPrefixes']:\n",
    "            # 顯示資料夾名稱\n",
    "            print(\n",
    "                f\"{indent}📁 {folder['Prefix'].split('/')[-2]}\"\n",
    "            )\n",
    "            # 遞歸列出子資料夾\n",
    "            list_s3_structure(\n",
    "                bucket_name, \n",
    "                prefix=folder['Prefix'], \n",
    "                level=level + 1\n",
    "            )\n",
    "\n",
    "    # 列出文件\n",
    "    if 'Contents' in result:\n",
    "        has_content = True\n",
    "        for file in result['Contents']:\n",
    "            # 避免重複顯示資料夾的 key\n",
    "            if file['Key'] != prefix:\n",
    "                # 顯示文件名稱\n",
    "                print(f\"{indent}📄 {file['Key'].split('/')[-1]}\")\n",
    "\n",
    "    # 如果沒有內容，則輸出通知\n",
    "    if not has_content and level == 0:\n",
    "        print(f\"Bucket '{bucket_name}' 中沒有任何內容。\")\n"
   ]
  },
  {
   "cell_type": "markdown",
   "id": "d1d80935",
   "metadata": {},
   "source": [
    "# 查看指定 Bucket"
   ]
  },
  {
   "cell_type": "code",
   "execution_count": 25,
   "id": "aa9a9a66",
   "metadata": {},
   "outputs": [
    {
     "name": "stdout",
     "output_type": "stream",
     "text": [
      "📁 lab41_new\n",
      "    📁 test\n",
      "        📄 test-pass1.csv\n",
      "    📁 train\n",
      "        📄 train-pass1.csv\n",
      "    📁 validate\n",
      "        📄 validate-pass1.csv\n"
     ]
    }
   ],
   "source": [
    "list_s3_structure(bucket_name)"
   ]
  },
  {
   "cell_type": "markdown",
   "id": "b4dc5f0d",
   "metadata": {},
   "source": [
    "# 訓練模型"
   ]
  },
  {
   "cell_type": "markdown",
   "id": "4168b55a",
   "metadata": {},
   "source": [
    "設定模型"
   ]
  },
  {
   "cell_type": "code",
   "execution_count": 26,
   "id": "2cdbc808",
   "metadata": {},
   "outputs": [
    {
     "name": "stdout",
     "output_type": "stream",
     "text": [
      "sagemaker.config INFO - Not applying SDK defaults from location: /etc/xdg/sagemaker/config.yaml\n",
      "sagemaker.config INFO - Not applying SDK defaults from location: /home/ec2-user/.config/sagemaker/config.yaml\n"
     ]
    }
   ],
   "source": [
    "import sagemaker\n",
    "from sagemaker.image_uris import retrieve\n",
    "\n",
    "# 取得容器\n",
    "container = retrieve('xgboost',boto3.Session().region_name,'1.0-1')\n",
    "# 定義輸出路徑\n",
    "s3_output_location=f's3://{bucket}/{prefix}/output/'\n",
    "# 超參數\n",
    "hyperparams={\n",
    "    \"num_round\":\"42\",\n",
    "    \"eval_metric\": \"error\",\n",
    "    \"objective\": \"binary:logistic\",\n",
    "    \"silent\" : 1\n",
    "}"
   ]
  },
  {
   "cell_type": "markdown",
   "id": "c5f495f5",
   "metadata": {},
   "source": [
    "建立估計器"
   ]
  },
  {
   "cell_type": "code",
   "execution_count": 27,
   "id": "9f716e2a",
   "metadata": {},
   "outputs": [],
   "source": [
    "xgb_model=sagemaker.estimator.Estimator(\n",
    "    container,\n",
    "    role=sagemaker.get_execution_role(),\n",
    "    instance_count=1,\n",
    "    instance_type='ml.m5.2xlarge',\n",
    "    output_path=s3_output_location,\n",
    "    hyperparameters=hyperparams,\n",
    "    sagemaker_session=sagemaker.Session()\n",
    ")"
   ]
  },
  {
   "cell_type": "markdown",
   "id": "5ce157d4",
   "metadata": {},
   "source": [
    "設定輸入管道"
   ]
  },
  {
   "cell_type": "code",
   "execution_count": 28,
   "id": "83993d30",
   "metadata": {},
   "outputs": [],
   "source": [
    "train_channel = sagemaker.inputs.TrainingInput(\n",
    "    f's3://{bucket}/{prefix}/train/{train_file}',\n",
    "    content_type='text/csv')\n",
    "\n",
    "validate_channel = sagemaker.inputs.TrainingInput(\n",
    "    f's3://{bucket}/{prefix}/validate/{validate_file}',\n",
    "    content_type='text/csv')\n",
    "\n",
    "# 組合管道\n",
    "data_channels = {\n",
    "    'train': train_channel,\n",
    "    'validation': validate_channel\n",
    "}"
   ]
  },
  {
   "cell_type": "markdown",
   "id": "0888825b",
   "metadata": {},
   "source": [
    "定義訓練名稱"
   ]
  },
  {
   "cell_type": "code",
   "execution_count": 29,
   "id": "9d62678d",
   "metadata": {},
   "outputs": [
    {
     "data": {
      "text/plain": [
       "'xgb-pass1-11-14-2024-03-12-04'"
      ]
     },
     "execution_count": 29,
     "metadata": {},
     "output_type": "execute_result"
    }
   ],
   "source": [
    "training_job_name = 'xgb-pass1-'+datetime.now().strftime(\"%m-%d-%Y-%H-%M-%S\")\n",
    "training_job_name"
   ]
  },
  {
   "cell_type": "markdown",
   "id": "dd432f8c",
   "metadata": {},
   "source": [
    "開始訓練"
   ]
  },
  {
   "cell_type": "code",
   "execution_count": 30,
   "id": "248a9b3e",
   "metadata": {},
   "outputs": [
    {
     "name": "stderr",
     "output_type": "stream",
     "text": [
      "INFO:sagemaker:Creating training-job with name: xgb-pass1-11-14-2024-03-12-04\n"
     ]
    },
    {
     "name": "stdout",
     "output_type": "stream",
     "text": [
      "\n",
      "2024-11-14 03:12:05 Starting - Starting the training job..\n",
      "2024-11-14 03:12:20 Starting - Preparing the instances for training.....\n",
      "2024-11-14 03:12:51 Downloading - Downloading input data....\n",
      "2024-11-14 03:13:16 Downloading - Downloading the training image.....\n",
      "2024-11-14 03:13:47 Training - Training image download completed. Training in progress.......\n",
      "2024-11-14 03:14:22 Uploading - Uploading generated training model\n",
      "2024-11-14 03:14:30 Completed - Training job completed\n"
     ]
    }
   ],
   "source": [
    "xgb_model.fit(\n",
    "    inputs=data_channels, \n",
    "    logs=False, \n",
    "    job_name=training_job_name\n",
    ")"
   ]
  },
  {
   "cell_type": "markdown",
   "id": "be1e3fb3",
   "metadata": {},
   "source": [
    "# 查看績效指標"
   ]
  },
  {
   "cell_type": "code",
   "execution_count": 31,
   "id": "d8b59898",
   "metadata": {},
   "outputs": [
    {
     "data": {
      "text/plain": [
       "<sagemaker.TrainingJobAnalytics for xgb-pass1-11-14-2024-03-12-04>"
      ]
     },
     "execution_count": 31,
     "metadata": {},
     "output_type": "execute_result"
    }
   ],
   "source": [
    "_resulr_analytic = sagemaker.analytics.TrainingJobAnalytics(\n",
    "    xgb_model._current_job_name, \n",
    "    metric_names = ['train:error','validation:error']\n",
    ")\n",
    "_resulr_analytic"
   ]
  },
  {
   "cell_type": "markdown",
   "id": "7cf58daf",
   "metadata": {},
   "source": [
    "# 輸出為 df"
   ]
  },
  {
   "cell_type": "code",
   "execution_count": 32,
   "id": "b76cfe69",
   "metadata": {},
   "outputs": [
    {
     "data": {
      "text/html": [
       "<div>\n",
       "<style scoped>\n",
       "    .dataframe tbody tr th:only-of-type {\n",
       "        vertical-align: middle;\n",
       "    }\n",
       "\n",
       "    .dataframe tbody tr th {\n",
       "        vertical-align: top;\n",
       "    }\n",
       "\n",
       "    .dataframe thead th {\n",
       "        text-align: right;\n",
       "    }\n",
       "</style>\n",
       "<table border=\"1\" class=\"dataframe\">\n",
       "  <thead>\n",
       "    <tr style=\"text-align: right;\">\n",
       "      <th></th>\n",
       "      <th>timestamp</th>\n",
       "      <th>metric_name</th>\n",
       "      <th>value</th>\n",
       "    </tr>\n",
       "  </thead>\n",
       "  <tbody>\n",
       "    <tr>\n",
       "      <th>0</th>\n",
       "      <td>0.0</td>\n",
       "      <td>train:error</td>\n",
       "      <td>0.20855</td>\n",
       "    </tr>\n",
       "    <tr>\n",
       "      <th>1</th>\n",
       "      <td>0.0</td>\n",
       "      <td>validation:error</td>\n",
       "      <td>0.23550</td>\n",
       "    </tr>\n",
       "  </tbody>\n",
       "</table>\n",
       "</div>"
      ],
      "text/plain": [
       "   timestamp       metric_name    value\n",
       "0        0.0       train:error  0.20855\n",
       "1        0.0  validation:error  0.23550"
      ]
     },
     "execution_count": 32,
     "metadata": {},
     "output_type": "execute_result"
    }
   ],
   "source": [
    "df_analytic = _resulr_analytic.dataframe()\n",
    "df_analytic"
   ]
  },
  {
   "cell_type": "markdown",
   "id": "315284a3",
   "metadata": {},
   "source": [
    "# 上傳文件到 S3"
   ]
  },
  {
   "cell_type": "markdown",
   "id": "1c25098c",
   "metadata": {},
   "source": [
    "調用自訂函數上傳"
   ]
  },
  {
   "cell_type": "code",
   "execution_count": 33,
   "id": "6557881d",
   "metadata": {},
   "outputs": [],
   "source": [
    "upload_s3_csv(\n",
    "    'batch-in.csv', \n",
    "    'batch-in', \n",
    "    test_matrix, \n",
    "    test, \n",
    "    True\n",
    ")"
   ]
  },
  {
   "cell_type": "markdown",
   "id": "601576f8",
   "metadata": {},
   "source": [
    "查看 S3 Bucket 的結構"
   ]
  },
  {
   "cell_type": "code",
   "execution_count": 34,
   "id": "72e98079",
   "metadata": {},
   "outputs": [
    {
     "name": "stdout",
     "output_type": "stream",
     "text": [
      "📁 lab41_new\n",
      "    📁 batch-in\n",
      "        📄 batch-in.csv\n",
      "    📁 output\n",
      "        📁 xgb-pass1-11-14-2024-03-12-04\n",
      "            📁 debug-output\n",
      "                📁 collections\n",
      "                    📁 000000000\n",
      "                        📄 worker_0_collections.json\n",
      "                📁 events\n",
      "                    📁 000000000000\n",
      "                        📄 000000000000_worker_0.tfevents\n",
      "                    📁 000000000010\n",
      "                        📄 000000000010_worker_0.tfevents\n",
      "                    📁 000000000020\n",
      "                        📄 000000000020_worker_0.tfevents\n",
      "                    📁 000000000030\n",
      "                        📄 000000000030_worker_0.tfevents\n",
      "                    📁 000000000040\n",
      "                        📄 000000000040_worker_0.tfevents\n",
      "                📁 index\n",
      "                    📁 000000000\n",
      "                        📄 000000000000_worker_0.json\n",
      "                        📄 000000000010_worker_0.json\n",
      "                        📄 000000000020_worker_0.json\n",
      "                        📄 000000000030_worker_0.json\n",
      "                        📄 000000000040_worker_0.json\n",
      "                📄 claim.smd\n",
      "                📄 training_job_end.ts\n",
      "            📁 output\n",
      "                📄 model.tar.gz\n",
      "            📁 profiler-output\n",
      "                📁 framework\n",
      "                    📄 training_job_end.ts\n",
      "                📁 system\n",
      "                    📁 incremental\n",
      "                        📁 2024111403\n",
      "                            📄 1731553920.algo-1.json\n",
      "                            📄 1731553980.algo-1.json\n",
      "                            📄 1731554040.algo-1.json\n",
      "                    📄 training_job_end.ts\n",
      "    📁 test\n",
      "        📄 test-pass1.csv\n",
      "    📁 train\n",
      "        📄 train-pass1.csv\n",
      "    📁 validate\n",
      "        📄 validate-pass1.csv\n"
     ]
    }
   ],
   "source": [
    "list_s3_structure(bucket_name)"
   ]
  },
  {
   "cell_type": "markdown",
   "id": "30b97abb",
   "metadata": {},
   "source": [
    "# 建立轉換器"
   ]
  },
  {
   "cell_type": "markdown",
   "id": "9189ff47",
   "metadata": {},
   "source": [
    "建立路徑"
   ]
  },
  {
   "cell_type": "code",
   "execution_count": 35,
   "id": "886ee4fd",
   "metadata": {},
   "outputs": [],
   "source": [
    "batch_X_file='batch-in.csv'\n",
    "batch_output = f's3://{bucket}/{prefix}/batch-out/'\n",
    "batch_input = f's3://{bucket}/{prefix}/batch-in/{batch_X_file}'"
   ]
  },
  {
   "cell_type": "markdown",
   "id": "f4fa3fc8",
   "metadata": {},
   "source": [
    "建立轉換器，也稱為 `批次推理器`、`批次推理實例`"
   ]
  },
  {
   "cell_type": "code",
   "execution_count": 36,
   "id": "1890153c",
   "metadata": {},
   "outputs": [
    {
     "name": "stderr",
     "output_type": "stream",
     "text": [
      "INFO:sagemaker:Creating model with name: sagemaker-xgboost-2024-11-14-03-14-34-574\n"
     ]
    }
   ],
   "source": [
    "xgb_transformer = xgb_model.transformer(\n",
    "    instance_count=1,\n",
    "    instance_type='ml.m5.2xlarge',\n",
    "    strategy='MultiRecord',\n",
    "    assemble_with='Line',\n",
    "    output_path=batch_output\n",
    ")"
   ]
  },
  {
   "cell_type": "markdown",
   "id": "e857ca8d",
   "metadata": {},
   "source": [
    "取得自動生成的模型名稱"
   ]
  },
  {
   "cell_type": "code",
   "execution_count": 37,
   "id": "e954611e",
   "metadata": {},
   "outputs": [
    {
     "data": {
      "text/plain": [
       "'sagemaker-xgboost-2024-11-14-03-14-34-574'"
      ]
     },
     "execution_count": 37,
     "metadata": {},
     "output_type": "execute_result"
    }
   ],
   "source": [
    "model_name = xgb_transformer.model_name\n",
    "model_name"
   ]
  },
  {
   "cell_type": "markdown",
   "id": "855130af",
   "metadata": {},
   "source": [
    "# 轉換 Job"
   ]
  },
  {
   "cell_type": "markdown",
   "id": "0d8cd036",
   "metadata": {},
   "source": [
    "建立 job 名稱"
   ]
  },
  {
   "cell_type": "code",
   "execution_count": 38,
   "id": "b37f4529",
   "metadata": {},
   "outputs": [
    {
     "data": {
      "text/plain": [
       "'sagemaker-xgboost-2024-11-14-03-14-34-574-20241114031435'"
      ]
     },
     "execution_count": 38,
     "metadata": {},
     "output_type": "execute_result"
    }
   ],
   "source": [
    "# 使用 timestamp 作為後綴\n",
    "timestamp = datetime.now().strftime('%Y%m%d%H%M%S')\n",
    "\n",
    "# 合成轉換 Job 名稱\n",
    "transformer_job_name = f\"{model_name}-{timestamp}\"\n",
    "transformer_job_name"
   ]
  },
  {
   "cell_type": "markdown",
   "id": "f86cdf0f",
   "metadata": {},
   "source": [
    "開始轉換，可能需要五分鐘，轉換完成才會輸出日誌"
   ]
  },
  {
   "cell_type": "code",
   "execution_count": 39,
   "id": "05dc2ed5",
   "metadata": {},
   "outputs": [
    {
     "name": "stderr",
     "output_type": "stream",
     "text": [
      "INFO:sagemaker:Creating transform job with name: sagemaker-xgboost-2024-11-14-03-14-34-574-20241114031435\n"
     ]
    },
    {
     "name": "stdout",
     "output_type": "stream",
     "text": [
      "..................................\u001b[34m[2024-11-14:03:20:16:INFO] No GPUs detected (normal if no gpus installed)\u001b[0m\n",
      "\u001b[34m[2024-11-14:03:20:16:INFO] No GPUs detected (normal if no gpus installed)\u001b[0m\n",
      "\u001b[34m[2024-11-14:03:20:16:INFO] nginx config: \u001b[0m\n",
      "\u001b[34mworker_processes auto;\u001b[0m\n",
      "\u001b[34mdaemon off;\u001b[0m\n",
      "\u001b[34mpid /tmp/nginx.pid;\u001b[0m\n",
      "\u001b[34merror_log  /dev/stderr;\u001b[0m\n",
      "\u001b[34mworker_rlimit_nofile 4096;\u001b[0m\n",
      "\u001b[34mevents {\n",
      "  worker_connections 2048;\u001b[0m\n",
      "\u001b[34m}\u001b[0m\n",
      "\u001b[34mhttp {\n",
      "  include /etc/nginx/mime.types;\n",
      "  default_type application/octet-stream;\n",
      "  access_log /dev/stdout combined;\n",
      "  upstream gunicorn {\n",
      "    server unix:/tmp/gunicorn.sock;\n",
      "  }\n",
      "  server {\n",
      "    listen 8080 deferred;\n",
      "    client_max_body_size 0;\n",
      "    keepalive_timeout 3;\n",
      "    location ~ ^/(ping|invocations|execution-parameters) {\n",
      "      proxy_set_header X-Forwarded-For $proxy_add_x_forwarded_for;\n",
      "      proxy_set_header Host $http_host;\n",
      "      proxy_redirect off;\n",
      "      proxy_read_timeout 60s;\n",
      "      proxy_pass http://gunicorn;\n",
      "    }\n",
      "    location / {\n",
      "      return 404 \"{}\";\n",
      "    }\n",
      "  }\u001b[0m\n",
      "\u001b[34m}\u001b[0m\n",
      "\u001b[34m[2024-11-14 03:20:16 +0000] [27] [INFO] Starting gunicorn 19.10.0\u001b[0m\n",
      "\u001b[34m[2024-11-14 03:20:16 +0000] [27] [INFO] Listening at: unix:/tmp/gunicorn.sock (27)\u001b[0m\n",
      "\u001b[34m[2024-11-14 03:20:16 +0000] [27] [INFO] Using worker: gevent\u001b[0m\n",
      "\u001b[34m[2024-11-14 03:20:16 +0000] [38] [INFO] Booting worker with pid: 38\u001b[0m\n",
      "\u001b[34m[2024-11-14 03:20:16 +0000] [39] [INFO] Booting worker with pid: 39\u001b[0m\n",
      "\u001b[34m[2024-11-14 03:20:16 +0000] [40] [INFO] Booting worker with pid: 40\u001b[0m\n",
      "\u001b[34m[2024-11-14 03:20:16 +0000] [41] [INFO] Booting worker with pid: 41\u001b[0m\n",
      "\u001b[34m[2024-11-14 03:20:16 +0000] [49] [INFO] Booting worker with pid: 49\u001b[0m\n",
      "\u001b[34m[2024-11-14 03:20:16 +0000] [51] [INFO] Booting worker with pid: 51\u001b[0m\n",
      "\u001b[34m[2024-11-14 03:20:16 +0000] [50] [INFO] Booting worker with pid: 50\u001b[0m\n",
      "\u001b[34m[2024-11-14 03:20:16 +0000] [52] [INFO] Booting worker with pid: 52\u001b[0m\n",
      "\u001b[34m[2024-11-14:03:20:21:INFO] No GPUs detected (normal if no gpus installed)\u001b[0m\n",
      "\u001b[34m169.254.255.130 - - [14/Nov/2024:03:20:21 +0000] \"GET /ping HTTP/1.1\" 200 0 \"-\" \"Go-http-client/1.1\"\u001b[0m\n",
      "\u001b[34m[2024-11-14:03:20:21:INFO] No GPUs detected (normal if no gpus installed)\u001b[0m\n",
      "\u001b[34m169.254.255.130 - - [14/Nov/2024:03:20:21 +0000] \"GET /execution-parameters HTTP/1.1\" 200 84 \"-\" \"Go-http-client/1.1\"\u001b[0m\n",
      "\u001b[34m[2024-11-14:03:20:21:INFO] No GPUs detected (normal if no gpus installed)\u001b[0m\n",
      "\u001b[34m[2024-11-14:03:20:21:INFO] Determined delimiter of CSV input is ','\u001b[0m\n",
      "\u001b[34m[2024-11-14:03:20:21:INFO] No GPUs detected (normal if no gpus installed)\u001b[0m\n",
      "\u001b[34m[2024-11-14:03:20:21:INFO] Determined delimiter of CSV input is ','\u001b[0m\n",
      "\u001b[34m[2024-11-14:03:20:21:INFO] Determined delimiter of CSV input is ','\u001b[0m\n",
      "\u001b[34m[2024-11-14:03:20:21:INFO] No GPUs detected (normal if no gpus installed)\u001b[0m\n",
      "\u001b[34m[2024-11-14:03:20:21:INFO] Determined delimiter of CSV input is ','\u001b[0m\n",
      "\u001b[34m[2024-11-14:03:20:21:INFO] No GPUs detected (normal if no gpus installed)\u001b[0m\n",
      "\u001b[34m[2024-11-14:03:20:21:INFO] Determined delimiter of CSV input is ','\u001b[0m\n",
      "\u001b[34m[2024-11-14:03:20:21:INFO] No GPUs detected (normal if no gpus installed)\u001b[0m\n",
      "\u001b[34m[2024-11-14:03:20:21:INFO] Determined delimiter of CSV input is ','\u001b[0m\n",
      "\u001b[34m[2024-11-14:03:20:21:INFO] Determined delimiter of CSV input is ','\u001b[0m\n",
      "\u001b[34m169.254.255.130 - - [14/Nov/2024:03:20:22 +0000] \"POST /invocations HTTP/1.1\" 200 9704 \"-\" \"Go-http-client/1.1\"\u001b[0m\n",
      "\u001b[34m169.254.255.130 - - [14/Nov/2024:03:20:22 +0000] \"POST /invocations HTTP/1.1\" 200 9711 \"-\" \"Go-http-client/1.1\"\u001b[0m\n",
      "\u001b[34m169.254.255.130 - - [14/Nov/2024:03:20:22 +0000] \"POST /invocations HTTP/1.1\" 200 9711 \"-\" \"Go-http-client/1.1\"\u001b[0m\n",
      "\u001b[34m169.254.255.130 - - [14/Nov/2024:03:20:22 +0000] \"POST /invocations HTTP/1.1\" 200 9747 \"-\" \"Go-http-client/1.1\"\u001b[0m\n",
      "\u001b[34m169.254.255.130 - - [14/Nov/2024:03:20:22 +0000] \"POST /invocations HTTP/1.1\" 200 9705 \"-\" \"Go-http-client/1.1\"\u001b[0m\n",
      "\u001b[34m[2024-11-14:03:20:22:INFO] Determined delimiter of CSV input is ','\u001b[0m\n",
      "\u001b[34m[2024-11-14:03:20:22:INFO] Determined delimiter of CSV input is ','\u001b[0m\n",
      "\u001b[34m169.254.255.130 - - [14/Nov/2024:03:20:22 +0000] \"POST /invocations HTTP/1.1\" 200 9739 \"-\" \"Go-http-client/1.1\"\u001b[0m\n",
      "\u001b[34m169.254.255.130 - - [14/Nov/2024:03:20:22 +0000] \"POST /invocations HTTP/1.1\" 200 9732 \"-\" \"Go-http-client/1.1\"\u001b[0m\n",
      "\u001b[34m169.254.255.130 - - [14/Nov/2024:03:20:22 +0000] \"POST /invocations HTTP/1.1\" 200 9730 \"-\" \"Go-http-client/1.1\"\u001b[0m\n",
      "\u001b[34m169.254.255.130 - - [14/Nov/2024:03:20:22 +0000] \"POST /invocations HTTP/1.1\" 200 9729 \"-\" \"Go-http-client/1.1\"\u001b[0m\n",
      "\u001b[35m[2024-11-14:03:20:21:INFO] No GPUs detected (normal if no gpus installed)\u001b[0m\n",
      "\u001b[35m[2024-11-14:03:20:21:INFO] Determined delimiter of CSV input is ','\u001b[0m\n",
      "\u001b[35m[2024-11-14:03:20:21:INFO] No GPUs detected (normal if no gpus installed)\u001b[0m\n",
      "\u001b[35m[2024-11-14:03:20:21:INFO] Determined delimiter of CSV input is ','\u001b[0m\n",
      "\u001b[35m[2024-11-14:03:20:21:INFO] Determined delimiter of CSV input is ','\u001b[0m\n",
      "\u001b[35m[2024-11-14:03:20:21:INFO] No GPUs detected (normal if no gpus installed)\u001b[0m\n",
      "\u001b[35m[2024-11-14:03:20:21:INFO] Determined delimiter of CSV input is ','\u001b[0m\n",
      "\u001b[35m[2024-11-14:03:20:21:INFO] No GPUs detected (normal if no gpus installed)\u001b[0m\n",
      "\u001b[35m[2024-11-14:03:20:21:INFO] Determined delimiter of CSV input is ','\u001b[0m\n",
      "\u001b[35m[2024-11-14:03:20:21:INFO] No GPUs detected (normal if no gpus installed)\u001b[0m\n",
      "\u001b[35m[2024-11-14:03:20:21:INFO] Determined delimiter of CSV input is ','\u001b[0m\n",
      "\u001b[35m[2024-11-14:03:20:21:INFO] Determined delimiter of CSV input is ','\u001b[0m\n",
      "\u001b[35m169.254.255.130 - - [14/Nov/2024:03:20:22 +0000] \"POST /invocations HTTP/1.1\" 200 9704 \"-\" \"Go-http-client/1.1\"\u001b[0m\n",
      "\u001b[35m169.254.255.130 - - [14/Nov/2024:03:20:22 +0000] \"POST /invocations HTTP/1.1\" 200 9711 \"-\" \"Go-http-client/1.1\"\u001b[0m\n",
      "\u001b[35m169.254.255.130 - - [14/Nov/2024:03:20:22 +0000] \"POST /invocations HTTP/1.1\" 200 9711 \"-\" \"Go-http-client/1.1\"\u001b[0m\n",
      "\u001b[35m169.254.255.130 - - [14/Nov/2024:03:20:22 +0000] \"POST /invocations HTTP/1.1\" 200 9747 \"-\" \"Go-http-client/1.1\"\u001b[0m\n",
      "\u001b[35m169.254.255.130 - - [14/Nov/2024:03:20:22 +0000] \"POST /invocations HTTP/1.1\" 200 9705 \"-\" \"Go-http-client/1.1\"\u001b[0m\n",
      "\u001b[35m[2024-11-14:03:20:22:INFO] Determined delimiter of CSV input is ','\u001b[0m\n",
      "\u001b[35m[2024-11-14:03:20:22:INFO] Determined delimiter of CSV input is ','\u001b[0m\n",
      "\u001b[35m169.254.255.130 - - [14/Nov/2024:03:20:22 +0000] \"POST /invocations HTTP/1.1\" 200 9739 \"-\" \"Go-http-client/1.1\"\u001b[0m\n",
      "\u001b[35m169.254.255.130 - - [14/Nov/2024:03:20:22 +0000] \"POST /invocations HTTP/1.1\" 200 9732 \"-\" \"Go-http-client/1.1\"\u001b[0m\n",
      "\u001b[35m169.254.255.130 - - [14/Nov/2024:03:20:22 +0000] \"POST /invocations HTTP/1.1\" 200 9730 \"-\" \"Go-http-client/1.1\"\u001b[0m\n",
      "\u001b[35m169.254.255.130 - - [14/Nov/2024:03:20:22 +0000] \"POST /invocations HTTP/1.1\" 200 9729 \"-\" \"Go-http-client/1.1\"\u001b[0m\n",
      "\u001b[32m2024-11-14T03:20:21.141:[sagemaker logs]: MaxConcurrentTransforms=8, MaxPayloadInMB=6, BatchStrategy=MULTI_RECORD\u001b[0m\n",
      "\u001b[34m[2024-11-14:03:20:22:INFO] Determined delimiter of CSV input is ','\u001b[0m\n",
      "\u001b[34m169.254.255.130 - - [14/Nov/2024:03:20:22 +0000] \"POST /invocations HTTP/1.1\" 200 9168 \"-\" \"Go-http-client/1.1\"\u001b[0m\n",
      "\u001b[35m[2024-11-14:03:20:22:INFO] Determined delimiter of CSV input is ','\u001b[0m\n",
      "\u001b[35m169.254.255.130 - - [14/Nov/2024:03:20:22 +0000] \"POST /invocations HTTP/1.1\" 200 9168 \"-\" \"Go-http-client/1.1\"\u001b[0m\n",
      "\n"
     ]
    }
   ],
   "source": [
    "xgb_transformer.transform(\n",
    "    data=batch_input,\n",
    "    data_type='S3Prefix',\n",
    "    content_type='text/csv',\n",
    "    split_type='Line',\n",
    "    job_name=transformer_job_name\n",
    ")"
   ]
  },
  {
   "cell_type": "markdown",
   "id": "77c762d4",
   "metadata": {},
   "source": [
    "# 阻塞進程"
   ]
  },
  {
   "cell_type": "markdown",
   "id": "d0443c9d",
   "metadata": {},
   "source": [
    "這個語句在新版系統中並無效，在舊版系統中用於控制流程，設置 False 用意是等待時不要在控制台輸出日誌"
   ]
  },
  {
   "cell_type": "code",
   "execution_count": 40,
   "id": "3c6a5e9a",
   "metadata": {},
   "outputs": [
    {
     "name": "stdout",
     "output_type": "stream",
     "text": [
      "!\n"
     ]
    }
   ],
   "source": [
    "xgb_transformer.wait(logs=False)"
   ]
  },
  {
   "cell_type": "markdown",
   "id": "065a1662",
   "metadata": {},
   "source": [
    "# 下載績效文件"
   ]
  },
  {
   "cell_type": "markdown",
   "id": "6cf48986",
   "metadata": {},
   "source": [
    "輸出形式是二進制字串"
   ]
  },
  {
   "cell_type": "code",
   "execution_count": 41,
   "id": "4f7a1eec",
   "metadata": {},
   "outputs": [
    {
     "data": {
      "text/plain": [
       "b'0.8042524456977844\\n0.05381881073117256\\n0.6019071340560913\\n0.6807563900947571\\n0.8007111549377441\\n0.25'"
      ]
     },
     "execution_count": 41,
     "metadata": {},
     "output_type": "execute_result"
    }
   ],
   "source": [
    "s3 = boto3.client('s3')\n",
    "obj = s3.get_object(\n",
    "    Bucket=bucket, \n",
    "    Key=f'{prefix}/batch-out/batch-in.csv.out'\n",
    ")\n",
    "# .read() 在讀取後會消耗掉文件的內容\n",
    "# 所以要先一次性將文件內容讀取到變量中才可重複使用\n",
    "file_content = obj['Body'].read()\n",
    "file_content[:100]"
   ]
  },
  {
   "cell_type": "markdown",
   "id": "9a9ce16e",
   "metadata": {},
   "source": [
    "# 轉換為 DataFrame"
   ]
  },
  {
   "cell_type": "markdown",
   "id": "96fd5e59",
   "metadata": {},
   "source": [
    "儲存在變數 data 中"
   ]
  },
  {
   "cell_type": "code",
   "execution_count": 42,
   "id": "b7faf9fe",
   "metadata": {},
   "outputs": [
    {
     "name": "stdout",
     "output_type": "stream",
     "text": [
      "成功讀取為 CSV 格式如下：\n",
      "   0.8042524456977844\n",
      "0            0.053819\n",
      "1            0.601907\n",
      "2            0.680756\n",
      "3            0.800711\n",
      "4            0.256345\n"
     ]
    }
   ],
   "source": [
    "try:\n",
    "    data = pd.read_csv(\n",
    "        io.BytesIO(file_content), \n",
    "        sep=','\n",
    "    )\n",
    "    print(\"成功讀取為 CSV 格式如下：\")\n",
    "    print(data.head())\n",
    "except Exception as e:\n",
    "    print(\"文件無法以 CSV 格式讀取，錯誤訊息：\", e)\n",
    "    # 可能需要其他方法來讀取，例如使用其他分隔符"
   ]
  },
  {
   "cell_type": "markdown",
   "id": "ef55fed8",
   "metadata": {},
   "source": [
    "# 添加欄位"
   ]
  },
  {
   "cell_type": "code",
   "execution_count": 43,
   "id": "c94fe338",
   "metadata": {},
   "outputs": [
    {
     "data": {
      "text/html": [
       "<div>\n",
       "<style scoped>\n",
       "    .dataframe tbody tr th:only-of-type {\n",
       "        vertical-align: middle;\n",
       "    }\n",
       "\n",
       "    .dataframe tbody tr th {\n",
       "        vertical-align: top;\n",
       "    }\n",
       "\n",
       "    .dataframe thead th {\n",
       "        text-align: right;\n",
       "    }\n",
       "</style>\n",
       "<table border=\"1\" class=\"dataframe\">\n",
       "  <thead>\n",
       "    <tr style=\"text-align: right;\">\n",
       "      <th></th>\n",
       "      <th>class</th>\n",
       "    </tr>\n",
       "  </thead>\n",
       "  <tbody>\n",
       "    <tr>\n",
       "      <th>0</th>\n",
       "      <td>0.804252</td>\n",
       "    </tr>\n",
       "    <tr>\n",
       "      <th>1</th>\n",
       "      <td>0.053819</td>\n",
       "    </tr>\n",
       "    <tr>\n",
       "      <th>2</th>\n",
       "      <td>0.601907</td>\n",
       "    </tr>\n",
       "    <tr>\n",
       "      <th>3</th>\n",
       "      <td>0.680756</td>\n",
       "    </tr>\n",
       "    <tr>\n",
       "      <th>4</th>\n",
       "      <td>0.800711</td>\n",
       "    </tr>\n",
       "    <tr>\n",
       "      <th>...</th>\n",
       "      <td>...</td>\n",
       "    </tr>\n",
       "    <tr>\n",
       "      <th>4995</th>\n",
       "      <td>0.842964</td>\n",
       "    </tr>\n",
       "    <tr>\n",
       "      <th>4996</th>\n",
       "      <td>0.122265</td>\n",
       "    </tr>\n",
       "    <tr>\n",
       "      <th>4997</th>\n",
       "      <td>0.475704</td>\n",
       "    </tr>\n",
       "    <tr>\n",
       "      <th>4998</th>\n",
       "      <td>0.098467</td>\n",
       "    </tr>\n",
       "    <tr>\n",
       "      <th>4999</th>\n",
       "      <td>0.773739</td>\n",
       "    </tr>\n",
       "  </tbody>\n",
       "</table>\n",
       "<p>5000 rows × 1 columns</p>\n",
       "</div>"
      ],
      "text/plain": [
       "         class\n",
       "0     0.804252\n",
       "1     0.053819\n",
       "2     0.601907\n",
       "3     0.680756\n",
       "4     0.800711\n",
       "...        ...\n",
       "4995  0.842964\n",
       "4996  0.122265\n",
       "4997  0.475704\n",
       "4998  0.098467\n",
       "4999  0.773739\n",
       "\n",
       "[5000 rows x 1 columns]"
      ]
     },
     "execution_count": 43,
     "metadata": {},
     "output_type": "execute_result"
    }
   ],
   "source": [
    "target_predicted = pd.read_csv(\n",
    "    io.BytesIO(file_content),\n",
    "    sep=',',\n",
    "    names=['class']\n",
    ")\n",
    "target_predicted"
   ]
  },
  {
   "cell_type": "markdown",
   "id": "661d44a4",
   "metadata": {},
   "source": [
    "# 進行二元轉換"
   ]
  },
  {
   "cell_type": "markdown",
   "id": "5f2d4e0a",
   "metadata": {},
   "source": [
    "自訂閾值轉換函數"
   ]
  },
  {
   "cell_type": "code",
   "execution_count": 44,
   "id": "f6e72dea",
   "metadata": {},
   "outputs": [],
   "source": [
    "def binary_convert(x):\n",
    "    threshold = 0.5\n",
    "    if x > threshold:\n",
    "        return 1\n",
    "    else:\n",
    "        return 0\n"
   ]
  },
  {
   "cell_type": "markdown",
   "id": "c86d0dcf",
   "metadata": {},
   "source": [
    "# 將資料進行二元轉換"
   ]
  },
  {
   "cell_type": "code",
   "execution_count": 45,
   "id": "da7ce34b",
   "metadata": {},
   "outputs": [
    {
     "data": {
      "text/plain": [
       "0       1\n",
       "1       0\n",
       "2       1\n",
       "3       1\n",
       "4       1\n",
       "       ..\n",
       "4995    1\n",
       "4996    0\n",
       "4997    0\n",
       "4998    0\n",
       "4999    1\n",
       "Name: class, Length: 5000, dtype: int64"
      ]
     },
     "execution_count": 45,
     "metadata": {},
     "output_type": "execute_result"
    }
   ],
   "source": [
    "target_predicted_binary = target_predicted['class'].apply(binary_convert)\n",
    "target_predicted_binary"
   ]
  },
  {
   "cell_type": "markdown",
   "id": "f016d205",
   "metadata": {},
   "source": [
    "# 調用自訂函數繪製混淆矩陣"
   ]
  },
  {
   "cell_type": "code",
   "execution_count": 46,
   "id": "19df9cab",
   "metadata": {},
   "outputs": [
    {
     "data": {
      "image/png": "[encoded data removed]",
      "text/plain": [
       "<Figure size 640x480 with 1 Axes>"
      ]
     },
     "metadata": {},
     "output_type": "display_data"
    }
   ],
   "source": [
    "plot_confusion_matrix(test['label'], target_predicted_binary)"
   ]
  },
  {
   "cell_type": "markdown",
   "id": "207d819a",
   "metadata": {},
   "source": [
    "# 調用自訂函數輸出指標"
   ]
  },
  {
   "cell_type": "markdown",
   "id": "e2d1c9f0",
   "metadata": {},
   "source": [
    "提供真實值與預測值計算績效"
   ]
  },
  {
   "cell_type": "code",
   "execution_count": 47,
   "id": "59ffbe65",
   "metadata": {},
   "outputs": [
    {
     "name": "stdout",
     "output_type": "stream",
     "text": [
      "敏感性/召回率 (Sensitivity or TPR): 85.4672704816797%\n",
      "特異性 (Specificity or TNR): 79.15208090237262%\n",
      "精確率 (Precision): 79.47932618683001%\n",
      "陰性預測值 (Negative Predictive Value): 85.2177554438861%\n",
      "假陽性率 (False Positive Rate): 20.847919097627383%\n",
      "假陰性率 (False Negative Rate): 14.532729518320298%\n",
      "假發現率 (False Discovery Rate): 20.520673813169985%\n",
      "正確率 (Accuracy): 82.22%\n"
     ]
    }
   ],
   "source": [
    "print_metrics(\n",
    "    test['label'], \n",
    "    target_predicted_binary\n",
    ")"
   ]
  },
  {
   "cell_type": "markdown",
   "id": "8af49bd0",
   "metadata": {},
   "source": [
    "# 標準化文本"
   ]
  },
  {
   "cell_type": "markdown",
   "id": "cfbcb2e5",
   "metadata": {},
   "source": [
    "從 NLTK 庫取得停用詞列表"
   ]
  },
  {
   "cell_type": "code",
   "execution_count": 48,
   "id": "4fecf6a6",
   "metadata": {},
   "outputs": [],
   "source": [
    "stop = stopwords.words('english')"
   ]
  },
  {
   "cell_type": "markdown",
   "id": "5d72f53c",
   "metadata": {},
   "source": [
    "自訂函數更新停用詞列"
   ]
  },
  {
   "cell_type": "code",
   "execution_count": 49,
   "id": "59dd4721",
   "metadata": {},
   "outputs": [
    {
     "data": {
      "text/plain": [
       "['i', 'me', 'my', 'myself', 'we']"
      ]
     },
     "execution_count": 49,
     "metadata": {},
     "output_type": "execute_result"
    }
   ],
   "source": [
    "def remove_stopwords(stopwords):\n",
    "    # 特定停用詞\n",
    "    excluding = ['against', 'not', 'don', 'don\\'t', 'ain', 'are', 'aren\\'t']\n",
    "\n",
    "    # 定義需要排除的詞彙，這些詞將不會被視為停用詞\n",
    "    excluding = [\n",
    "        'against', 'not', 'don', 'don\\'t', 'ain', 'are', 'aren\\'t', 'could',\n",
    "        'couldn\\'t','did', 'didn\\'t', 'does', 'doesn\\'t', 'had', 'hadn\\'t',\n",
    "        'has', 'hasn\\'t', 'have', 'haven\\'t', 'is', 'isn\\'t', 'might',\n",
    "        'mightn\\'t', 'must', 'mustn\\'t', 'need', 'needn\\'t', 'should',\n",
    "        'shouldn\\'t', 'was', 'wasn\\'t', 'were', 'weren\\'t', 'won\\'t',\n",
    "        'would', 'wouldn\\'t'\n",
    "    ]\n",
    "\n",
    "    # 返回移除指定排除詞後的停用詞列表\n",
    "    return [word for word in stop if word not in excluding]\n",
    "\n",
    "# 更新後的停用詞列表\n",
    "stopwords = remove_stopwords(stop)\n",
    "stopwords[:5]"
   ]
  },
  {
   "cell_type": "markdown",
   "id": "b9131027",
   "metadata": {},
   "source": [
    "# 詞幹還原"
   ]
  },
  {
   "cell_type": "markdown",
   "id": "89941c7c",
   "metadata": {},
   "source": [
    "選用英文詞幹化"
   ]
  },
  {
   "cell_type": "code",
   "execution_count": 50,
   "id": "d338a0b2",
   "metadata": {},
   "outputs": [],
   "source": [
    "# SnowballStemmer 是 NLTK 的詞幹還原工具\n",
    "snow = SnowballStemmer('english')"
   ]
  },
  {
   "cell_type": "markdown",
   "id": "5179aa91",
   "metadata": {},
   "source": [
    "自定義清理函數"
   ]
  },
  {
   "cell_type": "code",
   "execution_count": 51,
   "id": "0396e8da",
   "metadata": {},
   "outputs": [],
   "source": [
    "def clean(sent):\n",
    "    # 將句子轉換為小寫，統一字母大小寫\n",
    "    sent = sent.lower()\n",
    "    \n",
    "    # 使用正則表達式移除多餘的空白字符，將連續的空白轉為單一空格\n",
    "    sent = re.sub('\\s+', ' ', sent)\n",
    "    \n",
    "    ### 開始清理過程\n",
    "    # 移除句首和句尾的空白字符\n",
    "    sent = sent.strip()\n",
    "    \n",
    "    # 使用正則表達式移除 HTML 標籤，例如 `<tag>text</tag>` 會被替換為 `text`\n",
    "    sent = re.compile('<.*?>').sub('', sent)\n",
    "    ### 清理結束\n",
    "    \n",
    "    # 初始化一個空的列表，存儲經過篩選和詞幹化處理的單詞\n",
    "    filtered_sentence = []\n",
    "    \n",
    "    # 使用 `word_tokenize` 將句子分割成單詞\n",
    "    for w in word_tokenize(sent):\n",
    "        # 這裡進行自定義的篩選：檢查該單詞是否符合以下條件：\n",
    "        # 1. 不是數字\n",
    "        # 2. 單詞長度大於 2 個字母\n",
    "        # 3. 不在停用詞列表 `stopwords` 中\n",
    "        if (not w.isnumeric()) and (len(w) > 2) and (w not in stopwords):  \n",
    "            # 對符合條件的單詞進行詞幹化處理，並添加到 `filtered_sentence` 列表\n",
    "            filtered_sentence.append(snow.stem(w))\n",
    "    \n",
    "    # 將處理後的單詞列表組合成最終的清理後字串，單詞間以空格分隔\n",
    "    final_string = \" \".join(filtered_sentence) \n",
    "    \n",
    "    # 返回最終清理後的字串\n",
    "    return final_string"
   ]
  },
  {
   "cell_type": "markdown",
   "id": "9cef9fcc",
   "metadata": {},
   "source": [
    "# 觀察一下當前的 df"
   ]
  },
  {
   "cell_type": "code",
   "execution_count": 52,
   "id": "a8f91d71",
   "metadata": {},
   "outputs": [
    {
     "data": {
      "text/html": [
       "<div>\n",
       "<style scoped>\n",
       "    .dataframe tbody tr th:only-of-type {\n",
       "        vertical-align: middle;\n",
       "    }\n",
       "\n",
       "    .dataframe tbody tr th {\n",
       "        vertical-align: top;\n",
       "    }\n",
       "\n",
       "    .dataframe thead th {\n",
       "        text-align: right;\n",
       "    }\n",
       "</style>\n",
       "<table border=\"1\" class=\"dataframe\">\n",
       "  <thead>\n",
       "    <tr style=\"text-align: right;\">\n",
       "      <th></th>\n",
       "      <th>text</th>\n",
       "      <th>label</th>\n",
       "    </tr>\n",
       "  </thead>\n",
       "  <tbody>\n",
       "    <tr>\n",
       "      <th>0</th>\n",
       "      <td>What I hoped for (or even expected) was the we...</td>\n",
       "      <td>0</td>\n",
       "    </tr>\n",
       "    <tr>\n",
       "      <th>1</th>\n",
       "      <td>Garden State must rate amongst the most contri...</td>\n",
       "      <td>0</td>\n",
       "    </tr>\n",
       "    <tr>\n",
       "      <th>2</th>\n",
       "      <td>There is a lot wrong with this film. I will no...</td>\n",
       "      <td>1</td>\n",
       "    </tr>\n",
       "    <tr>\n",
       "      <th>3</th>\n",
       "      <td>To qualify my use of \"realistic\" in the summar...</td>\n",
       "      <td>1</td>\n",
       "    </tr>\n",
       "    <tr>\n",
       "      <th>4</th>\n",
       "      <td>Dirty War is absolutely one of the best politi...</td>\n",
       "      <td>1</td>\n",
       "    </tr>\n",
       "    <tr>\n",
       "      <th>...</th>\n",
       "      <td>...</td>\n",
       "      <td>...</td>\n",
       "    </tr>\n",
       "    <tr>\n",
       "      <th>49995</th>\n",
       "      <td>You do not get more dark or tragic than \"Othel...</td>\n",
       "      <td>1</td>\n",
       "    </tr>\n",
       "    <tr>\n",
       "      <th>49996</th>\n",
       "      <td>Wow probable the worst movie i have ever seen!...</td>\n",
       "      <td>0</td>\n",
       "    </tr>\n",
       "    <tr>\n",
       "      <th>49997</th>\n",
       "      <td>Have not watched kids films for some years, so...</td>\n",
       "      <td>0</td>\n",
       "    </tr>\n",
       "    <tr>\n",
       "      <th>49998</th>\n",
       "      <td>Pickup on South Street (1953), directed by mov...</td>\n",
       "      <td>1</td>\n",
       "    </tr>\n",
       "    <tr>\n",
       "      <th>49999</th>\n",
       "      <td>The first half of the film is OK, the second h...</td>\n",
       "      <td>0</td>\n",
       "    </tr>\n",
       "  </tbody>\n",
       "</table>\n",
       "<p>50000 rows × 2 columns</p>\n",
       "</div>"
      ],
      "text/plain": [
       "                                                    text  label\n",
       "0      What I hoped for (or even expected) was the we...      0\n",
       "1      Garden State must rate amongst the most contri...      0\n",
       "2      There is a lot wrong with this film. I will no...      1\n",
       "3      To qualify my use of \"realistic\" in the summar...      1\n",
       "4      Dirty War is absolutely one of the best politi...      1\n",
       "...                                                  ...    ...\n",
       "49995  You do not get more dark or tragic than \"Othel...      1\n",
       "49996  Wow probable the worst movie i have ever seen!...      0\n",
       "49997  Have not watched kids films for some years, so...      0\n",
       "49998  Pickup on South Street (1953), directed by mov...      1\n",
       "49999  The first half of the film is OK, the second h...      0\n",
       "\n",
       "[50000 rows x 2 columns]"
      ]
     },
     "execution_count": 52,
     "metadata": {},
     "output_type": "execute_result"
    }
   ],
   "source": [
    "df"
   ]
  },
  {
   "cell_type": "markdown",
   "id": "59bbfd01",
   "metadata": {},
   "source": [
    "為求謹慎，重新進行拆分"
   ]
  },
  {
   "cell_type": "code",
   "execution_count": 53,
   "id": "f0d5171a",
   "metadata": {},
   "outputs": [],
   "source": [
    "train, validate, test = split_data(df)"
   ]
  },
  {
   "cell_type": "code",
   "execution_count": 54,
   "id": "5bf10e90",
   "metadata": {},
   "outputs": [
    {
     "name": "stdout",
     "output_type": "stream",
     "text": [
      "(40000, 2)\n",
      "(5000, 2)\n",
      "(5000, 2)\n"
     ]
    }
   ],
   "source": [
    "print(train.shape)\n",
    "print(test.shape)\n",
    "print(validate.shape)"
   ]
  },
  {
   "cell_type": "markdown",
   "id": "e371df73",
   "metadata": {},
   "source": [
    "# 建立管道"
   ]
  },
  {
   "cell_type": "markdown",
   "id": "4abc1eac",
   "metadata": {},
   "source": [
    "設定特徵與目標欄位"
   ]
  },
  {
   "cell_type": "code",
   "execution_count": 55,
   "id": "0714b846",
   "metadata": {},
   "outputs": [],
   "source": [
    "# 設定文本特徵的欄位名稱\n",
    "text_features = ['text']\n",
    "# 設定目標欄位名稱\n",
    "model_target = 'label'"
   ]
  },
  {
   "cell_type": "markdown",
   "id": "87ec375d",
   "metadata": {},
   "source": [
    "建立轉換管道"
   ]
  },
  {
   "cell_type": "code",
   "execution_count": 56,
   "id": "8bd3cbce",
   "metadata": {},
   "outputs": [
    {
     "data": {
      "text/html": [
       "<style>#sk-container-id-1 {\n",
       "  /* Definition of color scheme common for light and dark mode */\n",
       "  --sklearn-color-text: black;\n",
       "  --sklearn-color-line: gray;\n",
       "  /* Definition of color scheme for unfitted estimators */\n",
       "  --sklearn-color-unfitted-level-0: #fff5e6;\n",
       "  --sklearn-color-unfitted-level-1: #f6e4d2;\n",
       "  --sklearn-color-unfitted-level-2: #ffe0b3;\n",
       "  --sklearn-color-unfitted-level-3: chocolate;\n",
       "  /* Definition of color scheme for fitted estimators */\n",
       "  --sklearn-color-fitted-level-0: #f0f8ff;\n",
       "  --sklearn-color-fitted-level-1: #d4ebff;\n",
       "  --sklearn-color-fitted-level-2: #b3dbfd;\n",
       "  --sklearn-color-fitted-level-3: cornflowerblue;\n",
       "\n",
       "  /* Specific color for light theme */\n",
       "  --sklearn-color-text-on-default-background: var(--sg-text-color, var(--theme-code-foreground, var(--jp-content-font-color1, black)));\n",
       "  --sklearn-color-background: var(--sg-background-color, var(--theme-background, var(--jp-layout-color0, white)));\n",
       "  --sklearn-color-border-box: var(--sg-text-color, var(--theme-code-foreground, var(--jp-content-font-color1, black)));\n",
       "  --sklearn-color-icon: #696969;\n",
       "\n",
       "  @media (prefers-color-scheme: dark) {\n",
       "    /* Redefinition of color scheme for dark theme */\n",
       "    --sklearn-color-text-on-default-background: var(--sg-text-color, var(--theme-code-foreground, var(--jp-content-font-color1, white)));\n",
       "    --sklearn-color-background: var(--sg-background-color, var(--theme-background, var(--jp-layout-color0, #111)));\n",
       "    --sklearn-color-border-box: var(--sg-text-color, var(--theme-code-foreground, var(--jp-content-font-color1, white)));\n",
       "    --sklearn-color-icon: #878787;\n",
       "  }\n",
       "}\n",
       "\n",
       "#sk-container-id-1 {\n",
       "  color: var(--sklearn-color-text);\n",
       "}\n",
       "\n",
       "#sk-container-id-1 pre {\n",
       "  padding: 0;\n",
       "}\n",
       "\n",
       "#sk-container-id-1 input.sk-hidden--visually {\n",
       "  border: 0;\n",
       "  clip: rect(1px 1px 1px 1px);\n",
       "  clip: rect(1px, 1px, 1px, 1px);\n",
       "  height: 1px;\n",
       "  margin: -1px;\n",
       "  overflow: hidden;\n",
       "  padding: 0;\n",
       "  position: absolute;\n",
       "  width: 1px;\n",
       "}\n",
       "\n",
       "#sk-container-id-1 div.sk-dashed-wrapped {\n",
       "  border: 1px dashed var(--sklearn-color-line);\n",
       "  margin: 0 0.4em 0.5em 0.4em;\n",
       "  box-sizing: border-box;\n",
       "  padding-bottom: 0.4em;\n",
       "  background-color: var(--sklearn-color-background);\n",
       "}\n",
       "\n",
       "#sk-container-id-1 div.sk-container {\n",
       "  /* jupyter's `normalize.less` sets `[hidden] { display: none; }`\n",
       "     but bootstrap.min.css set `[hidden] { display: none !important; }`\n",
       "     so we also need the `!important` here to be able to override the\n",
       "     default hidden behavior on the sphinx rendered scikit-learn.org.\n",
       "     See: https://github.com/scikit-learn/scikit-learn/issues/21755 */\n",
       "  display: inline-block !important;\n",
       "  position: relative;\n",
       "}\n",
       "\n",
       "#sk-container-id-1 div.sk-text-repr-fallback {\n",
       "  display: none;\n",
       "}\n",
       "\n",
       "div.sk-parallel-item,\n",
       "div.sk-serial,\n",
       "div.sk-item {\n",
       "  /* draw centered vertical line to link estimators */\n",
       "  background-image: linear-gradient(var(--sklearn-color-text-on-default-background), var(--sklearn-color-text-on-default-background));\n",
       "  background-size: 2px 100%;\n",
       "  background-repeat: no-repeat;\n",
       "  background-position: center center;\n",
       "}\n",
       "\n",
       "/* Parallel-specific style estimator block */\n",
       "\n",
       "#sk-container-id-1 div.sk-parallel-item::after {\n",
       "  content: \"\";\n",
       "  width: 100%;\n",
       "  border-bottom: 2px solid var(--sklearn-color-text-on-default-background);\n",
       "  flex-grow: 1;\n",
       "}\n",
       "\n",
       "#sk-container-id-1 div.sk-parallel {\n",
       "  display: flex;\n",
       "  align-items: stretch;\n",
       "  justify-content: center;\n",
       "  background-color: var(--sklearn-color-background);\n",
       "  position: relative;\n",
       "}\n",
       "\n",
       "#sk-container-id-1 div.sk-parallel-item {\n",
       "  display: flex;\n",
       "  flex-direction: column;\n",
       "}\n",
       "\n",
       "#sk-container-id-1 div.sk-parallel-item:first-child::after {\n",
       "  align-self: flex-end;\n",
       "  width: 50%;\n",
       "}\n",
       "\n",
       "#sk-container-id-1 div.sk-parallel-item:last-child::after {\n",
       "  align-self: flex-start;\n",
       "  width: 50%;\n",
       "}\n",
       "\n",
       "#sk-container-id-1 div.sk-parallel-item:only-child::after {\n",
       "  width: 0;\n",
       "}\n",
       "\n",
       "/* Serial-specific style estimator block */\n",
       "\n",
       "#sk-container-id-1 div.sk-serial {\n",
       "  display: flex;\n",
       "  flex-direction: column;\n",
       "  align-items: center;\n",
       "  background-color: var(--sklearn-color-background);\n",
       "  padding-right: 1em;\n",
       "  padding-left: 1em;\n",
       "}\n",
       "\n",
       "\n",
       "/* Toggleable style: style used for estimator/Pipeline/ColumnTransformer box that is\n",
       "clickable and can be expanded/collapsed.\n",
       "- Pipeline and ColumnTransformer use this feature and define the default style\n",
       "- Estimators will overwrite some part of the style using the `sk-estimator` class\n",
       "*/\n",
       "\n",
       "/* Pipeline and ColumnTransformer style (default) */\n",
       "\n",
       "#sk-container-id-1 div.sk-toggleable {\n",
       "  /* Default theme specific background. It is overwritten whether we have a\n",
       "  specific estimator or a Pipeline/ColumnTransformer */\n",
       "  background-color: var(--sklearn-color-background);\n",
       "}\n",
       "\n",
       "/* Toggleable label */\n",
       "#sk-container-id-1 label.sk-toggleable__label {\n",
       "  cursor: pointer;\n",
       "  display: block;\n",
       "  width: 100%;\n",
       "  margin-bottom: 0;\n",
       "  padding: 0.5em;\n",
       "  box-sizing: border-box;\n",
       "  text-align: center;\n",
       "}\n",
       "\n",
       "#sk-container-id-1 label.sk-toggleable__label-arrow:before {\n",
       "  /* Arrow on the left of the label */\n",
       "  content: \"▸\";\n",
       "  float: left;\n",
       "  margin-right: 0.25em;\n",
       "  color: var(--sklearn-color-icon);\n",
       "}\n",
       "\n",
       "#sk-container-id-1 label.sk-toggleable__label-arrow:hover:before {\n",
       "  color: var(--sklearn-color-text);\n",
       "}\n",
       "\n",
       "/* Toggleable content - dropdown */\n",
       "\n",
       "#sk-container-id-1 div.sk-toggleable__content {\n",
       "  max-height: 0;\n",
       "  max-width: 0;\n",
       "  overflow: hidden;\n",
       "  text-align: left;\n",
       "  /* unfitted */\n",
       "  background-color: var(--sklearn-color-unfitted-level-0);\n",
       "}\n",
       "\n",
       "#sk-container-id-1 div.sk-toggleable__content.fitted {\n",
       "  /* fitted */\n",
       "  background-color: var(--sklearn-color-fitted-level-0);\n",
       "}\n",
       "\n",
       "#sk-container-id-1 div.sk-toggleable__content pre {\n",
       "  margin: 0.2em;\n",
       "  border-radius: 0.25em;\n",
       "  color: var(--sklearn-color-text);\n",
       "  /* unfitted */\n",
       "  background-color: var(--sklearn-color-unfitted-level-0);\n",
       "}\n",
       "\n",
       "#sk-container-id-1 div.sk-toggleable__content.fitted pre {\n",
       "  /* unfitted */\n",
       "  background-color: var(--sklearn-color-fitted-level-0);\n",
       "}\n",
       "\n",
       "#sk-container-id-1 input.sk-toggleable__control:checked~div.sk-toggleable__content {\n",
       "  /* Expand drop-down */\n",
       "  max-height: 200px;\n",
       "  max-width: 100%;\n",
       "  overflow: auto;\n",
       "}\n",
       "\n",
       "#sk-container-id-1 input.sk-toggleable__control:checked~label.sk-toggleable__label-arrow:before {\n",
       "  content: \"▾\";\n",
       "}\n",
       "\n",
       "/* Pipeline/ColumnTransformer-specific style */\n",
       "\n",
       "#sk-container-id-1 div.sk-label input.sk-toggleable__control:checked~label.sk-toggleable__label {\n",
       "  color: var(--sklearn-color-text);\n",
       "  background-color: var(--sklearn-color-unfitted-level-2);\n",
       "}\n",
       "\n",
       "#sk-container-id-1 div.sk-label.fitted input.sk-toggleable__control:checked~label.sk-toggleable__label {\n",
       "  background-color: var(--sklearn-color-fitted-level-2);\n",
       "}\n",
       "\n",
       "/* Estimator-specific style */\n",
       "\n",
       "/* Colorize estimator box */\n",
       "#sk-container-id-1 div.sk-estimator input.sk-toggleable__control:checked~label.sk-toggleable__label {\n",
       "  /* unfitted */\n",
       "  background-color: var(--sklearn-color-unfitted-level-2);\n",
       "}\n",
       "\n",
       "#sk-container-id-1 div.sk-estimator.fitted input.sk-toggleable__control:checked~label.sk-toggleable__label {\n",
       "  /* fitted */\n",
       "  background-color: var(--sklearn-color-fitted-level-2);\n",
       "}\n",
       "\n",
       "#sk-container-id-1 div.sk-label label.sk-toggleable__label,\n",
       "#sk-container-id-1 div.sk-label label {\n",
       "  /* The background is the default theme color */\n",
       "  color: var(--sklearn-color-text-on-default-background);\n",
       "}\n",
       "\n",
       "/* On hover, darken the color of the background */\n",
       "#sk-container-id-1 div.sk-label:hover label.sk-toggleable__label {\n",
       "  color: var(--sklearn-color-text);\n",
       "  background-color: var(--sklearn-color-unfitted-level-2);\n",
       "}\n",
       "\n",
       "/* Label box, darken color on hover, fitted */\n",
       "#sk-container-id-1 div.sk-label.fitted:hover label.sk-toggleable__label.fitted {\n",
       "  color: var(--sklearn-color-text);\n",
       "  background-color: var(--sklearn-color-fitted-level-2);\n",
       "}\n",
       "\n",
       "/* Estimator label */\n",
       "\n",
       "#sk-container-id-1 div.sk-label label {\n",
       "  font-family: monospace;\n",
       "  font-weight: bold;\n",
       "  display: inline-block;\n",
       "  line-height: 1.2em;\n",
       "}\n",
       "\n",
       "#sk-container-id-1 div.sk-label-container {\n",
       "  text-align: center;\n",
       "}\n",
       "\n",
       "/* Estimator-specific */\n",
       "#sk-container-id-1 div.sk-estimator {\n",
       "  font-family: monospace;\n",
       "  border: 1px dotted var(--sklearn-color-border-box);\n",
       "  border-radius: 0.25em;\n",
       "  box-sizing: border-box;\n",
       "  margin-bottom: 0.5em;\n",
       "  /* unfitted */\n",
       "  background-color: var(--sklearn-color-unfitted-level-0);\n",
       "}\n",
       "\n",
       "#sk-container-id-1 div.sk-estimator.fitted {\n",
       "  /* fitted */\n",
       "  background-color: var(--sklearn-color-fitted-level-0);\n",
       "}\n",
       "\n",
       "/* on hover */\n",
       "#sk-container-id-1 div.sk-estimator:hover {\n",
       "  /* unfitted */\n",
       "  background-color: var(--sklearn-color-unfitted-level-2);\n",
       "}\n",
       "\n",
       "#sk-container-id-1 div.sk-estimator.fitted:hover {\n",
       "  /* fitted */\n",
       "  background-color: var(--sklearn-color-fitted-level-2);\n",
       "}\n",
       "\n",
       "/* Specification for estimator info (e.g. \"i\" and \"?\") */\n",
       "\n",
       "/* Common style for \"i\" and \"?\" */\n",
       "\n",
       ".sk-estimator-doc-link,\n",
       "a:link.sk-estimator-doc-link,\n",
       "a:visited.sk-estimator-doc-link {\n",
       "  float: right;\n",
       "  font-size: smaller;\n",
       "  line-height: 1em;\n",
       "  font-family: monospace;\n",
       "  background-color: var(--sklearn-color-background);\n",
       "  border-radius: 1em;\n",
       "  height: 1em;\n",
       "  width: 1em;\n",
       "  text-decoration: none !important;\n",
       "  margin-left: 1ex;\n",
       "  /* unfitted */\n",
       "  border: var(--sklearn-color-unfitted-level-1) 1pt solid;\n",
       "  color: var(--sklearn-color-unfitted-level-1);\n",
       "}\n",
       "\n",
       ".sk-estimator-doc-link.fitted,\n",
       "a:link.sk-estimator-doc-link.fitted,\n",
       "a:visited.sk-estimator-doc-link.fitted {\n",
       "  /* fitted */\n",
       "  border: var(--sklearn-color-fitted-level-1) 1pt solid;\n",
       "  color: var(--sklearn-color-fitted-level-1);\n",
       "}\n",
       "\n",
       "/* On hover */\n",
       "div.sk-estimator:hover .sk-estimator-doc-link:hover,\n",
       ".sk-estimator-doc-link:hover,\n",
       "div.sk-label-container:hover .sk-estimator-doc-link:hover,\n",
       ".sk-estimator-doc-link:hover {\n",
       "  /* unfitted */\n",
       "  background-color: var(--sklearn-color-unfitted-level-3);\n",
       "  color: var(--sklearn-color-background);\n",
       "  text-decoration: none;\n",
       "}\n",
       "\n",
       "div.sk-estimator.fitted:hover .sk-estimator-doc-link.fitted:hover,\n",
       ".sk-estimator-doc-link.fitted:hover,\n",
       "div.sk-label-container:hover .sk-estimator-doc-link.fitted:hover,\n",
       ".sk-estimator-doc-link.fitted:hover {\n",
       "  /* fitted */\n",
       "  background-color: var(--sklearn-color-fitted-level-3);\n",
       "  color: var(--sklearn-color-background);\n",
       "  text-decoration: none;\n",
       "}\n",
       "\n",
       "/* Span, style for the box shown on hovering the info icon */\n",
       ".sk-estimator-doc-link span {\n",
       "  display: none;\n",
       "  z-index: 9999;\n",
       "  position: relative;\n",
       "  font-weight: normal;\n",
       "  right: .2ex;\n",
       "  padding: .5ex;\n",
       "  margin: .5ex;\n",
       "  width: min-content;\n",
       "  min-width: 20ex;\n",
       "  max-width: 50ex;\n",
       "  color: var(--sklearn-color-text);\n",
       "  box-shadow: 2pt 2pt 4pt #999;\n",
       "  /* unfitted */\n",
       "  background: var(--sklearn-color-unfitted-level-0);\n",
       "  border: .5pt solid var(--sklearn-color-unfitted-level-3);\n",
       "}\n",
       "\n",
       ".sk-estimator-doc-link.fitted span {\n",
       "  /* fitted */\n",
       "  background: var(--sklearn-color-fitted-level-0);\n",
       "  border: var(--sklearn-color-fitted-level-3);\n",
       "}\n",
       "\n",
       ".sk-estimator-doc-link:hover span {\n",
       "  display: block;\n",
       "}\n",
       "\n",
       "/* \"?\"-specific style due to the `<a>` HTML tag */\n",
       "\n",
       "#sk-container-id-1 a.estimator_doc_link {\n",
       "  float: right;\n",
       "  font-size: 1rem;\n",
       "  line-height: 1em;\n",
       "  font-family: monospace;\n",
       "  background-color: var(--sklearn-color-background);\n",
       "  border-radius: 1rem;\n",
       "  height: 1rem;\n",
       "  width: 1rem;\n",
       "  text-decoration: none;\n",
       "  /* unfitted */\n",
       "  color: var(--sklearn-color-unfitted-level-1);\n",
       "  border: var(--sklearn-color-unfitted-level-1) 1pt solid;\n",
       "}\n",
       "\n",
       "#sk-container-id-1 a.estimator_doc_link.fitted {\n",
       "  /* fitted */\n",
       "  border: var(--sklearn-color-fitted-level-1) 1pt solid;\n",
       "  color: var(--sklearn-color-fitted-level-1);\n",
       "}\n",
       "\n",
       "/* On hover */\n",
       "#sk-container-id-1 a.estimator_doc_link:hover {\n",
       "  /* unfitted */\n",
       "  background-color: var(--sklearn-color-unfitted-level-3);\n",
       "  color: var(--sklearn-color-background);\n",
       "  text-decoration: none;\n",
       "}\n",
       "\n",
       "#sk-container-id-1 a.estimator_doc_link.fitted:hover {\n",
       "  /* fitted */\n",
       "  background-color: var(--sklearn-color-fitted-level-3);\n",
       "}\n",
       "</style><div id=\"sk-container-id-1\" class=\"sk-top-container\"><div class=\"sk-text-repr-fallback\"><pre>Pipeline(steps=[(&#x27;text_vect_0&#x27;,\n",
       "                 CountVectorizer(max_features=500,\n",
       "                                 preprocessor=&lt;function clean at 0x7f45c07cc040&gt;))])</pre><b>In a Jupyter environment, please rerun this cell to show the HTML representation or trust the notebook. <br />On GitHub, the HTML representation is unable to render, please try loading this page with nbviewer.org.</b></div><div class=\"sk-container\" hidden><div class=\"sk-item sk-dashed-wrapped\"><div class=\"sk-label-container\"><div class=\"sk-label  sk-toggleable\"><input class=\"sk-toggleable__control sk-hidden--visually\" id=\"sk-estimator-id-1\" type=\"checkbox\" ><label for=\"sk-estimator-id-1\" class=\"sk-toggleable__label  sk-toggleable__label-arrow \">&nbsp;&nbsp;Pipeline<a class=\"sk-estimator-doc-link \" rel=\"noreferrer\" target=\"_blank\" href=\"https://scikit-learn.org/1.5/modules/generated/sklearn.pipeline.Pipeline.html\">?<span>Documentation for Pipeline</span></a><span class=\"sk-estimator-doc-link \">i<span>Not fitted</span></span></label><div class=\"sk-toggleable__content \"><pre>Pipeline(steps=[(&#x27;text_vect_0&#x27;,\n",
       "                 CountVectorizer(max_features=500,\n",
       "                                 preprocessor=&lt;function clean at 0x7f45c07cc040&gt;))])</pre></div> </div></div><div class=\"sk-serial\"><div class=\"sk-item\"><div class=\"sk-estimator  sk-toggleable\"><input class=\"sk-toggleable__control sk-hidden--visually\" id=\"sk-estimator-id-2\" type=\"checkbox\" ><label for=\"sk-estimator-id-2\" class=\"sk-toggleable__label  sk-toggleable__label-arrow \">&nbsp;CountVectorizer<a class=\"sk-estimator-doc-link \" rel=\"noreferrer\" target=\"_blank\" href=\"https://scikit-learn.org/1.5/modules/generated/sklearn.feature_extraction.text.CountVectorizer.html\">?<span>Documentation for CountVectorizer</span></a></label><div class=\"sk-toggleable__content \"><pre>CountVectorizer(max_features=500,\n",
       "                preprocessor=&lt;function clean at 0x7f45c07cc040&gt;)</pre></div> </div></div></div></div></div></div>"
      ],
      "text/plain": [
       "Pipeline(steps=[('text_vect_0',\n",
       "                 CountVectorizer(max_features=500,\n",
       "                                 preprocessor=<function clean at 0x7f45c07cc040>))])"
      ]
     },
     "execution_count": 56,
     "metadata": {},
     "output_type": "execute_result"
    }
   ],
   "source": [
    "text_processor_0 = Pipeline([(\n",
    "    # 命名任務\n",
    "    'text_vect_0', \n",
    "    # 進行文本向量化，並使用 clean 函數作為預處理器\n",
    "    CountVectorizer(\n",
    "        preprocessor=clean, \n",
    "        max_features=500\n",
    "    )\n",
    ")])\n",
    "text_processor_0"
   ]
  },
  {
   "cell_type": "markdown",
   "id": "710747f9",
   "metadata": {},
   "source": [
    "定義數據處理的欄位轉換器"
   ]
  },
  {
   "cell_type": "code",
   "execution_count": 57,
   "id": "ab844295",
   "metadata": {},
   "outputs": [
    {
     "data": {
      "text/html": [
       "<style>#sk-container-id-2 {\n",
       "  /* Definition of color scheme common for light and dark mode */\n",
       "  --sklearn-color-text: black;\n",
       "  --sklearn-color-line: gray;\n",
       "  /* Definition of color scheme for unfitted estimators */\n",
       "  --sklearn-color-unfitted-level-0: #fff5e6;\n",
       "  --sklearn-color-unfitted-level-1: #f6e4d2;\n",
       "  --sklearn-color-unfitted-level-2: #ffe0b3;\n",
       "  --sklearn-color-unfitted-level-3: chocolate;\n",
       "  /* Definition of color scheme for fitted estimators */\n",
       "  --sklearn-color-fitted-level-0: #f0f8ff;\n",
       "  --sklearn-color-fitted-level-1: #d4ebff;\n",
       "  --sklearn-color-fitted-level-2: #b3dbfd;\n",
       "  --sklearn-color-fitted-level-3: cornflowerblue;\n",
       "\n",
       "  /* Specific color for light theme */\n",
       "  --sklearn-color-text-on-default-background: var(--sg-text-color, var(--theme-code-foreground, var(--jp-content-font-color1, black)));\n",
       "  --sklearn-color-background: var(--sg-background-color, var(--theme-background, var(--jp-layout-color0, white)));\n",
       "  --sklearn-color-border-box: var(--sg-text-color, var(--theme-code-foreground, var(--jp-content-font-color1, black)));\n",
       "  --sklearn-color-icon: #696969;\n",
       "\n",
       "  @media (prefers-color-scheme: dark) {\n",
       "    /* Redefinition of color scheme for dark theme */\n",
       "    --sklearn-color-text-on-default-background: var(--sg-text-color, var(--theme-code-foreground, var(--jp-content-font-color1, white)));\n",
       "    --sklearn-color-background: var(--sg-background-color, var(--theme-background, var(--jp-layout-color0, #111)));\n",
       "    --sklearn-color-border-box: var(--sg-text-color, var(--theme-code-foreground, var(--jp-content-font-color1, white)));\n",
       "    --sklearn-color-icon: #878787;\n",
       "  }\n",
       "}\n",
       "\n",
       "#sk-container-id-2 {\n",
       "  color: var(--sklearn-color-text);\n",
       "}\n",
       "\n",
       "#sk-container-id-2 pre {\n",
       "  padding: 0;\n",
       "}\n",
       "\n",
       "#sk-container-id-2 input.sk-hidden--visually {\n",
       "  border: 0;\n",
       "  clip: rect(1px 1px 1px 1px);\n",
       "  clip: rect(1px, 1px, 1px, 1px);\n",
       "  height: 1px;\n",
       "  margin: -1px;\n",
       "  overflow: hidden;\n",
       "  padding: 0;\n",
       "  position: absolute;\n",
       "  width: 1px;\n",
       "}\n",
       "\n",
       "#sk-container-id-2 div.sk-dashed-wrapped {\n",
       "  border: 1px dashed var(--sklearn-color-line);\n",
       "  margin: 0 0.4em 0.5em 0.4em;\n",
       "  box-sizing: border-box;\n",
       "  padding-bottom: 0.4em;\n",
       "  background-color: var(--sklearn-color-background);\n",
       "}\n",
       "\n",
       "#sk-container-id-2 div.sk-container {\n",
       "  /* jupyter's `normalize.less` sets `[hidden] { display: none; }`\n",
       "     but bootstrap.min.css set `[hidden] { display: none !important; }`\n",
       "     so we also need the `!important` here to be able to override the\n",
       "     default hidden behavior on the sphinx rendered scikit-learn.org.\n",
       "     See: https://github.com/scikit-learn/scikit-learn/issues/21755 */\n",
       "  display: inline-block !important;\n",
       "  position: relative;\n",
       "}\n",
       "\n",
       "#sk-container-id-2 div.sk-text-repr-fallback {\n",
       "  display: none;\n",
       "}\n",
       "\n",
       "div.sk-parallel-item,\n",
       "div.sk-serial,\n",
       "div.sk-item {\n",
       "  /* draw centered vertical line to link estimators */\n",
       "  background-image: linear-gradient(var(--sklearn-color-text-on-default-background), var(--sklearn-color-text-on-default-background));\n",
       "  background-size: 2px 100%;\n",
       "  background-repeat: no-repeat;\n",
       "  background-position: center center;\n",
       "}\n",
       "\n",
       "/* Parallel-specific style estimator block */\n",
       "\n",
       "#sk-container-id-2 div.sk-parallel-item::after {\n",
       "  content: \"\";\n",
       "  width: 100%;\n",
       "  border-bottom: 2px solid var(--sklearn-color-text-on-default-background);\n",
       "  flex-grow: 1;\n",
       "}\n",
       "\n",
       "#sk-container-id-2 div.sk-parallel {\n",
       "  display: flex;\n",
       "  align-items: stretch;\n",
       "  justify-content: center;\n",
       "  background-color: var(--sklearn-color-background);\n",
       "  position: relative;\n",
       "}\n",
       "\n",
       "#sk-container-id-2 div.sk-parallel-item {\n",
       "  display: flex;\n",
       "  flex-direction: column;\n",
       "}\n",
       "\n",
       "#sk-container-id-2 div.sk-parallel-item:first-child::after {\n",
       "  align-self: flex-end;\n",
       "  width: 50%;\n",
       "}\n",
       "\n",
       "#sk-container-id-2 div.sk-parallel-item:last-child::after {\n",
       "  align-self: flex-start;\n",
       "  width: 50%;\n",
       "}\n",
       "\n",
       "#sk-container-id-2 div.sk-parallel-item:only-child::after {\n",
       "  width: 0;\n",
       "}\n",
       "\n",
       "/* Serial-specific style estimator block */\n",
       "\n",
       "#sk-container-id-2 div.sk-serial {\n",
       "  display: flex;\n",
       "  flex-direction: column;\n",
       "  align-items: center;\n",
       "  background-color: var(--sklearn-color-background);\n",
       "  padding-right: 1em;\n",
       "  padding-left: 1em;\n",
       "}\n",
       "\n",
       "\n",
       "/* Toggleable style: style used for estimator/Pipeline/ColumnTransformer box that is\n",
       "clickable and can be expanded/collapsed.\n",
       "- Pipeline and ColumnTransformer use this feature and define the default style\n",
       "- Estimators will overwrite some part of the style using the `sk-estimator` class\n",
       "*/\n",
       "\n",
       "/* Pipeline and ColumnTransformer style (default) */\n",
       "\n",
       "#sk-container-id-2 div.sk-toggleable {\n",
       "  /* Default theme specific background. It is overwritten whether we have a\n",
       "  specific estimator or a Pipeline/ColumnTransformer */\n",
       "  background-color: var(--sklearn-color-background);\n",
       "}\n",
       "\n",
       "/* Toggleable label */\n",
       "#sk-container-id-2 label.sk-toggleable__label {\n",
       "  cursor: pointer;\n",
       "  display: block;\n",
       "  width: 100%;\n",
       "  margin-bottom: 0;\n",
       "  padding: 0.5em;\n",
       "  box-sizing: border-box;\n",
       "  text-align: center;\n",
       "}\n",
       "\n",
       "#sk-container-id-2 label.sk-toggleable__label-arrow:before {\n",
       "  /* Arrow on the left of the label */\n",
       "  content: \"▸\";\n",
       "  float: left;\n",
       "  margin-right: 0.25em;\n",
       "  color: var(--sklearn-color-icon);\n",
       "}\n",
       "\n",
       "#sk-container-id-2 label.sk-toggleable__label-arrow:hover:before {\n",
       "  color: var(--sklearn-color-text);\n",
       "}\n",
       "\n",
       "/* Toggleable content - dropdown */\n",
       "\n",
       "#sk-container-id-2 div.sk-toggleable__content {\n",
       "  max-height: 0;\n",
       "  max-width: 0;\n",
       "  overflow: hidden;\n",
       "  text-align: left;\n",
       "  /* unfitted */\n",
       "  background-color: var(--sklearn-color-unfitted-level-0);\n",
       "}\n",
       "\n",
       "#sk-container-id-2 div.sk-toggleable__content.fitted {\n",
       "  /* fitted */\n",
       "  background-color: var(--sklearn-color-fitted-level-0);\n",
       "}\n",
       "\n",
       "#sk-container-id-2 div.sk-toggleable__content pre {\n",
       "  margin: 0.2em;\n",
       "  border-radius: 0.25em;\n",
       "  color: var(--sklearn-color-text);\n",
       "  /* unfitted */\n",
       "  background-color: var(--sklearn-color-unfitted-level-0);\n",
       "}\n",
       "\n",
       "#sk-container-id-2 div.sk-toggleable__content.fitted pre {\n",
       "  /* unfitted */\n",
       "  background-color: var(--sklearn-color-fitted-level-0);\n",
       "}\n",
       "\n",
       "#sk-container-id-2 input.sk-toggleable__control:checked~div.sk-toggleable__content {\n",
       "  /* Expand drop-down */\n",
       "  max-height: 200px;\n",
       "  max-width: 100%;\n",
       "  overflow: auto;\n",
       "}\n",
       "\n",
       "#sk-container-id-2 input.sk-toggleable__control:checked~label.sk-toggleable__label-arrow:before {\n",
       "  content: \"▾\";\n",
       "}\n",
       "\n",
       "/* Pipeline/ColumnTransformer-specific style */\n",
       "\n",
       "#sk-container-id-2 div.sk-label input.sk-toggleable__control:checked~label.sk-toggleable__label {\n",
       "  color: var(--sklearn-color-text);\n",
       "  background-color: var(--sklearn-color-unfitted-level-2);\n",
       "}\n",
       "\n",
       "#sk-container-id-2 div.sk-label.fitted input.sk-toggleable__control:checked~label.sk-toggleable__label {\n",
       "  background-color: var(--sklearn-color-fitted-level-2);\n",
       "}\n",
       "\n",
       "/* Estimator-specific style */\n",
       "\n",
       "/* Colorize estimator box */\n",
       "#sk-container-id-2 div.sk-estimator input.sk-toggleable__control:checked~label.sk-toggleable__label {\n",
       "  /* unfitted */\n",
       "  background-color: var(--sklearn-color-unfitted-level-2);\n",
       "}\n",
       "\n",
       "#sk-container-id-2 div.sk-estimator.fitted input.sk-toggleable__control:checked~label.sk-toggleable__label {\n",
       "  /* fitted */\n",
       "  background-color: var(--sklearn-color-fitted-level-2);\n",
       "}\n",
       "\n",
       "#sk-container-id-2 div.sk-label label.sk-toggleable__label,\n",
       "#sk-container-id-2 div.sk-label label {\n",
       "  /* The background is the default theme color */\n",
       "  color: var(--sklearn-color-text-on-default-background);\n",
       "}\n",
       "\n",
       "/* On hover, darken the color of the background */\n",
       "#sk-container-id-2 div.sk-label:hover label.sk-toggleable__label {\n",
       "  color: var(--sklearn-color-text);\n",
       "  background-color: var(--sklearn-color-unfitted-level-2);\n",
       "}\n",
       "\n",
       "/* Label box, darken color on hover, fitted */\n",
       "#sk-container-id-2 div.sk-label.fitted:hover label.sk-toggleable__label.fitted {\n",
       "  color: var(--sklearn-color-text);\n",
       "  background-color: var(--sklearn-color-fitted-level-2);\n",
       "}\n",
       "\n",
       "/* Estimator label */\n",
       "\n",
       "#sk-container-id-2 div.sk-label label {\n",
       "  font-family: monospace;\n",
       "  font-weight: bold;\n",
       "  display: inline-block;\n",
       "  line-height: 1.2em;\n",
       "}\n",
       "\n",
       "#sk-container-id-2 div.sk-label-container {\n",
       "  text-align: center;\n",
       "}\n",
       "\n",
       "/* Estimator-specific */\n",
       "#sk-container-id-2 div.sk-estimator {\n",
       "  font-family: monospace;\n",
       "  border: 1px dotted var(--sklearn-color-border-box);\n",
       "  border-radius: 0.25em;\n",
       "  box-sizing: border-box;\n",
       "  margin-bottom: 0.5em;\n",
       "  /* unfitted */\n",
       "  background-color: var(--sklearn-color-unfitted-level-0);\n",
       "}\n",
       "\n",
       "#sk-container-id-2 div.sk-estimator.fitted {\n",
       "  /* fitted */\n",
       "  background-color: var(--sklearn-color-fitted-level-0);\n",
       "}\n",
       "\n",
       "/* on hover */\n",
       "#sk-container-id-2 div.sk-estimator:hover {\n",
       "  /* unfitted */\n",
       "  background-color: var(--sklearn-color-unfitted-level-2);\n",
       "}\n",
       "\n",
       "#sk-container-id-2 div.sk-estimator.fitted:hover {\n",
       "  /* fitted */\n",
       "  background-color: var(--sklearn-color-fitted-level-2);\n",
       "}\n",
       "\n",
       "/* Specification for estimator info (e.g. \"i\" and \"?\") */\n",
       "\n",
       "/* Common style for \"i\" and \"?\" */\n",
       "\n",
       ".sk-estimator-doc-link,\n",
       "a:link.sk-estimator-doc-link,\n",
       "a:visited.sk-estimator-doc-link {\n",
       "  float: right;\n",
       "  font-size: smaller;\n",
       "  line-height: 1em;\n",
       "  font-family: monospace;\n",
       "  background-color: var(--sklearn-color-background);\n",
       "  border-radius: 1em;\n",
       "  height: 1em;\n",
       "  width: 1em;\n",
       "  text-decoration: none !important;\n",
       "  margin-left: 1ex;\n",
       "  /* unfitted */\n",
       "  border: var(--sklearn-color-unfitted-level-1) 1pt solid;\n",
       "  color: var(--sklearn-color-unfitted-level-1);\n",
       "}\n",
       "\n",
       ".sk-estimator-doc-link.fitted,\n",
       "a:link.sk-estimator-doc-link.fitted,\n",
       "a:visited.sk-estimator-doc-link.fitted {\n",
       "  /* fitted */\n",
       "  border: var(--sklearn-color-fitted-level-1) 1pt solid;\n",
       "  color: var(--sklearn-color-fitted-level-1);\n",
       "}\n",
       "\n",
       "/* On hover */\n",
       "div.sk-estimator:hover .sk-estimator-doc-link:hover,\n",
       ".sk-estimator-doc-link:hover,\n",
       "div.sk-label-container:hover .sk-estimator-doc-link:hover,\n",
       ".sk-estimator-doc-link:hover {\n",
       "  /* unfitted */\n",
       "  background-color: var(--sklearn-color-unfitted-level-3);\n",
       "  color: var(--sklearn-color-background);\n",
       "  text-decoration: none;\n",
       "}\n",
       "\n",
       "div.sk-estimator.fitted:hover .sk-estimator-doc-link.fitted:hover,\n",
       ".sk-estimator-doc-link.fitted:hover,\n",
       "div.sk-label-container:hover .sk-estimator-doc-link.fitted:hover,\n",
       ".sk-estimator-doc-link.fitted:hover {\n",
       "  /* fitted */\n",
       "  background-color: var(--sklearn-color-fitted-level-3);\n",
       "  color: var(--sklearn-color-background);\n",
       "  text-decoration: none;\n",
       "}\n",
       "\n",
       "/* Span, style for the box shown on hovering the info icon */\n",
       ".sk-estimator-doc-link span {\n",
       "  display: none;\n",
       "  z-index: 9999;\n",
       "  position: relative;\n",
       "  font-weight: normal;\n",
       "  right: .2ex;\n",
       "  padding: .5ex;\n",
       "  margin: .5ex;\n",
       "  width: min-content;\n",
       "  min-width: 20ex;\n",
       "  max-width: 50ex;\n",
       "  color: var(--sklearn-color-text);\n",
       "  box-shadow: 2pt 2pt 4pt #999;\n",
       "  /* unfitted */\n",
       "  background: var(--sklearn-color-unfitted-level-0);\n",
       "  border: .5pt solid var(--sklearn-color-unfitted-level-3);\n",
       "}\n",
       "\n",
       ".sk-estimator-doc-link.fitted span {\n",
       "  /* fitted */\n",
       "  background: var(--sklearn-color-fitted-level-0);\n",
       "  border: var(--sklearn-color-fitted-level-3);\n",
       "}\n",
       "\n",
       ".sk-estimator-doc-link:hover span {\n",
       "  display: block;\n",
       "}\n",
       "\n",
       "/* \"?\"-specific style due to the `<a>` HTML tag */\n",
       "\n",
       "#sk-container-id-2 a.estimator_doc_link {\n",
       "  float: right;\n",
       "  font-size: 1rem;\n",
       "  line-height: 1em;\n",
       "  font-family: monospace;\n",
       "  background-color: var(--sklearn-color-background);\n",
       "  border-radius: 1rem;\n",
       "  height: 1rem;\n",
       "  width: 1rem;\n",
       "  text-decoration: none;\n",
       "  /* unfitted */\n",
       "  color: var(--sklearn-color-unfitted-level-1);\n",
       "  border: var(--sklearn-color-unfitted-level-1) 1pt solid;\n",
       "}\n",
       "\n",
       "#sk-container-id-2 a.estimator_doc_link.fitted {\n",
       "  /* fitted */\n",
       "  border: var(--sklearn-color-fitted-level-1) 1pt solid;\n",
       "  color: var(--sklearn-color-fitted-level-1);\n",
       "}\n",
       "\n",
       "/* On hover */\n",
       "#sk-container-id-2 a.estimator_doc_link:hover {\n",
       "  /* unfitted */\n",
       "  background-color: var(--sklearn-color-unfitted-level-3);\n",
       "  color: var(--sklearn-color-background);\n",
       "  text-decoration: none;\n",
       "}\n",
       "\n",
       "#sk-container-id-2 a.estimator_doc_link.fitted:hover {\n",
       "  /* fitted */\n",
       "  background-color: var(--sklearn-color-fitted-level-3);\n",
       "}\n",
       "</style><div id=\"sk-container-id-2\" class=\"sk-top-container\"><div class=\"sk-text-repr-fallback\"><pre>ColumnTransformer(transformers=[(&#x27;text_pre_0&#x27;,\n",
       "                                 Pipeline(steps=[(&#x27;text_vect_0&#x27;,\n",
       "                                                  CountVectorizer(max_features=500,\n",
       "                                                                  preprocessor=&lt;function clean at 0x7f45c07cc040&gt;))]),\n",
       "                                 &#x27;text&#x27;)])</pre><b>In a Jupyter environment, please rerun this cell to show the HTML representation or trust the notebook. <br />On GitHub, the HTML representation is unable to render, please try loading this page with nbviewer.org.</b></div><div class=\"sk-container\" hidden><div class=\"sk-item sk-dashed-wrapped\"><div class=\"sk-label-container\"><div class=\"sk-label  sk-toggleable\"><input class=\"sk-toggleable__control sk-hidden--visually\" id=\"sk-estimator-id-3\" type=\"checkbox\" ><label for=\"sk-estimator-id-3\" class=\"sk-toggleable__label  sk-toggleable__label-arrow \">&nbsp;&nbsp;ColumnTransformer<a class=\"sk-estimator-doc-link \" rel=\"noreferrer\" target=\"_blank\" href=\"https://scikit-learn.org/1.5/modules/generated/sklearn.compose.ColumnTransformer.html\">?<span>Documentation for ColumnTransformer</span></a><span class=\"sk-estimator-doc-link \">i<span>Not fitted</span></span></label><div class=\"sk-toggleable__content \"><pre>ColumnTransformer(transformers=[(&#x27;text_pre_0&#x27;,\n",
       "                                 Pipeline(steps=[(&#x27;text_vect_0&#x27;,\n",
       "                                                  CountVectorizer(max_features=500,\n",
       "                                                                  preprocessor=&lt;function clean at 0x7f45c07cc040&gt;))]),\n",
       "                                 &#x27;text&#x27;)])</pre></div> </div></div><div class=\"sk-parallel\"><div class=\"sk-parallel-item\"><div class=\"sk-item\"><div class=\"sk-label-container\"><div class=\"sk-label  sk-toggleable\"><input class=\"sk-toggleable__control sk-hidden--visually\" id=\"sk-estimator-id-4\" type=\"checkbox\" ><label for=\"sk-estimator-id-4\" class=\"sk-toggleable__label  sk-toggleable__label-arrow \">text_pre_0</label><div class=\"sk-toggleable__content \"><pre>text</pre></div> </div></div><div class=\"sk-serial\"><div class=\"sk-item\"><div class=\"sk-serial\"><div class=\"sk-item\"><div class=\"sk-estimator  sk-toggleable\"><input class=\"sk-toggleable__control sk-hidden--visually\" id=\"sk-estimator-id-5\" type=\"checkbox\" ><label for=\"sk-estimator-id-5\" class=\"sk-toggleable__label  sk-toggleable__label-arrow \">&nbsp;CountVectorizer<a class=\"sk-estimator-doc-link \" rel=\"noreferrer\" target=\"_blank\" href=\"https://scikit-learn.org/1.5/modules/generated/sklearn.feature_extraction.text.CountVectorizer.html\">?<span>Documentation for CountVectorizer</span></a></label><div class=\"sk-toggleable__content \"><pre>CountVectorizer(max_features=500,\n",
       "                preprocessor=&lt;function clean at 0x7f45c07cc040&gt;)</pre></div> </div></div></div></div></div></div></div></div></div></div></div>"
      ],
      "text/plain": [
       "ColumnTransformer(transformers=[('text_pre_0',\n",
       "                                 Pipeline(steps=[('text_vect_0',\n",
       "                                                  CountVectorizer(max_features=500,\n",
       "                                                                  preprocessor=<function clean at 0x7f45c07cc040>))]),\n",
       "                                 'text')])"
      ]
     },
     "execution_count": 57,
     "metadata": {},
     "output_type": "execute_result"
    }
   ],
   "source": [
    "data_preprocessor = ColumnTransformer([(\n",
    "    # 命名\n",
    "    'text_pre_0',\n",
    "    # 指定轉換管道，就是前一個步驟建立的\n",
    "    text_processor_0, \n",
    "    # 要轉換的欄位名稱\n",
    "    text_features[0]\n",
    ")])\n",
    "data_preprocessor"
   ]
  },
  {
   "cell_type": "markdown",
   "id": "2101013f",
   "metadata": {},
   "source": [
    "# 預處理前先觀察資料"
   ]
  },
  {
   "cell_type": "code",
   "execution_count": 58,
   "id": "88dd06cd",
   "metadata": {},
   "outputs": [
    {
     "name": "stdout",
     "output_type": "stream",
     "text": [
      "Datasets shapes before processing:  (40000, 2) (5000, 2) (5000, 2)\n"
     ]
    }
   ],
   "source": [
    "print(\n",
    "    'Datasets shapes before processing: ', \n",
    "    train.shape, \n",
    "    validate.shape, \n",
    "    test.shape\n",
    ")"
   ]
  },
  {
   "cell_type": "markdown",
   "id": "08492e90",
   "metadata": {},
   "source": [
    "# 將資料集中的特徵進行轉換處理"
   ]
  },
  {
   "cell_type": "markdown",
   "id": "1e0a0f70",
   "metadata": {},
   "source": [
    "轉換後的數據適用於模型訓練和評估"
   ]
  },
  {
   "cell_type": "markdown",
   "id": "b128dff7",
   "metadata": {},
   "source": [
    "fit_transform 同時執行 `擬合和轉換`，transform 只進行 `轉換`，不再重新擬合"
   ]
  },
  {
   "cell_type": "code",
   "execution_count": 59,
   "id": "22b00f2f",
   "metadata": {},
   "outputs": [
    {
     "name": "stdout",
     "output_type": "stream",
     "text": [
      "Datasets shapes after processing:  (40000, 500) (5000, 500) (5000, 500)\n"
     ]
    }
   ],
   "source": [
    "print(\n",
    "    'Datasets shapes after processing: ', \n",
    "    train_matrix.shape, \n",
    "    validate_matrix.shape, \n",
    "    test_matrix.shape\n",
    ")"
   ]
  },
  {
   "cell_type": "markdown",
   "id": "d344b3e8",
   "metadata": {},
   "source": [
    "# 上傳訓練數據至 S3 "
   ]
  },
  {
   "cell_type": "markdown",
   "id": "a31e7a24",
   "metadata": {},
   "source": [
    "定義上傳函數"
   ]
  },
  {
   "cell_type": "code",
   "execution_count": 60,
   "id": "f259926b",
   "metadata": {},
   "outputs": [
    {
     "name": "stderr",
     "output_type": "stream",
     "text": [
      "INFO:botocore.credentials:Found credentials from IAM Role: BaseNotebookInstanceEc2InstanceRole\n"
     ]
    }
   ],
   "source": [
    "# 建立 S3 的資源物件\n",
    "s3_resource = boto3.Session().resource('s3')\n",
    "\n",
    "# 自定義函數，處理數據轉換為 CSV 格式並上傳至 S3\n",
    "def upload_s3_csv(filename, folder, X_train, y_train, is_test=False):\n",
    "    # 建立一個內存中的字串緩衝區，用來暫存 CSV 內容\n",
    "    csv_buffer = io.StringIO()\n",
    "    \n",
    "    # 將特徵數據轉換為浮點數列表\n",
    "    # 這裡使用列表生成式，將 X_train 中的每個元素轉換為一維浮點數列表\n",
    "    features = [t.toarray().astype('float32').flatten().tolist() for t in X_train]\n",
    "    \n",
    "    # 判斷是否為測試數據\n",
    "    if is_test:\n",
    "        # 如果是測試數據，則直接使用 features，不加入標籤數據\n",
    "        temp_list = features\n",
    "    else:\n",
    "        # 如果是訓練數據，將標籤數據插入到每行特徵數據的第一個位置\n",
    "        temp_list = np.insert(features, 0, y_train['label'], axis=1)\n",
    "    \n",
    "    # 將 temp_list 資料存入 CSV 格式，使用逗號作為分隔符\n",
    "    np.savetxt(csv_buffer, temp_list, delimiter=',')\n",
    "\n",
    "    # 使用 S3 資源物件上傳 CSV 文件到指定的 bucket 路徑\n",
    "    # os.path.join 用來組合 prefix、folder 和 filename 為完整的 S3 路徑\n",
    "    s3_resource.Bucket(bucket).Object(\n",
    "        os.path.join(prefix, folder, filename)\n",
    "    ).put(\n",
    "        Body=csv_buffer.getvalue()  # 上傳緩衝區中的 CSV 資料\n",
    "    )\n"
   ]
  },
  {
   "cell_type": "markdown",
   "id": "0dc91c88",
   "metadata": {},
   "source": [
    "觀察並確認是否已取得 bucket 名稱"
   ]
  },
  {
   "cell_type": "code",
   "execution_count": 61,
   "id": "4a36f0fd",
   "metadata": {},
   "outputs": [
    {
     "data": {
      "text/plain": [
       "('c133864a3391494l8261467t1w211125745218-labbucket-3nrevct3iags',\n",
       " 'c133864a3391494l8261467t1w211125745218-labbucket-3nrevct3iags')"
      ]
     },
     "execution_count": 61,
     "metadata": {},
     "output_type": "execute_result"
    }
   ],
   "source": [
    "bucket, bucket_name"
   ]
  },
  {
   "cell_type": "markdown",
   "id": "fb410fb2",
   "metadata": {},
   "source": [
    "# 定義路徑"
   ]
  },
  {
   "cell_type": "markdown",
   "id": "07797954",
   "metadata": {},
   "source": [
    "prefix 部分之前已定義為 'lab41_new'"
   ]
  },
  {
   "cell_type": "markdown",
   "id": "8ba05854",
   "metadata": {},
   "source": [
    "定義資料集文件名稱"
   ]
  },
  {
   "cell_type": "code",
   "execution_count": 62,
   "id": "5ddc9dcc",
   "metadata": {},
   "outputs": [],
   "source": [
    "train_file='train_pass2.csv'\n",
    "validate_file='validate_pass2.csv'\n",
    "test_file='test_pass2.csv'"
   ]
  },
  {
   "cell_type": "markdown",
   "id": "579d4aea",
   "metadata": {},
   "source": [
    "# 上傳文件"
   ]
  },
  {
   "cell_type": "code",
   "execution_count": 63,
   "id": "b0272119",
   "metadata": {},
   "outputs": [],
   "source": [
    "upload_s3_csv(train_file, 'train', train_matrix, train)\n",
    "upload_s3_csv(validate_file, 'validate', validate_matrix, validate)\n",
    "upload_s3_csv(test_file, 'test', test_matrix, test, True)"
   ]
  },
  {
   "cell_type": "markdown",
   "id": "8f7910b6",
   "metadata": {},
   "source": [
    "查看當前 S3"
   ]
  },
  {
   "cell_type": "code",
   "execution_count": 64,
   "id": "b3db6499",
   "metadata": {},
   "outputs": [
    {
     "name": "stdout",
     "output_type": "stream",
     "text": [
      "📁 lab41_new\n",
      "    📁 batch-in\n",
      "        📄 batch-in.csv\n",
      "    📁 batch-out\n",
      "        📄 batch-in.csv.out\n",
      "    📁 output\n",
      "        📁 xgb-pass1-11-14-2024-03-12-04\n",
      "            📁 debug-output\n",
      "                📁 collections\n",
      "                    📁 000000000\n",
      "                        📄 worker_0_collections.json\n",
      "                📁 events\n",
      "                    📁 000000000000\n",
      "                        📄 000000000000_worker_0.tfevents\n",
      "                    📁 000000000010\n",
      "                        📄 000000000010_worker_0.tfevents\n",
      "                    📁 000000000020\n",
      "                        📄 000000000020_worker_0.tfevents\n",
      "                    📁 000000000030\n",
      "                        📄 000000000030_worker_0.tfevents\n",
      "                    📁 000000000040\n",
      "                        📄 000000000040_worker_0.tfevents\n",
      "                📁 index\n",
      "                    📁 000000000\n",
      "                        📄 000000000000_worker_0.json\n",
      "                        📄 000000000010_worker_0.json\n",
      "                        📄 000000000020_worker_0.json\n",
      "                        📄 000000000030_worker_0.json\n",
      "                        📄 000000000040_worker_0.json\n",
      "                📄 claim.smd\n",
      "                📄 training_job_end.ts\n",
      "            📁 output\n",
      "                📄 model.tar.gz\n",
      "            📁 profiler-output\n",
      "                📁 framework\n",
      "                    📄 training_job_end.ts\n",
      "                📁 system\n",
      "                    📁 incremental\n",
      "                        📁 2024111403\n",
      "                            📄 1731553920.algo-1.json\n",
      "                            📄 1731553980.algo-1.json\n",
      "                            📄 1731554040.algo-1.json\n",
      "                    📄 training_job_end.ts\n",
      "    📁 test\n",
      "        📄 test-pass1.csv\n",
      "        📄 test_pass2.csv\n",
      "    📁 train\n",
      "        📄 train-pass1.csv\n",
      "        📄 train_pass2.csv\n",
      "    📁 validate\n",
      "        📄 validate-pass1.csv\n",
      "        📄 validate_pass2.csv\n"
     ]
    }
   ],
   "source": [
    "list_s3_structure(bucket_name)"
   ]
  },
  {
   "cell_type": "markdown",
   "id": "920aa94f",
   "metadata": {},
   "source": [
    "# 建立估計器"
   ]
  },
  {
   "cell_type": "markdown",
   "id": "c847f44e",
   "metadata": {},
   "source": [
    "查看一下區域"
   ]
  },
  {
   "cell_type": "code",
   "execution_count": 65,
   "id": "cd94aee3",
   "metadata": {},
   "outputs": [
    {
     "data": {
      "text/plain": [
       "'us-east-1'"
      ]
     },
     "execution_count": 65,
     "metadata": {},
     "output_type": "execute_result"
    }
   ],
   "source": [
    "boto3.Session().region_name"
   ]
  },
  {
   "cell_type": "markdown",
   "id": "a62b2ea8",
   "metadata": {},
   "source": [
    "從 AWS Container Registry 取得指定版本的 XGBoost 容器映像"
   ]
  },
  {
   "cell_type": "code",
   "execution_count": 66,
   "id": "fdcdc2bb",
   "metadata": {},
   "outputs": [
    {
     "name": "stderr",
     "output_type": "stream",
     "text": [
      "INFO:sagemaker.image_uris:Defaulting to only available Python version: py3\n",
      "INFO:sagemaker.image_uris:Defaulting to only supported image scope: cpu.\n"
     ]
    }
   ],
   "source": [
    "container = retrieve(\n",
    "    'xgboost', \n",
    "    boto3.Session().region_name, \n",
    "    '1.0-1'\n",
    ")"
   ]
  },
  {
   "cell_type": "markdown",
   "id": "6f3843c0",
   "metadata": {},
   "source": [
    "# 定義 XGBoost 超參數"
   ]
  },
  {
   "cell_type": "code",
   "execution_count": 67,
   "id": "340e4d12",
   "metadata": {},
   "outputs": [],
   "source": [
    "hyperparams = {\n",
    "    # 設定 XGBoost 的訓練輪數為 42\n",
    "    \"num_round\": \"42\",\n",
    "    # 設定評估指標為錯誤率\n",
    "    \"eval_metric\": \"error\",\n",
    "    # 設定目標函數為二元分類（邏輯回歸）\n",
    "    \"objective\": \"binary:logistic\",\n",
    "    # 設定靜默模式，減少訓練過程中的輸出\n",
    "    \"silent\": 1\n",
    "}"
   ]
  },
  {
   "cell_type": "markdown",
   "id": "64ca9440",
   "metadata": {},
   "source": [
    "# 建立估計器物件"
   ]
  },
  {
   "cell_type": "markdown",
   "id": "b436b70a",
   "metadata": {},
   "source": [
    "並設定容器映像、執行角色、實例類型、輸出路徑等"
   ]
  },
  {
   "cell_type": "code",
   "execution_count": 68,
   "id": "c0e7e453",
   "metadata": {},
   "outputs": [],
   "source": [
    "xgb_model = sagemaker.estimator.Estimator(\n",
    "    # 使用的 XGBoost 容器映像\n",
    "    container,                            \n",
    "    # 使用 SageMaker 執行所需的 IAM 角色\n",
    "    sagemaker.get_execution_role(),       \n",
    "    # 設定使用的實例數量為 1\n",
    "    instance_count=1,\n",
    "    # 設定使用的實例類型為 ml.m5.2xlarge\n",
    "    instance_type='ml.m5.2xlarge',\n",
    "    # 設定模型訓練輸出的 S3 路徑\n",
    "    output_path=s3_output_location,\n",
    "    # 設定 XGBoost 超參數\n",
    "    hyperparameters=hyperparams,\n",
    "    # 使用目前的 SageMaker session\n",
    "    sagemaker_session=sagemaker.Session() \n",
    ")"
   ]
  },
  {
   "cell_type": "markdown",
   "id": "3280cdc9",
   "metadata": {},
   "source": [
    "建立通道"
   ]
  },
  {
   "cell_type": "code",
   "execution_count": 69,
   "id": "088767eb",
   "metadata": {},
   "outputs": [],
   "source": [
    "# 建立訓練資料通道，從 S3 載入訓練集 CSV 資料\n",
    "train_channel = sagemaker.inputs.TrainingInput(\n",
    "    f's3://{bucket}/{prefix}/train/{train_file}',  # 訓練資料的 S3 路徑\n",
    "    content_type='text/csv'                        # 設定資料格式為 CSV\n",
    ")\n",
    "\n",
    "# 建立驗證資料通道，從 S3 載入驗證集 CSV 資料\n",
    "validate_channel = sagemaker.inputs.TrainingInput(\n",
    "    f's3://{bucket}/{prefix}/validate/{validate_file}', # 驗證資料的 S3 路徑\n",
    "    content_type='text/csv'                             # 設定資料格式為 CSV\n",
    ")\n",
    "\n",
    "# 組合資料通道成為一個字典，分別包含訓練與驗證的資料\n",
    "data_channels = {\n",
    "    'train': train_channel,        # 訓練資料通道\n",
    "    'validation': validate_channel # 驗證資料通道\n",
    "}\n",
    "\n"
   ]
  },
  {
   "cell_type": "markdown",
   "id": "ea2857a0",
   "metadata": {},
   "source": [
    "# 開始訓練模型"
   ]
  },
  {
   "cell_type": "code",
   "execution_count": 70,
   "id": "50598f6d",
   "metadata": {},
   "outputs": [
    {
     "name": "stderr",
     "output_type": "stream",
     "text": [
      "INFO:sagemaker:Creating training-job with name: xgb-pass2-11-14-2024-03-21-28\n"
     ]
    },
    {
     "name": "stdout",
     "output_type": "stream",
     "text": [
      "\n",
      "2024-11-14 03:21:30 Starting - Starting the training job..\n",
      "2024-11-14 03:21:44 Starting - Preparing the instances for training.....\n",
      "2024-11-14 03:22:15 Downloading - Downloading input data...\n",
      "2024-11-14 03:22:35 Downloading - Downloading the training image.....\n",
      "2024-11-14 03:23:06 Training - Training image download completed. Training in progress.......\n",
      "2024-11-14 03:23:42 Uploading - Uploading generated training model.\n",
      "2024-11-14 03:23:55 Completed - Training job completed\n"
     ]
    }
   ],
   "source": [
    "xgb_model.fit(\n",
    "    # 設定訓練與驗證的資料通道\n",
    "    inputs=data_channels,                    \n",
    "    # 設定不顯示訓練過程的日誌輸出\n",
    "    logs=False,                              \n",
    "    # 訓練作業名稱，包含時間戳\n",
    "    job_name='xgb-pass2-' + datetime.now().strftime(\"%m-%d-%Y-%H-%M-%S\")  \n",
    ")"
   ]
  },
  {
   "cell_type": "markdown",
   "id": "95e1bb3e",
   "metadata": {},
   "source": [
    "# 訓練績效"
   ]
  },
  {
   "cell_type": "code",
   "execution_count": 71,
   "id": "d72e8841",
   "metadata": {},
   "outputs": [],
   "source": [
    "_analytics = sagemaker.analytics.TrainingJobAnalytics(\n",
    "    xgb_model._current_job_name, \n",
    "    metric_names = ['train:error','validation:error']\n",
    ")"
   ]
  },
  {
   "cell_type": "code",
   "execution_count": 72,
   "id": "52effc0b",
   "metadata": {},
   "outputs": [
    {
     "data": {
      "text/plain": [
       "<sagemaker.TrainingJobAnalytics for xgb-pass2-11-14-2024-03-21-28>"
      ]
     },
     "execution_count": 72,
     "metadata": {},
     "output_type": "execute_result"
    }
   ],
   "source": [
    "_analytics"
   ]
  },
  {
   "cell_type": "code",
   "execution_count": 73,
   "id": "57438f1a",
   "metadata": {},
   "outputs": [
    {
     "data": {
      "text/html": [
       "<div>\n",
       "<style scoped>\n",
       "    .dataframe tbody tr th:only-of-type {\n",
       "        vertical-align: middle;\n",
       "    }\n",
       "\n",
       "    .dataframe tbody tr th {\n",
       "        vertical-align: top;\n",
       "    }\n",
       "\n",
       "    .dataframe thead th {\n",
       "        text-align: right;\n",
       "    }\n",
       "</style>\n",
       "<table border=\"1\" class=\"dataframe\">\n",
       "  <thead>\n",
       "    <tr style=\"text-align: right;\">\n",
       "      <th></th>\n",
       "      <th>timestamp</th>\n",
       "      <th>metric_name</th>\n",
       "      <th>value</th>\n",
       "    </tr>\n",
       "  </thead>\n",
       "  <tbody>\n",
       "    <tr>\n",
       "      <th>0</th>\n",
       "      <td>0.0</td>\n",
       "      <td>train:error</td>\n",
       "      <td>0.1985</td>\n",
       "    </tr>\n",
       "    <tr>\n",
       "      <th>1</th>\n",
       "      <td>0.0</td>\n",
       "      <td>validation:error</td>\n",
       "      <td>0.2265</td>\n",
       "    </tr>\n",
       "  </tbody>\n",
       "</table>\n",
       "</div>"
      ],
      "text/plain": [
       "   timestamp       metric_name   value\n",
       "0        0.0       train:error  0.1985\n",
       "1        0.0  validation:error  0.2265"
      ]
     },
     "execution_count": 73,
     "metadata": {},
     "output_type": "execute_result"
    }
   ],
   "source": [
    "_analytics.dataframe()"
   ]
  },
  {
   "cell_type": "markdown",
   "id": "8316a7ba",
   "metadata": {},
   "source": [
    "# 建立轉換器"
   ]
  },
  {
   "cell_type": "code",
   "execution_count": 74,
   "id": "8db44c6a",
   "metadata": {},
   "outputs": [
    {
     "name": "stderr",
     "output_type": "stream",
     "text": [
      "INFO:sagemaker:Creating model with name: sagemaker-xgboost-2024-11-14-03-23-55-617\n"
     ]
    }
   ],
   "source": [
    "xgb_transformer = xgb_model.transformer(\n",
    "    instance_count=1,\n",
    "    instance_type='ml.m5.2xlarge',\n",
    "    strategy='MultiRecord',\n",
    "    assemble_with='Line',\n",
    "    output_path=batch_output\n",
    ")"
   ]
  },
  {
   "cell_type": "markdown",
   "id": "801da490",
   "metadata": {},
   "source": [
    "# 執行轉換作業"
   ]
  },
  {
   "cell_type": "code",
   "execution_count": 75,
   "id": "86b0106a",
   "metadata": {},
   "outputs": [
    {
     "name": "stderr",
     "output_type": "stream",
     "text": [
      "INFO:sagemaker:Creating transform job with name: sagemaker-xgboost-2024-11-14-03-23-56-220\n"
     ]
    },
    {
     "name": "stdout",
     "output_type": "stream",
     "text": [
      ".................................\n",
      "\u001b[34m[2024-11-14:03:29:26:INFO] No GPUs detected (normal if no gpus installed)\u001b[0m\n",
      "\u001b[34m[2024-11-14:03:29:26:INFO] No GPUs detected (normal if no gpus installed)\u001b[0m\n",
      "\u001b[34m[2024-11-14:03:29:26:INFO] nginx config: \u001b[0m\n",
      "\u001b[34mworker_processes auto;\u001b[0m\n",
      "\u001b[34mdaemon off;\u001b[0m\n",
      "\u001b[34mpid /tmp/nginx.pid;\u001b[0m\n",
      "\u001b[34merror_log  /dev/stderr;\u001b[0m\n",
      "\u001b[34mworker_rlimit_nofile 4096;\u001b[0m\n",
      "\u001b[34mevents {\n",
      "  worker_connections 2048;\u001b[0m\n",
      "\u001b[34m}\u001b[0m\n",
      "\u001b[34mhttp {\n",
      "  include /etc/nginx/mime.types;\n",
      "  default_type application/octet-stream;\n",
      "  access_log /dev/stdout combined;\n",
      "  upstream gunicorn {\n",
      "    server unix:/tmp/gunicorn.sock;\n",
      "  }\n",
      "  server {\n",
      "    listen 8080 deferred;\n",
      "    client_max_body_size 0;\n",
      "    keepalive_timeout 3;\n",
      "    location ~ ^/(ping|invocations|execution-parameters) {\n",
      "      proxy_set_header X-Forwarded-For $proxy_add_x_forwarded_for;\n",
      "      proxy_set_header Host $http_host;\n",
      "      proxy_redirect off;\n",
      "      proxy_read_timeout 60s;\n",
      "      proxy_pass http://gunicorn;\n",
      "    }\n",
      "    location / {\n",
      "      return 404 \"{}\";\n",
      "    }\n",
      "  }\u001b[0m\n",
      "\u001b[34m}\u001b[0m\n",
      "\u001b[34m[2024-11-14 03:29:26 +0000] [27] [INFO] Starting gunicorn 19.10.0\u001b[0m\n",
      "\u001b[34m[2024-11-14 03:29:26 +0000] [27] [INFO] Listening at: unix:/tmp/gunicorn.sock (27)\u001b[0m\n",
      "\u001b[34m[2024-11-14 03:29:26 +0000] [27] [INFO] Using worker: gevent\u001b[0m\n",
      "\u001b[34m[2024-11-14 03:29:26 +0000] [38] [INFO] Booting worker with pid: 38\u001b[0m\n",
      "\u001b[34m[2024-11-14 03:29:26 +0000] [39] [INFO] Booting worker with pid: 39\u001b[0m\n",
      "\u001b[34m[2024-11-14 03:29:26 +0000] [40] [INFO] Booting worker with pid: 40\u001b[0m\n",
      "\u001b[34m[2024-11-14 03:29:26 +0000] [48] [INFO] Booting worker with pid: 48\u001b[0m\n",
      "\u001b[34m[2024-11-14 03:29:26 +0000] [49] [INFO] Booting worker with pid: 49\u001b[0m\n",
      "\u001b[34m[2024-11-14 03:29:26 +0000] [50] [INFO] Booting worker with pid: 50\u001b[0m\n",
      "\u001b[34m[2024-11-14 03:29:26 +0000] [51] [INFO] Booting worker with pid: 51\u001b[0m\n",
      "\u001b[34m[2024-11-14 03:29:26 +0000] [59] [INFO] Booting worker with pid: 59\u001b[0m\n",
      "\u001b[34m[2024-11-14:03:29:31:INFO] No GPUs detected (normal if no gpus installed)\u001b[0m\n",
      "\u001b[34m169.254.255.130 - - [14/Nov/2024:03:29:31 +0000] \"GET /ping HTTP/1.1\" 200 0 \"-\" \"Go-http-client/1.1\"\u001b[0m\n",
      "\u001b[34m[2024-11-14:03:29:31:INFO] No GPUs detected (normal if no gpus installed)\u001b[0m\n",
      "\u001b[34m169.254.255.130 - - [14/Nov/2024:03:29:31 +0000] \"GET /execution-parameters HTTP/1.1\" 200 84 \"-\" \"Go-http-client/1.1\"\u001b[0m\n",
      "\u001b[34m[2024-11-14:03:29:32:INFO] No GPUs detected (normal if no gpus installed)\u001b[0m\n",
      "\u001b[34m[2024-11-14:03:29:32:INFO] Determined delimiter of CSV input is ','\u001b[0m\n",
      "\u001b[34m[2024-11-14:03:29:32:INFO] No GPUs detected (normal if no gpus installed)\u001b[0m\n",
      "\u001b[34m[2024-11-14:03:29:32:INFO] Determined delimiter of CSV input is ','\u001b[0m\n",
      "\u001b[34m[2024-11-14:03:29:32:INFO] Determined delimiter of CSV input is ','\u001b[0m\n",
      "\u001b[34m[2024-11-14:03:29:32:INFO] No GPUs detected (normal if no gpus installed)\u001b[0m\n",
      "\u001b[34m[2024-11-14:03:29:32:INFO] Determined delimiter of CSV input is ','\u001b[0m\n",
      "\u001b[34m[2024-11-14:03:29:32:INFO] No GPUs detected (normal if no gpus installed)\u001b[0m\n",
      "\u001b[34m[2024-11-14:03:29:32:INFO] Determined delimiter of CSV input is ','\u001b[0m\n",
      "\u001b[34m[2024-11-14:03:29:32:INFO] Determined delimiter of CSV input is ','\u001b[0m\n",
      "\u001b[34m[2024-11-14:03:29:32:INFO] No GPUs detected (normal if no gpus installed)\u001b[0m\n",
      "\u001b[34m[2024-11-14:03:29:32:INFO] No GPUs detected (normal if no gpus installed)\u001b[0m\n",
      "\u001b[34m169.254.255.130 - - [14/Nov/2024:03:29:32 +0000] \"POST /invocations HTTP/1.1\" 200 9711 \"-\" \"Go-http-client/1.1\"\u001b[0m\n",
      "\u001b[34m[2024-11-14:03:29:32:INFO] Determined delimiter of CSV input is ','\u001b[0m\n",
      "\u001b[34m169.254.255.130 - - [14/Nov/2024:03:29:32 +0000] \"POST /invocations HTTP/1.1\" 200 9711 \"-\" \"Go-http-client/1.1\"\u001b[0m\n",
      "\u001b[34m[2024-11-14:03:29:32:INFO] Determined delimiter of CSV input is ','\u001b[0m\n",
      "\u001b[34m169.254.255.130 - - [14/Nov/2024:03:29:32 +0000] \"POST /invocations HTTP/1.1\" 200 9704 \"-\" \"Go-http-client/1.1\"\u001b[0m\n",
      "\u001b[34m169.254.255.130 - - [14/Nov/2024:03:29:32 +0000] \"POST /invocations HTTP/1.1\" 200 9747 \"-\" \"Go-http-client/1.1\"\u001b[0m\n",
      "\u001b[34m169.254.255.130 - - [14/Nov/2024:03:29:32 +0000] \"POST /invocations HTTP/1.1\" 200 9729 \"-\" \"Go-http-client/1.1\"\u001b[0m\n",
      "\u001b[34m[2024-11-14:03:29:32:INFO] Determined delimiter of CSV input is ','\u001b[0m\n",
      "\u001b[34m[2024-11-14:03:29:32:INFO] Determined delimiter of CSV input is ','\u001b[0m\n",
      "\u001b[34m169.254.255.130 - - [14/Nov/2024:03:29:32 +0000] \"POST /invocations HTTP/1.1\" 200 9705 \"-\" \"Go-http-client/1.1\"\u001b[0m\n",
      "\u001b[34m169.254.255.130 - - [14/Nov/2024:03:29:32 +0000] \"POST /invocations HTTP/1.1\" 200 9739 \"-\" \"Go-http-client/1.1\"\u001b[0m\n",
      "\u001b[34m169.254.255.130 - - [14/Nov/2024:03:29:32 +0000] \"POST /invocations HTTP/1.1\" 200 9732 \"-\" \"Go-http-client/1.1\"\u001b[0m\n",
      "\u001b[34m169.254.255.130 - - [14/Nov/2024:03:29:32 +0000] \"POST /invocations HTTP/1.1\" 200 9168 \"-\" \"Go-http-client/1.1\"\u001b[0m\n",
      "\u001b[34m169.254.255.130 - - [14/Nov/2024:03:29:32 +0000] \"POST /invocations HTTP/1.1\" 200 9730 \"-\" \"Go-http-client/1.1\"\u001b[0m\n",
      "\u001b[32m2024-11-14T03:29:31.246:[sagemaker logs]: MaxConcurrentTransforms=8, MaxPayloadInMB=6, BatchStrategy=MULTI_RECORD\u001b[0m\n"
     ]
    }
   ],
   "source": [
    "xgb_transformer.transform(\n",
    "    data=batch_input,\n",
    "    data_type='S3Prefix',\n",
    "    content_type='text/csv',\n",
    "    split_type='Line'\n",
    ")"
   ]
  },
  {
   "cell_type": "markdown",
   "id": "cb8e6df9",
   "metadata": {},
   "source": [
    "這段代碼是多餘的，在這個版本中並無作用，這裡僅做保留"
   ]
  },
  {
   "cell_type": "code",
   "execution_count": 76,
   "id": "d71989c9",
   "metadata": {},
   "outputs": [
    {
     "name": "stdout",
     "output_type": "stream",
     "text": [
      "!\n"
     ]
    }
   ],
   "source": [
    "xgb_transformer.wait(logs=False)"
   ]
  },
  {
   "cell_type": "markdown",
   "id": "8a790452",
   "metadata": {},
   "source": [
    "# 下載預測結果文件"
   ]
  },
  {
   "cell_type": "markdown",
   "id": "18afb92b",
   "metadata": {},
   "source": [
    "查看 bucket"
   ]
  },
  {
   "cell_type": "code",
   "execution_count": 77,
   "id": "ce2f4fc4",
   "metadata": {},
   "outputs": [
    {
     "data": {
      "text/plain": [
       "'c133864a3391494l8261467t1w211125745218-labbucket-3nrevct3iags'"
      ]
     },
     "execution_count": 77,
     "metadata": {},
     "output_type": "execute_result"
    }
   ],
   "source": [
    "bucket"
   ]
  },
  {
   "cell_type": "markdown",
   "id": "4e852390",
   "metadata": {},
   "source": [
    "建立 Key"
   ]
  },
  {
   "cell_type": "code",
   "execution_count": 78,
   "id": "80726a5d",
   "metadata": {},
   "outputs": [
    {
     "data": {
      "text/plain": [
       "'lab41_new/batch-out/batch-in.csv.out'"
      ]
     },
     "execution_count": 78,
     "metadata": {},
     "output_type": "execute_result"
    }
   ],
   "source": [
    "_key = \"{}/batch-out/{}\".format(prefix,'batch-in.csv.out')\n",
    "_key"
   ]
  },
  {
   "cell_type": "markdown",
   "id": "f1707248",
   "metadata": {},
   "source": [
    "# 取得數據"
   ]
  },
  {
   "cell_type": "code",
   "execution_count": 79,
   "id": "1c2d4c05",
   "metadata": {},
   "outputs": [],
   "source": [
    "s3 = boto3.client('s3')\n",
    "obj = s3.get_object(\n",
    "    Bucket=bucket, \n",
    "    Key=_key\n",
    ")"
   ]
  },
  {
   "cell_type": "markdown",
   "id": "ad9a2a70",
   "metadata": {},
   "source": [
    "# 不指定欄位名稱，保留原始欄位名"
   ]
  },
  {
   "cell_type": "code",
   "execution_count": 80,
   "id": "829a741a",
   "metadata": {},
   "outputs": [
    {
     "data": {
      "text/html": [
       "<div>\n",
       "<style scoped>\n",
       "    .dataframe tbody tr th:only-of-type {\n",
       "        vertical-align: middle;\n",
       "    }\n",
       "\n",
       "    .dataframe tbody tr th {\n",
       "        vertical-align: top;\n",
       "    }\n",
       "\n",
       "    .dataframe thead th {\n",
       "        text-align: right;\n",
       "    }\n",
       "</style>\n",
       "<table border=\"1\" class=\"dataframe\">\n",
       "  <thead>\n",
       "    <tr style=\"text-align: right;\">\n",
       "      <th></th>\n",
       "      <th>0.8042524456977844</th>\n",
       "    </tr>\n",
       "  </thead>\n",
       "  <tbody>\n",
       "    <tr>\n",
       "      <th>0</th>\n",
       "      <td>0.053819</td>\n",
       "    </tr>\n",
       "    <tr>\n",
       "      <th>1</th>\n",
       "      <td>0.601907</td>\n",
       "    </tr>\n",
       "    <tr>\n",
       "      <th>2</th>\n",
       "      <td>0.680756</td>\n",
       "    </tr>\n",
       "    <tr>\n",
       "      <th>3</th>\n",
       "      <td>0.800711</td>\n",
       "    </tr>\n",
       "    <tr>\n",
       "      <th>4</th>\n",
       "      <td>0.256345</td>\n",
       "    </tr>\n",
       "  </tbody>\n",
       "</table>\n",
       "</div>"
      ],
      "text/plain": [
       "   0.8042524456977844\n",
       "0            0.053819\n",
       "1            0.601907\n",
       "2            0.680756\n",
       "3            0.800711\n",
       "4            0.256345"
      ]
     },
     "execution_count": 80,
     "metadata": {},
     "output_type": "execute_result"
    }
   ],
   "source": [
    "target_predicted_original = pd.read_csv(io.BytesIO(obj['Body'].read()), sep=',')\n",
    "target_predicted_original[0:5]"
   ]
  },
  {
   "cell_type": "markdown",
   "id": "988e3501",
   "metadata": {},
   "source": [
    "必須再次讀取"
   ]
  },
  {
   "cell_type": "code",
   "execution_count": 81,
   "id": "c8b4931a",
   "metadata": {},
   "outputs": [],
   "source": [
    "s3 = boto3.client('s3')\n",
    "obj = s3.get_object(\n",
    "    Bucket=bucket, \n",
    "    Key=_key\n",
    ")"
   ]
  },
  {
   "cell_type": "markdown",
   "id": "30118f04",
   "metadata": {},
   "source": [
    "讀取 CSV 文件並轉換為 Pandas DataFrame"
   ]
  },
  {
   "cell_type": "code",
   "execution_count": 82,
   "id": "67ca162f",
   "metadata": {},
   "outputs": [
    {
     "data": {
      "text/html": [
       "<div>\n",
       "<style scoped>\n",
       "    .dataframe tbody tr th:only-of-type {\n",
       "        vertical-align: middle;\n",
       "    }\n",
       "\n",
       "    .dataframe tbody tr th {\n",
       "        vertical-align: top;\n",
       "    }\n",
       "\n",
       "    .dataframe thead th {\n",
       "        text-align: right;\n",
       "    }\n",
       "</style>\n",
       "<table border=\"1\" class=\"dataframe\">\n",
       "  <thead>\n",
       "    <tr style=\"text-align: right;\">\n",
       "      <th></th>\n",
       "      <th>class</th>\n",
       "    </tr>\n",
       "  </thead>\n",
       "  <tbody>\n",
       "    <tr>\n",
       "      <th>0</th>\n",
       "      <td>0.804252</td>\n",
       "    </tr>\n",
       "    <tr>\n",
       "      <th>1</th>\n",
       "      <td>0.053819</td>\n",
       "    </tr>\n",
       "    <tr>\n",
       "      <th>2</th>\n",
       "      <td>0.601907</td>\n",
       "    </tr>\n",
       "    <tr>\n",
       "      <th>3</th>\n",
       "      <td>0.680756</td>\n",
       "    </tr>\n",
       "    <tr>\n",
       "      <th>4</th>\n",
       "      <td>0.800711</td>\n",
       "    </tr>\n",
       "  </tbody>\n",
       "</table>\n",
       "</div>"
      ],
      "text/plain": [
       "      class\n",
       "0  0.804252\n",
       "1  0.053819\n",
       "2  0.601907\n",
       "3  0.680756\n",
       "4  0.800711"
      ]
     },
     "execution_count": 82,
     "metadata": {},
     "output_type": "execute_result"
    }
   ],
   "source": [
    "target_predicted = pd.read_csv(\n",
    "    io.BytesIO(obj['Body'].read()),\n",
    "    sep=',',\n",
    "    # 將列命名為 'class'\n",
    "    names=['class']\n",
    ")\n",
    "target_predicted[:5]"
   ]
  },
  {
   "cell_type": "markdown",
   "id": "fca2a442",
   "metadata": {},
   "source": [
    "# 自定義二元轉換函數"
   ]
  },
  {
   "cell_type": "code",
   "execution_count": 83,
   "id": "27a52dc4",
   "metadata": {},
   "outputs": [],
   "source": [
    "def binary_convert(x):\n",
    "    threshold = 0.5\n",
    "    if x > threshold:\n",
    "        return 1\n",
    "    else:\n",
    "        return 0"
   ]
  },
  {
   "cell_type": "markdown",
   "id": "fc43fbf6",
   "metadata": {},
   "source": [
    "將 'class' 列中的每個值應用 binary_convert 函數，並生成二元化的預測結果"
   ]
  },
  {
   "cell_type": "code",
   "execution_count": 84,
   "id": "ee75cb81",
   "metadata": {},
   "outputs": [
    {
     "data": {
      "text/plain": [
       "0    1\n",
       "1    0\n",
       "2    1\n",
       "3    1\n",
       "4    1\n",
       "Name: class, dtype: int64"
      ]
     },
     "execution_count": 84,
     "metadata": {},
     "output_type": "execute_result"
    }
   ],
   "source": [
    "target_predicted_binary = target_predicted['class'].apply(binary_convert)\n",
    "target_predicted_binary[:5]"
   ]
  },
  {
   "cell_type": "markdown",
   "id": "5f5134f5",
   "metadata": {},
   "source": [
    "# 繪製混淆矩陣"
   ]
  },
  {
   "cell_type": "code",
   "execution_count": 85,
   "id": "05befe58",
   "metadata": {},
   "outputs": [
    {
     "data": {
      "image/png": "[encoded data removed]",
      "text/plain": [
       "<Figure size 640x480 with 1 Axes>"
      ]
     },
     "metadata": {},
     "output_type": "display_data"
    }
   ],
   "source": [
    "plot_confusion_matrix(test['label'], target_predicted_binary)"
   ]
  },
  {
   "cell_type": "markdown",
   "id": "4ce36bb4",
   "metadata": {},
   "source": [
    "輸出績效指標"
   ]
  },
  {
   "cell_type": "code",
   "execution_count": 86,
   "id": "9eab915b",
   "metadata": {},
   "outputs": [
    {
     "name": "stdout",
     "output_type": "stream",
     "text": [
      "敏感性/召回率 (Sensitivity or TPR): 85.4672704816797%\n",
      "特異性 (Specificity or TNR): 79.15208090237262%\n",
      "精確率 (Precision): 79.47932618683001%\n",
      "陰性預測值 (Negative Predictive Value): 85.2177554438861%\n",
      "假陽性率 (False Positive Rate): 20.847919097627383%\n",
      "假陰性率 (False Negative Rate): 14.532729518320298%\n",
      "假發現率 (False Discovery Rate): 20.520673813169985%\n",
      "正確率 (Accuracy): 82.22%\n"
     ]
    }
   ],
   "source": [
    "print_metrics(test['label'], target_predicted_binary)"
   ]
  },
  {
   "cell_type": "markdown",
   "id": "38fe3206",
   "metadata": {},
   "source": [
    "# 調整超參數"
   ]
  },
  {
   "cell_type": "markdown",
   "id": "81e51ce2",
   "metadata": {},
   "source": [
    "目的是優化模型"
   ]
  },
  {
   "cell_type": "markdown",
   "id": "d36a06bf",
   "metadata": {},
   "source": [
    "查看角色"
   ]
  },
  {
   "cell_type": "code",
   "execution_count": 87,
   "id": "48750499",
   "metadata": {},
   "outputs": [
    {
     "data": {
      "text/plain": [
       "'arn:aws:iam::211125745218:role/service-role/c133864a3391494l8261467t1w21-SageMakerExecutionRole-VBYF2xrDUwYU'"
      ]
     },
     "execution_count": 87,
     "metadata": {},
     "output_type": "execute_result"
    }
   ],
   "source": [
    "role_arn = sagemaker.get_execution_role()\n",
    "role_arn"
   ]
  },
  {
   "cell_type": "markdown",
   "id": "1d7a7979",
   "metadata": {},
   "source": [
    "設定輸出路徑"
   ]
  },
  {
   "cell_type": "code",
   "execution_count": 88,
   "id": "8046b14a",
   "metadata": {},
   "outputs": [
    {
     "data": {
      "text/plain": [
       "'s3://c133864a3391494l8261467t1w211125745218-labbucket-3nrevct3iags/lab41_new/output'"
      ]
     },
     "execution_count": 88,
     "metadata": {},
     "output_type": "execute_result"
    }
   ],
   "source": [
    "_output_path = f's3://{bucket}/{prefix}/output'\n",
    "_output_path"
   ]
  },
  {
   "cell_type": "markdown",
   "id": "93841907",
   "metadata": {},
   "source": [
    "# 設定訓練任務的配置配置"
   ]
  },
  {
   "cell_type": "markdown",
   "id": "d77544df",
   "metadata": {},
   "source": [
    "估計器就是一個訓練任務的配置"
   ]
  },
  {
   "cell_type": "code",
   "execution_count": 89,
   "id": "f94906fd",
   "metadata": {},
   "outputs": [],
   "source": [
    "xgb = sagemaker.estimator.Estimator(\n",
    "    container,\n",
    "    role=role_arn, \n",
    "    instance_count= 1,\n",
    "    instance_type='ml.m5.2xlarge', \n",
    "    output_path=_output_path,\n",
    "    sagemaker_session=sagemaker.Session()\n",
    ")"
   ]
  },
  {
   "cell_type": "markdown",
   "id": "94052aea",
   "metadata": {},
   "source": [
    "# 設定 XGBoost 模型的超參數"
   ]
  },
  {
   "cell_type": "code",
   "execution_count": 90,
   "id": "0496a6e6",
   "metadata": {},
   "outputs": [],
   "source": [
    "xgb.set_hyperparameters(\n",
    "    # 設定評估指標為 'error'，即模型預測錯誤率\n",
    "    eval_metric='error',\n",
    "    # 設定目標函數為 'binary:logistic'，適用於二元分類的邏輯回歸\n",
    "    objective='binary:logistic',\n",
    "    # 設定模型訓練的迭代次數為 42\n",
    "    num_round=42,\n",
    "    # 設定 silent 參數為 1，以關閉訓練過程中的訊息輸出\n",
    "    silent=1\n",
    ")\n"
   ]
  },
  {
   "cell_type": "markdown",
   "id": "c8ba0e1c",
   "metadata": {},
   "source": [
    "# 定義模型超參數的範圍"
   ]
  },
  {
   "cell_type": "markdown",
   "id": "e7a45f19",
   "metadata": {},
   "source": [
    "導入庫"
   ]
  },
  {
   "cell_type": "code",
   "execution_count": 91,
   "id": "9de5ae5b",
   "metadata": {},
   "outputs": [],
   "source": [
    "from sagemaker.tuner import (\n",
    "    # 整數參數\n",
    "    IntegerParameter, \n",
    "    # 類別參數\n",
    "    CategoricalParameter, \n",
    "    # 連續參數\n",
    "    ContinuousParameter, \n",
    "    # 超參數調優器\n",
    "    HyperparameterTuner\n",
    ")"
   ]
  },
  {
   "cell_type": "markdown",
   "id": "78ccfa8d",
   "metadata": {},
   "source": [
    "範圍設定"
   ]
  },
  {
   "cell_type": "code",
   "execution_count": 92,
   "id": "1da717a8",
   "metadata": {},
   "outputs": [],
   "source": [
    "# 初始的範例設定，為超參數 alpha 設定了一個連續範圍 [0, 1000]\n",
    "hyperparameter_ranges = {'alpha': ContinuousParameter(0,1000)}\n",
    "\n",
    "# 擴展範圍設定\n",
    "hyperparameter_ranges = {\n",
    "    'alpha': ContinuousParameter(0, 1000),\n",
    "    'min_child_weight': ContinuousParameter(0, 120),\n",
    "    'subsample': ContinuousParameter(0.5, 1),\n",
    "    'eta': ContinuousParameter(0.1, 0.5),  \n",
    "    'num_round': IntegerParameter(1,4000)\n",
    "}"
   ]
  },
  {
   "cell_type": "markdown",
   "id": "5d04d86c",
   "metadata": {},
   "source": [
    "# 指定目標指標"
   ]
  },
  {
   "cell_type": "markdown",
   "id": "abcac436",
   "metadata": {},
   "source": [
    "包含目標度量 (objective_metric_name) 和優化目標 (objective_type)"
   ]
  },
  {
   "cell_type": "markdown",
   "id": "6f9ed8e3",
   "metadata": {},
   "source": [
    "假設要將模型的驗證錯誤（validation:error）最小化，可設定如下"
   ]
  },
  {
   "cell_type": "code",
   "execution_count": 93,
   "id": "9e0d1656",
   "metadata": {},
   "outputs": [],
   "source": [
    "objective_metric_name = 'validation:error'\n",
    "objective_type = 'Minimize'"
   ]
  },
  {
   "cell_type": "markdown",
   "id": "07307164",
   "metadata": {},
   "source": [
    "# 建立自動調優超參數的 HyperparameterTuner 物件"
   ]
  },
  {
   "cell_type": "code",
   "execution_count": 94,
   "id": "c14fe19d",
   "metadata": {},
   "outputs": [],
   "source": [
    "tuner = HyperparameterTuner(\n",
    "    # 指定要調優的模型是 XGBoost 模型\n",
    "    xgb,\n",
    "    # 設定調優的目標度量名稱，根據此度量判斷模型優劣\n",
    "    objective_metric_name,\n",
    "    # 定義超參數的範圍，允許調優器在範圍內搜尋最佳參數\n",
    "    hyperparameter_ranges,\n",
    "    # 最大調優作業數，控制調優過程中的總實驗次數，取決於時間和資金的需求，設為 10 或更高\n",
    "    max_jobs=10,\n",
    "    # 最大並行作業數，控制同時執行的實驗數量，設為 1 表示逐次進行\n",
    "    max_parallel_jobs=1,\n",
    "    # 定義目標類型，例如 Minimize 或 Maximize，以指示優化方向\n",
    "    objective_type=objective_type,\n",
    "    # 設定早停類型為自動，若調優過程中無法提升性能會自動停止\n",
    "    early_stopping_type='Auto',\n",
    ")\n"
   ]
  },
  {
   "cell_type": "markdown",
   "id": "203c051a",
   "metadata": {},
   "source": [
    "# 查看通道"
   ]
  },
  {
   "cell_type": "code",
   "execution_count": 95,
   "id": "15d96a8f",
   "metadata": {},
   "outputs": [
    {
     "data": {
      "text/plain": [
       "{'train': <sagemaker.inputs.TrainingInput at 0x7f45c09afbb0>,\n",
       " 'validation': <sagemaker.inputs.TrainingInput at 0x7f45c09af610>}"
      ]
     },
     "execution_count": 95,
     "metadata": {},
     "output_type": "execute_result"
    }
   ],
   "source": [
    "data_channels"
   ]
  },
  {
   "cell_type": "markdown",
   "id": "8daf9678",
   "metadata": {},
   "source": [
    "# 開始訓練"
   ]
  },
  {
   "cell_type": "markdown",
   "id": "5d326a0c",
   "metadata": {},
   "source": [
    "運行後會出現警告，顯示在建立超參數調優作業時，沒有找到與該估計器相關聯且完成訓練的工作，也就是估計器尚未執行過任何訓練，這會讓估計器沒有訓練紀錄可以參考而出現警告。"
   ]
  },
  {
   "cell_type": "code",
   "execution_count": 96,
   "id": "e734e960",
   "metadata": {},
   "outputs": [
    {
     "name": "stderr",
     "output_type": "stream",
     "text": [
      "WARNING:sagemaker.estimator:No finished training job found associated with this estimator. Please make sure this estimator is only used for building workflow config\n",
      "WARNING:sagemaker.estimator:No finished training job found associated with this estimator. Please make sure this estimator is only used for building workflow config\n",
      "INFO:sagemaker:Creating hyperparameter tuning job with name: sagemaker-xgboost-241114-0329\n"
     ]
    }
   ],
   "source": [
    "tuner.fit(\n",
    "    inputs=data_channels,\n",
    "    include_cls_metadata=False,\n",
    "    wait=False\n",
    ")"
   ]
  },
  {
   "cell_type": "markdown",
   "id": "58e98471",
   "metadata": {},
   "source": [
    "# 等待任務完成"
   ]
  },
  {
   "cell_type": "code",
   "execution_count": 97,
   "id": "07aa3fc6",
   "metadata": {},
   "outputs": [
    {
     "name": "stdout",
     "output_type": "stream",
     "text": [
      ".......................................................................................................................................................................................................................................................................................................................................................................!\n"
     ]
    }
   ],
   "source": [
    "tuner.wait()"
   ]
  },
  {
   "cell_type": "markdown",
   "id": "957256e0",
   "metadata": {},
   "source": [
    "# 導入庫"
   ]
  },
  {
   "cell_type": "code",
   "execution_count": 98,
   "id": "07fea4de",
   "metadata": {},
   "outputs": [],
   "source": [
    "from pprint import pprint\n",
    "from sagemaker.analytics import HyperparameterTuningJobAnalytics"
   ]
  },
  {
   "cell_type": "markdown",
   "id": "388262d0",
   "metadata": {},
   "source": [
    "查詢最近一次任務"
   ]
  },
  {
   "cell_type": "code",
   "execution_count": 99,
   "id": "3bd359df",
   "metadata": {},
   "outputs": [
    {
     "data": {
      "text/plain": [
       "'sagemaker-xgboost-241114-0329'"
      ]
     },
     "execution_count": 99,
     "metadata": {},
     "output_type": "execute_result"
    }
   ],
   "source": [
    "_latest_tuning_job_name = tuner.latest_tuning_job.name\n",
    "_latest_tuning_job_name"
   ]
  },
  {
   "cell_type": "markdown",
   "id": "fd08500d",
   "metadata": {},
   "source": [
    "建立超參優化分析器物件，這是用於分析調優任務的數據"
   ]
  },
  {
   "cell_type": "code",
   "execution_count": 100,
   "id": "50f22a2a",
   "metadata": {},
   "outputs": [],
   "source": [
    "tuner_analytics = HyperparameterTuningJobAnalytics(\n",
    "    # 是最近一次調優任務的名稱\n",
    "    _latest_tuning_job_name, \n",
    "    # 指定要使用的 SageMaker 任務\n",
    "    sagemaker_session=sagemaker.Session()\n",
    ")"
   ]
  },
  {
   "cell_type": "markdown",
   "id": "0d9668d7",
   "metadata": {},
   "source": [
    "顯示為 dataframe"
   ]
  },
  {
   "cell_type": "code",
   "execution_count": 101,
   "id": "9205af76",
   "metadata": {},
   "outputs": [
    {
     "data": {
      "text/html": [
       "<div>\n",
       "<style scoped>\n",
       "    .dataframe tbody tr th:only-of-type {\n",
       "        vertical-align: middle;\n",
       "    }\n",
       "\n",
       "    .dataframe tbody tr th {\n",
       "        vertical-align: top;\n",
       "    }\n",
       "\n",
       "    .dataframe thead th {\n",
       "        text-align: right;\n",
       "    }\n",
       "</style>\n",
       "<table border=\"1\" class=\"dataframe\">\n",
       "  <thead>\n",
       "    <tr style=\"text-align: right;\">\n",
       "      <th></th>\n",
       "      <th>alpha</th>\n",
       "      <th>eta</th>\n",
       "      <th>min_child_weight</th>\n",
       "      <th>num_round</th>\n",
       "      <th>subsample</th>\n",
       "      <th>TrainingJobName</th>\n",
       "      <th>TrainingJobStatus</th>\n",
       "      <th>FinalObjectiveValue</th>\n",
       "      <th>TrainingStartTime</th>\n",
       "      <th>TrainingEndTime</th>\n",
       "      <th>TrainingElapsedTimeSeconds</th>\n",
       "    </tr>\n",
       "  </thead>\n",
       "  <tbody>\n",
       "    <tr>\n",
       "      <th>0</th>\n",
       "      <td>200.565611</td>\n",
       "      <td>0.263550</td>\n",
       "      <td>38.543177</td>\n",
       "      <td>2148.0</td>\n",
       "      <td>0.748706</td>\n",
       "      <td>sagemaker-xgboost-241114-0329-010-70b604b6</td>\n",
       "      <td>Completed</td>\n",
       "      <td>0.1870</td>\n",
       "      <td>2024-11-14 03:57:54+00:00</td>\n",
       "      <td>2024-11-14 04:00:24+00:00</td>\n",
       "      <td>150.0</td>\n",
       "    </tr>\n",
       "    <tr>\n",
       "      <th>1</th>\n",
       "      <td>0.000000</td>\n",
       "      <td>0.406207</td>\n",
       "      <td>0.000000</td>\n",
       "      <td>3613.0</td>\n",
       "      <td>0.500000</td>\n",
       "      <td>sagemaker-xgboost-241114-0329-009-7f8c96e8</td>\n",
       "      <td>Completed</td>\n",
       "      <td>0.1652</td>\n",
       "      <td>2024-11-14 03:43:08+00:00</td>\n",
       "      <td>2024-11-14 03:55:35+00:00</td>\n",
       "      <td>747.0</td>\n",
       "    </tr>\n",
       "    <tr>\n",
       "      <th>2</th>\n",
       "      <td>0.000000</td>\n",
       "      <td>0.382635</td>\n",
       "      <td>118.048316</td>\n",
       "      <td>1.0</td>\n",
       "      <td>1.000000</td>\n",
       "      <td>sagemaker-xgboost-241114-0329-008-0123de81</td>\n",
       "      <td>Completed</td>\n",
       "      <td>0.2864</td>\n",
       "      <td>2024-11-14 03:42:23+00:00</td>\n",
       "      <td>2024-11-14 03:42:55+00:00</td>\n",
       "      <td>32.0</td>\n",
       "    </tr>\n",
       "    <tr>\n",
       "      <th>3</th>\n",
       "      <td>0.000000</td>\n",
       "      <td>0.282900</td>\n",
       "      <td>0.529085</td>\n",
       "      <td>1769.0</td>\n",
       "      <td>1.000000</td>\n",
       "      <td>sagemaker-xgboost-241114-0329-007-51f0b394</td>\n",
       "      <td>Completed</td>\n",
       "      <td>0.1604</td>\n",
       "      <td>2024-11-14 03:36:59+00:00</td>\n",
       "      <td>2024-11-14 03:41:58+00:00</td>\n",
       "      <td>299.0</td>\n",
       "    </tr>\n",
       "    <tr>\n",
       "      <th>4</th>\n",
       "      <td>0.000000</td>\n",
       "      <td>0.119066</td>\n",
       "      <td>70.388928</td>\n",
       "      <td>60.0</td>\n",
       "      <td>0.500000</td>\n",
       "      <td>sagemaker-xgboost-241114-0329-006-ad599ee1</td>\n",
       "      <td>Completed</td>\n",
       "      <td>0.1918</td>\n",
       "      <td>2024-11-14 03:35:58+00:00</td>\n",
       "      <td>2024-11-14 03:36:42+00:00</td>\n",
       "      <td>44.0</td>\n",
       "    </tr>\n",
       "  </tbody>\n",
       "</table>\n",
       "</div>"
      ],
      "text/plain": [
       "        alpha       eta  min_child_weight  num_round  subsample  \\\n",
       "0  200.565611  0.263550         38.543177     2148.0   0.748706   \n",
       "1    0.000000  0.406207          0.000000     3613.0   0.500000   \n",
       "2    0.000000  0.382635        118.048316        1.0   1.000000   \n",
       "3    0.000000  0.282900          0.529085     1769.0   1.000000   \n",
       "4    0.000000  0.119066         70.388928       60.0   0.500000   \n",
       "\n",
       "                              TrainingJobName TrainingJobStatus  \\\n",
       "0  sagemaker-xgboost-241114-0329-010-70b604b6         Completed   \n",
       "1  sagemaker-xgboost-241114-0329-009-7f8c96e8         Completed   \n",
       "2  sagemaker-xgboost-241114-0329-008-0123de81         Completed   \n",
       "3  sagemaker-xgboost-241114-0329-007-51f0b394         Completed   \n",
       "4  sagemaker-xgboost-241114-0329-006-ad599ee1         Completed   \n",
       "\n",
       "   FinalObjectiveValue         TrainingStartTime           TrainingEndTime  \\\n",
       "0               0.1870 2024-11-14 03:57:54+00:00 2024-11-14 04:00:24+00:00   \n",
       "1               0.1652 2024-11-14 03:43:08+00:00 2024-11-14 03:55:35+00:00   \n",
       "2               0.2864 2024-11-14 03:42:23+00:00 2024-11-14 03:42:55+00:00   \n",
       "3               0.1604 2024-11-14 03:36:59+00:00 2024-11-14 03:41:58+00:00   \n",
       "4               0.1918 2024-11-14 03:35:58+00:00 2024-11-14 03:36:42+00:00   \n",
       "\n",
       "   TrainingElapsedTimeSeconds  \n",
       "0                       150.0  \n",
       "1                       747.0  \n",
       "2                        32.0  \n",
       "3                       299.0  \n",
       "4                        44.0  "
      ]
     },
     "execution_count": 101,
     "metadata": {},
     "output_type": "execute_result"
    }
   ],
   "source": [
    "df_tuning_job_analytics = tuner_analytics.dataframe()\n",
    "df_tuning_job_analytics[:5]"
   ]
  },
  {
   "cell_type": "markdown",
   "id": "a7188711",
   "metadata": {},
   "source": [
    "# 將 DataFrame 進行排序"
   ]
  },
  {
   "cell_type": "code",
   "execution_count": 102,
   "id": "527babe6",
   "metadata": {},
   "outputs": [],
   "source": [
    "# Sort the tuning job analytics by the final metrics value\n",
    "df_tuning_job_analytics.sort_values(\n",
    "    # 以此列為排序依據\n",
    "    by=['FinalObjectiveValue'],\n",
    "    # 直接在原數據上進行排序，不會傳回新的 DataFrame\n",
    "    inplace=True,\n",
    "    # 如果目標是 \"Maximize\" 則降序排列，否則升序排列\n",
    "    ascending=False if tuner.objective_type == \"Maximize\" else True)"
   ]
  },
  {
   "cell_type": "markdown",
   "id": "463cb6f8",
   "metadata": {},
   "source": [
    "# 顯示前 20 筆調優分析數據"
   ]
  },
  {
   "cell_type": "code",
   "execution_count": 103,
   "id": "ed472fc2",
   "metadata": {},
   "outputs": [
    {
     "data": {
      "text/html": [
       "<div>\n",
       "<style scoped>\n",
       "    .dataframe tbody tr th:only-of-type {\n",
       "        vertical-align: middle;\n",
       "    }\n",
       "\n",
       "    .dataframe tbody tr th {\n",
       "        vertical-align: top;\n",
       "    }\n",
       "\n",
       "    .dataframe thead th {\n",
       "        text-align: right;\n",
       "    }\n",
       "</style>\n",
       "<table border=\"1\" class=\"dataframe\">\n",
       "  <thead>\n",
       "    <tr style=\"text-align: right;\">\n",
       "      <th></th>\n",
       "      <th>alpha</th>\n",
       "      <th>eta</th>\n",
       "      <th>min_child_weight</th>\n",
       "      <th>num_round</th>\n",
       "      <th>subsample</th>\n",
       "      <th>TrainingJobName</th>\n",
       "      <th>TrainingJobStatus</th>\n",
       "      <th>FinalObjectiveValue</th>\n",
       "      <th>TrainingStartTime</th>\n",
       "      <th>TrainingEndTime</th>\n",
       "      <th>TrainingElapsedTimeSeconds</th>\n",
       "    </tr>\n",
       "  </thead>\n",
       "  <tbody>\n",
       "    <tr>\n",
       "      <th>3</th>\n",
       "      <td>0.000000</td>\n",
       "      <td>0.282900</td>\n",
       "      <td>0.529085</td>\n",
       "      <td>1769.0</td>\n",
       "      <td>1.000000</td>\n",
       "      <td>sagemaker-xgboost-241114-0329-007-51f0b394</td>\n",
       "      <td>Completed</td>\n",
       "      <td>0.1604</td>\n",
       "      <td>2024-11-14 03:36:59+00:00</td>\n",
       "      <td>2024-11-14 03:41:58+00:00</td>\n",
       "      <td>299.0</td>\n",
       "    </tr>\n",
       "    <tr>\n",
       "      <th>1</th>\n",
       "      <td>0.000000</td>\n",
       "      <td>0.406207</td>\n",
       "      <td>0.000000</td>\n",
       "      <td>3613.0</td>\n",
       "      <td>0.500000</td>\n",
       "      <td>sagemaker-xgboost-241114-0329-009-7f8c96e8</td>\n",
       "      <td>Completed</td>\n",
       "      <td>0.1652</td>\n",
       "      <td>2024-11-14 03:43:08+00:00</td>\n",
       "      <td>2024-11-14 03:55:35+00:00</td>\n",
       "      <td>747.0</td>\n",
       "    </tr>\n",
       "    <tr>\n",
       "      <th>0</th>\n",
       "      <td>200.565611</td>\n",
       "      <td>0.263550</td>\n",
       "      <td>38.543177</td>\n",
       "      <td>2148.0</td>\n",
       "      <td>0.748706</td>\n",
       "      <td>sagemaker-xgboost-241114-0329-010-70b604b6</td>\n",
       "      <td>Completed</td>\n",
       "      <td>0.1870</td>\n",
       "      <td>2024-11-14 03:57:54+00:00</td>\n",
       "      <td>2024-11-14 04:00:24+00:00</td>\n",
       "      <td>150.0</td>\n",
       "    </tr>\n",
       "    <tr>\n",
       "      <th>4</th>\n",
       "      <td>0.000000</td>\n",
       "      <td>0.119066</td>\n",
       "      <td>70.388928</td>\n",
       "      <td>60.0</td>\n",
       "      <td>0.500000</td>\n",
       "      <td>sagemaker-xgboost-241114-0329-006-ad599ee1</td>\n",
       "      <td>Completed</td>\n",
       "      <td>0.1918</td>\n",
       "      <td>2024-11-14 03:35:58+00:00</td>\n",
       "      <td>2024-11-14 03:36:42+00:00</td>\n",
       "      <td>44.0</td>\n",
       "    </tr>\n",
       "    <tr>\n",
       "      <th>6</th>\n",
       "      <td>240.635764</td>\n",
       "      <td>0.260890</td>\n",
       "      <td>16.986388</td>\n",
       "      <td>65.0</td>\n",
       "      <td>0.767417</td>\n",
       "      <td>sagemaker-xgboost-241114-0329-004-cbde452d</td>\n",
       "      <td>Completed</td>\n",
       "      <td>0.2004</td>\n",
       "      <td>2024-11-14 03:34:04+00:00</td>\n",
       "      <td>2024-11-14 03:34:49+00:00</td>\n",
       "      <td>45.0</td>\n",
       "    </tr>\n",
       "    <tr>\n",
       "      <th>8</th>\n",
       "      <td>420.985451</td>\n",
       "      <td>0.184621</td>\n",
       "      <td>117.440378</td>\n",
       "      <td>66.0</td>\n",
       "      <td>0.745964</td>\n",
       "      <td>sagemaker-xgboost-241114-0329-002-19b30206</td>\n",
       "      <td>Completed</td>\n",
       "      <td>0.2260</td>\n",
       "      <td>2024-11-14 03:32:30+00:00</td>\n",
       "      <td>2024-11-14 03:33:16+00:00</td>\n",
       "      <td>46.0</td>\n",
       "    </tr>\n",
       "    <tr>\n",
       "      <th>9</th>\n",
       "      <td>614.193661</td>\n",
       "      <td>0.352935</td>\n",
       "      <td>17.969627</td>\n",
       "      <td>11.0</td>\n",
       "      <td>0.810944</td>\n",
       "      <td>sagemaker-xgboost-241114-0329-001-210561a8</td>\n",
       "      <td>Completed</td>\n",
       "      <td>0.2514</td>\n",
       "      <td>2024-11-14 03:30:46+00:00</td>\n",
       "      <td>2024-11-14 03:32:18+00:00</td>\n",
       "      <td>92.0</td>\n",
       "    </tr>\n",
       "    <tr>\n",
       "      <th>7</th>\n",
       "      <td>865.411011</td>\n",
       "      <td>0.233571</td>\n",
       "      <td>74.548238</td>\n",
       "      <td>5.0</td>\n",
       "      <td>0.764420</td>\n",
       "      <td>sagemaker-xgboost-241114-0329-003-47b6a7db</td>\n",
       "      <td>Completed</td>\n",
       "      <td>0.2690</td>\n",
       "      <td>2024-11-14 03:33:26+00:00</td>\n",
       "      <td>2024-11-14 03:33:55+00:00</td>\n",
       "      <td>29.0</td>\n",
       "    </tr>\n",
       "    <tr>\n",
       "      <th>5</th>\n",
       "      <td>895.980156</td>\n",
       "      <td>0.273389</td>\n",
       "      <td>42.646904</td>\n",
       "      <td>5.0</td>\n",
       "      <td>0.875386</td>\n",
       "      <td>sagemaker-xgboost-241114-0329-005-f9874229</td>\n",
       "      <td>Completed</td>\n",
       "      <td>0.2722</td>\n",
       "      <td>2024-11-14 03:35:08+00:00</td>\n",
       "      <td>2024-11-14 03:35:41+00:00</td>\n",
       "      <td>33.0</td>\n",
       "    </tr>\n",
       "    <tr>\n",
       "      <th>2</th>\n",
       "      <td>0.000000</td>\n",
       "      <td>0.382635</td>\n",
       "      <td>118.048316</td>\n",
       "      <td>1.0</td>\n",
       "      <td>1.000000</td>\n",
       "      <td>sagemaker-xgboost-241114-0329-008-0123de81</td>\n",
       "      <td>Completed</td>\n",
       "      <td>0.2864</td>\n",
       "      <td>2024-11-14 03:42:23+00:00</td>\n",
       "      <td>2024-11-14 03:42:55+00:00</td>\n",
       "      <td>32.0</td>\n",
       "    </tr>\n",
       "  </tbody>\n",
       "</table>\n",
       "</div>"
      ],
      "text/plain": [
       "        alpha       eta  min_child_weight  num_round  subsample  \\\n",
       "3    0.000000  0.282900          0.529085     1769.0   1.000000   \n",
       "1    0.000000  0.406207          0.000000     3613.0   0.500000   \n",
       "0  200.565611  0.263550         38.543177     2148.0   0.748706   \n",
       "4    0.000000  0.119066         70.388928       60.0   0.500000   \n",
       "6  240.635764  0.260890         16.986388       65.0   0.767417   \n",
       "8  420.985451  0.184621        117.440378       66.0   0.745964   \n",
       "9  614.193661  0.352935         17.969627       11.0   0.810944   \n",
       "7  865.411011  0.233571         74.548238        5.0   0.764420   \n",
       "5  895.980156  0.273389         42.646904        5.0   0.875386   \n",
       "2    0.000000  0.382635        118.048316        1.0   1.000000   \n",
       "\n",
       "                              TrainingJobName TrainingJobStatus  \\\n",
       "3  sagemaker-xgboost-241114-0329-007-51f0b394         Completed   \n",
       "1  sagemaker-xgboost-241114-0329-009-7f8c96e8         Completed   \n",
       "0  sagemaker-xgboost-241114-0329-010-70b604b6         Completed   \n",
       "4  sagemaker-xgboost-241114-0329-006-ad599ee1         Completed   \n",
       "6  sagemaker-xgboost-241114-0329-004-cbde452d         Completed   \n",
       "8  sagemaker-xgboost-241114-0329-002-19b30206         Completed   \n",
       "9  sagemaker-xgboost-241114-0329-001-210561a8         Completed   \n",
       "7  sagemaker-xgboost-241114-0329-003-47b6a7db         Completed   \n",
       "5  sagemaker-xgboost-241114-0329-005-f9874229         Completed   \n",
       "2  sagemaker-xgboost-241114-0329-008-0123de81         Completed   \n",
       "\n",
       "   FinalObjectiveValue         TrainingStartTime           TrainingEndTime  \\\n",
       "3               0.1604 2024-11-14 03:36:59+00:00 2024-11-14 03:41:58+00:00   \n",
       "1               0.1652 2024-11-14 03:43:08+00:00 2024-11-14 03:55:35+00:00   \n",
       "0               0.1870 2024-11-14 03:57:54+00:00 2024-11-14 04:00:24+00:00   \n",
       "4               0.1918 2024-11-14 03:35:58+00:00 2024-11-14 03:36:42+00:00   \n",
       "6               0.2004 2024-11-14 03:34:04+00:00 2024-11-14 03:34:49+00:00   \n",
       "8               0.2260 2024-11-14 03:32:30+00:00 2024-11-14 03:33:16+00:00   \n",
       "9               0.2514 2024-11-14 03:30:46+00:00 2024-11-14 03:32:18+00:00   \n",
       "7               0.2690 2024-11-14 03:33:26+00:00 2024-11-14 03:33:55+00:00   \n",
       "5               0.2722 2024-11-14 03:35:08+00:00 2024-11-14 03:35:41+00:00   \n",
       "2               0.2864 2024-11-14 03:42:23+00:00 2024-11-14 03:42:55+00:00   \n",
       "\n",
       "   TrainingElapsedTimeSeconds  \n",
       "3                       299.0  \n",
       "1                       747.0  \n",
       "0                       150.0  \n",
       "4                        44.0  \n",
       "6                        45.0  \n",
       "8                        46.0  \n",
       "9                        92.0  \n",
       "7                        29.0  \n",
       "5                        33.0  \n",
       "2                        32.0  "
      ]
     },
     "execution_count": 103,
     "metadata": {},
     "output_type": "execute_result"
    }
   ],
   "source": [
    "df_tuning_job_analytics.head(20)"
   ]
  },
  {
   "cell_type": "markdown",
   "id": "dcbaad77",
   "metadata": {},
   "source": [
    "# 使用最佳超參數工作"
   ]
  },
  {
   "cell_type": "markdown",
   "id": "5b306622",
   "metadata": {},
   "source": [
    "調優作業完成後，可從 HyperparameterTuner 物件中找到最佳的調優作業"
   ]
  },
  {
   "cell_type": "code",
   "execution_count": 104,
   "id": "9edb38c9",
   "metadata": {},
   "outputs": [],
   "source": [
    "# 附加到最近一次的調優任務\n",
    "attached_tuner = HyperparameterTuner.attach(\n",
    "    # 指定要附加的任務是最新的調優任務\n",
    "    _latest_tuning_job_name, \n",
    "    # 指定 SageMaker 任務\n",
    "    sagemaker_session=sagemaker.Session()\n",
    ")\n",
    "best_training_job = attached_tuner.best_training_job()"
   ]
  },
  {
   "cell_type": "markdown",
   "id": "f4d6945c",
   "metadata": {},
   "source": [
    "取得最佳訓練任務名稱"
   ]
  },
  {
   "cell_type": "code",
   "execution_count": 105,
   "id": "0ca0cd54",
   "metadata": {},
   "outputs": [
    {
     "data": {
      "text/plain": [
       "'sagemaker-xgboost-241114-0329-007-51f0b394'"
      ]
     },
     "execution_count": 105,
     "metadata": {},
     "output_type": "execute_result"
    }
   ],
   "source": [
    "best_training_job"
   ]
  },
  {
   "cell_type": "code",
   "execution_count": 106,
   "id": "c8683aec",
   "metadata": {},
   "outputs": [
    {
     "name": "stdout",
     "output_type": "stream",
     "text": [
      "\n",
      "2024-11-14 03:42:22 Starting - Found matching resource for reuse\n",
      "2024-11-14 03:42:22 Downloading - Downloading the training image\n",
      "2024-11-14 03:42:22 Training - Training image download completed. Training in progress.\n",
      "2024-11-14 03:42:22 Uploading - Uploading generated training model\n",
      "2024-11-14 03:42:22 Completed - Resource reused by training job: sagemaker-xgboost-241114-0329-008-0123de81\n"
     ]
    }
   ],
   "source": [
    "from sagemaker.estimator import Estimator\n",
    "\n",
    "# 最佳訓練任務的名稱，該名稱在前面步驟取得\n",
    "algo_estimator = Estimator.attach(best_training_job)"
   ]
  },
  {
   "cell_type": "markdown",
   "id": "c977e2a4",
   "metadata": {},
   "source": [
    "# 使用最佳訓練任務的估計器建立一個模型"
   ]
  },
  {
   "cell_type": "code",
   "execution_count": 107,
   "id": "795a1ca7",
   "metadata": {},
   "outputs": [],
   "source": [
    "best_algo_model = algo_estimator.create_model(\n",
    "    # 指定模型的環境變量\n",
    "    env={'SAGEMAKER_DEFAULT_INVOCATIONS_ACCEPT':\"text/csv\"}\n",
    ")"
   ]
  },
  {
   "cell_type": "markdown",
   "id": "6da0acfb",
   "metadata": {},
   "source": [
    "# 測試模型"
   ]
  },
  {
   "cell_type": "markdown",
   "id": "081c7fa8",
   "metadata": {},
   "source": [
    "從 scikit-learn 中導入文本特徵提取器、管道和欄位轉換器"
   ]
  },
  {
   "cell_type": "code",
   "execution_count": 108,
   "id": "be49d262",
   "metadata": {},
   "outputs": [],
   "source": [
    "from sklearn.feature_extraction.text import CountVectorizer\n",
    "from sklearn.pipeline import Pipeline\n",
    "from sklearn.compose import ColumnTransformer"
   ]
  },
  {
   "cell_type": "markdown",
   "id": "2e9bd6ff",
   "metadata": {},
   "source": [
    "# 定義欄位名稱"
   ]
  },
  {
   "cell_type": "code",
   "execution_count": 109,
   "id": "1e0b3a5e",
   "metadata": {},
   "outputs": [],
   "source": [
    "# 文本特徵\n",
    "text_features = ['text']\n",
    "# 目標變量\n",
    "model_target = 'label'"
   ]
  },
  {
   "cell_type": "markdown",
   "id": "b3afaf29",
   "metadata": {},
   "source": [
    "# 建立文本的管道"
   ]
  },
  {
   "cell_type": "code",
   "execution_count": 110,
   "id": "01b847cf",
   "metadata": {},
   "outputs": [
    {
     "data": {
      "text/html": [
       "<style>#sk-container-id-3 {\n",
       "  /* Definition of color scheme common for light and dark mode */\n",
       "  --sklearn-color-text: black;\n",
       "  --sklearn-color-line: gray;\n",
       "  /* Definition of color scheme for unfitted estimators */\n",
       "  --sklearn-color-unfitted-level-0: #fff5e6;\n",
       "  --sklearn-color-unfitted-level-1: #f6e4d2;\n",
       "  --sklearn-color-unfitted-level-2: #ffe0b3;\n",
       "  --sklearn-color-unfitted-level-3: chocolate;\n",
       "  /* Definition of color scheme for fitted estimators */\n",
       "  --sklearn-color-fitted-level-0: #f0f8ff;\n",
       "  --sklearn-color-fitted-level-1: #d4ebff;\n",
       "  --sklearn-color-fitted-level-2: #b3dbfd;\n",
       "  --sklearn-color-fitted-level-3: cornflowerblue;\n",
       "\n",
       "  /* Specific color for light theme */\n",
       "  --sklearn-color-text-on-default-background: var(--sg-text-color, var(--theme-code-foreground, var(--jp-content-font-color1, black)));\n",
       "  --sklearn-color-background: var(--sg-background-color, var(--theme-background, var(--jp-layout-color0, white)));\n",
       "  --sklearn-color-border-box: var(--sg-text-color, var(--theme-code-foreground, var(--jp-content-font-color1, black)));\n",
       "  --sklearn-color-icon: #696969;\n",
       "\n",
       "  @media (prefers-color-scheme: dark) {\n",
       "    /* Redefinition of color scheme for dark theme */\n",
       "    --sklearn-color-text-on-default-background: var(--sg-text-color, var(--theme-code-foreground, var(--jp-content-font-color1, white)));\n",
       "    --sklearn-color-background: var(--sg-background-color, var(--theme-background, var(--jp-layout-color0, #111)));\n",
       "    --sklearn-color-border-box: var(--sg-text-color, var(--theme-code-foreground, var(--jp-content-font-color1, white)));\n",
       "    --sklearn-color-icon: #878787;\n",
       "  }\n",
       "}\n",
       "\n",
       "#sk-container-id-3 {\n",
       "  color: var(--sklearn-color-text);\n",
       "}\n",
       "\n",
       "#sk-container-id-3 pre {\n",
       "  padding: 0;\n",
       "}\n",
       "\n",
       "#sk-container-id-3 input.sk-hidden--visually {\n",
       "  border: 0;\n",
       "  clip: rect(1px 1px 1px 1px);\n",
       "  clip: rect(1px, 1px, 1px, 1px);\n",
       "  height: 1px;\n",
       "  margin: -1px;\n",
       "  overflow: hidden;\n",
       "  padding: 0;\n",
       "  position: absolute;\n",
       "  width: 1px;\n",
       "}\n",
       "\n",
       "#sk-container-id-3 div.sk-dashed-wrapped {\n",
       "  border: 1px dashed var(--sklearn-color-line);\n",
       "  margin: 0 0.4em 0.5em 0.4em;\n",
       "  box-sizing: border-box;\n",
       "  padding-bottom: 0.4em;\n",
       "  background-color: var(--sklearn-color-background);\n",
       "}\n",
       "\n",
       "#sk-container-id-3 div.sk-container {\n",
       "  /* jupyter's `normalize.less` sets `[hidden] { display: none; }`\n",
       "     but bootstrap.min.css set `[hidden] { display: none !important; }`\n",
       "     so we also need the `!important` here to be able to override the\n",
       "     default hidden behavior on the sphinx rendered scikit-learn.org.\n",
       "     See: https://github.com/scikit-learn/scikit-learn/issues/21755 */\n",
       "  display: inline-block !important;\n",
       "  position: relative;\n",
       "}\n",
       "\n",
       "#sk-container-id-3 div.sk-text-repr-fallback {\n",
       "  display: none;\n",
       "}\n",
       "\n",
       "div.sk-parallel-item,\n",
       "div.sk-serial,\n",
       "div.sk-item {\n",
       "  /* draw centered vertical line to link estimators */\n",
       "  background-image: linear-gradient(var(--sklearn-color-text-on-default-background), var(--sklearn-color-text-on-default-background));\n",
       "  background-size: 2px 100%;\n",
       "  background-repeat: no-repeat;\n",
       "  background-position: center center;\n",
       "}\n",
       "\n",
       "/* Parallel-specific style estimator block */\n",
       "\n",
       "#sk-container-id-3 div.sk-parallel-item::after {\n",
       "  content: \"\";\n",
       "  width: 100%;\n",
       "  border-bottom: 2px solid var(--sklearn-color-text-on-default-background);\n",
       "  flex-grow: 1;\n",
       "}\n",
       "\n",
       "#sk-container-id-3 div.sk-parallel {\n",
       "  display: flex;\n",
       "  align-items: stretch;\n",
       "  justify-content: center;\n",
       "  background-color: var(--sklearn-color-background);\n",
       "  position: relative;\n",
       "}\n",
       "\n",
       "#sk-container-id-3 div.sk-parallel-item {\n",
       "  display: flex;\n",
       "  flex-direction: column;\n",
       "}\n",
       "\n",
       "#sk-container-id-3 div.sk-parallel-item:first-child::after {\n",
       "  align-self: flex-end;\n",
       "  width: 50%;\n",
       "}\n",
       "\n",
       "#sk-container-id-3 div.sk-parallel-item:last-child::after {\n",
       "  align-self: flex-start;\n",
       "  width: 50%;\n",
       "}\n",
       "\n",
       "#sk-container-id-3 div.sk-parallel-item:only-child::after {\n",
       "  width: 0;\n",
       "}\n",
       "\n",
       "/* Serial-specific style estimator block */\n",
       "\n",
       "#sk-container-id-3 div.sk-serial {\n",
       "  display: flex;\n",
       "  flex-direction: column;\n",
       "  align-items: center;\n",
       "  background-color: var(--sklearn-color-background);\n",
       "  padding-right: 1em;\n",
       "  padding-left: 1em;\n",
       "}\n",
       "\n",
       "\n",
       "/* Toggleable style: style used for estimator/Pipeline/ColumnTransformer box that is\n",
       "clickable and can be expanded/collapsed.\n",
       "- Pipeline and ColumnTransformer use this feature and define the default style\n",
       "- Estimators will overwrite some part of the style using the `sk-estimator` class\n",
       "*/\n",
       "\n",
       "/* Pipeline and ColumnTransformer style (default) */\n",
       "\n",
       "#sk-container-id-3 div.sk-toggleable {\n",
       "  /* Default theme specific background. It is overwritten whether we have a\n",
       "  specific estimator or a Pipeline/ColumnTransformer */\n",
       "  background-color: var(--sklearn-color-background);\n",
       "}\n",
       "\n",
       "/* Toggleable label */\n",
       "#sk-container-id-3 label.sk-toggleable__label {\n",
       "  cursor: pointer;\n",
       "  display: block;\n",
       "  width: 100%;\n",
       "  margin-bottom: 0;\n",
       "  padding: 0.5em;\n",
       "  box-sizing: border-box;\n",
       "  text-align: center;\n",
       "}\n",
       "\n",
       "#sk-container-id-3 label.sk-toggleable__label-arrow:before {\n",
       "  /* Arrow on the left of the label */\n",
       "  content: \"▸\";\n",
       "  float: left;\n",
       "  margin-right: 0.25em;\n",
       "  color: var(--sklearn-color-icon);\n",
       "}\n",
       "\n",
       "#sk-container-id-3 label.sk-toggleable__label-arrow:hover:before {\n",
       "  color: var(--sklearn-color-text);\n",
       "}\n",
       "\n",
       "/* Toggleable content - dropdown */\n",
       "\n",
       "#sk-container-id-3 div.sk-toggleable__content {\n",
       "  max-height: 0;\n",
       "  max-width: 0;\n",
       "  overflow: hidden;\n",
       "  text-align: left;\n",
       "  /* unfitted */\n",
       "  background-color: var(--sklearn-color-unfitted-level-0);\n",
       "}\n",
       "\n",
       "#sk-container-id-3 div.sk-toggleable__content.fitted {\n",
       "  /* fitted */\n",
       "  background-color: var(--sklearn-color-fitted-level-0);\n",
       "}\n",
       "\n",
       "#sk-container-id-3 div.sk-toggleable__content pre {\n",
       "  margin: 0.2em;\n",
       "  border-radius: 0.25em;\n",
       "  color: var(--sklearn-color-text);\n",
       "  /* unfitted */\n",
       "  background-color: var(--sklearn-color-unfitted-level-0);\n",
       "}\n",
       "\n",
       "#sk-container-id-3 div.sk-toggleable__content.fitted pre {\n",
       "  /* unfitted */\n",
       "  background-color: var(--sklearn-color-fitted-level-0);\n",
       "}\n",
       "\n",
       "#sk-container-id-3 input.sk-toggleable__control:checked~div.sk-toggleable__content {\n",
       "  /* Expand drop-down */\n",
       "  max-height: 200px;\n",
       "  max-width: 100%;\n",
       "  overflow: auto;\n",
       "}\n",
       "\n",
       "#sk-container-id-3 input.sk-toggleable__control:checked~label.sk-toggleable__label-arrow:before {\n",
       "  content: \"▾\";\n",
       "}\n",
       "\n",
       "/* Pipeline/ColumnTransformer-specific style */\n",
       "\n",
       "#sk-container-id-3 div.sk-label input.sk-toggleable__control:checked~label.sk-toggleable__label {\n",
       "  color: var(--sklearn-color-text);\n",
       "  background-color: var(--sklearn-color-unfitted-level-2);\n",
       "}\n",
       "\n",
       "#sk-container-id-3 div.sk-label.fitted input.sk-toggleable__control:checked~label.sk-toggleable__label {\n",
       "  background-color: var(--sklearn-color-fitted-level-2);\n",
       "}\n",
       "\n",
       "/* Estimator-specific style */\n",
       "\n",
       "/* Colorize estimator box */\n",
       "#sk-container-id-3 div.sk-estimator input.sk-toggleable__control:checked~label.sk-toggleable__label {\n",
       "  /* unfitted */\n",
       "  background-color: var(--sklearn-color-unfitted-level-2);\n",
       "}\n",
       "\n",
       "#sk-container-id-3 div.sk-estimator.fitted input.sk-toggleable__control:checked~label.sk-toggleable__label {\n",
       "  /* fitted */\n",
       "  background-color: var(--sklearn-color-fitted-level-2);\n",
       "}\n",
       "\n",
       "#sk-container-id-3 div.sk-label label.sk-toggleable__label,\n",
       "#sk-container-id-3 div.sk-label label {\n",
       "  /* The background is the default theme color */\n",
       "  color: var(--sklearn-color-text-on-default-background);\n",
       "}\n",
       "\n",
       "/* On hover, darken the color of the background */\n",
       "#sk-container-id-3 div.sk-label:hover label.sk-toggleable__label {\n",
       "  color: var(--sklearn-color-text);\n",
       "  background-color: var(--sklearn-color-unfitted-level-2);\n",
       "}\n",
       "\n",
       "/* Label box, darken color on hover, fitted */\n",
       "#sk-container-id-3 div.sk-label.fitted:hover label.sk-toggleable__label.fitted {\n",
       "  color: var(--sklearn-color-text);\n",
       "  background-color: var(--sklearn-color-fitted-level-2);\n",
       "}\n",
       "\n",
       "/* Estimator label */\n",
       "\n",
       "#sk-container-id-3 div.sk-label label {\n",
       "  font-family: monospace;\n",
       "  font-weight: bold;\n",
       "  display: inline-block;\n",
       "  line-height: 1.2em;\n",
       "}\n",
       "\n",
       "#sk-container-id-3 div.sk-label-container {\n",
       "  text-align: center;\n",
       "}\n",
       "\n",
       "/* Estimator-specific */\n",
       "#sk-container-id-3 div.sk-estimator {\n",
       "  font-family: monospace;\n",
       "  border: 1px dotted var(--sklearn-color-border-box);\n",
       "  border-radius: 0.25em;\n",
       "  box-sizing: border-box;\n",
       "  margin-bottom: 0.5em;\n",
       "  /* unfitted */\n",
       "  background-color: var(--sklearn-color-unfitted-level-0);\n",
       "}\n",
       "\n",
       "#sk-container-id-3 div.sk-estimator.fitted {\n",
       "  /* fitted */\n",
       "  background-color: var(--sklearn-color-fitted-level-0);\n",
       "}\n",
       "\n",
       "/* on hover */\n",
       "#sk-container-id-3 div.sk-estimator:hover {\n",
       "  /* unfitted */\n",
       "  background-color: var(--sklearn-color-unfitted-level-2);\n",
       "}\n",
       "\n",
       "#sk-container-id-3 div.sk-estimator.fitted:hover {\n",
       "  /* fitted */\n",
       "  background-color: var(--sklearn-color-fitted-level-2);\n",
       "}\n",
       "\n",
       "/* Specification for estimator info (e.g. \"i\" and \"?\") */\n",
       "\n",
       "/* Common style for \"i\" and \"?\" */\n",
       "\n",
       ".sk-estimator-doc-link,\n",
       "a:link.sk-estimator-doc-link,\n",
       "a:visited.sk-estimator-doc-link {\n",
       "  float: right;\n",
       "  font-size: smaller;\n",
       "  line-height: 1em;\n",
       "  font-family: monospace;\n",
       "  background-color: var(--sklearn-color-background);\n",
       "  border-radius: 1em;\n",
       "  height: 1em;\n",
       "  width: 1em;\n",
       "  text-decoration: none !important;\n",
       "  margin-left: 1ex;\n",
       "  /* unfitted */\n",
       "  border: var(--sklearn-color-unfitted-level-1) 1pt solid;\n",
       "  color: var(--sklearn-color-unfitted-level-1);\n",
       "}\n",
       "\n",
       ".sk-estimator-doc-link.fitted,\n",
       "a:link.sk-estimator-doc-link.fitted,\n",
       "a:visited.sk-estimator-doc-link.fitted {\n",
       "  /* fitted */\n",
       "  border: var(--sklearn-color-fitted-level-1) 1pt solid;\n",
       "  color: var(--sklearn-color-fitted-level-1);\n",
       "}\n",
       "\n",
       "/* On hover */\n",
       "div.sk-estimator:hover .sk-estimator-doc-link:hover,\n",
       ".sk-estimator-doc-link:hover,\n",
       "div.sk-label-container:hover .sk-estimator-doc-link:hover,\n",
       ".sk-estimator-doc-link:hover {\n",
       "  /* unfitted */\n",
       "  background-color: var(--sklearn-color-unfitted-level-3);\n",
       "  color: var(--sklearn-color-background);\n",
       "  text-decoration: none;\n",
       "}\n",
       "\n",
       "div.sk-estimator.fitted:hover .sk-estimator-doc-link.fitted:hover,\n",
       ".sk-estimator-doc-link.fitted:hover,\n",
       "div.sk-label-container:hover .sk-estimator-doc-link.fitted:hover,\n",
       ".sk-estimator-doc-link.fitted:hover {\n",
       "  /* fitted */\n",
       "  background-color: var(--sklearn-color-fitted-level-3);\n",
       "  color: var(--sklearn-color-background);\n",
       "  text-decoration: none;\n",
       "}\n",
       "\n",
       "/* Span, style for the box shown on hovering the info icon */\n",
       ".sk-estimator-doc-link span {\n",
       "  display: none;\n",
       "  z-index: 9999;\n",
       "  position: relative;\n",
       "  font-weight: normal;\n",
       "  right: .2ex;\n",
       "  padding: .5ex;\n",
       "  margin: .5ex;\n",
       "  width: min-content;\n",
       "  min-width: 20ex;\n",
       "  max-width: 50ex;\n",
       "  color: var(--sklearn-color-text);\n",
       "  box-shadow: 2pt 2pt 4pt #999;\n",
       "  /* unfitted */\n",
       "  background: var(--sklearn-color-unfitted-level-0);\n",
       "  border: .5pt solid var(--sklearn-color-unfitted-level-3);\n",
       "}\n",
       "\n",
       ".sk-estimator-doc-link.fitted span {\n",
       "  /* fitted */\n",
       "  background: var(--sklearn-color-fitted-level-0);\n",
       "  border: var(--sklearn-color-fitted-level-3);\n",
       "}\n",
       "\n",
       ".sk-estimator-doc-link:hover span {\n",
       "  display: block;\n",
       "}\n",
       "\n",
       "/* \"?\"-specific style due to the `<a>` HTML tag */\n",
       "\n",
       "#sk-container-id-3 a.estimator_doc_link {\n",
       "  float: right;\n",
       "  font-size: 1rem;\n",
       "  line-height: 1em;\n",
       "  font-family: monospace;\n",
       "  background-color: var(--sklearn-color-background);\n",
       "  border-radius: 1rem;\n",
       "  height: 1rem;\n",
       "  width: 1rem;\n",
       "  text-decoration: none;\n",
       "  /* unfitted */\n",
       "  color: var(--sklearn-color-unfitted-level-1);\n",
       "  border: var(--sklearn-color-unfitted-level-1) 1pt solid;\n",
       "}\n",
       "\n",
       "#sk-container-id-3 a.estimator_doc_link.fitted {\n",
       "  /* fitted */\n",
       "  border: var(--sklearn-color-fitted-level-1) 1pt solid;\n",
       "  color: var(--sklearn-color-fitted-level-1);\n",
       "}\n",
       "\n",
       "/* On hover */\n",
       "#sk-container-id-3 a.estimator_doc_link:hover {\n",
       "  /* unfitted */\n",
       "  background-color: var(--sklearn-color-unfitted-level-3);\n",
       "  color: var(--sklearn-color-background);\n",
       "  text-decoration: none;\n",
       "}\n",
       "\n",
       "#sk-container-id-3 a.estimator_doc_link.fitted:hover {\n",
       "  /* fitted */\n",
       "  background-color: var(--sklearn-color-fitted-level-3);\n",
       "}\n",
       "</style><div id=\"sk-container-id-3\" class=\"sk-top-container\"><div class=\"sk-text-repr-fallback\"><pre>Pipeline(steps=[(&#x27;text_vect_0&#x27;,\n",
       "                 CountVectorizer(max_features=500,\n",
       "                                 preprocessor=&lt;function clean at 0x7f45c07cc040&gt;))])</pre><b>In a Jupyter environment, please rerun this cell to show the HTML representation or trust the notebook. <br />On GitHub, the HTML representation is unable to render, please try loading this page with nbviewer.org.</b></div><div class=\"sk-container\" hidden><div class=\"sk-item sk-dashed-wrapped\"><div class=\"sk-label-container\"><div class=\"sk-label  sk-toggleable\"><input class=\"sk-toggleable__control sk-hidden--visually\" id=\"sk-estimator-id-6\" type=\"checkbox\" ><label for=\"sk-estimator-id-6\" class=\"sk-toggleable__label  sk-toggleable__label-arrow \">&nbsp;&nbsp;Pipeline<a class=\"sk-estimator-doc-link \" rel=\"noreferrer\" target=\"_blank\" href=\"https://scikit-learn.org/1.5/modules/generated/sklearn.pipeline.Pipeline.html\">?<span>Documentation for Pipeline</span></a><span class=\"sk-estimator-doc-link \">i<span>Not fitted</span></span></label><div class=\"sk-toggleable__content \"><pre>Pipeline(steps=[(&#x27;text_vect_0&#x27;,\n",
       "                 CountVectorizer(max_features=500,\n",
       "                                 preprocessor=&lt;function clean at 0x7f45c07cc040&gt;))])</pre></div> </div></div><div class=\"sk-serial\"><div class=\"sk-item\"><div class=\"sk-estimator  sk-toggleable\"><input class=\"sk-toggleable__control sk-hidden--visually\" id=\"sk-estimator-id-7\" type=\"checkbox\" ><label for=\"sk-estimator-id-7\" class=\"sk-toggleable__label  sk-toggleable__label-arrow \">&nbsp;CountVectorizer<a class=\"sk-estimator-doc-link \" rel=\"noreferrer\" target=\"_blank\" href=\"https://scikit-learn.org/1.5/modules/generated/sklearn.feature_extraction.text.CountVectorizer.html\">?<span>Documentation for CountVectorizer</span></a></label><div class=\"sk-toggleable__content \"><pre>CountVectorizer(max_features=500,\n",
       "                preprocessor=&lt;function clean at 0x7f45c07cc040&gt;)</pre></div> </div></div></div></div></div></div>"
      ],
      "text/plain": [
       "Pipeline(steps=[('text_vect_0',\n",
       "                 CountVectorizer(max_features=500,\n",
       "                                 preprocessor=<function clean at 0x7f45c07cc040>))])"
      ]
     },
     "execution_count": 110,
     "metadata": {},
     "output_type": "execute_result"
    }
   ],
   "source": [
    "text_processor_0 = Pipeline([(\n",
    "    'text_vect_0', \n",
    "    CountVectorizer(\n",
    "        # 在分詞前先應用 `clean` 函數進行數據清洗\n",
    "        preprocessor=clean, \n",
    "        # 進行文本特徵提取，並限制最多 500 個特徵\n",
    "        max_features=500\n",
    "    )\n",
    ")])\n",
    "text_processor_0"
   ]
  },
  {
   "cell_type": "markdown",
   "id": "aca335fb",
   "metadata": {},
   "source": [
    "# 將處理器應用於指定的文本欄位"
   ]
  },
  {
   "cell_type": "markdown",
   "id": "ead7cc40",
   "metadata": {},
   "source": [
    "就是 'text' 欄位"
   ]
  },
  {
   "cell_type": "code",
   "execution_count": 111,
   "id": "16ce20ca",
   "metadata": {},
   "outputs": [
    {
     "data": {
      "text/html": [
       "<style>#sk-container-id-4 {\n",
       "  /* Definition of color scheme common for light and dark mode */\n",
       "  --sklearn-color-text: black;\n",
       "  --sklearn-color-line: gray;\n",
       "  /* Definition of color scheme for unfitted estimators */\n",
       "  --sklearn-color-unfitted-level-0: #fff5e6;\n",
       "  --sklearn-color-unfitted-level-1: #f6e4d2;\n",
       "  --sklearn-color-unfitted-level-2: #ffe0b3;\n",
       "  --sklearn-color-unfitted-level-3: chocolate;\n",
       "  /* Definition of color scheme for fitted estimators */\n",
       "  --sklearn-color-fitted-level-0: #f0f8ff;\n",
       "  --sklearn-color-fitted-level-1: #d4ebff;\n",
       "  --sklearn-color-fitted-level-2: #b3dbfd;\n",
       "  --sklearn-color-fitted-level-3: cornflowerblue;\n",
       "\n",
       "  /* Specific color for light theme */\n",
       "  --sklearn-color-text-on-default-background: var(--sg-text-color, var(--theme-code-foreground, var(--jp-content-font-color1, black)));\n",
       "  --sklearn-color-background: var(--sg-background-color, var(--theme-background, var(--jp-layout-color0, white)));\n",
       "  --sklearn-color-border-box: var(--sg-text-color, var(--theme-code-foreground, var(--jp-content-font-color1, black)));\n",
       "  --sklearn-color-icon: #696969;\n",
       "\n",
       "  @media (prefers-color-scheme: dark) {\n",
       "    /* Redefinition of color scheme for dark theme */\n",
       "    --sklearn-color-text-on-default-background: var(--sg-text-color, var(--theme-code-foreground, var(--jp-content-font-color1, white)));\n",
       "    --sklearn-color-background: var(--sg-background-color, var(--theme-background, var(--jp-layout-color0, #111)));\n",
       "    --sklearn-color-border-box: var(--sg-text-color, var(--theme-code-foreground, var(--jp-content-font-color1, white)));\n",
       "    --sklearn-color-icon: #878787;\n",
       "  }\n",
       "}\n",
       "\n",
       "#sk-container-id-4 {\n",
       "  color: var(--sklearn-color-text);\n",
       "}\n",
       "\n",
       "#sk-container-id-4 pre {\n",
       "  padding: 0;\n",
       "}\n",
       "\n",
       "#sk-container-id-4 input.sk-hidden--visually {\n",
       "  border: 0;\n",
       "  clip: rect(1px 1px 1px 1px);\n",
       "  clip: rect(1px, 1px, 1px, 1px);\n",
       "  height: 1px;\n",
       "  margin: -1px;\n",
       "  overflow: hidden;\n",
       "  padding: 0;\n",
       "  position: absolute;\n",
       "  width: 1px;\n",
       "}\n",
       "\n",
       "#sk-container-id-4 div.sk-dashed-wrapped {\n",
       "  border: 1px dashed var(--sklearn-color-line);\n",
       "  margin: 0 0.4em 0.5em 0.4em;\n",
       "  box-sizing: border-box;\n",
       "  padding-bottom: 0.4em;\n",
       "  background-color: var(--sklearn-color-background);\n",
       "}\n",
       "\n",
       "#sk-container-id-4 div.sk-container {\n",
       "  /* jupyter's `normalize.less` sets `[hidden] { display: none; }`\n",
       "     but bootstrap.min.css set `[hidden] { display: none !important; }`\n",
       "     so we also need the `!important` here to be able to override the\n",
       "     default hidden behavior on the sphinx rendered scikit-learn.org.\n",
       "     See: https://github.com/scikit-learn/scikit-learn/issues/21755 */\n",
       "  display: inline-block !important;\n",
       "  position: relative;\n",
       "}\n",
       "\n",
       "#sk-container-id-4 div.sk-text-repr-fallback {\n",
       "  display: none;\n",
       "}\n",
       "\n",
       "div.sk-parallel-item,\n",
       "div.sk-serial,\n",
       "div.sk-item {\n",
       "  /* draw centered vertical line to link estimators */\n",
       "  background-image: linear-gradient(var(--sklearn-color-text-on-default-background), var(--sklearn-color-text-on-default-background));\n",
       "  background-size: 2px 100%;\n",
       "  background-repeat: no-repeat;\n",
       "  background-position: center center;\n",
       "}\n",
       "\n",
       "/* Parallel-specific style estimator block */\n",
       "\n",
       "#sk-container-id-4 div.sk-parallel-item::after {\n",
       "  content: \"\";\n",
       "  width: 100%;\n",
       "  border-bottom: 2px solid var(--sklearn-color-text-on-default-background);\n",
       "  flex-grow: 1;\n",
       "}\n",
       "\n",
       "#sk-container-id-4 div.sk-parallel {\n",
       "  display: flex;\n",
       "  align-items: stretch;\n",
       "  justify-content: center;\n",
       "  background-color: var(--sklearn-color-background);\n",
       "  position: relative;\n",
       "}\n",
       "\n",
       "#sk-container-id-4 div.sk-parallel-item {\n",
       "  display: flex;\n",
       "  flex-direction: column;\n",
       "}\n",
       "\n",
       "#sk-container-id-4 div.sk-parallel-item:first-child::after {\n",
       "  align-self: flex-end;\n",
       "  width: 50%;\n",
       "}\n",
       "\n",
       "#sk-container-id-4 div.sk-parallel-item:last-child::after {\n",
       "  align-self: flex-start;\n",
       "  width: 50%;\n",
       "}\n",
       "\n",
       "#sk-container-id-4 div.sk-parallel-item:only-child::after {\n",
       "  width: 0;\n",
       "}\n",
       "\n",
       "/* Serial-specific style estimator block */\n",
       "\n",
       "#sk-container-id-4 div.sk-serial {\n",
       "  display: flex;\n",
       "  flex-direction: column;\n",
       "  align-items: center;\n",
       "  background-color: var(--sklearn-color-background);\n",
       "  padding-right: 1em;\n",
       "  padding-left: 1em;\n",
       "}\n",
       "\n",
       "\n",
       "/* Toggleable style: style used for estimator/Pipeline/ColumnTransformer box that is\n",
       "clickable and can be expanded/collapsed.\n",
       "- Pipeline and ColumnTransformer use this feature and define the default style\n",
       "- Estimators will overwrite some part of the style using the `sk-estimator` class\n",
       "*/\n",
       "\n",
       "/* Pipeline and ColumnTransformer style (default) */\n",
       "\n",
       "#sk-container-id-4 div.sk-toggleable {\n",
       "  /* Default theme specific background. It is overwritten whether we have a\n",
       "  specific estimator or a Pipeline/ColumnTransformer */\n",
       "  background-color: var(--sklearn-color-background);\n",
       "}\n",
       "\n",
       "/* Toggleable label */\n",
       "#sk-container-id-4 label.sk-toggleable__label {\n",
       "  cursor: pointer;\n",
       "  display: block;\n",
       "  width: 100%;\n",
       "  margin-bottom: 0;\n",
       "  padding: 0.5em;\n",
       "  box-sizing: border-box;\n",
       "  text-align: center;\n",
       "}\n",
       "\n",
       "#sk-container-id-4 label.sk-toggleable__label-arrow:before {\n",
       "  /* Arrow on the left of the label */\n",
       "  content: \"▸\";\n",
       "  float: left;\n",
       "  margin-right: 0.25em;\n",
       "  color: var(--sklearn-color-icon);\n",
       "}\n",
       "\n",
       "#sk-container-id-4 label.sk-toggleable__label-arrow:hover:before {\n",
       "  color: var(--sklearn-color-text);\n",
       "}\n",
       "\n",
       "/* Toggleable content - dropdown */\n",
       "\n",
       "#sk-container-id-4 div.sk-toggleable__content {\n",
       "  max-height: 0;\n",
       "  max-width: 0;\n",
       "  overflow: hidden;\n",
       "  text-align: left;\n",
       "  /* unfitted */\n",
       "  background-color: var(--sklearn-color-unfitted-level-0);\n",
       "}\n",
       "\n",
       "#sk-container-id-4 div.sk-toggleable__content.fitted {\n",
       "  /* fitted */\n",
       "  background-color: var(--sklearn-color-fitted-level-0);\n",
       "}\n",
       "\n",
       "#sk-container-id-4 div.sk-toggleable__content pre {\n",
       "  margin: 0.2em;\n",
       "  border-radius: 0.25em;\n",
       "  color: var(--sklearn-color-text);\n",
       "  /* unfitted */\n",
       "  background-color: var(--sklearn-color-unfitted-level-0);\n",
       "}\n",
       "\n",
       "#sk-container-id-4 div.sk-toggleable__content.fitted pre {\n",
       "  /* unfitted */\n",
       "  background-color: var(--sklearn-color-fitted-level-0);\n",
       "}\n",
       "\n",
       "#sk-container-id-4 input.sk-toggleable__control:checked~div.sk-toggleable__content {\n",
       "  /* Expand drop-down */\n",
       "  max-height: 200px;\n",
       "  max-width: 100%;\n",
       "  overflow: auto;\n",
       "}\n",
       "\n",
       "#sk-container-id-4 input.sk-toggleable__control:checked~label.sk-toggleable__label-arrow:before {\n",
       "  content: \"▾\";\n",
       "}\n",
       "\n",
       "/* Pipeline/ColumnTransformer-specific style */\n",
       "\n",
       "#sk-container-id-4 div.sk-label input.sk-toggleable__control:checked~label.sk-toggleable__label {\n",
       "  color: var(--sklearn-color-text);\n",
       "  background-color: var(--sklearn-color-unfitted-level-2);\n",
       "}\n",
       "\n",
       "#sk-container-id-4 div.sk-label.fitted input.sk-toggleable__control:checked~label.sk-toggleable__label {\n",
       "  background-color: var(--sklearn-color-fitted-level-2);\n",
       "}\n",
       "\n",
       "/* Estimator-specific style */\n",
       "\n",
       "/* Colorize estimator box */\n",
       "#sk-container-id-4 div.sk-estimator input.sk-toggleable__control:checked~label.sk-toggleable__label {\n",
       "  /* unfitted */\n",
       "  background-color: var(--sklearn-color-unfitted-level-2);\n",
       "}\n",
       "\n",
       "#sk-container-id-4 div.sk-estimator.fitted input.sk-toggleable__control:checked~label.sk-toggleable__label {\n",
       "  /* fitted */\n",
       "  background-color: var(--sklearn-color-fitted-level-2);\n",
       "}\n",
       "\n",
       "#sk-container-id-4 div.sk-label label.sk-toggleable__label,\n",
       "#sk-container-id-4 div.sk-label label {\n",
       "  /* The background is the default theme color */\n",
       "  color: var(--sklearn-color-text-on-default-background);\n",
       "}\n",
       "\n",
       "/* On hover, darken the color of the background */\n",
       "#sk-container-id-4 div.sk-label:hover label.sk-toggleable__label {\n",
       "  color: var(--sklearn-color-text);\n",
       "  background-color: var(--sklearn-color-unfitted-level-2);\n",
       "}\n",
       "\n",
       "/* Label box, darken color on hover, fitted */\n",
       "#sk-container-id-4 div.sk-label.fitted:hover label.sk-toggleable__label.fitted {\n",
       "  color: var(--sklearn-color-text);\n",
       "  background-color: var(--sklearn-color-fitted-level-2);\n",
       "}\n",
       "\n",
       "/* Estimator label */\n",
       "\n",
       "#sk-container-id-4 div.sk-label label {\n",
       "  font-family: monospace;\n",
       "  font-weight: bold;\n",
       "  display: inline-block;\n",
       "  line-height: 1.2em;\n",
       "}\n",
       "\n",
       "#sk-container-id-4 div.sk-label-container {\n",
       "  text-align: center;\n",
       "}\n",
       "\n",
       "/* Estimator-specific */\n",
       "#sk-container-id-4 div.sk-estimator {\n",
       "  font-family: monospace;\n",
       "  border: 1px dotted var(--sklearn-color-border-box);\n",
       "  border-radius: 0.25em;\n",
       "  box-sizing: border-box;\n",
       "  margin-bottom: 0.5em;\n",
       "  /* unfitted */\n",
       "  background-color: var(--sklearn-color-unfitted-level-0);\n",
       "}\n",
       "\n",
       "#sk-container-id-4 div.sk-estimator.fitted {\n",
       "  /* fitted */\n",
       "  background-color: var(--sklearn-color-fitted-level-0);\n",
       "}\n",
       "\n",
       "/* on hover */\n",
       "#sk-container-id-4 div.sk-estimator:hover {\n",
       "  /* unfitted */\n",
       "  background-color: var(--sklearn-color-unfitted-level-2);\n",
       "}\n",
       "\n",
       "#sk-container-id-4 div.sk-estimator.fitted:hover {\n",
       "  /* fitted */\n",
       "  background-color: var(--sklearn-color-fitted-level-2);\n",
       "}\n",
       "\n",
       "/* Specification for estimator info (e.g. \"i\" and \"?\") */\n",
       "\n",
       "/* Common style for \"i\" and \"?\" */\n",
       "\n",
       ".sk-estimator-doc-link,\n",
       "a:link.sk-estimator-doc-link,\n",
       "a:visited.sk-estimator-doc-link {\n",
       "  float: right;\n",
       "  font-size: smaller;\n",
       "  line-height: 1em;\n",
       "  font-family: monospace;\n",
       "  background-color: var(--sklearn-color-background);\n",
       "  border-radius: 1em;\n",
       "  height: 1em;\n",
       "  width: 1em;\n",
       "  text-decoration: none !important;\n",
       "  margin-left: 1ex;\n",
       "  /* unfitted */\n",
       "  border: var(--sklearn-color-unfitted-level-1) 1pt solid;\n",
       "  color: var(--sklearn-color-unfitted-level-1);\n",
       "}\n",
       "\n",
       ".sk-estimator-doc-link.fitted,\n",
       "a:link.sk-estimator-doc-link.fitted,\n",
       "a:visited.sk-estimator-doc-link.fitted {\n",
       "  /* fitted */\n",
       "  border: var(--sklearn-color-fitted-level-1) 1pt solid;\n",
       "  color: var(--sklearn-color-fitted-level-1);\n",
       "}\n",
       "\n",
       "/* On hover */\n",
       "div.sk-estimator:hover .sk-estimator-doc-link:hover,\n",
       ".sk-estimator-doc-link:hover,\n",
       "div.sk-label-container:hover .sk-estimator-doc-link:hover,\n",
       ".sk-estimator-doc-link:hover {\n",
       "  /* unfitted */\n",
       "  background-color: var(--sklearn-color-unfitted-level-3);\n",
       "  color: var(--sklearn-color-background);\n",
       "  text-decoration: none;\n",
       "}\n",
       "\n",
       "div.sk-estimator.fitted:hover .sk-estimator-doc-link.fitted:hover,\n",
       ".sk-estimator-doc-link.fitted:hover,\n",
       "div.sk-label-container:hover .sk-estimator-doc-link.fitted:hover,\n",
       ".sk-estimator-doc-link.fitted:hover {\n",
       "  /* fitted */\n",
       "  background-color: var(--sklearn-color-fitted-level-3);\n",
       "  color: var(--sklearn-color-background);\n",
       "  text-decoration: none;\n",
       "}\n",
       "\n",
       "/* Span, style for the box shown on hovering the info icon */\n",
       ".sk-estimator-doc-link span {\n",
       "  display: none;\n",
       "  z-index: 9999;\n",
       "  position: relative;\n",
       "  font-weight: normal;\n",
       "  right: .2ex;\n",
       "  padding: .5ex;\n",
       "  margin: .5ex;\n",
       "  width: min-content;\n",
       "  min-width: 20ex;\n",
       "  max-width: 50ex;\n",
       "  color: var(--sklearn-color-text);\n",
       "  box-shadow: 2pt 2pt 4pt #999;\n",
       "  /* unfitted */\n",
       "  background: var(--sklearn-color-unfitted-level-0);\n",
       "  border: .5pt solid var(--sklearn-color-unfitted-level-3);\n",
       "}\n",
       "\n",
       ".sk-estimator-doc-link.fitted span {\n",
       "  /* fitted */\n",
       "  background: var(--sklearn-color-fitted-level-0);\n",
       "  border: var(--sklearn-color-fitted-level-3);\n",
       "}\n",
       "\n",
       ".sk-estimator-doc-link:hover span {\n",
       "  display: block;\n",
       "}\n",
       "\n",
       "/* \"?\"-specific style due to the `<a>` HTML tag */\n",
       "\n",
       "#sk-container-id-4 a.estimator_doc_link {\n",
       "  float: right;\n",
       "  font-size: 1rem;\n",
       "  line-height: 1em;\n",
       "  font-family: monospace;\n",
       "  background-color: var(--sklearn-color-background);\n",
       "  border-radius: 1rem;\n",
       "  height: 1rem;\n",
       "  width: 1rem;\n",
       "  text-decoration: none;\n",
       "  /* unfitted */\n",
       "  color: var(--sklearn-color-unfitted-level-1);\n",
       "  border: var(--sklearn-color-unfitted-level-1) 1pt solid;\n",
       "}\n",
       "\n",
       "#sk-container-id-4 a.estimator_doc_link.fitted {\n",
       "  /* fitted */\n",
       "  border: var(--sklearn-color-fitted-level-1) 1pt solid;\n",
       "  color: var(--sklearn-color-fitted-level-1);\n",
       "}\n",
       "\n",
       "/* On hover */\n",
       "#sk-container-id-4 a.estimator_doc_link:hover {\n",
       "  /* unfitted */\n",
       "  background-color: var(--sklearn-color-unfitted-level-3);\n",
       "  color: var(--sklearn-color-background);\n",
       "  text-decoration: none;\n",
       "}\n",
       "\n",
       "#sk-container-id-4 a.estimator_doc_link.fitted:hover {\n",
       "  /* fitted */\n",
       "  background-color: var(--sklearn-color-fitted-level-3);\n",
       "}\n",
       "</style><div id=\"sk-container-id-4\" class=\"sk-top-container\"><div class=\"sk-text-repr-fallback\"><pre>ColumnTransformer(transformers=[(&#x27;text_pre_0&#x27;,\n",
       "                                 Pipeline(steps=[(&#x27;text_vect_0&#x27;,\n",
       "                                                  CountVectorizer(max_features=500,\n",
       "                                                                  preprocessor=&lt;function clean at 0x7f45c07cc040&gt;))]),\n",
       "                                 &#x27;text&#x27;)])</pre><b>In a Jupyter environment, please rerun this cell to show the HTML representation or trust the notebook. <br />On GitHub, the HTML representation is unable to render, please try loading this page with nbviewer.org.</b></div><div class=\"sk-container\" hidden><div class=\"sk-item sk-dashed-wrapped\"><div class=\"sk-label-container\"><div class=\"sk-label  sk-toggleable\"><input class=\"sk-toggleable__control sk-hidden--visually\" id=\"sk-estimator-id-8\" type=\"checkbox\" ><label for=\"sk-estimator-id-8\" class=\"sk-toggleable__label  sk-toggleable__label-arrow \">&nbsp;&nbsp;ColumnTransformer<a class=\"sk-estimator-doc-link \" rel=\"noreferrer\" target=\"_blank\" href=\"https://scikit-learn.org/1.5/modules/generated/sklearn.compose.ColumnTransformer.html\">?<span>Documentation for ColumnTransformer</span></a><span class=\"sk-estimator-doc-link \">i<span>Not fitted</span></span></label><div class=\"sk-toggleable__content \"><pre>ColumnTransformer(transformers=[(&#x27;text_pre_0&#x27;,\n",
       "                                 Pipeline(steps=[(&#x27;text_vect_0&#x27;,\n",
       "                                                  CountVectorizer(max_features=500,\n",
       "                                                                  preprocessor=&lt;function clean at 0x7f45c07cc040&gt;))]),\n",
       "                                 &#x27;text&#x27;)])</pre></div> </div></div><div class=\"sk-parallel\"><div class=\"sk-parallel-item\"><div class=\"sk-item\"><div class=\"sk-label-container\"><div class=\"sk-label  sk-toggleable\"><input class=\"sk-toggleable__control sk-hidden--visually\" id=\"sk-estimator-id-9\" type=\"checkbox\" ><label for=\"sk-estimator-id-9\" class=\"sk-toggleable__label  sk-toggleable__label-arrow \">text_pre_0</label><div class=\"sk-toggleable__content \"><pre>text</pre></div> </div></div><div class=\"sk-serial\"><div class=\"sk-item\"><div class=\"sk-serial\"><div class=\"sk-item\"><div class=\"sk-estimator  sk-toggleable\"><input class=\"sk-toggleable__control sk-hidden--visually\" id=\"sk-estimator-id-10\" type=\"checkbox\" ><label for=\"sk-estimator-id-10\" class=\"sk-toggleable__label  sk-toggleable__label-arrow \">&nbsp;CountVectorizer<a class=\"sk-estimator-doc-link \" rel=\"noreferrer\" target=\"_blank\" href=\"https://scikit-learn.org/1.5/modules/generated/sklearn.feature_extraction.text.CountVectorizer.html\">?<span>Documentation for CountVectorizer</span></a></label><div class=\"sk-toggleable__content \"><pre>CountVectorizer(max_features=500,\n",
       "                preprocessor=&lt;function clean at 0x7f45c07cc040&gt;)</pre></div> </div></div></div></div></div></div></div></div></div></div></div>"
      ],
      "text/plain": [
       "ColumnTransformer(transformers=[('text_pre_0',\n",
       "                                 Pipeline(steps=[('text_vect_0',\n",
       "                                                  CountVectorizer(max_features=500,\n",
       "                                                                  preprocessor=<function clean at 0x7f45c07cc040>))]),\n",
       "                                 'text')])"
      ]
     },
     "execution_count": 111,
     "metadata": {},
     "output_type": "execute_result"
    }
   ],
   "source": [
    "data_preprocessor = ColumnTransformer([\n",
    "    ('text_pre_0', text_processor_0, text_features[0])\n",
    "])\n",
    "data_preprocessor"
   ]
  },
  {
   "cell_type": "markdown",
   "id": "6558c6a6",
   "metadata": {},
   "source": [
    "輸出"
   ]
  },
  {
   "cell_type": "code",
   "execution_count": 112,
   "id": "0c4f247b",
   "metadata": {},
   "outputs": [
    {
     "name": "stdout",
     "output_type": "stream",
     "text": [
      "Datasets shapes before processing:  (40000, 2) (5000, 2) (5000, 2)\n"
     ]
    }
   ],
   "source": [
    "print(\n",
    "    'Datasets shapes before processing: ', \n",
    "    train.shape, \n",
    "    validate.shape, \n",
    "    test.shape\n",
    ")"
   ]
  },
  {
   "cell_type": "markdown",
   "id": "06aa5326",
   "metadata": {},
   "source": [
    "# 使用預處理轉換器"
   ]
  },
  {
   "cell_type": "code",
   "execution_count": 113,
   "id": "d35204f4",
   "metadata": {},
   "outputs": [
    {
     "name": "stdout",
     "output_type": "stream",
     "text": [
      "Datasets shapes after processing:  (40000, 500) (5000, 500) (5000, 500)\n"
     ]
    }
   ],
   "source": [
    "# 進行擬合並轉換數據\n",
    "train_matrix = data_preprocessor.fit_transform(train)\n",
    "# 只進行轉換而不重新擬合，適用於測試和驗證數據\n",
    "test_matrix = data_preprocessor.transform(test)\n",
    "validate_matrix = data_preprocessor.transform(validate)\n",
    "\n",
    "# 輸出處理後的數據集形狀\n",
    "print(\n",
    "    'Datasets shapes after processing: ', \n",
    "    train_matrix.shape, \n",
    "    validate_matrix.shape, \n",
    "    test_matrix.shape\n",
    ")"
   ]
  },
  {
   "cell_type": "markdown",
   "id": "84d83945",
   "metadata": {},
   "source": [
    "# 上傳數據到 S3"
   ]
  },
  {
   "cell_type": "markdown",
   "id": "9983f59a",
   "metadata": {},
   "source": [
    "將測試數據矩陣上傳到 S3 作為批量輸入文件"
   ]
  },
  {
   "cell_type": "code",
   "execution_count": 115,
   "id": "de5d4fc7",
   "metadata": {},
   "outputs": [],
   "source": [
    "upload_s3_csv('batch-in.csv', 'batch-in', test_matrix, test, True)"
   ]
  },
  {
   "cell_type": "markdown",
   "id": "683be849",
   "metadata": {},
   "source": [
    "查看 S3"
   ]
  },
  {
   "cell_type": "code",
   "execution_count": 116,
   "id": "3efe72b8",
   "metadata": {},
   "outputs": [
    {
     "name": "stdout",
     "output_type": "stream",
     "text": [
      "📁 lab41_new\n",
      "    📁 batch-in\n",
      "        📄 batch-in.csv\n",
      "    📁 batch-out\n",
      "        📄 batch-in.csv.out\n",
      "    📁 output\n",
      "        📁 sagemaker-xgboost-241114-0329-001-210561a8\n",
      "            📁 output\n",
      "                📄 model.tar.gz\n",
      "        📁 sagemaker-xgboost-241114-0329-002-19b30206\n",
      "            📁 output\n",
      "                📄 model.tar.gz\n",
      "        📁 sagemaker-xgboost-241114-0329-003-47b6a7db\n",
      "            📁 output\n",
      "                📄 model.tar.gz\n",
      "        📁 sagemaker-xgboost-241114-0329-004-cbde452d\n",
      "            📁 output\n",
      "                📄 model.tar.gz\n",
      "        📁 sagemaker-xgboost-241114-0329-005-f9874229\n",
      "            📁 output\n",
      "                📄 model.tar.gz\n",
      "        📁 sagemaker-xgboost-241114-0329-006-ad599ee1\n",
      "            📁 output\n",
      "                📄 model.tar.gz\n",
      "        📁 sagemaker-xgboost-241114-0329-007-51f0b394\n",
      "            📁 output\n",
      "                📄 model.tar.gz\n",
      "        📁 sagemaker-xgboost-241114-0329-008-0123de81\n",
      "            📁 output\n",
      "                📄 model.tar.gz\n",
      "        📁 sagemaker-xgboost-241114-0329-009-7f8c96e8\n",
      "            📁 output\n",
      "                📄 model.tar.gz\n",
      "        📁 sagemaker-xgboost-241114-0329-010-70b604b6\n",
      "            📁 output\n",
      "                📄 model.tar.gz\n",
      "        📁 xgb-pass1-11-14-2024-03-12-04\n",
      "            📁 debug-output\n",
      "                📁 collections\n",
      "                    📁 000000000\n",
      "                        📄 worker_0_collections.json\n",
      "                📁 events\n",
      "                    📁 000000000000\n",
      "                        📄 000000000000_worker_0.tfevents\n",
      "                    📁 000000000010\n",
      "                        📄 000000000010_worker_0.tfevents\n",
      "                    📁 000000000020\n",
      "                        📄 000000000020_worker_0.tfevents\n",
      "                    📁 000000000030\n",
      "                        📄 000000000030_worker_0.tfevents\n",
      "                    📁 000000000040\n",
      "                        📄 000000000040_worker_0.tfevents\n",
      "                📁 index\n",
      "                    📁 000000000\n",
      "                        📄 000000000000_worker_0.json\n",
      "                        📄 000000000010_worker_0.json\n",
      "                        📄 000000000020_worker_0.json\n",
      "                        📄 000000000030_worker_0.json\n",
      "                        📄 000000000040_worker_0.json\n",
      "                📄 claim.smd\n",
      "                📄 training_job_end.ts\n",
      "            📁 output\n",
      "                📄 model.tar.gz\n",
      "            📁 profiler-output\n",
      "                📁 framework\n",
      "                    📄 training_job_end.ts\n",
      "                📁 system\n",
      "                    📁 incremental\n",
      "                        📁 2024111403\n",
      "                            📄 1731553920.algo-1.json\n",
      "                            📄 1731553980.algo-1.json\n",
      "                            📄 1731554040.algo-1.json\n",
      "                    📄 training_job_end.ts\n",
      "        📁 xgb-pass2-11-14-2024-03-21-28\n",
      "            📁 debug-output\n",
      "                📁 collections\n",
      "                    📁 000000000\n",
      "                        📄 worker_0_collections.json\n",
      "                📁 events\n",
      "                    📁 000000000000\n",
      "                        📄 000000000000_worker_0.tfevents\n",
      "                    📁 000000000010\n",
      "                        📄 000000000010_worker_0.tfevents\n",
      "                    📁 000000000020\n",
      "                        📄 000000000020_worker_0.tfevents\n",
      "                    📁 000000000030\n",
      "                        📄 000000000030_worker_0.tfevents\n",
      "                    📁 000000000040\n",
      "                        📄 000000000040_worker_0.tfevents\n",
      "                📁 index\n",
      "                    📁 000000000\n",
      "                        📄 000000000000_worker_0.json\n",
      "                        📄 000000000010_worker_0.json\n",
      "                        📄 000000000020_worker_0.json\n",
      "                        📄 000000000030_worker_0.json\n",
      "                        📄 000000000040_worker_0.json\n",
      "                📄 claim.smd\n",
      "                📄 training_job_end.ts\n",
      "            📁 output\n",
      "                📄 model.tar.gz\n",
      "            📁 profiler-output\n",
      "                📁 framework\n",
      "                    📄 training_job_end.ts\n",
      "                📁 system\n",
      "                    📁 incremental\n",
      "                        📁 2024111403\n",
      "                            📄 1731554520.algo-1.json\n",
      "                            📄 1731554580.algo-1.json\n",
      "                    📄 training_job_end.ts\n",
      "    📁 test\n",
      "        📄 test-pass1.csv\n",
      "        📄 test_pass2.csv\n",
      "    📁 train\n",
      "        📄 train-pass1.csv\n",
      "        📄 train_pass2.csv\n",
      "    📁 validate\n",
      "        📄 validate-pass1.csv\n",
      "        📄 validate_pass2.csv\n"
     ]
    }
   ],
   "source": [
    "list_s3_structure(bucket_name)"
   ]
  },
  {
   "cell_type": "markdown",
   "id": "3b764efe",
   "metadata": {},
   "source": [
    "#  進行批量推理處理"
   ]
  },
  {
   "cell_type": "markdown",
   "id": "5f61c913",
   "metadata": {},
   "source": [
    "建立輸出入的路徑"
   ]
  },
  {
   "cell_type": "code",
   "execution_count": 117,
   "id": "362b3d1d",
   "metadata": {},
   "outputs": [],
   "source": [
    "# 輸出\n",
    "batch_output = f's3://{bucket}/{prefix}/batch-out/'\n",
    "# 輸入\n",
    "batch_input = f's3://{bucket}/{prefix}/batch-in/{batch_X_file}'"
   ]
  },
  {
   "cell_type": "markdown",
   "id": "8be025f0",
   "metadata": {},
   "source": [
    "設置模型轉換器"
   ]
  },
  {
   "cell_type": "code",
   "execution_count": 118,
   "id": "d56b7cc8",
   "metadata": {},
   "outputs": [
    {
     "name": "stderr",
     "output_type": "stream",
     "text": [
      "INFO:sagemaker:Creating model with name: sagemaker-xgboost-2024-11-14-04-25-28-881\n"
     ]
    }
   ],
   "source": [
    "xgb_transformer = best_algo_model.transformer(\n",
    "    # 一個實例\n",
    "    instance_count=1,\n",
    "    instance_type='ml.m5.2xlarge',\n",
    "    # 每次可處理多筆記錄\n",
    "    strategy='MultiRecord',\n",
    "    # 指定輸出以換行組裝\n",
    "    assemble_with='Line',\n",
    "    output_path=batch_output\n",
    ")"
   ]
  },
  {
   "cell_type": "markdown",
   "id": "c8a32600",
   "metadata": {},
   "source": [
    "# 開始批量轉換"
   ]
  },
  {
   "cell_type": "markdown",
   "id": "de7ebe3f",
   "metadata": {},
   "source": [
    "將批量輸入資料傳遞給轉換器進行預測"
   ]
  },
  {
   "cell_type": "code",
   "execution_count": 119,
   "id": "e21417d8",
   "metadata": {},
   "outputs": [
    {
     "name": "stderr",
     "output_type": "stream",
     "text": [
      "INFO:sagemaker:Creating transform job with name: sagemaker-xgboost-2024-11-14-04-25-32-733\n"
     ]
    },
    {
     "name": "stdout",
     "output_type": "stream",
     "text": [
      "........................\n",
      "\u001b[34m[2024-11-14:04:29:31:INFO] No GPUs detected (normal if no gpus installed)\u001b[0m\n",
      "\u001b[34m[2024-11-14:04:29:31:INFO] No GPUs detected (normal if no gpus installed)\u001b[0m\n",
      "\u001b[34m[2024-11-14:04:29:31:INFO] nginx config: \u001b[0m\n",
      "\u001b[34mworker_processes auto;\u001b[0m\n",
      "\u001b[34mdaemon off;\u001b[0m\n",
      "\u001b[34mpid /tmp/nginx.pid;\u001b[0m\n",
      "\u001b[34merror_log  /dev/stderr;\u001b[0m\n",
      "\u001b[34mworker_rlimit_nofile 4096;\u001b[0m\n",
      "\u001b[34mevents {\n",
      "  worker_connections 2048;\u001b[0m\n",
      "\u001b[35m[2024-11-14:04:29:31:INFO] No GPUs detected (normal if no gpus installed)\u001b[0m\n",
      "\u001b[35m[2024-11-14:04:29:31:INFO] No GPUs detected (normal if no gpus installed)\u001b[0m\n",
      "\u001b[35m[2024-11-14:04:29:31:INFO] nginx config: \u001b[0m\n",
      "\u001b[35mworker_processes auto;\u001b[0m\n",
      "\u001b[35mdaemon off;\u001b[0m\n",
      "\u001b[35mpid /tmp/nginx.pid;\u001b[0m\n",
      "\u001b[35merror_log  /dev/stderr;\u001b[0m\n",
      "\u001b[35mworker_rlimit_nofile 4096;\u001b[0m\n",
      "\u001b[35mevents {\n",
      "  worker_connections 2048;\u001b[0m\n",
      "\u001b[34m}\u001b[0m\n",
      "\u001b[34mhttp {\n",
      "  include /etc/nginx/mime.types;\n",
      "  default_type application/octet-stream;\n",
      "  access_log /dev/stdout combined;\n",
      "  upstream gunicorn {\n",
      "    server unix:/tmp/gunicorn.sock;\n",
      "  }\n",
      "  server {\n",
      "    listen 8080 deferred;\n",
      "    client_max_body_size 0;\n",
      "    keepalive_timeout 3;\n",
      "    location ~ ^/(ping|invocations|execution-parameters) {\n",
      "      proxy_set_header X-Forwarded-For $proxy_add_x_forwarded_for;\n",
      "      proxy_set_header Host $http_host;\n",
      "      proxy_redirect off;\n",
      "      proxy_read_timeout 60s;\n",
      "      proxy_pass http://gunicorn;\n",
      "    }\n",
      "    location / {\n",
      "      return 404 \"{}\";\n",
      "    }\n",
      "  }\u001b[0m\n",
      "\u001b[34m}\u001b[0m\n",
      "\u001b[34m[2024-11-14 04:29:31 +0000] [27] [INFO] Starting gunicorn 19.10.0\u001b[0m\n",
      "\u001b[34m[2024-11-14 04:29:31 +0000] [27] [INFO] Listening at: unix:/tmp/gunicorn.sock (27)\u001b[0m\n",
      "\u001b[34m[2024-11-14 04:29:31 +0000] [27] [INFO] Using worker: gevent\u001b[0m\n",
      "\u001b[34m[2024-11-14 04:29:31 +0000] [38] [INFO] Booting worker with pid: 38\u001b[0m\n",
      "\u001b[34m[2024-11-14 04:29:31 +0000] [39] [INFO] Booting worker with pid: 39\u001b[0m\n",
      "\u001b[34m[2024-11-14 04:29:31 +0000] [40] [INFO] Booting worker with pid: 40\u001b[0m\n",
      "\u001b[34m[2024-11-14 04:29:31 +0000] [48] [INFO] Booting worker with pid: 48\u001b[0m\n",
      "\u001b[34m[2024-11-14 04:29:31 +0000] [49] [INFO] Booting worker with pid: 49\u001b[0m\n",
      "\u001b[34m[2024-11-14 04:29:31 +0000] [57] [INFO] Booting worker with pid: 57\u001b[0m\n",
      "\u001b[34m[2024-11-14 04:29:31 +0000] [65] [INFO] Booting worker with pid: 65\u001b[0m\n",
      "\u001b[35m}\u001b[0m\n",
      "\u001b[35mhttp {\n",
      "  include /etc/nginx/mime.types;\n",
      "  default_type application/octet-stream;\n",
      "  access_log /dev/stdout combined;\n",
      "  upstream gunicorn {\n",
      "    server unix:/tmp/gunicorn.sock;\n",
      "  }\n",
      "  server {\n",
      "    listen 8080 deferred;\n",
      "    client_max_body_size 0;\n",
      "    keepalive_timeout 3;\n",
      "    location ~ ^/(ping|invocations|execution-parameters) {\n",
      "      proxy_set_header X-Forwarded-For $proxy_add_x_forwarded_for;\n",
      "      proxy_set_header Host $http_host;\n",
      "      proxy_redirect off;\n",
      "      proxy_read_timeout 60s;\n",
      "      proxy_pass http://gunicorn;\n",
      "    }\n",
      "    location / {\n",
      "      return 404 \"{}\";\n",
      "    }\n",
      "  }\u001b[0m\n",
      "\u001b[35m}\u001b[0m\n",
      "\u001b[35m[2024-11-14 04:29:31 +0000] [27] [INFO] Starting gunicorn 19.10.0\u001b[0m\n",
      "\u001b[35m[2024-11-14 04:29:31 +0000] [27] [INFO] Listening at: unix:/tmp/gunicorn.sock (27)\u001b[0m\n",
      "\u001b[35m[2024-11-14 04:29:31 +0000] [27] [INFO] Using worker: gevent\u001b[0m\n",
      "\u001b[35m[2024-11-14 04:29:31 +0000] [38] [INFO] Booting worker with pid: 38\u001b[0m\n",
      "\u001b[35m[2024-11-14 04:29:31 +0000] [39] [INFO] Booting worker with pid: 39\u001b[0m\n",
      "\u001b[35m[2024-11-14 04:29:31 +0000] [40] [INFO] Booting worker with pid: 40\u001b[0m\n",
      "\u001b[35m[2024-11-14 04:29:31 +0000] [48] [INFO] Booting worker with pid: 48\u001b[0m\n",
      "\u001b[35m[2024-11-14 04:29:31 +0000] [49] [INFO] Booting worker with pid: 49\u001b[0m\n",
      "\u001b[35m[2024-11-14 04:29:31 +0000] [57] [INFO] Booting worker with pid: 57\u001b[0m\n",
      "\u001b[35m[2024-11-14 04:29:31 +0000] [65] [INFO] Booting worker with pid: 65\u001b[0m\n",
      "\u001b[34m[2024-11-14 04:29:32 +0000] [66] [INFO] Booting worker with pid: 66\u001b[0m\n",
      "\u001b[35m[2024-11-14 04:29:32 +0000] [66] [INFO] Booting worker with pid: 66\u001b[0m\n",
      "\u001b[34m[2024-11-14:04:29:36:INFO] No GPUs detected (normal if no gpus installed)\u001b[0m\n",
      "\u001b[34m169.254.255.130 - - [14/Nov/2024:04:29:36 +0000] \"GET /ping HTTP/1.1\" 200 0 \"-\" \"Go-http-client/1.1\"\u001b[0m\n",
      "\u001b[34m169.254.255.130 - - [14/Nov/2024:04:29:36 +0000] \"GET /execution-parameters HTTP/1.1\" 200 84 \"-\" \"Go-http-client/1.1\"\u001b[0m\n",
      "\u001b[35m[2024-11-14:04:29:36:INFO] No GPUs detected (normal if no gpus installed)\u001b[0m\n",
      "\u001b[35m169.254.255.130 - - [14/Nov/2024:04:29:36 +0000] \"GET /ping HTTP/1.1\" 200 0 \"-\" \"Go-http-client/1.1\"\u001b[0m\n",
      "\u001b[35m169.254.255.130 - - [14/Nov/2024:04:29:36 +0000] \"GET /execution-parameters HTTP/1.1\" 200 84 \"-\" \"Go-http-client/1.1\"\u001b[0m\n",
      "\u001b[32m2024-11-14T04:29:36.409:[sagemaker logs]: MaxConcurrentTransforms=8, MaxPayloadInMB=6, BatchStrategy=MULTI_RECORD\u001b[0m\n",
      "\u001b[34m[2024-11-14:04:29:37:INFO] No GPUs detected (normal if no gpus installed)\u001b[0m\n",
      "\u001b[34m[2024-11-14:04:29:37:INFO] Determined delimiter of CSV input is ','\u001b[0m\n",
      "\u001b[34m[2024-11-14:04:29:37:INFO] No GPUs detected (normal if no gpus installed)\u001b[0m\n",
      "\u001b[34m[2024-11-14:04:29:37:INFO] No GPUs detected (normal if no gpus installed)\u001b[0m\n",
      "\u001b[34m[2024-11-14:04:29:37:INFO] Determined delimiter of CSV input is ','\u001b[0m\n",
      "\u001b[34m[2024-11-14:04:29:37:INFO] Determined delimiter of CSV input is ','\u001b[0m\n",
      "\u001b[34m[2024-11-14:04:29:37:INFO] No GPUs detected (normal if no gpus installed)\u001b[0m\n",
      "\u001b[35m[2024-11-14:04:29:37:INFO] No GPUs detected (normal if no gpus installed)\u001b[0m\n",
      "\u001b[35m[2024-11-14:04:29:37:INFO] Determined delimiter of CSV input is ','\u001b[0m\n",
      "\u001b[35m[2024-11-14:04:29:37:INFO] No GPUs detected (normal if no gpus installed)\u001b[0m\n",
      "\u001b[35m[2024-11-14:04:29:37:INFO] No GPUs detected (normal if no gpus installed)\u001b[0m\n",
      "\u001b[35m[2024-11-14:04:29:37:INFO] Determined delimiter of CSV input is ','\u001b[0m\n",
      "\u001b[35m[2024-11-14:04:29:37:INFO] Determined delimiter of CSV input is ','\u001b[0m\n",
      "\u001b[35m[2024-11-14:04:29:37:INFO] No GPUs detected (normal if no gpus installed)\u001b[0m\n",
      "\u001b[34m[2024-11-14:04:29:37:INFO] Determined delimiter of CSV input is ','\u001b[0m\n",
      "\u001b[34m[2024-11-14:04:29:37:INFO] No GPUs detected (normal if no gpus installed)\u001b[0m\n",
      "\u001b[34m[2024-11-14:04:29:37:INFO] Determined delimiter of CSV input is ','\u001b[0m\n",
      "\u001b[34m[2024-11-14:04:29:37:INFO] Determined delimiter of CSV input is ','\u001b[0m\n",
      "\u001b[34m[2024-11-14:04:29:37:INFO] No GPUs detected (normal if no gpus installed)\u001b[0m\n",
      "\u001b[34m[2024-11-14:04:29:37:INFO] No GPUs detected (normal if no gpus installed)\u001b[0m\n",
      "\u001b[34m[2024-11-14:04:29:37:INFO] Determined delimiter of CSV input is ','\u001b[0m\n",
      "\u001b[34m[2024-11-14:04:29:37:INFO] Determined delimiter of CSV input is ','\u001b[0m\n",
      "\u001b[34m169.254.255.130 - - [14/Nov/2024:04:29:37 +0000] \"POST /invocations HTTP/1.1\" 200 10092 \"-\" \"Go-http-client/1.1\"\u001b[0m\n",
      "\u001b[34m169.254.255.130 - - [14/Nov/2024:04:29:37 +0000] \"POST /invocations HTTP/1.1\" 200 10170 \"-\" \"Go-http-client/1.1\"\u001b[0m\n",
      "\u001b[34m169.254.255.130 - - [14/Nov/2024:04:29:37 +0000] \"POST /invocations HTTP/1.1\" 200 10051 \"-\" \"Go-http-client/1.1\"\u001b[0m\n",
      "\u001b[34m169.254.255.130 - - [14/Nov/2024:04:29:37 +0000] \"POST /invocations HTTP/1.1\" 200 10136 \"-\" \"Go-http-client/1.1\"\u001b[0m\n",
      "\u001b[34m[2024-11-14:04:29:37:INFO] Determined delimiter of CSV input is ','\u001b[0m\n",
      "\u001b[34m169.254.255.130 - - [14/Nov/2024:04:29:37 +0000] \"POST /invocations HTTP/1.1\" 200 10075 \"-\" \"Go-http-client/1.1\"\u001b[0m\n",
      "\u001b[34m169.254.255.130 - - [14/Nov/2024:04:29:37 +0000] \"POST /invocations HTTP/1.1\" 200 10138 \"-\" \"Go-http-client/1.1\"\u001b[0m\n",
      "\u001b[34m169.254.255.130 - - [14/Nov/2024:04:29:37 +0000] \"POST /invocations HTTP/1.1\" 200 10120 \"-\" \"Go-http-client/1.1\"\u001b[0m\n",
      "\u001b[34m[2024-11-14:04:29:37:INFO] Determined delimiter of CSV input is ','\u001b[0m\n",
      "\u001b[34m169.254.255.130 - - [14/Nov/2024:04:29:37 +0000] \"POST /invocations HTTP/1.1\" 200 10033 \"-\" \"Go-http-client/1.1\"\u001b[0m\n",
      "\u001b[34m169.254.255.130 - - [14/Nov/2024:04:29:38 +0000] \"POST /invocations HTTP/1.1\" 200 10078 \"-\" \"Go-http-client/1.1\"\u001b[0m\n",
      "\u001b[35m[2024-11-14:04:29:37:INFO] Determined delimiter of CSV input is ','\u001b[0m\n",
      "\u001b[35m[2024-11-14:04:29:37:INFO] No GPUs detected (normal if no gpus installed)\u001b[0m\n",
      "\u001b[35m[2024-11-14:04:29:37:INFO] Determined delimiter of CSV input is ','\u001b[0m\n",
      "\u001b[35m[2024-11-14:04:29:37:INFO] Determined delimiter of CSV input is ','\u001b[0m\n",
      "\u001b[35m[2024-11-14:04:29:37:INFO] No GPUs detected (normal if no gpus installed)\u001b[0m\n",
      "\u001b[35m[2024-11-14:04:29:37:INFO] No GPUs detected (normal if no gpus installed)\u001b[0m\n",
      "\u001b[35m[2024-11-14:04:29:37:INFO] Determined delimiter of CSV input is ','\u001b[0m\n",
      "\u001b[35m[2024-11-14:04:29:37:INFO] Determined delimiter of CSV input is ','\u001b[0m\n",
      "\u001b[35m169.254.255.130 - - [14/Nov/2024:04:29:37 +0000] \"POST /invocations HTTP/1.1\" 200 10092 \"-\" \"Go-http-client/1.1\"\u001b[0m\n",
      "\u001b[35m169.254.255.130 - - [14/Nov/2024:04:29:37 +0000] \"POST /invocations HTTP/1.1\" 200 10170 \"-\" \"Go-http-client/1.1\"\u001b[0m\n",
      "\u001b[35m169.254.255.130 - - [14/Nov/2024:04:29:37 +0000] \"POST /invocations HTTP/1.1\" 200 10051 \"-\" \"Go-http-client/1.1\"\u001b[0m\n",
      "\u001b[35m169.254.255.130 - - [14/Nov/2024:04:29:37 +0000] \"POST /invocations HTTP/1.1\" 200 10136 \"-\" \"Go-http-client/1.1\"\u001b[0m\n",
      "\u001b[35m[2024-11-14:04:29:37:INFO] Determined delimiter of CSV input is ','\u001b[0m\n",
      "\u001b[35m169.254.255.130 - - [14/Nov/2024:04:29:37 +0000] \"POST /invocations HTTP/1.1\" 200 10075 \"-\" \"Go-http-client/1.1\"\u001b[0m\n",
      "\u001b[35m169.254.255.130 - - [14/Nov/2024:04:29:37 +0000] \"POST /invocations HTTP/1.1\" 200 10138 \"-\" \"Go-http-client/1.1\"\u001b[0m\n",
      "\u001b[35m169.254.255.130 - - [14/Nov/2024:04:29:37 +0000] \"POST /invocations HTTP/1.1\" 200 10120 \"-\" \"Go-http-client/1.1\"\u001b[0m\n",
      "\u001b[35m[2024-11-14:04:29:37:INFO] Determined delimiter of CSV input is ','\u001b[0m\n",
      "\u001b[35m169.254.255.130 - - [14/Nov/2024:04:29:37 +0000] \"POST /invocations HTTP/1.1\" 200 10033 \"-\" \"Go-http-client/1.1\"\u001b[0m\n",
      "\u001b[35m169.254.255.130 - - [14/Nov/2024:04:29:38 +0000] \"POST /invocations HTTP/1.1\" 200 10078 \"-\" \"Go-http-client/1.1\"\u001b[0m\n",
      "\u001b[34m169.254.255.130 - - [14/Nov/2024:04:29:38 +0000] \"POST /invocations HTTP/1.1\" 200 9458 \"-\" \"Go-http-client/1.1\"\u001b[0m\n",
      "\u001b[35m169.254.255.130 - - [14/Nov/2024:04:29:38 +0000] \"POST /invocations HTTP/1.1\" 200 9458 \"-\" \"Go-http-client/1.1\"\u001b[0m\n"
     ]
    }
   ],
   "source": [
    "xgb_transformer.transform(\n",
    "    data=batch_input,\n",
    "    # 資料類型設定為 S3Prefix\n",
    "    data_type='S3Prefix',\n",
    "    content_type='text/csv',\n",
    "    # 指定資料的分割方式為每行一筆記錄\n",
    "    split_type='Line'\n",
    ")"
   ]
  },
  {
   "cell_type": "markdown",
   "id": "e7148402",
   "metadata": {},
   "source": [
    "輸出一個 `驚嘆號 !` 用以識別批量轉換作業完成"
   ]
  },
  {
   "cell_type": "code",
   "execution_count": 120,
   "id": "2fedbb40",
   "metadata": {},
   "outputs": [
    {
     "name": "stdout",
     "output_type": "stream",
     "text": [
      "!\n"
     ]
    }
   ],
   "source": [
    "xgb_transformer.wait(logs=False)"
   ]
  },
  {
   "cell_type": "markdown",
   "id": "0b4ab025",
   "metadata": {},
   "source": [
    "# 讀取預測結果"
   ]
  },
  {
   "cell_type": "markdown",
   "id": "ea267848",
   "metadata": {},
   "source": [
    "取得輸出路徑"
   ]
  },
  {
   "cell_type": "code",
   "execution_count": 122,
   "id": "39877c1d",
   "metadata": {},
   "outputs": [],
   "source": [
    "_output = f'{prefix}/batch-out/batch-in.csv.out'"
   ]
  },
  {
   "cell_type": "code",
   "execution_count": 123,
   "id": "0d751b12",
   "metadata": {},
   "outputs": [],
   "source": [
    "s3 = boto3.client('s3')\n",
    "\n",
    "# 從 S3 取得獲預測輸出文件\n",
    "obj = s3.get_object(Bucket=bucket, Key=_output)"
   ]
  },
  {
   "cell_type": "markdown",
   "id": "ab9e5c7c",
   "metadata": {},
   "source": [
    "轉換為 DataFrame，並命名欄位為 `class`"
   ]
  },
  {
   "cell_type": "code",
   "execution_count": 124,
   "id": "7a35decc",
   "metadata": {},
   "outputs": [],
   "source": [
    "target_predicted = pd.read_csv(\n",
    "    io.BytesIO(obj['Body'].read()),\n",
    "    sep=',',\n",
    "    names=['class']\n",
    ")"
   ]
  },
  {
   "cell_type": "code",
   "execution_count": 125,
   "id": "f305ee94",
   "metadata": {},
   "outputs": [
    {
     "data": {
      "text/html": [
       "<div>\n",
       "<style scoped>\n",
       "    .dataframe tbody tr th:only-of-type {\n",
       "        vertical-align: middle;\n",
       "    }\n",
       "\n",
       "    .dataframe tbody tr th {\n",
       "        vertical-align: top;\n",
       "    }\n",
       "\n",
       "    .dataframe thead th {\n",
       "        text-align: right;\n",
       "    }\n",
       "</style>\n",
       "<table border=\"1\" class=\"dataframe\">\n",
       "  <thead>\n",
       "    <tr style=\"text-align: right;\">\n",
       "      <th></th>\n",
       "      <th>class</th>\n",
       "    </tr>\n",
       "  </thead>\n",
       "  <tbody>\n",
       "    <tr>\n",
       "      <th>0</th>\n",
       "      <td>0.000066</td>\n",
       "    </tr>\n",
       "    <tr>\n",
       "      <th>1</th>\n",
       "      <td>0.734596</td>\n",
       "    </tr>\n",
       "    <tr>\n",
       "      <th>2</th>\n",
       "      <td>0.090409</td>\n",
       "    </tr>\n",
       "    <tr>\n",
       "      <th>3</th>\n",
       "      <td>0.947791</td>\n",
       "    </tr>\n",
       "    <tr>\n",
       "      <th>4</th>\n",
       "      <td>0.989594</td>\n",
       "    </tr>\n",
       "  </tbody>\n",
       "</table>\n",
       "</div>"
      ],
      "text/plain": [
       "      class\n",
       "0  0.000066\n",
       "1  0.734596\n",
       "2  0.090409\n",
       "3  0.947791\n",
       "4  0.989594"
      ]
     },
     "execution_count": 125,
     "metadata": {},
     "output_type": "execute_result"
    }
   ],
   "source": [
    "target_predicted[:5]"
   ]
  },
  {
   "cell_type": "markdown",
   "id": "b9c1f919",
   "metadata": {},
   "source": [
    "# 進行二元分類轉換"
   ]
  },
  {
   "cell_type": "markdown",
   "id": "8e0b9d5f",
   "metadata": {},
   "source": [
    "自訂函數，將預測結果轉換為二元分類"
   ]
  },
  {
   "cell_type": "code",
   "execution_count": 126,
   "id": "697490b3",
   "metadata": {},
   "outputs": [],
   "source": [
    "def binary_convert(x):\n",
    "    threshold = 0.5\n",
    "    if x > threshold:\n",
    "        return 1\n",
    "    else:\n",
    "        return 0"
   ]
  },
  {
   "cell_type": "markdown",
   "id": "2153066b",
   "metadata": {},
   "source": [
    "將 `class` 列中的預測值轉換為二元分類結果"
   ]
  },
  {
   "cell_type": "code",
   "execution_count": 128,
   "id": "eb933d8f",
   "metadata": {},
   "outputs": [],
   "source": [
    "target_predicted_binary = target_predicted['class'].apply(binary_convert)"
   ]
  },
  {
   "cell_type": "code",
   "execution_count": 129,
   "id": "1e5f27bc",
   "metadata": {},
   "outputs": [
    {
     "data": {
      "text/plain": [
       "0    0\n",
       "1    1\n",
       "2    0\n",
       "3    1\n",
       "4    1\n",
       "Name: class, dtype: int64"
      ]
     },
     "execution_count": 129,
     "metadata": {},
     "output_type": "execute_result"
    }
   ],
   "source": [
    "target_predicted_binary[:5]"
   ]
  },
  {
   "cell_type": "markdown",
   "id": "6c1013c8",
   "metadata": {},
   "source": [
    "繪製混淆矩陣"
   ]
  },
  {
   "cell_type": "code",
   "execution_count": 130,
   "id": "52dd9507",
   "metadata": {},
   "outputs": [
    {
     "data": {
      "image/png": "[encoded data removed]",
      "text/plain": [
       "<Figure size 640x480 with 1 Axes>"
      ]
     },
     "metadata": {},
     "output_type": "display_data"
    }
   ],
   "source": [
    "plot_confusion_matrix(test['label'], target_predicted_binary)"
   ]
  },
  {
   "cell_type": "markdown",
   "id": "adf245cc",
   "metadata": {},
   "source": [
    "輸出矩陣"
   ]
  },
  {
   "cell_type": "code",
   "execution_count": 131,
   "id": "4da631e0",
   "metadata": {},
   "outputs": [
    {
     "name": "stdout",
     "output_type": "stream",
     "text": [
      "敏感性/召回率 (Sensitivity or TPR): 40.88102099629477%\n",
      "特異性 (Specificity or TNR): 59.23765071956437%\n",
      "精確率 (Precision): 48.652621264086235%\n",
      "陰性預測值 (Negative Predictive Value): 51.470091247042916%\n",
      "假陽性率 (False Positive Rate): 40.76234928043563%\n",
      "假陰性率 (False Negative Rate): 59.11897900370523%\n",
      "假發現率 (False Discovery Rate): 51.347378735913765%\n",
      "正確率 (Accuracy): 50.32%\n"
     ]
    }
   ],
   "source": [
    "print_metrics(\n",
    "    test['label'], \n",
    "    target_predicted_binary\n",
    ")"
   ]
  },
  {
   "cell_type": "code",
   "execution_count": null,
   "id": "7a0bc376",
   "metadata": {},
   "outputs": [],
   "source": []
  },
  {
   "cell_type": "code",
   "execution_count": null,
   "id": "b37cbf88",
   "metadata": {},
   "outputs": [],
   "source": []
  },
  {
   "cell_type": "code",
   "execution_count": null,
   "id": "b04d47c1",
   "metadata": {},
   "outputs": [],
   "source": []
  }
 ],
 "metadata": {
  "kernelspec": {
   "display_name": "conda_python3",
   "language": "python",
   "name": "conda_python3"
  },
  "language_info": {
   "codemirror_mode": {
    "name": "ipython",
    "version": 3
   },
   "file_extension": ".py",
   "mimetype": "text/x-python",
   "name": "python",
   "nbconvert_exporter": "python",
   "pygments_lexer": "ipython3",
   "version": "3.10.15"
  }
 },
 "nbformat": 4,
 "nbformat_minor": 5
}
