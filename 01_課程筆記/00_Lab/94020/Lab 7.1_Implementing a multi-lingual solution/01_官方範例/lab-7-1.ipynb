{
 "cells": [
  {
   "cell_type": "markdown",
   "id": "f6ab6ee0",
   "metadata": {},
   "source": [
    "# 建立 AWS CLI 環境"
   ]
  },
  {
   "cell_type": "code",
   "execution_count": 1,
   "id": "2fbdb630",
   "metadata": {},
   "outputs": [
    {
     "name": "stdout",
     "output_type": "stream",
     "text": [
      "AWS Account ID: 339712730744\n"
     ]
    }
   ],
   "source": [
    "from dotenv import load_dotenv\n",
    "import os\n",
    "import boto3\n",
    "\n",
    "# 載入 .env 檔案中的環境變數\n",
    "load_dotenv()\n",
    "\n",
    "# 建立 STS 客戶端\n",
    "sts_client = boto3.client(\"sts\")\n",
    "\n",
    "# 呼叫 get_caller_identity 以取得當前 AWS 帳號資訊\n",
    "response = sts_client.get_caller_identity()\n",
    "account_id = response['Account']\n",
    "\n",
    "print(f\"AWS Account ID: {account_id}\")"
   ]
  },
  {
   "attachments": {},
   "cell_type": "markdown",
   "id": "28c6115a",
   "metadata": {},
   "source": [
    "Version: 02.14.2023"
   ]
  },
  {
   "cell_type": "markdown",
   "id": "1f0e3e4b",
   "metadata": {},
   "source": [
    "# Lab 7.1: Implementing a Multilingual Solution\n",
    "\n",
    "本實驗將使用三種不同的 AWS 服務來建立將音訊檔案翻譯為不同語言的文字的解決方案。\n",
    "\n",
    "## Introducing the business scenario\n",
    "\n",
    "本實驗將在多種語言之間翻譯影片。\n",
    "\n",
    "## Lab steps\n",
    "\n",
    "1. Amazon Transcribe example\n",
    "2. Amazon Translate example\n",
    "3. Amazon Polly example\n",
    "4. Challenge exercise"
   ]
  },
  {
   "cell_type": "markdown",
   "id": "d63dffa6",
   "metadata": {},
   "source": [
    "## 1. Amazon Transcribe example\n",
    "\n",
    "1. 本部分使用 boto3  用戶端呼叫 Amazon Transcribe 將音訊檔案轉換為文字，運行範例後，可前往 `Amazon Transcribe` 控制台查看轉錄內容。\n",
    "\n",
    "2. 轉錄需要幾分鐘才能完成。\n"
   ]
  },
  {
   "cell_type": "code",
   "execution_count": 7,
   "id": "90b1e00a",
   "metadata": {},
   "outputs": [],
   "source": [
    "# 用於生成全域唯一識別碼（UUID）\n",
    "import uuid\n",
    "# 用於處理 JSON 格式的數據\n",
    "import json\n",
    "# 這是 AWS 的 Python SDK，用於與 AWS 服務互動\n",
    "import boto3\n",
    "# 從 time 模組匯入 sleep 函數，用於讓程式暫停指定的秒數\n",
    "from time import sleep\n",
    "\n",
    "# 定義 S3 bucket 的名稱，這裡使用的是 AWS S3 存儲資源的名稱 \n",
    "bucket = 'c133864a3391506l8170626t1w339712730744-labbucket-pk5q3cfyfaoh'\n",
    "\n",
    "# 定義存取 AWS Comprehend 的角色 ARN，用於授權訪問 Comprehend 服務的權限\n",
    "database_access_role_arn = 'arn:aws:iam::339712730744:role/service-role/c133864a3391506l8170626t1w-ComprehendDataAccessRole-ox04SNmkCvJt'\n",
    "\n",
    "# 定義存取 AWS Translate 的角色 ARN，用於授權訪問 Translate 服務的權限\n",
    "translate_access_role_arn = 'arn:aws:iam::339712730744:role/c133864a3391506l8170626t1w3397127-TranslateDemoRole-MORbCAxdLUuo'\n",
    "\n",
    "\n",
    "# 建立一個 AWS Transcribe 的客戶端，用於呼叫 AWS Transcribe 服務\n",
    "transcribe_client = boto3.client(\"transcribe\")"
   ]
  },
  {
   "cell_type": "markdown",
   "id": "b2ce86fb",
   "metadata": {},
   "source": [
    "test.wav 範例檔案位於 **/s3** 資料夾中。\n",
    "\n",
    "該文件包含音頻短語 `測試。你好，你好，你好。這是一個測試。測試，測試，測試。`"
   ]
  },
  {
   "cell_type": "code",
   "execution_count": 8,
   "id": "04388243",
   "metadata": {},
   "outputs": [],
   "source": [
    "media_input_uri = f's3://{bucket}/lab71/transcribe-sample/test.wav'"
   ]
  },
  {
   "cell_type": "markdown",
   "id": "993ff9f9",
   "metadata": {},
   "source": [
    "### 檢查是否具備權限"
   ]
  },
  {
   "cell_type": "code",
   "execution_count": 9,
   "id": "fc68b9be",
   "metadata": {},
   "outputs": [
    {
     "name": "stdout",
     "output_type": "stream",
     "text": [
      "Bucket exists and is accessible.\n"
     ]
    }
   ],
   "source": [
    "import boto3\n",
    "\n",
    "s3_client = boto3.client(\"s3\")\n",
    "try:\n",
    "    s3_client.head_bucket(Bucket=bucket)\n",
    "    print(\"Bucket exists and is accessible.\")\n",
    "except Exception as e:\n",
    "    print(f\"Error accessing bucket: {e}\")"
   ]
  },
  {
   "cell_type": "markdown",
   "id": "7bba1b52",
   "metadata": {},
   "source": [
    "首先，使用 test.wav 檔案作為輸入建立轉錄作業。請注意，您需要指定輸出位置。"
   ]
  },
  {
   "cell_type": "code",
   "execution_count": 11,
   "id": "fdd4aaf0",
   "metadata": {},
   "outputs": [],
   "source": [
    "# 建立轉錄作業\n",
    "job_uuid = uuid.uuid1()\n",
    "transcribe_job_name = f\"transcribe-job-{job_uuid}\"\n",
    "transcribe_output_filename = 'transcribe_output.txt'\n",
    "\n",
    "response = transcribe_client.start_transcription_job(\n",
    "    TranscriptionJobName=transcribe_job_name,\n",
    "    Media={'MediaFileUri': media_input_uri},\n",
    "    MediaFormat='wav',\n",
    "    LanguageCode='en-US',\n",
    "    OutputBucketName=bucket,\n",
    "    OutputKey=transcribe_output_filename\n",
    ")"
   ]
  },
  {
   "cell_type": "markdown",
   "id": "9c6dbff4",
   "metadata": {},
   "source": [
    "等待作業完成"
   ]
  },
  {
   "cell_type": "code",
   "execution_count": 12,
   "id": "0c13a308",
   "metadata": {},
   "outputs": [
    {
     "name": "stdout",
     "output_type": "stream",
     "text": [
      "COMPLETED\n"
     ]
    }
   ],
   "source": [
    "job=None\n",
    "while True:\n",
    "    job = transcribe_client.get_transcription_job(TranscriptionJobName = transcribe_job_name)\n",
    "    if job['TranscriptionJob']['TranscriptionJobStatus'] in ['COMPLETED','FAILED']:\n",
    "        break\n",
    "    print('.', end='')\n",
    "    sleep(20)\n",
    "        \n",
    "print(job['TranscriptionJob']['TranscriptionJobStatus'])"
   ]
  },
  {
   "cell_type": "markdown",
   "id": "e9006576",
   "metadata": {},
   "source": [
    "如果前一個儲存格的輸出是*COMPLETED*，則繼續。否則，請修正錯誤並重試前一個儲存格。"
   ]
  },
  {
   "cell_type": "markdown",
   "id": "aeede010",
   "metadata": {},
   "source": [
    "若要檢索輸出文件，請使用“get_transcription_job”方法呼叫的結果。"
   ]
  },
  {
   "cell_type": "code",
   "execution_count": 13,
   "id": "ecb0d981",
   "metadata": {},
   "outputs": [
    {
     "name": "stdout",
     "output_type": "stream",
     "text": [
      "https://s3.us-east-1.amazonaws.com/c133864a3391506l8170626t1w339712730744-labbucket-pk5q3cfyfaoh/transcribe_output.txt\n"
     ]
    }
   ],
   "source": [
    "transcription_file = job['TranscriptionJob']['Transcript']['TranscriptFileUri']\n",
    "print(transcription_file)"
   ]
  },
  {
   "cell_type": "markdown",
   "id": "f7a3dc19",
   "metadata": {},
   "source": [
    "從 S3 下載文件"
   ]
  },
  {
   "cell_type": "code",
   "execution_count": 14,
   "id": "e8f14b46",
   "metadata": {},
   "outputs": [],
   "source": [
    "s3_client = boto3.client('s3')\n",
    "with open(transcribe_output_filename, 'wb') as f:\n",
    "    s3_client.download_fileobj(bucket, transcribe_output_filename, f)"
   ]
  },
  {
   "cell_type": "markdown",
   "id": "edafac14",
   "metadata": {},
   "source": [
    "開啟檔案並將內容讀入 JSON 物件"
   ]
  },
  {
   "cell_type": "code",
   "execution_count": 15,
   "id": "1bb2111d",
   "metadata": {},
   "outputs": [],
   "source": [
    "with open(transcribe_output_filename) as f:\n",
    "  data = json.load(f)"
   ]
  },
  {
   "cell_type": "code",
   "execution_count": 16,
   "id": "c0cffbb3",
   "metadata": {},
   "outputs": [
    {
     "data": {
      "text/plain": [
       "{'jobName': 'transcribe-job-f9baf76a-9602-11ef-8cdf-3a328b8844c7',\n",
       " 'accountId': '339712730744',\n",
       " 'status': 'COMPLETED',\n",
       " 'results': {'transcripts': [{'transcript': 'Test. Hello. Hello. Hello. This is a test test test test.'}],\n",
       "  'items': [{'id': 0,\n",
       "    'type': 'pronunciation',\n",
       "    'alternatives': [{'confidence': '0.996', 'content': 'Test'}],\n",
       "    'start_time': '0.009',\n",
       "    'end_time': '0.56'},\n",
       "   {'id': 1,\n",
       "    'type': 'punctuation',\n",
       "    'alternatives': [{'confidence': '0.0', 'content': '.'}]},\n",
       "   {'id': 2,\n",
       "    'type': 'pronunciation',\n",
       "    'alternatives': [{'confidence': '0.997', 'content': 'Hello'}],\n",
       "    'start_time': '0.66',\n",
       "    'end_time': '1.19'},\n",
       "   {'id': 3,\n",
       "    'type': 'punctuation',\n",
       "    'alternatives': [{'confidence': '0.0', 'content': '.'}]},\n",
       "   {'id': 4,\n",
       "    'type': 'pronunciation',\n",
       "    'alternatives': [{'confidence': '0.996', 'content': 'Hello'}],\n",
       "    'start_time': '1.2',\n",
       "    'end_time': '1.7'},\n",
       "   {'id': 5,\n",
       "    'type': 'punctuation',\n",
       "    'alternatives': [{'confidence': '0.0', 'content': '.'}]},\n",
       "   {'id': 6,\n",
       "    'type': 'pronunciation',\n",
       "    'alternatives': [{'confidence': '0.997', 'content': 'Hello'}],\n",
       "    'start_time': '1.71',\n",
       "    'end_time': '2.49'},\n",
       "   {'id': 7,\n",
       "    'type': 'punctuation',\n",
       "    'alternatives': [{'confidence': '0.0', 'content': '.'}]},\n",
       "   {'id': 8,\n",
       "    'type': 'pronunciation',\n",
       "    'alternatives': [{'confidence': '0.999', 'content': 'This'}],\n",
       "    'start_time': '2.73',\n",
       "    'end_time': '3.47'},\n",
       "   {'id': 9,\n",
       "    'type': 'pronunciation',\n",
       "    'alternatives': [{'confidence': '0.999', 'content': 'is'}],\n",
       "    'start_time': '3.48',\n",
       "    'end_time': '3.73'},\n",
       "   {'id': 10,\n",
       "    'type': 'pronunciation',\n",
       "    'alternatives': [{'confidence': '0.997', 'content': 'a'}],\n",
       "    'start_time': '3.74',\n",
       "    'end_time': '3.75'},\n",
       "   {'id': 11,\n",
       "    'type': 'pronunciation',\n",
       "    'alternatives': [{'confidence': '0.999', 'content': 'test'}],\n",
       "    'start_time': '3.759',\n",
       "    'end_time': '4.67'},\n",
       "   {'id': 12,\n",
       "    'type': 'pronunciation',\n",
       "    'alternatives': [{'confidence': '0.996', 'content': 'test'}],\n",
       "    'start_time': '4.679',\n",
       "    'end_time': '5.36'},\n",
       "   {'id': 13,\n",
       "    'type': 'pronunciation',\n",
       "    'alternatives': [{'confidence': '0.997', 'content': 'test'}],\n",
       "    'start_time': '5.369',\n",
       "    'end_time': '5.679'},\n",
       "   {'id': 14,\n",
       "    'type': 'pronunciation',\n",
       "    'alternatives': [{'confidence': '0.997', 'content': 'test'}],\n",
       "    'start_time': '5.69',\n",
       "    'end_time': '6.15'},\n",
       "   {'id': 15,\n",
       "    'type': 'punctuation',\n",
       "    'alternatives': [{'confidence': '0.0', 'content': '.'}]}],\n",
       "  'audio_segments': [{'id': 0,\n",
       "    'transcript': 'Test. Hello. Hello. Hello. This is a test test test test.',\n",
       "    'start_time': '0.0',\n",
       "    'end_time': '6.309',\n",
       "    'items': [0, 1, 2, 3, 4, 5, 6, 7, 8, 9, 10, 11, 12, 13, 14, 15]}]}}"
      ]
     },
     "execution_count": 16,
     "metadata": {},
     "output_type": "execute_result"
    }
   ],
   "source": [
    "data"
   ]
  },
  {
   "cell_type": "markdown",
   "id": "87b6aea2",
   "metadata": {},
   "source": [
    "獲得實際的轉錄"
   ]
  },
  {
   "cell_type": "code",
   "execution_count": 17,
   "id": "7e850ce3",
   "metadata": {},
   "outputs": [
    {
     "data": {
      "text/plain": [
       "'Test. Hello. Hello. Hello. This is a test test test test.'"
      ]
     },
     "execution_count": 17,
     "metadata": {},
     "output_type": "execute_result"
    }
   ],
   "source": [
    "data['results']['transcripts'][0]['transcript']"
   ]
  },
  {
   "cell_type": "markdown",
   "id": "fdca83ae",
   "metadata": {},
   "source": [
    "## 2. Amazon Translate example\n",
    "\n",
    "本部分將使用 boto3 用戶端呼叫 `Amazon Translate` 並將文字檔案從英文轉換為西班牙文。\n",
    "\n",
    "運行後可轉到 `Amazon Translate` 控制台查看翻譯。\n",
    "\n",
    "有關作業的翻譯和詳細資訊位於 **批量翻譯** 部分。\n",
    "\n",
    "包含翻譯的文字檔案將位於您的 S3 儲存桶中。該儲存桶還將有一個 **details** 資料夾，其中包含一個 JSON 文件，其中包含有關翻譯的詳細信息，例如源語言和目標語言。"
   ]
  },
  {
   "cell_type": "markdown",
   "id": "5ee4ac28",
   "metadata": {},
   "source": [
    "First, create the translation job. The input and output locations are required.\n",
    "\n",
    "Note that Amazon Translate can translate the same text into multiple target languages. In this example, you will use Spanish, for which the language code is `es`."
   ]
  },
  {
   "cell_type": "code",
   "execution_count": 18,
   "id": "9995145c",
   "metadata": {},
   "outputs": [],
   "source": [
    "import uuid\n",
    "\n",
    "translate_client = boto3.client(service_name='translate')\n",
    "\n",
    "input_data = f's3://{bucket}/lab71/translate-sample'\n",
    "output_data = f's3://{bucket}'\n",
    "\n",
    "job_uuid = uuid.uuid1()\n",
    "translate_job_name = f\"translate-job-{job_uuid}\"\n",
    "translate_job_submission = translate_client.start_text_translation_job(\n",
    "    JobName=translate_job_name,\n",
    "    InputDataConfig={'S3Uri': input_data, 'ContentType':'text/plain'},\n",
    "    OutputDataConfig={'S3Uri': output_data},\n",
    "    DataAccessRoleArn=translate_access_role_arn,\n",
    "    SourceLanguageCode='en',\n",
    "    TargetLanguageCodes=['es']\n",
    ")\n",
    "translate_job_id = translate_job_submission['JobId']"
   ]
  },
  {
   "cell_type": "markdown",
   "id": "1fb69725",
   "metadata": {},
   "source": [
    "使用上一個儲存格中的作業 ID 來取得狀態。等待作業完成。\n",
    "\n",
    "請注意，該作業將需要幾分鐘才能完成。\n",
    "\n",
    "本機第一次實作花了 `15` 分鐘"
   ]
  },
  {
   "cell_type": "code",
   "execution_count": 19,
   "id": "0cc4a11f",
   "metadata": {},
   "outputs": [
    {
     "name": "stdout",
     "output_type": "stream",
     "text": [
      "......................................COMPLETED\n"
     ]
    }
   ],
   "source": [
    "while True:\n",
    "    translate_job = translate_client.describe_text_translation_job(JobId=translate_job_id)\n",
    "    if translate_job['TextTranslationJobProperties']['JobStatus'] in ['COMPLETED','FAILED']:\n",
    "        break\n",
    "    sleep(20)\n",
    "    print('.', end='')\n",
    "\n",
    "print(translate_job['TextTranslationJobProperties']['JobStatus'])"
   ]
  },
  {
   "cell_type": "markdown",
   "id": "0b3dd602",
   "metadata": {},
   "source": [
    "輸出 *COMPLETED* 再繼續"
   ]
  },
  {
   "cell_type": "markdown",
   "id": "039eabfe",
   "metadata": {},
   "source": [
    "輸出資料夾的格式是根據帳號和作業 ID 建立的。\n",
    "以下儲存格使用此資訊建立一條路徑。"
   ]
  },
  {
   "cell_type": "code",
   "execution_count": 20,
   "id": "82124303",
   "metadata": {},
   "outputs": [],
   "source": [
    "account_id = boto3.client('sts').get_caller_identity().get('Account')\n",
    "translate_output_path = f'{account_id}-TranslateText-{translate_job_id}/'"
   ]
  },
  {
   "cell_type": "markdown",
   "id": "137e4b9f",
   "metadata": {},
   "source": [
    "Amazon Translate 輸出多個檔案。您對 .txt 檔案感興趣，其中包含翻譯結果。以下儲存格將下載 .txt 檔案。"
   ]
  },
  {
   "cell_type": "code",
   "execution_count": 21,
   "id": "e9c68318",
   "metadata": {},
   "outputs": [
    {
     "name": "stdout",
     "output_type": "stream",
     "text": [
      ".test.txt\n"
     ]
    }
   ],
   "source": [
    "s3_resource = boto3.resource('s3')\n",
    "my_bucket = s3_resource.Bucket(bucket)\n",
    "\n",
    "for my_bucket_object in my_bucket.objects.filter(Prefix=translate_output_path):\n",
    "    file=my_bucket_object.key\n",
    "    if file.endswith('txt'):\n",
    "        file = file.lstrip(translate_output_path)\n",
    "        file = file.lstrip('/')\n",
    "        print(file)\n",
    "        with open(file, 'wb') as f:\n",
    "            s3_client.download_fileobj(bucket, my_bucket_object.key, f)"
   ]
  },
  {
   "cell_type": "markdown",
   "id": "2c6fca25",
   "metadata": {},
   "source": [
    "## 3. Amazon Polly example\n",
    "\n",
    "本部分中使用 boto3 呼叫 Amazon Polly 並建立西班牙文文字檔案的發聲。\n",
    "\n",
    "運行後打開 S3 儲存桶以查看輸出。\n",
    "\n",
    "輸出是一個 .mp3 文件，其文件名是長字串。可開啟檔案並聽到 Lucia 的聲音說 `Prueba de prueba, este es una prueba`。\n"
   ]
  },
  {
   "cell_type": "code",
   "execution_count": 22,
   "id": "13536a42",
   "metadata": {},
   "outputs": [],
   "source": [
    "polly_client = boto3.client('polly')\n",
    "\n",
    "itemname = 'lab71/polly-sample/es.test.txt'\n",
    "obj = s3_resource.Object(bucket, itemname )\n",
    "body = obj.get()['Body'].read().decode('utf-8')\n",
    "\n",
    "response = polly_client.start_speech_synthesis_task(\n",
    "    Engine='standard',\n",
    "    OutputFormat='mp3',\n",
    "    OutputS3BucketName=bucket,\n",
    "    Text=body,\n",
    "    VoiceId='Lucia'\n",
    ") \n"
   ]
  },
  {
   "cell_type": "markdown",
   "id": "765bd583",
   "metadata": {},
   "source": [
    "從回應中提取任務 ID。"
   ]
  },
  {
   "cell_type": "code",
   "execution_count": 24,
   "id": "a3bbebae",
   "metadata": {},
   "outputs": [
    {
     "data": {
      "text/plain": [
       "'67f557e5-92cd-4d59-a07a-5cddef857497'"
      ]
     },
     "execution_count": 24,
     "metadata": {},
     "output_type": "execute_result"
    }
   ],
   "source": [
    "task_id = response['SynthesisTask']['TaskId']\n",
    "task_id"
   ]
  },
  {
   "cell_type": "markdown",
   "id": "4c038f57",
   "metadata": {},
   "source": [
    "使用此任務 ID 檢查作業是否已完成。"
   ]
  },
  {
   "cell_type": "code",
   "execution_count": 25,
   "id": "bde9ce53",
   "metadata": {},
   "outputs": [
    {
     "name": "stdout",
     "output_type": "stream",
     "text": [
      "completed\n"
     ]
    }
   ],
   "source": [
    "while True:\n",
    "    polly_job = polly_client.get_speech_synthesis_task(TaskId=task_id)\n",
    "    if polly_job['SynthesisTask']['TaskStatus'] in ['completed','failed']:\n",
    "        break\n",
    "    sleep(20)\n",
    "    print('.', end='')\n",
    "\n",
    "print(polly_job['SynthesisTask']['TaskStatus'])"
   ]
  },
  {
   "cell_type": "markdown",
   "id": "ea487e79",
   "metadata": {},
   "source": [
    "如果前一個單元格的輸出“已完成”，則繼續。否則，請修正錯誤並重試前一個儲存格。"
   ]
  },
  {
   "cell_type": "markdown",
   "id": "fb448de1",
   "metadata": {},
   "source": [
    "若要下載結果，請執行下列儲存格。"
   ]
  },
  {
   "cell_type": "code",
   "execution_count": 26,
   "id": "3c7ece3e",
   "metadata": {},
   "outputs": [],
   "source": [
    "s3_client = boto3.client('s3')\n",
    "polly_output_filename = f'{task_id}.mp3'\n",
    "with open(polly_output_filename, 'wb') as f:\n",
    "    s3_client.download_fileobj(bucket, polly_output_filename, f)"
   ]
  },
  {
   "cell_type": "markdown",
   "id": "ac6a76cf",
   "metadata": {},
   "source": [
    "## 4. Challenge exercise\n",
    "\n",
    "您的挑戰是從具有英語音訊通道的影片建立翻譯後的音訊檔案。\n",
    "\n",
    "您可以使用前三個範例中的程式碼作為解決方案的範本。\n",
    "\n",
    "挑戰影片位於 S3 儲存桶的「lab71/challenge」資料夾中。影片檔名為sample.mp4。此文件也可在此筆記本實例的「/s3」資料夾中找到。"
   ]
  }
 ],
 "metadata": {
  "kernelspec": {
   "display_name": "envAWS",
   "language": "python",
   "name": "python3"
  },
  "language_info": {
   "codemirror_mode": {
    "name": "ipython",
    "version": 3
   },
   "file_extension": ".py",
   "mimetype": "text/x-python",
   "name": "python",
   "nbconvert_exporter": "python",
   "pygments_lexer": "ipython3",
   "version": "3.10.11"
  }
 },
 "nbformat": 4,
 "nbformat_minor": 5
}
