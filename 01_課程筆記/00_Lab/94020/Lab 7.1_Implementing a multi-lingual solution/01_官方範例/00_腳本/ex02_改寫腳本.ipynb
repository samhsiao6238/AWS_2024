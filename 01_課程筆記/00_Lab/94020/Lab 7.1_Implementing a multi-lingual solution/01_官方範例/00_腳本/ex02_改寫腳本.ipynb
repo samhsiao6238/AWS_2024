{
 "cells": [
  {
   "cell_type": "markdown",
   "id": "f6ab6ee0",
   "metadata": {},
   "source": [
    "# 建立 AWS CLI 環境\n"
   ]
  },
  {
   "cell_type": "code",
   "execution_count": 1,
   "id": "2fbdb630",
   "metadata": {},
   "outputs": [
    {
     "name": "stdout",
     "output_type": "stream",
     "text": [
      "AWS Account ID: 339712730744\n"
     ]
    }
   ],
   "source": [
    "from dotenv import load_dotenv\n",
    "import os\n",
    "import boto3\n",
    "\n",
    "# 載入 .env 檔案中的環境變數\n",
    "load_dotenv()\n",
    "\n",
    "# 建立 STS 客戶端\n",
    "sts_client = boto3.client(\"sts\")\n",
    "\n",
    "# 呼叫 get_caller_identity 以取得當前 AWS 帳號資訊\n",
    "response = sts_client.get_caller_identity()\n",
    "account_id = response[\"Account\"]\n",
    "\n",
    "print(f\"AWS Account ID: {account_id}\")"
   ]
  },
  {
   "cell_type": "markdown",
   "id": "e52a527a",
   "metadata": {},
   "source": [
    "自動取得所有角色的名稱和 ARN，並可根據名稱或其他條件選擇合適的角色\n"
   ]
  },
  {
   "cell_type": "code",
   "execution_count": null,
   "id": "6232d473",
   "metadata": {},
   "outputs": [],
   "source": [
    "import boto3\n",
    "\n",
    "# 創建 IAM 客戶端\n",
    "iam_client = boto3.client(\"iam\")\n",
    "\n",
    "\n",
    "def list_roles():\n",
    "    try:\n",
    "        # 呼叫 IAM 客戶端的 list_roles 方法以取得所有角色\n",
    "        response = iam_client.list_roles()\n",
    "\n",
    "        # 儲存所有角色的名稱和 ARN\n",
    "        roles = {role[\"RoleName\"]: role[\"Arn\"] for role in response[\"Roles\"]}\n",
    "        return roles\n",
    "    except Exception as e:\n",
    "        print(f\"無法取得角色列表。錯誤訊息：{e}\")\n",
    "        return None\n",
    "\n",
    "\n",
    "def find_role_arn(role_keyword, roles):\n",
    "    # 根據指定的關鍵字篩選角色\n",
    "    for role_name, role_arn in roles.items():\n",
    "        if role_keyword in role_name:\n",
    "            return role_arn\n",
    "    print(f\"無法找到包含關鍵字 '{role_keyword}' 的角色。\")\n",
    "    return None\n",
    "\n",
    "\n",
    "# 取得所有角色\n",
    "roles = list_roles()\n",
    "\n",
    "# 定義要搜尋的角色關鍵字\n",
    "database_role_keyword = \"ComprehendDataAccessRole\"\n",
    "translate_role_keyword = \"TranslateDemoRole\"\n",
    "\n",
    "# 找出匹配的角色 ARN\n",
    "database_access_role_arn = find_role_arn(database_role_keyword, roles)\n",
    "translate_access_role_arn = find_role_arn(translate_role_keyword, roles)\n",
    "\n",
    "# 檢查取得的 ARN\n",
    "print(f\"Database Access Role ARN: {database_access_role_arn}\")\n",
    "print(f\"Translate Access Role ARN: {translate_access_role_arn}\")"
   ]
  },
  {
   "cell_type": "markdown",
   "id": "d7468b43",
   "metadata": {},
   "source": [
    "篩選出名稱中包含「labbucket」的 S3 bucket\n"
   ]
  },
  {
   "cell_type": "code",
   "execution_count": null,
   "id": "0cb9906b",
   "metadata": {},
   "outputs": [],
   "source": [
    "import boto3\n",
    "\n",
    "# 創建 S3 客戶端\n",
    "s3_client = boto3.client(\"s3\")\n",
    "\n",
    "\n",
    "def list_buckets():\n",
    "    try:\n",
    "        # 呼叫 list_buckets 方法以取得所有 bucket\n",
    "        response = s3_client.list_buckets()\n",
    "\n",
    "        # 從回應中提取每個 bucket 的名稱，並篩選包含 'labbucket' 的名稱\n",
    "        bucket_names = [\n",
    "            bucket[\"Name\"]\n",
    "            for bucket in response[\"Buckets\"]\n",
    "            if \"labbucket\" in bucket[\"Name\"]\n",
    "        ]\n",
    "        return bucket_names\n",
    "    except Exception as e:\n",
    "        print(f\"無法取得 bucket 列表。錯誤訊息：{e}\")\n",
    "        return None\n",
    "\n",
    "\n",
    "# 取得篩選後的 bucket 名稱\n",
    "bucket_names = list_buckets()\n",
    "\n",
    "# 顯示取得的 bucket 名稱\n",
    "if bucket_names:\n",
    "    print(\"包含 'labbucket' 的 Bucket 名稱列表：\")\n",
    "    for name in bucket_names:\n",
    "        print(name)\n",
    "else:\n",
    "    print(\"沒有找到包含 'labbucket' 的 Bucket。\")"
   ]
  },
  {
   "attachments": {},
   "cell_type": "markdown",
   "id": "28c6115a",
   "metadata": {},
   "source": [
    "Version: 02.14.2023\n"
   ]
  },
  {
   "cell_type": "markdown",
   "id": "1f0e3e4b",
   "metadata": {},
   "source": [
    "# Lab 7.1: Implementing a Multilingual Solution\n",
    "\n",
    "本實驗將使用三種不同的 AWS 服務來建立將音訊檔案翻譯為不同語言的文字的解決方案。\n",
    "\n",
    "## Introducing the business scenario\n",
    "\n",
    "本實驗將在多種語言之間翻譯影片。\n",
    "\n",
    "## Lab steps\n",
    "\n",
    "1. Amazon Transcribe example\n",
    "2. Amazon Translate example\n",
    "3. Amazon Polly example\n",
    "4. Challenge exercise\n"
   ]
  },
  {
   "cell_type": "markdown",
   "id": "d63dffa6",
   "metadata": {},
   "source": [
    "## 1. Amazon Transcribe example\n",
    "\n",
    "1. 本部分使用 boto3 用戶端呼叫 Amazon Transcribe 將音訊檔案轉換為文字，運行範例後，可前往 `Amazon Transcribe` 控制台查看轉錄內容。\n",
    "\n",
    "2. 轉錄需要幾分鐘才能完成。\n"
   ]
  },
  {
   "cell_type": "code",
   "execution_count": null,
   "id": "90b1e00a",
   "metadata": {},
   "outputs": [],
   "source": [
    "# 用於生成全域唯一識別碼（UUID）\n",
    "import uuid\n",
    "\n",
    "# 用於處理 JSON 格式的數據\n",
    "import json\n",
    "\n",
    "# 這是 AWS 的 Python SDK，用於與 AWS 服務互動\n",
    "import boto3\n",
    "\n",
    "# 從 time 模組匯入 sleep 函數，用於讓程式暫停指定的秒數\n",
    "from time import sleep\n",
    "\n",
    "# 創建 S3 和 IAM 客戶端\n",
    "s3_client = boto3.client(\"s3\")\n",
    "iam_client = boto3.client(\"iam\")\n",
    "\n",
    "\n",
    "def list_buckets_with_keyword(keyword):\n",
    "    try:\n",
    "        # 呼叫 list_buckets 方法以取得所有 bucket，並篩選包含特定關鍵字的名稱\n",
    "        response = s3_client.list_buckets()\n",
    "        bucket_names = [\n",
    "            bucket[\"Name\"]\n",
    "            for bucket in response[\"Buckets\"]\n",
    "            if keyword in bucket[\"Name\"]\n",
    "        ]\n",
    "        if bucket_names:\n",
    "            return bucket_names[0]  # 假設只取第一個符合條件的 bucket 名稱\n",
    "        else:\n",
    "            print(f\"沒有找到包含 '{keyword}' 的 bucket。\")\n",
    "            return None\n",
    "    except Exception as e:\n",
    "        print(f\"無法取得 bucket 列表。錯誤訊息：{e}\")\n",
    "        return None\n",
    "\n",
    "\n",
    "def get_role_arn(role_keyword):\n",
    "    try:\n",
    "        # 呼叫 list_roles 方法以取得所有角色\n",
    "        response = iam_client.list_roles()\n",
    "        # 遍歷所有角色以篩選出包含指定關鍵字的角色 ARN\n",
    "        for role in response[\"Roles\"]:\n",
    "            if role_keyword in role[\"RoleName\"]:\n",
    "                return role[\"Arn\"]\n",
    "        print(f\"無法找到包含關鍵字 '{role_keyword}' 的角色。\")\n",
    "        return None\n",
    "    except Exception as e:\n",
    "        print(f\"無法取得角色列表。錯誤訊息：{e}\")\n",
    "        return None\n",
    "\n",
    "\n",
    "# 動態取得包含 'labbucket' 的 S3 bucket 名稱\n",
    "bucket = list_buckets_with_keyword(\"labbucket\")\n",
    "\n",
    "# 動態取得包含 'ComprehendDataAccessRole' 和 'TranslateDemoRole' 的角色 ARN\n",
    "database_access_role_arn = get_role_arn(\"ComprehendDataAccessRole\")\n",
    "translate_access_role_arn = get_role_arn(\"TranslateDemoRole\")\n",
    "\n",
    "# 創建一個 AWS Transcribe 的客戶端，用於呼叫 AWS Transcribe 服務\n",
    "transcribe_client = boto3.client(\"transcribe\")\n",
    "\n",
    "# 檢查取得的 bucket 名稱和角色 ARN\n",
    "print(f\"S3 Bucket 名稱: {bucket}\")\n",
    "print(f\"Database Access Role ARN: {database_access_role_arn}\")\n",
    "print(f\"Translate Access Role ARN: {translate_access_role_arn}\")"
   ]
  },
  {
   "cell_type": "markdown",
   "id": "b2ce86fb",
   "metadata": {},
   "source": [
    "`test.wav` 範例檔案位於的位置\n",
    "\n",
    "該文件包含音頻短語 `測試。你好，你好，你好。這是一個測試。測試，測試，測試。`\n"
   ]
  },
  {
   "cell_type": "code",
   "execution_count": null,
   "id": "04388243",
   "metadata": {},
   "outputs": [],
   "source": [
    "media_input_uri = f\"s3://{bucket}/lab71/transcribe-sample/test.wav\""
   ]
  },
  {
   "cell_type": "markdown",
   "id": "993ff9f9",
   "metadata": {},
   "source": [
    "### 檢查是否具備權限\n"
   ]
  },
  {
   "cell_type": "code",
   "execution_count": null,
   "id": "fc68b9be",
   "metadata": {},
   "outputs": [],
   "source": [
    "import boto3\n",
    "\n",
    "s3_client = boto3.client(\"s3\")\n",
    "try:\n",
    "    s3_client.head_bucket(Bucket=bucket)\n",
    "    print(\"Bucket exists and is accessible.\")\n",
    "except Exception as e:\n",
    "    print(f\"Error accessing bucket: {e}\")"
   ]
  },
  {
   "cell_type": "markdown",
   "id": "7bba1b52",
   "metadata": {},
   "source": [
    "使用 `test.wav` 檔案作為輸入，創建並啟動一個 AWS Transcribe 的轉錄作業\n"
   ]
  },
  {
   "cell_type": "code",
   "execution_count": null,
   "id": "fdd4aaf0",
   "metadata": {},
   "outputs": [],
   "source": [
    "# 標識此次轉錄作業的名稱\n",
    "job_uuid = uuid.uuid1()\n",
    "transcribe_job_name = f\"transcribe-job-{job_uuid}\"\n",
    "# 轉錄輸出的檔案名稱\n",
    "transcribe_output_filename = \"transcribe_output.txt\"\n",
    "\n",
    "# 啟動轉錄作業\n",
    "response = transcribe_client.start_transcription_job(\n",
    "    # 轉錄作業的名稱\n",
    "    TranscriptionJobName=transcribe_job_name,\n",
    "    # 轉錄的媒體檔案 URI\n",
    "    Media={\"MediaFileUri\": media_input_uri},\n",
    "    MediaFormat=\"wav\",\n",
    "    # 音訊中的語言代碼\n",
    "    LanguageCode=\"en-US\",\n",
    "    # 轉錄結果的輸出 S3 bucket\n",
    "    OutputBucketName=bucket,\n",
    "    # 輸出結果檔案的名稱\n",
    "    OutputKey=transcribe_output_filename,\n",
    ")"
   ]
  },
  {
   "cell_type": "markdown",
   "id": "9c6dbff4",
   "metadata": {},
   "source": [
    "等待作業完成\n",
    "\n",
    "檢查 AWS Transcribe 轉錄工作（transcription job）狀態的循環，直到工作完成或失敗為止。\n"
   ]
  },
  {
   "cell_type": "code",
   "execution_count": null,
   "id": "0c13a308",
   "metadata": {},
   "outputs": [],
   "source": [
    "job = None\n",
    "while True:\n",
    "    # 指定轉錄工作狀態，並將結果存放在變數 job 中\n",
    "    # transcribe_job_name 是轉錄工作的名稱。\n",
    "    job = transcribe_client.get_transcription_job(\n",
    "        TranscriptionJobName=transcribe_job_name\n",
    "    )\n",
    "\n",
    "    # 檢查轉錄工作狀態\n",
    "    if job[\"TranscriptionJob\"][\"TranscriptionJobStatus\"] in [\"COMPLETED\", \"FAILED\"]:\n",
    "        # 如果符合條件，則跳出循環\n",
    "        break\n",
    "    print(\".\", end=\"\")\n",
    "    sleep(20)\n",
    "\n",
    "print(job[\"TranscriptionJob\"][\"TranscriptionJobStatus\"])"
   ]
  },
  {
   "cell_type": "markdown",
   "id": "aeede010",
   "metadata": {},
   "source": [
    "使用 `get_transcription_job` 方法呼叫的結果檢索輸出文件。\n",
    "\n",
    "其中 transcription_file 包含的 URI 是轉錄結果的連結，允許下載或查看轉錄文本。\n",
    "\n",
    "這裡只是查看，並無作為其他用途。\n"
   ]
  },
  {
   "cell_type": "code",
   "execution_count": null,
   "id": "ecb0d981",
   "metadata": {},
   "outputs": [],
   "source": [
    "transcription_file = job[\"TranscriptionJob\"][\"Transcript\"][\"TranscriptFileUri\"]\n",
    "print(transcription_file)"
   ]
  },
  {
   "cell_type": "markdown",
   "id": "f7a3dc19",
   "metadata": {},
   "source": [
    "從 S3 下載文件 `transcribe_output.txt`\n"
   ]
  },
  {
   "cell_type": "code",
   "execution_count": null,
   "id": "e8f14b46",
   "metadata": {},
   "outputs": [],
   "source": [
    "s3_client = boto3.client(\"s3\")\n",
    "with open(transcribe_output_filename, \"wb\") as f:\n",
    "    s3_client.download_fileobj(bucket, transcribe_output_filename, f)"
   ]
  },
  {
   "cell_type": "markdown",
   "id": "edafac14",
   "metadata": {},
   "source": [
    "開啟檔案並將內容讀入 JSON 物件\n"
   ]
  },
  {
   "cell_type": "code",
   "execution_count": null,
   "id": "1bb2111d",
   "metadata": {},
   "outputs": [],
   "source": [
    "with open(transcribe_output_filename) as f:\n",
    "    data = json.load(f)"
   ]
  },
  {
   "cell_type": "code",
   "execution_count": null,
   "id": "c0cffbb3",
   "metadata": {},
   "outputs": [],
   "source": [
    "data"
   ]
  },
  {
   "cell_type": "markdown",
   "id": "87b6aea2",
   "metadata": {},
   "source": [
    "獲得實際的轉錄\n"
   ]
  },
  {
   "cell_type": "code",
   "execution_count": null,
   "id": "7e850ce3",
   "metadata": {},
   "outputs": [],
   "source": [
    "data[\"results\"][\"transcripts\"][0][\"transcript\"]"
   ]
  },
  {
   "cell_type": "markdown",
   "id": "fdca83ae",
   "metadata": {},
   "source": [
    "## 2. Amazon Translate example\n",
    "\n",
    "本部分使用 boto3 用戶端呼叫 `Amazon Translate` 並將文字檔案從英文轉換為西班牙文。\n",
    "\n",
    "運行後可轉到 `Amazon Translate` 控制台查看翻譯。\n",
    "\n",
    "有關作業的翻譯和詳細資訊位於 **批量翻譯** 部分。\n",
    "\n",
    "包含翻譯的文字檔案將位於您的 S3 儲存桶中。該儲存桶還將有一個 **details** 資料夾，其中包含一個 JSON 文件，其中包含有關翻譯的詳細信息，例如源語言和目標語言。\n",
    "\n",
    "首先，建立翻譯作業。需要輸入和輸出位置。\n",
    "\n",
    "請注意，Amazon Translate 可以將相同的文字翻譯成多種目標語言。在此範例中，您將使用西班牙語，其語言代碼為“es”。\n",
    "\n",
    "使用 ID 來取得狀態，等待作業完成。\n",
    "\n",
    "本機第一次實作花了 `15` 分鐘\n"
   ]
  },
  {
   "cell_type": "code",
   "execution_count": null,
   "id": "9995145c",
   "metadata": {},
   "outputs": [],
   "source": [
    "# 生成全域唯一識別碼\n",
    "import uuid\n",
    "\n",
    "# 創建 AWS Translate 的客戶端，用於呼叫 AWS Translate 服務\n",
    "translate_client = boto3.client(service_name=\"translate\")\n",
    "\n",
    "# 定義輸入數據的 S3 路徑\n",
    "input_data = f\"s3://{bucket}/lab71/translate-sample\"\n",
    "\n",
    "# 定義轉譯後輸出結果的 S3 路徑\n",
    "output_data = f\"s3://{bucket}\"\n",
    "\n",
    "# 生成一個 UUID，作為此次翻譯作業的唯一識別碼\n",
    "job_uuid = uuid.uuid1()\n",
    "\n",
    "# 將 UUID 加入到 \"translate-job-\" 的前綴中\n",
    "translate_job_name = f\"translate-job-{job_uuid}\"\n",
    "\n",
    "# 啟動文本翻譯作業\n",
    "translate_job_submission = translate_client.start_text_translation_job(\n",
    "    # 設定翻譯作業的名稱\n",
    "    JobName=translate_job_name,\n",
    "    # 配置輸入數據的參數，包含 S3 路徑和數據類型\n",
    "    InputDataConfig={\"S3Uri\": input_data, \"ContentType\": \"text/plain\"},\n",
    "    # 配置輸出數據的參數，指定輸出結果的 S3 路徑\n",
    "    OutputDataConfig={\"S3Uri\": output_data},\n",
    "    # 設定存取 AWS Translate 服務所需的 IAM 角色 ARN，以授權訪問 S3 資源\n",
    "    DataAccessRoleArn=translate_access_role_arn,\n",
    "    # 指定源語言的語言代碼，這裡為英文（en）\n",
    "    SourceLanguageCode=\"en\",\n",
    "    # 指定目標語言的語言代碼，這裡為西班牙語（es）\n",
    "    TargetLanguageCodes=[\"es\"],\n",
    ")\n",
    "\n",
    "# 從作業提交的回應中提取 Job ID\n",
    "# 將 ID 儲存到 translate_job_id 變數中\n",
    "translate_job_id = translate_job_submission[\"JobId\"]\n",
    "\n",
    "# 使用 ID 來取得狀態，等待作業完成\n",
    "while True:\n",
    "    translate_job = translate_client.describe_text_translation_job(\n",
    "        JobId=translate_job_id\n",
    "    )\n",
    "    if translate_job[\"TextTranslationJobProperties\"][\"JobStatus\"] in [\n",
    "        \"COMPLETED\",\n",
    "        \"FAILED\",\n",
    "    ]:\n",
    "        break\n",
    "    sleep(20)\n",
    "    print(\".\", end=\"\")\n",
    "\n",
    "print(translate_job[\"TextTranslationJobProperties\"][\"JobStatus\"])\n"
   ]
  },
  {
   "cell_type": "markdown",
   "id": "039eabfe",
   "metadata": {},
   "source": [
    "輸出資料夾的格式是根據帳號和作業 ID 建立的，使用此資訊建立一條路徑。\n"
   ]
  },
  {
   "cell_type": "code",
   "execution_count": null,
   "id": "82124303",
   "metadata": {},
   "outputs": [],
   "source": [
    "# 獲取當前 AWS 帳戶的 ID\n",
    "account_id = boto3.client(\"sts\").get_caller_identity().get(\"Account\")\n",
    "\n",
    "# 定義翻譯輸出結果的 S3 路徑\n",
    "# 使用帳戶 ID、固定的 \"TranslateText\" 標識、翻譯作業的 ID，組成路徑名稱\n",
    "translate_output_path = f\"{account_id}-TranslateText-{translate_job_id}/\""
   ]
  },
  {
   "cell_type": "markdown",
   "id": "137e4b9f",
   "metadata": {},
   "source": [
    "Amazon Translate 輸出多個檔案，下載 .txt 檔案。\n"
   ]
  },
  {
   "cell_type": "code",
   "execution_count": null,
   "id": "e9c68318",
   "metadata": {},
   "outputs": [],
   "source": [
    "# 建立 S3 資源對象\n",
    "s3_resource = boto3.resource(\"s3\")\n",
    "\n",
    "# 使用指定名稱建立 bucket\n",
    "my_bucket = s3_resource.Bucket(bucket)\n",
    "\n",
    "# 過濾 bucket 中以 translate_output_path 作為前綴的物件\n",
    "for my_bucket_object in my_bucket.objects.filter(\n",
    "    Prefix=translate_output_path\n",
    "):\n",
    "    # 提取每個物件的 key，文件名稱及路徑\n",
    "    file = my_bucket_object.key\n",
    "\n",
    "    # 檢查文件是否以 \"txt\" 結尾，即確認文件格式為文本文件\n",
    "    if file.endswith(\"txt\"):\n",
    "        # 去除路徑前綴 translate_output_path，使 file 僅包含文件名稱\n",
    "        file = file.lstrip(translate_output_path)\n",
    "        # 去除開頭的 \"/\" 符號，以獲得乾淨的文件名稱\n",
    "        file = file.lstrip(\"/\")\n",
    "        \n",
    "        # 輸出文件名稱，便於查看下載的文件\n",
    "        print(file)\n",
    "        \n",
    "        # 打開本地文件，準備以二進制寫入方式將文件下載到本地\n",
    "        with open(file, \"wb\") as f:\n",
    "            # 使用 s3_client 將 S3 中的物件下載到本地文件\n",
    "            s3_client.download_fileobj(bucket, my_bucket_object.key, f)\n"
   ]
  },
  {
   "cell_type": "markdown",
   "id": "2c6fca25",
   "metadata": {},
   "source": [
    "## 3. Amazon Polly example\n",
    "\n",
    "使用 Polly 建立西班牙文文字檔案的發聲，運行後打開 S3 儲存桶以查看輸出；輸出是一個 `.mp3` 文件，開啟檔案會聽到 Lucia 的聲音說 `Prueba de prueba, este es una prueba`。\n"
   ]
  },
  {
   "cell_type": "code",
   "execution_count": null,
   "id": "13536a42",
   "metadata": {},
   "outputs": [],
   "source": [
    "# 呼叫 Polly 語音合成服務\n",
    "polly_client = boto3.client(\"polly\")\n",
    "\n",
    "# 指定要讀取的文件路徑\n",
    "itemname = \"lab71/polly-sample/es.test.txt\"\n",
    "\n",
    "# 取得 bucket 中的特定文件對象\n",
    "obj = s3_resource.Object(bucket, itemname)\n",
    "\n",
    "# 取得文件內容，並將二進制數據解碼為 `UTF-8` 編碼的字串\n",
    "body = obj.get()[\"Body\"].read().decode(\"utf-8\")\n",
    "\n",
    "# 啟動語音合成作業\n",
    "response = polly_client.start_speech_synthesis_task(\n",
    "    # 指定使用標準語音合成引擎\n",
    "    Engine=\"standard\",\n",
    "    # 指定輸出音訊格式\n",
    "    OutputFormat=\"mp3\",\n",
    "    # 將輸出結果儲存到的 S3 bucket\n",
    "    OutputS3BucketName=bucket,\n",
    "    # 傳入要合成語音的文本內容\n",
    "    Text=body,\n",
    "    # 指定語音 ID，這裡使用西班牙語的 Lucia 聲音\n",
    "    VoiceId=\"Lucia\"\n",
    ")\n"
   ]
  },
  {
   "cell_type": "markdown",
   "id": "765bd583",
   "metadata": {},
   "source": [
    "從回應中提取任務 ID。\n"
   ]
  },
  {
   "cell_type": "code",
   "execution_count": null,
   "id": "a3bbebae",
   "metadata": {},
   "outputs": [],
   "source": [
    "task_id = response[\"SynthesisTask\"][\"TaskId\"]\n",
    "print(task_id)"
   ]
  },
  {
   "cell_type": "markdown",
   "id": "4c038f57",
   "metadata": {},
   "source": [
    "使用任務 ID 檢查作業是否已完成\n"
   ]
  },
  {
   "cell_type": "code",
   "execution_count": null,
   "id": "bde9ce53",
   "metadata": {},
   "outputs": [],
   "source": [
    "while True:\n",
    "    # 查詢語音合成作業的狀態\n",
    "    polly_job = polly_client.get_speech_synthesis_task(TaskId=task_id)\n",
    "    \n",
    "    # 檢查作業的狀態是否為 `completed` 或 `failed``\n",
    "    if polly_job[\"SynthesisTask\"][\"TaskStatus\"] in [\"completed\", \"failed\"]:\n",
    "        break\n",
    "    \n",
    "    # 若作業仍在進行中，暫停 20 秒以避免頻繁查詢狀態\n",
    "    sleep(20)\n",
    "    # 每20秒檢查一次，假如仍在進行，就會看到輸出一個點 `.`\n",
    "    print(\".\", end=\"\")\n",
    "\n",
    "# 循環結束後會輸出最終的作業狀態 `completed` 或 `failed``\n",
    "print(polly_job[\"SynthesisTask\"][\"TaskStatus\"])"
   ]
  },
  {
   "cell_type": "markdown",
   "id": "fb448de1",
   "metadata": {},
   "source": [
    "下載結果\n"
   ]
  },
  {
   "cell_type": "code",
   "execution_count": null,
   "id": "3c7ece3e",
   "metadata": {},
   "outputs": [],
   "source": [
    "# 建立 S3 客戶端\n",
    "s3_client = boto3.client(\"s3\")\n",
    "\n",
    "# 定義要下載的文件名稱\n",
    "polly_output_filename = f\"{task_id}.mp3\"\n",
    "\n",
    "# 以二進制寫入模式 (\"wb\") 打開輸出文件\n",
    "with open(polly_output_filename, \"wb\") as f:\n",
    "    # 將 S3 中指定的 的文件下載至本地\n",
    "    s3_client.download_fileobj(bucket, polly_output_filename, f)\n"
   ]
  },
  {
   "cell_type": "markdown",
   "id": "ac6a76cf",
   "metadata": {},
   "source": [
    "## 4. Challenge exercise\n",
    "\n",
    "您的挑戰是從具有英語音訊通道的影片建立翻譯後的音訊檔案。\n",
    "\n",
    "您可以使用前三個範例中的程式碼作為解決方案的範本。\n",
    "\n",
    "挑戰影片位於 S3 儲存桶的「lab71/challenge」資料夾中。影片檔名為 sample.mp4。此文件也可在此筆記本實例的「/s3」資料夾中找到。\n"
   ]
  }
 ],
 "metadata": {
  "kernelspec": {
   "display_name": "envAWS",
   "language": "python",
   "name": "python3"
  },
  "language_info": {
   "codemirror_mode": {
    "name": "ipython",
    "version": 3
   },
   "file_extension": ".py",
   "mimetype": "text/x-python",
   "name": "python",
   "nbconvert_exporter": "python",
   "pygments_lexer": "ipython3",
   "version": "3.10.11"
  }
 },
 "nbformat": 4,
 "nbformat_minor": 5
}
