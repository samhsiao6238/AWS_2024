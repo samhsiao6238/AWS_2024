{
 "cells": [
  {
   "cell_type": "code",
   "execution_count": 1,
   "metadata": {},
   "outputs": [
    {
     "name": "stdout",
     "output_type": "stream",
     "text": [
      "AWS Account ID: 339712730744\n"
     ]
    }
   ],
   "source": [
    "import boto3\n",
    "\n",
    "# 載入 .env 檔案中的環境變數\n",
    "from dotenv import load_dotenv\n",
    "import os\n",
    "load_dotenv()\n",
    "\n",
    "# 建立 STS 客戶端\n",
    "sts_client = boto3.client(\"sts\")\n",
    "\n",
    "# 呼叫 get_caller_identity 以取得當前 AWS 帳號資訊\n",
    "response = sts_client.get_caller_identity()\n",
    "account_id = response[\"Account\"]\n",
    "\n",
    "print(f\"AWS Account ID: {account_id}\")"
   ]
  },
  {
   "cell_type": "code",
   "execution_count": 2,
   "metadata": {},
   "outputs": [
    {
     "name": "stdout",
     "output_type": "stream",
     "text": [
      "Database Access Role ARN：【arn:aws:iam::339712730744:role/service-role/c133864a3391506l8170626t1w-ComprehendDataAccessRole-4KfsM2OyUHE4】\n",
      "Translate Access Role ARN：【arn:aws:iam::339712730744:role/c133864a3391506l8170626t1w3397127-TranslateDemoRole-YJ246eTks6oS】\n"
     ]
    }
   ],
   "source": [
    "# 建立 IAM 客戶端\n",
    "iam_client = boto3.client(\"iam\")\n",
    "\n",
    "# 取得所有角色\n",
    "def list_roles():\n",
    "    try:\n",
    "        # 透過客戶端取得所有角色\n",
    "        response = iam_client.list_roles()\n",
    "\n",
    "        # 儲存所有角色的名稱和 ARN\n",
    "        roles = {role[\"RoleName\"]: role[\"Arn\"] for role in response[\"Roles\"]}\n",
    "        return roles\n",
    "    except Exception as e:\n",
    "        print(f\"無法取得角色列表。錯誤訊息：{e}\")\n",
    "        return None\n",
    "\n",
    "\n",
    "# 自訂義篩選角色的函數，函數需傳入關鍵字進行篩選\n",
    "def get_role_arn(role_keyword):\n",
    "    try:\n",
    "        # 呼叫 list_roles 方法以取得所有角色\n",
    "        response = iam_client.list_roles()\n",
    "        # 遍歷所有角色以篩選出包含指定關鍵字的角色 ARN\n",
    "        for role in response[\"Roles\"]:\n",
    "            if role_keyword in role[\"RoleName\"]:\n",
    "                return role[\"Arn\"]\n",
    "        print(f\"無法找到包含關鍵字 '{role_keyword}' 的角色。\")\n",
    "        return None\n",
    "    except Exception as e:\n",
    "        print(f\"無法取得角色列表。錯誤訊息：{e}\")\n",
    "        return None\n",
    "\n",
    "\n",
    "# 定義要搜尋的角色關鍵字\n",
    "database_role_keyword = \"ComprehendDataAccessRole\"\n",
    "translate_role_keyword = \"TranslateDemoRole\"\n",
    "\n",
    "# 取得包含 'ComprehendDataAccessRole' 的角色 ARN\n",
    "database_access_role_arn = get_role_arn(\n",
    "    database_role_keyword\n",
    ")\n",
    "# 取得包含 'TranslateDemoRole' 的角色 ARN\n",
    "translate_access_role_arn = get_role_arn(\n",
    "    translate_role_keyword\n",
    ")\n",
    "\n",
    "# 輸出查看\n",
    "print(\n",
    "    f\"Database Access Role ARN：【{database_access_role_arn}】\"\n",
    ")\n",
    "print(\n",
    "    f\"Translate Access Role ARN：【{translate_access_role_arn}】\"\n",
    ")"
   ]
  },
  {
   "cell_type": "code",
   "execution_count": 3,
   "metadata": {},
   "outputs": [
    {
     "name": "stdout",
     "output_type": "stream",
     "text": [
      "包含 'labbucket' 的 Bucket 名稱列表：\n",
      "c133864a3391506l8170626t1w339712730744-labbucket-ewaj36onfsdc\n"
     ]
    }
   ],
   "source": [
    "# 建立 S3 客戶端\n",
    "s3_client = boto3.client(\"s3\")\n",
    "\n",
    "# 列出 Buckets\n",
    "def list_buckets():\n",
    "    try:\n",
    "        # 呼叫 list_buckets 方法以取得所有 bucket\n",
    "        response = s3_client.list_buckets()\n",
    "\n",
    "        # 從回應中提取每個 bucket 名稱並篩選包含 'labbucket' 的\n",
    "        bucket_names = [\n",
    "            bucket[\"Name\"]\n",
    "            for bucket in response[\"Buckets\"]\n",
    "            if \"labbucket\" in bucket[\"Name\"]\n",
    "        ]\n",
    "        return bucket_names\n",
    "    except Exception as e:\n",
    "        print(f\"無法取得 bucket 列表。錯誤訊息：{e}\")\n",
    "        return None\n",
    "\n",
    "\n",
    "# 取得篩選後的 bucket 名稱\n",
    "bucket_names = list_buckets()\n",
    "\n",
    "# 顯示取得的 bucket 名稱\n",
    "if bucket_names:\n",
    "    print(\"包含 'labbucket' 的 Bucket 名稱列表：\")\n",
    "    for name in bucket_names:\n",
    "        print(name)\n",
    "else:\n",
    "    print(\"沒有找到包含 'labbucket' 的 Bucket。\")"
   ]
  },
  {
   "cell_type": "code",
   "execution_count": 4,
   "metadata": {},
   "outputs": [
    {
     "name": "stdout",
     "output_type": "stream",
     "text": [
      "S3 Bucket 名稱：【c133864a3391506l8170626t1w339712730744-labbucket-ewaj36onfsdc】\n"
     ]
    }
   ],
   "source": [
    "# 生成全域唯一識別碼\n",
    "import uuid\n",
    "\n",
    "# 處理 JSON 格式的數據\n",
    "import json\n",
    "\n",
    "# 從 time 模組匯入 sleep 函數，用於讓程式暫停指定的秒數\n",
    "from time import sleep\n",
    "\n",
    "# 自訂義篩選 Bucket 的函數，需傳入關鍵字進行篩選\n",
    "def list_buckets_with_keyword(keyword):\n",
    "    try:\n",
    "        # 調用 list_buckets 取得所有 bucket\n",
    "        response = s3_client.list_buckets()\n",
    "        bucket_names = [\n",
    "            # 篩選包含特定關鍵字的名稱\n",
    "            # 特別注意這是 inline 的表達式，斷行不要縮排\n",
    "            bucket[\"Name\"]\n",
    "            for bucket in response[\"Buckets\"]\n",
    "            if keyword in bucket[\"Name\"]\n",
    "        ]\n",
    "        if bucket_names:\n",
    "            # 假設只取第一個符合條件的 bucket 名稱\n",
    "            return bucket_names[0]\n",
    "        else:\n",
    "            print(f\"沒有找到包含 '{keyword}' 的 bucket。\")\n",
    "            return None\n",
    "    except Exception as e:\n",
    "        print(f\"無法取得 bucket 列表。錯誤訊息：{e}\")\n",
    "        return None\n",
    "\n",
    "\n",
    "# 取得包含 'labbucket' 的 S3 bucket 名稱\n",
    "bucket = list_buckets_with_keyword(\"labbucket\")\n",
    "\n",
    "# 輸出以上步驟取得的 ARN\n",
    "print(f\"S3 Bucket 名稱：【{bucket}】\")"
   ]
  },
  {
   "cell_type": "code",
   "execution_count": 5,
   "metadata": {},
   "outputs": [],
   "source": [
    "media_input_uri = f\"s3://{bucket}/lab71/transcribe-sample/test.wav\""
   ]
  },
  {
   "cell_type": "code",
   "execution_count": 6,
   "metadata": {},
   "outputs": [],
   "source": [
    "# 建立 AWS Transcribe 的客戶端\n",
    "transcribe_client = boto3.client(\"transcribe\")\n",
    "\n",
    "# 生成 UUID 作為此轉錄作業的名稱\n",
    "job_uuid = uuid.uuid1()\n",
    "# 組合轉錄作業名稱\n",
    "transcribe_job_name = f\"transcribe-job-{job_uuid}\"\n",
    "# 自訂義轉錄輸出的檔案名稱\n",
    "transcribe_output_filename = \"transcribe_output.txt\"\n",
    "\n",
    "# 啟動轉錄作業\n",
    "response = transcribe_client.start_transcription_job(\n",
    "    # 轉錄作業的名稱\n",
    "    TranscriptionJobName=transcribe_job_name,\n",
    "    # 轉錄的媒體檔案 URI\n",
    "    Media={\"MediaFileUri\": media_input_uri},\n",
    "    MediaFormat=\"wav\",\n",
    "    # 音訊中的語言代碼\n",
    "    LanguageCode=\"en-US\",\n",
    "    # 轉錄結果的輸出 S3 bucket\n",
    "    OutputBucketName=bucket,\n",
    "    # 輸出結果檔案的名稱\n",
    "    OutputKey=transcribe_output_filename,\n",
    ")"
   ]
  },
  {
   "cell_type": "code",
   "execution_count": 7,
   "metadata": {},
   "outputs": [
    {
     "data": {
      "text/plain": [
       "{'TranscriptionJob': {'TranscriptionJobName': 'transcribe-job-51977ffc-967c-11ef-a60a-3a328b8844c7',\n",
       "  'TranscriptionJobStatus': 'IN_PROGRESS',\n",
       "  'LanguageCode': 'en-US',\n",
       "  'MediaFormat': 'wav',\n",
       "  'Media': {'MediaFileUri': 's3://c133864a3391506l8170626t1w339712730744-labbucket-ewaj36onfsdc/lab71/transcribe-sample/test.wav'},\n",
       "  'StartTime': datetime.datetime(2024, 10, 30, 13, 3, 36, 733000, tzinfo=tzlocal()),\n",
       "  'CreationTime': datetime.datetime(2024, 10, 30, 13, 3, 36, 712000, tzinfo=tzlocal())},\n",
       " 'ResponseMetadata': {'RequestId': '28fd52bb-6a2e-4b90-84bb-5c01a5aca130',\n",
       "  'HTTPStatusCode': 200,\n",
       "  'HTTPHeaders': {'x-amzn-requestid': '28fd52bb-6a2e-4b90-84bb-5c01a5aca130',\n",
       "   'content-type': 'application/x-amz-json-1.1',\n",
       "   'content-length': '369',\n",
       "   'date': 'Wed, 30 Oct 2024 05:03:36 GMT'},\n",
       "  'RetryAttempts': 0}}"
      ]
     },
     "execution_count": 7,
     "metadata": {},
     "output_type": "execute_result"
    }
   ],
   "source": [
    "response"
   ]
  },
  {
   "cell_type": "code",
   "execution_count": 8,
   "metadata": {},
   "outputs": [
    {
     "name": "stdout",
     "output_type": "stream",
     "text": [
      "COMPLETED\n"
     ]
    }
   ],
   "source": [
    "job = None\n",
    "while True:\n",
    "    # 指定轉錄工作狀態，並將結果存放在變數 job 中\n",
    "    # transcribe_job_name 是轉錄工作的名稱。\n",
    "    job = transcribe_client.get_transcription_job(\n",
    "        TranscriptionJobName=transcribe_job_name\n",
    "    )\n",
    "\n",
    "    # 檢查轉錄工作狀態\n",
    "    if job[\"TranscriptionJob\"][\"TranscriptionJobStatus\"] in [\"COMPLETED\", \"FAILED\"]:\n",
    "        # 如果符合條件，則跳出循環\n",
    "        break\n",
    "    print(\".\", end=\"\")\n",
    "    sleep(20)\n",
    "\n",
    "print(job[\"TranscriptionJob\"][\"TranscriptionJobStatus\"])"
   ]
  },
  {
   "cell_type": "code",
   "execution_count": 9,
   "metadata": {},
   "outputs": [
    {
     "name": "stdout",
     "output_type": "stream",
     "text": [
      "https://s3.us-east-1.amazonaws.com/c133864a3391506l8170626t1w339712730744-labbucket-ewaj36onfsdc/transcribe_output.txt\n"
     ]
    }
   ],
   "source": [
    "transcription_file = job[\"TranscriptionJob\"][\"Transcript\"][\"TranscriptFileUri\"]\n",
    "print(transcription_file)"
   ]
  },
  {
   "cell_type": "code",
   "execution_count": 10,
   "metadata": {},
   "outputs": [
    {
     "data": {
      "text/plain": [
       "{'TranscriptionJob': {'TranscriptionJobName': 'transcribe-job-51977ffc-967c-11ef-a60a-3a328b8844c7',\n",
       "  'TranscriptionJobStatus': 'COMPLETED',\n",
       "  'LanguageCode': 'en-US',\n",
       "  'MediaSampleRateHertz': 44100,\n",
       "  'MediaFormat': 'wav',\n",
       "  'Media': {'MediaFileUri': 's3://c133864a3391506l8170626t1w339712730744-labbucket-ewaj36onfsdc/lab71/transcribe-sample/test.wav'},\n",
       "  'Transcript': {'TranscriptFileUri': 'https://s3.us-east-1.amazonaws.com/c133864a3391506l8170626t1w339712730744-labbucket-ewaj36onfsdc/transcribe_output.txt'},\n",
       "  'StartTime': datetime.datetime(2024, 10, 30, 13, 3, 36, 733000, tzinfo=tzlocal()),\n",
       "  'CreationTime': datetime.datetime(2024, 10, 30, 13, 3, 36, 712000, tzinfo=tzlocal()),\n",
       "  'CompletionTime': datetime.datetime(2024, 10, 30, 13, 3, 45, 190000, tzinfo=tzlocal()),\n",
       "  'Settings': {'ChannelIdentification': False, 'ShowAlternatives': False}},\n",
       " 'ResponseMetadata': {'RequestId': 'ead3e889-3da3-4c34-bd51-05c2a3879fa7',\n",
       "  'HTTPStatusCode': 200,\n",
       "  'HTTPHeaders': {'x-amzn-requestid': 'ead3e889-3da3-4c34-bd51-05c2a3879fa7',\n",
       "   'content-type': 'application/x-amz-json-1.1',\n",
       "   'content-length': '653',\n",
       "   'date': 'Wed, 30 Oct 2024 05:09:32 GMT'},\n",
       "  'RetryAttempts': 0}}"
      ]
     },
     "execution_count": 10,
     "metadata": {},
     "output_type": "execute_result"
    }
   ],
   "source": [
    "job"
   ]
  },
  {
   "cell_type": "code",
   "execution_count": 13,
   "metadata": {},
   "outputs": [
    {
     "data": {
      "text/plain": [
       "'COMPLETED'"
      ]
     },
     "execution_count": 13,
     "metadata": {},
     "output_type": "execute_result"
    }
   ],
   "source": [
    "job[\"TranscriptionJob\"][\"TranscriptionJobStatus\"]"
   ]
  },
  {
   "cell_type": "code",
   "execution_count": 12,
   "metadata": {},
   "outputs": [
    {
     "data": {
      "text/plain": [
       "{'TranscriptFileUri': 'https://s3.us-east-1.amazonaws.com/c133864a3391506l8170626t1w339712730744-labbucket-ewaj36onfsdc/transcribe_output.txt'}"
      ]
     },
     "execution_count": 12,
     "metadata": {},
     "output_type": "execute_result"
    }
   ],
   "source": [
    "job[\"TranscriptionJob\"][\"Transcript\"]"
   ]
  },
  {
   "cell_type": "code",
   "execution_count": 15,
   "metadata": {},
   "outputs": [],
   "source": [
    "with open(transcribe_output_filename, \"wb\") as f:\n",
    "    s3_client.download_fileobj(\n",
    "        bucket,\n",
    "        transcribe_output_filename,\n",
    "        f\n",
    "    )"
   ]
  },
  {
   "cell_type": "code",
   "execution_count": null,
   "metadata": {},
   "outputs": [],
   "source": [
    "with open(transcribe_output_filename) as f:\n",
    "    data = json.load(f)"
   ]
  },
  {
   "cell_type": "code",
   "execution_count": 17,
   "metadata": {},
   "outputs": [
    {
     "data": {
      "text/plain": [
       "{'jobName': 'transcribe-job-51977ffc-967c-11ef-a60a-3a328b8844c7',\n",
       " 'accountId': '339712730744',\n",
       " 'status': 'COMPLETED',\n",
       " 'results': {'transcripts': [{'transcript': 'Test. Hello. Hello. Hello. This is a test test test test.'}],\n",
       "  'items': [{'id': 0,\n",
       "    'type': 'pronunciation',\n",
       "    'alternatives': [{'confidence': '0.996', 'content': 'Test'}],\n",
       "    'start_time': '0.009',\n",
       "    'end_time': '0.56'},\n",
       "   {'id': 1,\n",
       "    'type': 'punctuation',\n",
       "    'alternatives': [{'confidence': '0.0', 'content': '.'}]},\n",
       "   {'id': 2,\n",
       "    'type': 'pronunciation',\n",
       "    'alternatives': [{'confidence': '0.997', 'content': 'Hello'}],\n",
       "    'start_time': '0.66',\n",
       "    'end_time': '1.19'},\n",
       "   {'id': 3,\n",
       "    'type': 'punctuation',\n",
       "    'alternatives': [{'confidence': '0.0', 'content': '.'}]},\n",
       "   {'id': 4,\n",
       "    'type': 'pronunciation',\n",
       "    'alternatives': [{'confidence': '0.996', 'content': 'Hello'}],\n",
       "    'start_time': '1.2',\n",
       "    'end_time': '1.7'},\n",
       "   {'id': 5,\n",
       "    'type': 'punctuation',\n",
       "    'alternatives': [{'confidence': '0.0', 'content': '.'}]},\n",
       "   {'id': 6,\n",
       "    'type': 'pronunciation',\n",
       "    'alternatives': [{'confidence': '0.997', 'content': 'Hello'}],\n",
       "    'start_time': '1.71',\n",
       "    'end_time': '2.49'},\n",
       "   {'id': 7,\n",
       "    'type': 'punctuation',\n",
       "    'alternatives': [{'confidence': '0.0', 'content': '.'}]},\n",
       "   {'id': 8,\n",
       "    'type': 'pronunciation',\n",
       "    'alternatives': [{'confidence': '0.999', 'content': 'This'}],\n",
       "    'start_time': '2.73',\n",
       "    'end_time': '3.47'},\n",
       "   {'id': 9,\n",
       "    'type': 'pronunciation',\n",
       "    'alternatives': [{'confidence': '0.999', 'content': 'is'}],\n",
       "    'start_time': '3.48',\n",
       "    'end_time': '3.73'},\n",
       "   {'id': 10,\n",
       "    'type': 'pronunciation',\n",
       "    'alternatives': [{'confidence': '0.997', 'content': 'a'}],\n",
       "    'start_time': '3.74',\n",
       "    'end_time': '3.75'},\n",
       "   {'id': 11,\n",
       "    'type': 'pronunciation',\n",
       "    'alternatives': [{'confidence': '0.999', 'content': 'test'}],\n",
       "    'start_time': '3.759',\n",
       "    'end_time': '4.67'},\n",
       "   {'id': 12,\n",
       "    'type': 'pronunciation',\n",
       "    'alternatives': [{'confidence': '0.996', 'content': 'test'}],\n",
       "    'start_time': '4.679',\n",
       "    'end_time': '5.36'},\n",
       "   {'id': 13,\n",
       "    'type': 'pronunciation',\n",
       "    'alternatives': [{'confidence': '0.997', 'content': 'test'}],\n",
       "    'start_time': '5.369',\n",
       "    'end_time': '5.679'},\n",
       "   {'id': 14,\n",
       "    'type': 'pronunciation',\n",
       "    'alternatives': [{'confidence': '0.997', 'content': 'test'}],\n",
       "    'start_time': '5.69',\n",
       "    'end_time': '6.15'},\n",
       "   {'id': 15,\n",
       "    'type': 'punctuation',\n",
       "    'alternatives': [{'confidence': '0.0', 'content': '.'}]}],\n",
       "  'audio_segments': [{'id': 0,\n",
       "    'transcript': 'Test. Hello. Hello. Hello. This is a test test test test.',\n",
       "    'start_time': '0.0',\n",
       "    'end_time': '6.309',\n",
       "    'items': [0, 1, 2, 3, 4, 5, 6, 7, 8, 9, 10, 11, 12, 13, 14, 15]}]}}"
      ]
     },
     "execution_count": 17,
     "metadata": {},
     "output_type": "execute_result"
    }
   ],
   "source": [
    "data"
   ]
  },
  {
   "cell_type": "code",
   "execution_count": null,
   "metadata": {},
   "outputs": [
    {
     "name": "stdout",
     "output_type": "stream",
     "text": [
      "................................."
     ]
    }
   ],
   "source": [
    "# 生成全域唯一識別碼\n",
    "import uuid\n",
    "\n",
    "# 建立 AWS Translate 的客戶端，用於呼叫 AWS Translate 服務\n",
    "translate_client = boto3.client(service_name=\"translate\")\n",
    "\n",
    "# 定義輸入數據的 S3 路徑\n",
    "input_data = f\"s3://{bucket}/lab71/translate-sample\"\n",
    "\n",
    "# 定義轉譯後輸出結果的 S3 路徑\n",
    "output_data = f\"s3://{bucket}\"\n",
    "\n",
    "# 生成一個 UUID，作為此次翻譯作業的唯一識別碼\n",
    "job_uuid = uuid.uuid1()\n",
    "\n",
    "# 將 UUID 加入到 \"translate-job-\" 的前綴中\n",
    "translate_job_name = f\"translate-job-{job_uuid}\"\n",
    "\n",
    "# 啟動文本翻譯作業\n",
    "translate_job_submission = translate_client.start_text_translation_job(\n",
    "    # 設定翻譯作業的名稱\n",
    "    JobName=translate_job_name,\n",
    "    # 配置輸入數據的參數，包含 S3 路徑和數據類型\n",
    "    InputDataConfig={\"S3Uri\": input_data, \"ContentType\": \"text/plain\"},\n",
    "    # 配置輸出數據的參數，指定輸出結果的 S3 路徑\n",
    "    OutputDataConfig={\"S3Uri\": output_data},\n",
    "    # 設定存取 AWS Translate 服務所需的 IAM 角色 ARN，以授權訪問 S3 資源\n",
    "    DataAccessRoleArn=translate_access_role_arn,\n",
    "    # 指定源語言的語言代碼，這裡為英文（en）\n",
    "    SourceLanguageCode=\"en\",\n",
    "    # 指定目標語言的語言代碼，這裡為西班牙語（es）\n",
    "    TargetLanguageCodes=[\"es\"],\n",
    ")\n",
    "\n",
    "# 從作業提交的回應中提取 Job ID\n",
    "# 將 ID 儲存到 translate_job_id 變數中\n",
    "translate_job_id = translate_job_submission[\"JobId\"]\n",
    "\n",
    "# 使用 ID 來取得狀態，等待作業完成\n",
    "while True:\n",
    "    translate_job = translate_client.describe_text_translation_job(\n",
    "        JobId=translate_job_id\n",
    "    )\n",
    "    if translate_job[\"TextTranslationJobProperties\"][\"JobStatus\"] in [\n",
    "        \"COMPLETED\",\n",
    "        \"FAILED\",\n",
    "    ]:\n",
    "        break\n",
    "    sleep(20)\n",
    "    print(\".\", end=\"\")\n",
    "\n",
    "print(translate_job[\"TextTranslationJobProperties\"][\"JobStatus\"])"
   ]
  }
 ],
 "metadata": {
  "kernelspec": {
   "display_name": "envAWS",
   "language": "python",
   "name": "python3"
  },
  "language_info": {
   "codemirror_mode": {
    "name": "ipython",
    "version": 3
   },
   "file_extension": ".py",
   "mimetype": "text/x-python",
   "name": "python",
   "nbconvert_exporter": "python",
   "pygments_lexer": "ipython3",
   "version": "3.10.11"
  }
 },
 "nbformat": 4,
 "nbformat_minor": 2
}
