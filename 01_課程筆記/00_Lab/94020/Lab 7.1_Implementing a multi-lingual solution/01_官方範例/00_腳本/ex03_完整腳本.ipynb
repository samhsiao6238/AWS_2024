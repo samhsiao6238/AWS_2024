{
 "cells": [
  {
   "cell_type": "code",
   "execution_count": 1,
   "metadata": {},
   "outputs": [
    {
     "name": "stdout",
     "output_type": "stream",
     "text": [
      "AWS Account ID: 145745076948\n"
     ]
    }
   ],
   "source": [
    "import boto3\n",
    "\n",
    "# 載入 .env 檔案中的環境變數\n",
    "from dotenv import load_dotenv\n",
    "import os\n",
    "load_dotenv()\n",
    "\n",
    "# 建立 STS 客戶端\n",
    "sts_client = boto3.client(\"sts\")\n",
    "\n",
    "# 呼叫 get_caller_identity 以取得當前 AWS 帳號資訊\n",
    "response = sts_client.get_caller_identity()\n",
    "account_id = response[\"Account\"]\n",
    "\n",
    "print(f\"AWS Account ID: {account_id}\")"
   ]
  },
  {
   "cell_type": "code",
   "execution_count": 2,
   "metadata": {},
   "outputs": [
    {
     "name": "stdout",
     "output_type": "stream",
     "text": [
      "Database Access Role ARN：【arn:aws:iam::145745076948:role/service-role/c133864a3391506l8170626t1w-ComprehendDataAccessRole-GwNd2eO8idwN】\n",
      "Translate Access Role ARN：【arn:aws:iam::145745076948:role/c133864a3391506l8170626t1w1457450-TranslateDemoRole-ZE40xTBQENE0】\n"
     ]
    }
   ],
   "source": [
    "# 建立 IAM 客戶端\n",
    "iam_client = boto3.client(\"iam\")\n",
    "\n",
    "# 取得所有角色\n",
    "def list_roles():\n",
    "    try:\n",
    "        # 透過客戶端取得所有角色\n",
    "        response = iam_client.list_roles()\n",
    "\n",
    "        # 儲存所有角色的名稱和 ARN\n",
    "        roles = {role[\"RoleName\"]: role[\"Arn\"] for role in response[\"Roles\"]}\n",
    "        return roles\n",
    "    except Exception as e:\n",
    "        print(f\"無法取得角色列表。錯誤訊息：{e}\")\n",
    "        return None\n",
    "\n",
    "\n",
    "# 自訂義篩選角色的函數，函數需傳入關鍵字進行篩選\n",
    "def get_role_arn(role_keyword):\n",
    "    try:\n",
    "        # 呼叫 list_roles 方法以取得所有角色\n",
    "        response = iam_client.list_roles()\n",
    "        # 遍歷所有角色以篩選出包含指定關鍵字的角色 ARN\n",
    "        for role in response[\"Roles\"]:\n",
    "            if role_keyword in role[\"RoleName\"]:\n",
    "                return role[\"Arn\"]\n",
    "        print(f\"無法找到包含關鍵字 '{role_keyword}' 的角色。\")\n",
    "        return None\n",
    "    except Exception as e:\n",
    "        print(f\"無法取得角色列表。錯誤訊息：{e}\")\n",
    "        return None\n",
    "\n",
    "\n",
    "# 定義要搜尋的角色關鍵字\n",
    "database_role_keyword = \"ComprehendDataAccessRole\"\n",
    "translate_role_keyword = \"TranslateDemoRole\"\n",
    "\n",
    "# 取得包含 'ComprehendDataAccessRole' 的角色 ARN\n",
    "database_access_role_arn = get_role_arn(\n",
    "    database_role_keyword\n",
    ")\n",
    "# 取得包含 'TranslateDemoRole' 的角色 ARN\n",
    "translate_access_role_arn = get_role_arn(\n",
    "    translate_role_keyword\n",
    ")\n",
    "\n",
    "# 輸出查看\n",
    "print(\n",
    "    f\"Database Access Role ARN：【{database_access_role_arn}】\"\n",
    ")\n",
    "print(\n",
    "    f\"Translate Access Role ARN：【{translate_access_role_arn}】\"\n",
    ")"
   ]
  },
  {
   "cell_type": "code",
   "execution_count": 3,
   "metadata": {},
   "outputs": [
    {
     "name": "stdout",
     "output_type": "stream",
     "text": [
      "包含 'labbucket' 的 Bucket 名稱列表：\n",
      "c133864a3391506l8170626t1w145745076948-labbucket-mhvzok7povxk\n"
     ]
    }
   ],
   "source": [
    "# 建立 S3 客戶端\n",
    "s3_client = boto3.client(\"s3\")\n",
    "\n",
    "# 列出 Buckets\n",
    "def list_buckets():\n",
    "    try:\n",
    "        # 呼叫 list_buckets 方法以取得所有 bucket\n",
    "        response = s3_client.list_buckets()\n",
    "\n",
    "        # 從回應中提取每個 bucket 名稱並篩選包含 'labbucket' 的\n",
    "        bucket_names = [\n",
    "            bucket[\"Name\"]\n",
    "            for bucket in response[\"Buckets\"]\n",
    "            if \"labbucket\" in bucket[\"Name\"]\n",
    "        ]\n",
    "        return bucket_names\n",
    "    except Exception as e:\n",
    "        print(f\"無法取得 bucket 列表。錯誤訊息：{e}\")\n",
    "        return None\n",
    "\n",
    "\n",
    "# 取得篩選後的 bucket 名稱\n",
    "bucket_names = list_buckets()\n",
    "\n",
    "# 顯示取得的 bucket 名稱\n",
    "if bucket_names:\n",
    "    print(\"包含 'labbucket' 的 Bucket 名稱列表：\")\n",
    "    for name in bucket_names:\n",
    "        print(name)\n",
    "else:\n",
    "    print(\"沒有找到包含 'labbucket' 的 Bucket。\")"
   ]
  },
  {
   "cell_type": "code",
   "execution_count": 4,
   "metadata": {},
   "outputs": [
    {
     "name": "stdout",
     "output_type": "stream",
     "text": [
      "S3 Bucket 名稱：【c133864a3391506l8170626t1w145745076948-labbucket-mhvzok7povxk】\n"
     ]
    }
   ],
   "source": [
    "# 生成全域唯一識別碼\n",
    "import uuid\n",
    "\n",
    "# 處理 JSON 格式的數據\n",
    "import json\n",
    "\n",
    "# 從 time 模組匯入 sleep 函數，用於讓程式暫停指定的秒數\n",
    "from time import sleep\n",
    "\n",
    "# 自訂義篩選 Bucket 的函數，需傳入關鍵字進行篩選\n",
    "def list_buckets_with_keyword(keyword):\n",
    "    try:\n",
    "        # 調用 list_buckets 取得所有 bucket\n",
    "        response = s3_client.list_buckets()\n",
    "        bucket_names = [\n",
    "            # 篩選包含特定關鍵字的名稱\n",
    "            # 特別注意這是 inline 的表達式，斷行不要縮排\n",
    "            bucket[\"Name\"]\n",
    "            for bucket in response[\"Buckets\"]\n",
    "            if keyword in bucket[\"Name\"]\n",
    "        ]\n",
    "        if bucket_names:\n",
    "            # 假設只取第一個符合條件的 bucket 名稱\n",
    "            return bucket_names[0]\n",
    "        else:\n",
    "            print(f\"沒有找到包含 '{keyword}' 的 bucket。\")\n",
    "            return None\n",
    "    except Exception as e:\n",
    "        print(f\"無法取得 bucket 列表。錯誤訊息：{e}\")\n",
    "        return None\n",
    "\n",
    "\n",
    "# 取得包含 'labbucket' 的 S3 bucket 名稱\n",
    "bucket = list_buckets_with_keyword(\"labbucket\")\n",
    "\n",
    "# 輸出以上步驟取得的 ARN\n",
    "print(f\"S3 Bucket 名稱：【{bucket}】\")"
   ]
  },
  {
   "cell_type": "code",
   "execution_count": 5,
   "metadata": {},
   "outputs": [],
   "source": [
    "media_input_uri = f\"s3://{bucket}/lab71/transcribe-sample/test.wav\""
   ]
  },
  {
   "cell_type": "code",
   "execution_count": 6,
   "metadata": {},
   "outputs": [],
   "source": [
    "# 建立 AWS Transcribe 的客戶端\n",
    "transcribe_client = boto3.client(\"transcribe\")\n",
    "\n",
    "# 生成 UUID 作為此轉錄作業的名稱\n",
    "job_uuid = uuid.uuid1()\n",
    "# 組合轉錄作業名稱\n",
    "transcribe_job_name = f\"transcribe-job-{job_uuid}\"\n",
    "# 自訂義轉錄輸出的檔案名稱\n",
    "transcribe_output_filename = \"transcribe_output.txt\"\n",
    "\n",
    "# 啟動轉錄作業\n",
    "response = transcribe_client.start_transcription_job(\n",
    "    # 轉錄作業的名稱\n",
    "    TranscriptionJobName=transcribe_job_name,\n",
    "    # 轉錄的媒體檔案 URI\n",
    "    Media={\"MediaFileUri\": media_input_uri},\n",
    "    MediaFormat=\"wav\",\n",
    "    # 音訊中的語言代碼\n",
    "    LanguageCode=\"en-US\",\n",
    "    # 轉錄結果的輸出 S3 bucket\n",
    "    OutputBucketName=bucket,\n",
    "    # 輸出結果檔案的名稱\n",
    "    OutputKey=transcribe_output_filename,\n",
    ")"
   ]
  },
  {
   "cell_type": "code",
   "execution_count": 7,
   "metadata": {},
   "outputs": [
    {
     "data": {
      "text/plain": [
       "{'TranscriptionJob': {'TranscriptionJobName': 'transcribe-job-74bafd16-968f-11ef-ad51-3a328b8844c7',\n",
       "  'TranscriptionJobStatus': 'IN_PROGRESS',\n",
       "  'LanguageCode': 'en-US',\n",
       "  'MediaFormat': 'wav',\n",
       "  'Media': {'MediaFileUri': 's3://c133864a3391506l8170626t1w145745076948-labbucket-mhvzok7povxk/lab71/transcribe-sample/test.wav'},\n",
       "  'StartTime': datetime.datetime(2024, 10, 30, 15, 20, 36, 218000, tzinfo=tzlocal()),\n",
       "  'CreationTime': datetime.datetime(2024, 10, 30, 15, 20, 36, 198000, tzinfo=tzlocal())},\n",
       " 'ResponseMetadata': {'RequestId': '98880c40-20fb-4953-ab60-09b6bd08f6a3',\n",
       "  'HTTPStatusCode': 200,\n",
       "  'HTTPHeaders': {'x-amzn-requestid': '98880c40-20fb-4953-ab60-09b6bd08f6a3',\n",
       "   'content-type': 'application/x-amz-json-1.1',\n",
       "   'content-length': '369',\n",
       "   'date': 'Wed, 30 Oct 2024 07:20:35 GMT'},\n",
       "  'RetryAttempts': 0}}"
      ]
     },
     "execution_count": 7,
     "metadata": {},
     "output_type": "execute_result"
    }
   ],
   "source": [
    "response"
   ]
  },
  {
   "cell_type": "code",
   "execution_count": 8,
   "metadata": {},
   "outputs": [
    {
     "name": "stdout",
     "output_type": "stream",
     "text": [
      ".COMPLETED\n"
     ]
    }
   ],
   "source": [
    "job = None\n",
    "while True:\n",
    "    # 指定轉錄工作狀態，並將結果存放在變數 job 中\n",
    "    # transcribe_job_name 是轉錄工作的名稱。\n",
    "    job = transcribe_client.get_transcription_job(\n",
    "        TranscriptionJobName=transcribe_job_name\n",
    "    )\n",
    "\n",
    "    # 檢查轉錄工作狀態\n",
    "    if job[\"TranscriptionJob\"][\"TranscriptionJobStatus\"] in [\"COMPLETED\", \"FAILED\"]:\n",
    "        # 如果符合條件，則跳出循環\n",
    "        break\n",
    "    print(\".\", end=\"\")\n",
    "    sleep(20)\n",
    "\n",
    "print(job[\"TranscriptionJob\"][\"TranscriptionJobStatus\"])"
   ]
  },
  {
   "cell_type": "code",
   "execution_count": 9,
   "metadata": {},
   "outputs": [
    {
     "name": "stdout",
     "output_type": "stream",
     "text": [
      "https://s3.us-east-1.amazonaws.com/c133864a3391506l8170626t1w145745076948-labbucket-mhvzok7povxk/transcribe_output.txt\n"
     ]
    }
   ],
   "source": [
    "transcription_file = job[\"TranscriptionJob\"][\"Transcript\"][\"TranscriptFileUri\"]\n",
    "print(transcription_file)"
   ]
  },
  {
   "cell_type": "code",
   "execution_count": 10,
   "metadata": {},
   "outputs": [
    {
     "data": {
      "text/plain": [
       "{'TranscriptionJob': {'TranscriptionJobName': 'transcribe-job-74bafd16-968f-11ef-ad51-3a328b8844c7',\n",
       "  'TranscriptionJobStatus': 'COMPLETED',\n",
       "  'LanguageCode': 'en-US',\n",
       "  'MediaSampleRateHertz': 44100,\n",
       "  'MediaFormat': 'wav',\n",
       "  'Media': {'MediaFileUri': 's3://c133864a3391506l8170626t1w145745076948-labbucket-mhvzok7povxk/lab71/transcribe-sample/test.wav'},\n",
       "  'Transcript': {'TranscriptFileUri': 'https://s3.us-east-1.amazonaws.com/c133864a3391506l8170626t1w145745076948-labbucket-mhvzok7povxk/transcribe_output.txt'},\n",
       "  'StartTime': datetime.datetime(2024, 10, 30, 15, 20, 36, 218000, tzinfo=tzlocal()),\n",
       "  'CreationTime': datetime.datetime(2024, 10, 30, 15, 20, 36, 198000, tzinfo=tzlocal()),\n",
       "  'CompletionTime': datetime.datetime(2024, 10, 30, 15, 20, 44, 535000, tzinfo=tzlocal()),\n",
       "  'Settings': {'ChannelIdentification': False, 'ShowAlternatives': False}},\n",
       " 'ResponseMetadata': {'RequestId': 'e7a30535-8e15-408f-b19f-76b3ae86f256',\n",
       "  'HTTPStatusCode': 200,\n",
       "  'HTTPHeaders': {'x-amzn-requestid': 'e7a30535-8e15-408f-b19f-76b3ae86f256',\n",
       "   'content-type': 'application/x-amz-json-1.1',\n",
       "   'content-length': '654',\n",
       "   'date': 'Wed, 30 Oct 2024 07:20:56 GMT'},\n",
       "  'RetryAttempts': 0}}"
      ]
     },
     "execution_count": 10,
     "metadata": {},
     "output_type": "execute_result"
    }
   ],
   "source": [
    "job"
   ]
  },
  {
   "cell_type": "code",
   "execution_count": 11,
   "metadata": {},
   "outputs": [
    {
     "data": {
      "text/plain": [
       "'COMPLETED'"
      ]
     },
     "execution_count": 11,
     "metadata": {},
     "output_type": "execute_result"
    }
   ],
   "source": [
    "job[\"TranscriptionJob\"][\"TranscriptionJobStatus\"]"
   ]
  },
  {
   "cell_type": "code",
   "execution_count": 12,
   "metadata": {},
   "outputs": [
    {
     "data": {
      "text/plain": [
       "{'TranscriptFileUri': 'https://s3.us-east-1.amazonaws.com/c133864a3391506l8170626t1w145745076948-labbucket-mhvzok7povxk/transcribe_output.txt'}"
      ]
     },
     "execution_count": 12,
     "metadata": {},
     "output_type": "execute_result"
    }
   ],
   "source": [
    "job[\"TranscriptionJob\"][\"Transcript\"]"
   ]
  },
  {
   "cell_type": "code",
   "execution_count": 13,
   "metadata": {},
   "outputs": [],
   "source": [
    "with open(transcribe_output_filename, \"wb\") as f:\n",
    "    s3_client.download_fileobj(\n",
    "        bucket,\n",
    "        transcribe_output_filename,\n",
    "        f\n",
    "    )"
   ]
  },
  {
   "cell_type": "code",
   "execution_count": 14,
   "metadata": {},
   "outputs": [],
   "source": [
    "with open(transcribe_output_filename) as f:\n",
    "    data = json.load(f)"
   ]
  },
  {
   "cell_type": "code",
   "execution_count": 15,
   "metadata": {},
   "outputs": [
    {
     "data": {
      "text/plain": [
       "{'jobName': 'transcribe-job-74bafd16-968f-11ef-ad51-3a328b8844c7',\n",
       " 'accountId': '145745076948',\n",
       " 'status': 'COMPLETED',\n",
       " 'results': {'transcripts': [{'transcript': 'Test. Hello. Hello. Hello. This is a test test test test.'}],\n",
       "  'items': [{'id': 0,\n",
       "    'type': 'pronunciation',\n",
       "    'alternatives': [{'confidence': '0.996', 'content': 'Test'}],\n",
       "    'start_time': '0.009',\n",
       "    'end_time': '0.56'},\n",
       "   {'id': 1,\n",
       "    'type': 'punctuation',\n",
       "    'alternatives': [{'confidence': '0.0', 'content': '.'}]},\n",
       "   {'id': 2,\n",
       "    'type': 'pronunciation',\n",
       "    'alternatives': [{'confidence': '0.997', 'content': 'Hello'}],\n",
       "    'start_time': '0.66',\n",
       "    'end_time': '1.19'},\n",
       "   {'id': 3,\n",
       "    'type': 'punctuation',\n",
       "    'alternatives': [{'confidence': '0.0', 'content': '.'}]},\n",
       "   {'id': 4,\n",
       "    'type': 'pronunciation',\n",
       "    'alternatives': [{'confidence': '0.996', 'content': 'Hello'}],\n",
       "    'start_time': '1.2',\n",
       "    'end_time': '1.7'},\n",
       "   {'id': 5,\n",
       "    'type': 'punctuation',\n",
       "    'alternatives': [{'confidence': '0.0', 'content': '.'}]},\n",
       "   {'id': 6,\n",
       "    'type': 'pronunciation',\n",
       "    'alternatives': [{'confidence': '0.997', 'content': 'Hello'}],\n",
       "    'start_time': '1.71',\n",
       "    'end_time': '2.49'},\n",
       "   {'id': 7,\n",
       "    'type': 'punctuation',\n",
       "    'alternatives': [{'confidence': '0.0', 'content': '.'}]},\n",
       "   {'id': 8,\n",
       "    'type': 'pronunciation',\n",
       "    'alternatives': [{'confidence': '0.999', 'content': 'This'}],\n",
       "    'start_time': '2.73',\n",
       "    'end_time': '3.47'},\n",
       "   {'id': 9,\n",
       "    'type': 'pronunciation',\n",
       "    'alternatives': [{'confidence': '0.999', 'content': 'is'}],\n",
       "    'start_time': '3.48',\n",
       "    'end_time': '3.73'},\n",
       "   {'id': 10,\n",
       "    'type': 'pronunciation',\n",
       "    'alternatives': [{'confidence': '0.997', 'content': 'a'}],\n",
       "    'start_time': '3.74',\n",
       "    'end_time': '3.75'},\n",
       "   {'id': 11,\n",
       "    'type': 'pronunciation',\n",
       "    'alternatives': [{'confidence': '0.999', 'content': 'test'}],\n",
       "    'start_time': '3.759',\n",
       "    'end_time': '4.67'},\n",
       "   {'id': 12,\n",
       "    'type': 'pronunciation',\n",
       "    'alternatives': [{'confidence': '0.996', 'content': 'test'}],\n",
       "    'start_time': '4.679',\n",
       "    'end_time': '5.36'},\n",
       "   {'id': 13,\n",
       "    'type': 'pronunciation',\n",
       "    'alternatives': [{'confidence': '0.997', 'content': 'test'}],\n",
       "    'start_time': '5.369',\n",
       "    'end_time': '5.679'},\n",
       "   {'id': 14,\n",
       "    'type': 'pronunciation',\n",
       "    'alternatives': [{'confidence': '0.997', 'content': 'test'}],\n",
       "    'start_time': '5.69',\n",
       "    'end_time': '6.15'},\n",
       "   {'id': 15,\n",
       "    'type': 'punctuation',\n",
       "    'alternatives': [{'confidence': '0.0', 'content': '.'}]}],\n",
       "  'audio_segments': [{'id': 0,\n",
       "    'transcript': 'Test. Hello. Hello. Hello. This is a test test test test.',\n",
       "    'start_time': '0.0',\n",
       "    'end_time': '6.309',\n",
       "    'items': [0, 1, 2, 3, 4, 5, 6, 7, 8, 9, 10, 11, 12, 13, 14, 15]}]}}"
      ]
     },
     "execution_count": 15,
     "metadata": {},
     "output_type": "execute_result"
    }
   ],
   "source": [
    "data"
   ]
  },
  {
   "cell_type": "code",
   "execution_count": 16,
   "metadata": {},
   "outputs": [
    {
     "name": "stdout",
     "output_type": "stream",
     "text": [
      ".................................................COMPLETED\n"
     ]
    }
   ],
   "source": [
    "# 生成全域唯一識別碼\n",
    "import uuid\n",
    "\n",
    "# 建立 AWS Translate 的客戶端，用於呼叫 AWS Translate 服務\n",
    "translate_client = boto3.client(service_name=\"translate\")\n",
    "\n",
    "# 定義輸入數據的 S3 路徑\n",
    "input_data = f\"s3://{bucket}/lab71/translate-sample\"\n",
    "\n",
    "# 定義轉譯後輸出結果的 S3 路徑\n",
    "output_data = f\"s3://{bucket}\"\n",
    "\n",
    "# 生成一個 UUID，作為此次翻譯作業的唯一識別碼\n",
    "job_uuid = uuid.uuid1()\n",
    "\n",
    "# 將 UUID 加入到 \"translate-job-\" 的前綴中\n",
    "translate_job_name = f\"translate-job-{job_uuid}\"\n",
    "\n",
    "# 啟動文本翻譯作業\n",
    "translate_job_submission = translate_client.start_text_translation_job(\n",
    "    # 設定翻譯作業的名稱\n",
    "    JobName=translate_job_name,\n",
    "    # 配置輸入數據的參數，包含 S3 路徑和數據類型\n",
    "    InputDataConfig={\"S3Uri\": input_data, \"ContentType\": \"text/plain\"},\n",
    "    # 配置輸出數據的參數，指定輸出結果的 S3 路徑\n",
    "    OutputDataConfig={\"S3Uri\": output_data},\n",
    "    # 設定存取 AWS Translate 服務所需的 IAM 角色 ARN，以授權訪問 S3 資源\n",
    "    DataAccessRoleArn=translate_access_role_arn,\n",
    "    # 指定源語言的語言代碼，這裡為英文（en）\n",
    "    SourceLanguageCode=\"en\",\n",
    "    # 指定目標語言的語言代碼，這裡為西班牙語（es）\n",
    "    TargetLanguageCodes=[\"es\"],\n",
    ")\n",
    "\n",
    "# 從作業提交的回應中提取 Job ID\n",
    "# 將 ID 儲存到 translate_job_id 變數中\n",
    "translate_job_id = translate_job_submission[\"JobId\"]\n",
    "\n",
    "# 使用 ID 來取得狀態，等待作業完成\n",
    "while True:\n",
    "    translate_job = translate_client.describe_text_translation_job(\n",
    "        JobId=translate_job_id\n",
    "    )\n",
    "    if translate_job[\"TextTranslationJobProperties\"][\"JobStatus\"] in [\n",
    "        \"COMPLETED\",\n",
    "        \"FAILED\",\n",
    "    ]:\n",
    "        break\n",
    "    sleep(20)\n",
    "    print(\".\", end=\"\")\n",
    "\n",
    "print(translate_job[\"TextTranslationJobProperties\"][\"JobStatus\"])"
   ]
  },
  {
   "cell_type": "code",
   "execution_count": 17,
   "metadata": {},
   "outputs": [],
   "source": [
    "# 獲取當前 AWS 帳戶的 ID\n",
    "account_id = boto3.client(\"sts\").get_caller_identity().get(\"Account\")\n",
    "\n",
    "# 定義翻譯輸出結果的 S3 路徑\n",
    "# 使用帳戶 ID、固定的 \"TranslateText\" 標識、翻譯作業的 ID，組成路徑名稱\n",
    "translate_output_path = f\"{account_id}-TranslateText-{translate_job_id}/\""
   ]
  },
  {
   "cell_type": "code",
   "execution_count": 18,
   "metadata": {},
   "outputs": [
    {
     "data": {
      "text/plain": [
       "'145745076948-TranslateText-eb981df8b07d694c8b4b74985fc29483/'"
      ]
     },
     "execution_count": 18,
     "metadata": {},
     "output_type": "execute_result"
    }
   ],
   "source": [
    "translate_output_path"
   ]
  },
  {
   "cell_type": "code",
   "execution_count": 19,
   "metadata": {},
   "outputs": [
    {
     "name": "stdout",
     "output_type": "stream",
     "text": [
      ".test.txt\n"
     ]
    }
   ],
   "source": [
    "# 建立 S3 資源對象\n",
    "s3_resource = boto3.resource(\"s3\")\n",
    "\n",
    "# 使用指定名稱建立 bucket\n",
    "my_bucket = s3_resource.Bucket(bucket)\n",
    "\n",
    "# 過濾 bucket 中以 translate_output_path 作為前綴的物件\n",
    "for my_bucket_object in my_bucket.objects.filter(\n",
    "    Prefix=translate_output_path\n",
    "):\n",
    "    # 提取每個物件的 key，文件名稱及路徑\n",
    "    file = my_bucket_object.key\n",
    "\n",
    "    # 檢查文件是否以 \"txt\" 結尾，即確認文件格式為文本文件\n",
    "    if file.endswith(\"txt\"):\n",
    "        # 去除路徑前綴 translate_output_path，使 file 僅包含文件名稱\n",
    "        file = file.lstrip(translate_output_path)\n",
    "        # 去除開頭的 \"/\" 符號，以獲得乾淨的文件名稱\n",
    "        file = file.lstrip(\"/\")\n",
    "        \n",
    "        # 輸出文件名稱，便於查看下載的文件\n",
    "        print(file)\n",
    "        \n",
    "        # 打開本地文件，準備以二進制寫入方式將文件下載到本地\n",
    "        with open(file, \"wb\") as f:\n",
    "            # 使用 s3_client 將 S3 中的物件下載到本地文件\n",
    "            s3_client.download_fileobj(bucket, my_bucket_object.key, f)\n"
   ]
  },
  {
   "cell_type": "code",
   "execution_count": 20,
   "metadata": {},
   "outputs": [],
   "source": [
    "# 呼叫 Polly 語音合成服務\n",
    "polly_client = boto3.client(\"polly\")\n",
    "\n",
    "# 指定要讀取的文件路徑\n",
    "itemname = \"lab71/polly-sample/es.test.txt\"\n",
    "\n",
    "# 取得 bucket 中的特定文件對象\n",
    "obj = s3_resource.Object(bucket, itemname)\n",
    "\n",
    "# 取得文件內容，並將二進制數據解碼為 `UTF-8` 編碼的字串\n",
    "body = obj.get()[\"Body\"].read().decode(\"utf-8\")\n",
    "\n",
    "# 啟動語音合成作業\n",
    "response = polly_client.start_speech_synthesis_task(\n",
    "    # 指定使用標準語音合成引擎\n",
    "    Engine=\"standard\",\n",
    "    # 指定輸出音訊格式\n",
    "    OutputFormat=\"mp3\",\n",
    "    # 將輸出結果儲存到的 S3 bucket\n",
    "    OutputS3BucketName=bucket,\n",
    "    # 傳入要合成語音的文本內容\n",
    "    Text=body,\n",
    "    # 指定語音 ID，這裡使用西班牙語的 Lucia 聲音\n",
    "    VoiceId=\"Lucia\"\n",
    ")"
   ]
  },
  {
   "cell_type": "code",
   "execution_count": 21,
   "metadata": {},
   "outputs": [
    {
     "name": "stdout",
     "output_type": "stream",
     "text": [
      "fcb91546-20b5-4f1c-bd61-aaf9643c5e0d\n"
     ]
    }
   ],
   "source": [
    "task_id = response[\"SynthesisTask\"][\"TaskId\"]\n",
    "print(task_id)"
   ]
  },
  {
   "cell_type": "code",
   "execution_count": 22,
   "metadata": {},
   "outputs": [
    {
     "name": "stdout",
     "output_type": "stream",
     "text": [
      ".completed\n"
     ]
    }
   ],
   "source": [
    "while True:\n",
    "    # 查詢語音合成作業的狀態\n",
    "    polly_job = polly_client.get_speech_synthesis_task(TaskId=task_id)\n",
    "    \n",
    "    # 檢查作業的狀態是否為 `completed` 或 `failed``\n",
    "    if polly_job[\"SynthesisTask\"][\"TaskStatus\"] in [\"completed\", \"failed\"]:\n",
    "        break\n",
    "    \n",
    "    # 若作業仍在進行中，暫停 20 秒以避免頻繁查詢狀態\n",
    "    sleep(20)\n",
    "    # 每20秒檢查一次，假如仍在進行，就會看到輸出一個點 `.`\n",
    "    print(\".\", end=\"\")\n",
    "\n",
    "# 循環結束後會輸出最終的作業狀態 `completed` 或 `failed``\n",
    "print(polly_job[\"SynthesisTask\"][\"TaskStatus\"])"
   ]
  },
  {
   "cell_type": "code",
   "execution_count": 23,
   "metadata": {},
   "outputs": [],
   "source": [
    "# 建立 S3 客戶端\n",
    "s3_client = boto3.client(\"s3\")\n",
    "\n",
    "# 定義要下載的文件名稱\n",
    "polly_output_filename = f\"{task_id}.mp3\"\n",
    "\n",
    "# 以二進制寫入模式 (\"wb\") 打開輸出文件\n",
    "with open(polly_output_filename, \"wb\") as f:\n",
    "    # 將 S3 中指定的 的文件下載至本地\n",
    "    s3_client.download_fileobj(bucket, polly_output_filename, f)"
   ]
  },
  {
   "cell_type": "markdown",
   "metadata": {},
   "source": [
    "# 原路返回"
   ]
  },
  {
   "cell_type": "markdown",
   "metadata": {},
   "source": [
    "確認名稱"
   ]
  },
  {
   "cell_type": "code",
   "execution_count": null,
   "metadata": {},
   "outputs": [],
   "source": [
    "bucket = list_buckets_with_keyword(\"labbucket\")\n",
    "bucket"
   ]
  },
  {
   "cell_type": "markdown",
   "metadata": {},
   "source": [
    "完成上傳並確認音頻文件成功上傳"
   ]
  },
  {
   "cell_type": "code",
   "execution_count": null,
   "metadata": {},
   "outputs": [
    {
     "name": "stdout",
     "output_type": "stream",
     "text": [
      "..轉錄文件 URI: https://s3.us-east-1.amazonaws.com/c133864a3391506l8170626t1w145745076948-labbucket-mhvzok7povxk/transcribe_output_es.txt\n"
     ]
    }
   ],
   "source": [
    "import boto3\n",
    "\n",
    "# 上傳本地音頻文件至 S3 的指定路徑\n",
    "with open(polly_output_filename, \"rb\") as f:\n",
    "    s3_client.upload_fileobj(\n",
    "        f,\n",
    "        bucket,\n",
    "        f\"lab71/transcribe-sample/{polly_output_filename}\"\n",
    "    )\n",
    "\n",
    "# 驗證上傳成功後，開始設定轉錄作業\n",
    "transcribe_client = boto3.client(\"transcribe\")\n",
    "media_input_uri = f\"s3://{bucket}/lab71/transcribe-sample/{polly_output_filename}\"\n",
    "\n",
    "# 建立 UUID 作為轉錄作業名稱\n",
    "job_uuid = uuid.uuid1()\n",
    "transcribe_job_name = f\"transcribe-job-{job_uuid}\"\n",
    "\n",
    "# 啟動轉錄作業\n",
    "response = transcribe_client.start_transcription_job(\n",
    "    TranscriptionJobName=transcribe_job_name,\n",
    "    Media={\"MediaFileUri\": media_input_uri},\n",
    "    MediaFormat=\"mp3\",  # 確保格式與文件一致\n",
    "    LanguageCode=\"es-ES\",\n",
    "    OutputBucketName=bucket,\n",
    "    OutputKey=\"transcribe_output_es.txt\"\n",
    ")\n",
    "\n",
    "# 等待轉錄作業完成\n",
    "while True:\n",
    "    job = transcribe_client.get_transcription_job(TranscriptionJobName=transcribe_job_name)\n",
    "    if job[\"TranscriptionJob\"][\"TranscriptionJobStatus\"] in [\"COMPLETED\", \"FAILED\"]:\n",
    "        break\n",
    "    sleep(20)\n",
    "    print(\".\", end=\"\")\n",
    "\n",
    "# 確認作業完成並顯示結果 URI 或失敗原因\n",
    "if job[\"TranscriptionJob\"][\"TranscriptionJobStatus\"] == \"COMPLETED\":\n",
    "    transcription_file_uri = job[\"TranscriptionJob\"][\"Transcript\"][\"TranscriptFileUri\"]\n",
    "    print(\"轉錄文件 URI:\", transcription_file_uri)\n",
    "else:\n",
    "    print(\"轉錄作業失敗，狀態:\", job[\"TranscriptionJob\"][\"TranscriptionJobStatus\"])\n",
    "    if \"FailureReason\" in job[\"TranscriptionJob\"]:\n",
    "        print(\"失敗原因:\", job[\"TranscriptionJob\"][\"FailureReason\"])\n"
   ]
  },
  {
   "cell_type": "markdown",
   "metadata": {},
   "source": [
    "將西班牙語音頻文件轉錄成文本"
   ]
  },
  {
   "cell_type": "code",
   "execution_count": null,
   "metadata": {},
   "outputs": [
    {
     "name": "stdout",
     "output_type": "stream",
     "text": [
      "轉錄的西班牙語文本: {\"jobName\":\"transcribe-job-8f087450-96a3-11ef-ad51-3a328b8844c7\",\"accountId\":\"145745076948\",\"status\":\"COMPLETED\",\"results\":{\"transcripts\":[{\"transcript\":\"prueba de prueba. Esta es una prueba.\"}],\"items\":[{\"id\":0,\"type\":\"pronunciation\",\"alternatives\":[{\"confidence\":\"0.999\",\"content\":\"prueba\"}],\"start_time\":\"0.009\",\"end_time\":\"0.349\"},{\"id\":1,\"type\":\"pronunciation\",\"alternatives\":[{\"confidence\":\"0.999\",\"content\":\"de\"}],\"start_time\":\"0.36\",\"end_time\":\"0.46\"},{\"id\":2,\"type\":\"pronunciation\",\"alternatives\":[{\"confidence\":\"0.999\",\"content\":\"prueba\"}],\"start_time\":\"0.469\",\"end_time\":\"0.819\"},{\"id\":3,\"type\":\"punctuation\",\"alternatives\":[{\"confidence\":\"0.0\",\"content\":\".\"}]},{\"id\":4,\"type\":\"pronunciation\",\"alternatives\":[{\"confidence\":\"0.592\",\"content\":\"Esta\"}],\"start_time\":\"0.829\",\"end_time\":\"1.08\"},{\"id\":5,\"type\":\"pronunciation\",\"alternatives\":[{\"confidence\":\"0.998\",\"content\":\"es\"}],\"start_time\":\"1.09\",\"end_time\":\"1.24\"},{\"id\":6,\"type\":\"pronunciation\",\"alternatives\":[{\"confidence\":\"0.995\",\"content\":\"una\"}],\"start_time\":\"1.25\",\"end_time\":\"1.419\"},{\"id\":7,\"type\":\"pronunciation\",\"alternatives\":[{\"confidence\":\"0.999\",\"content\":\"prueba\"}],\"start_time\":\"1.429\",\"end_time\":\"1.86\"},{\"id\":8,\"type\":\"punctuation\",\"alternatives\":[{\"confidence\":\"0.0\",\"content\":\".\"}]}],\"audio_segments\":[{\"id\":0,\"transcript\":\"prueba de prueba. Esta es una prueba.\",\"start_time\":\"0.0\",\"end_time\":\"2.019\",\"items\":[0,1,2,3,4,5,6,7,8]}]}}\n"
     ]
    }
   ],
   "source": [
    "# 下載並檢查轉錄文件\n",
    "transcribe_output_filename = \"transcribe_output_es.txt\"\n",
    "\n",
    "# 使用 S3 客戶端從 S3 中下載轉錄結果文件\n",
    "with open(transcribe_output_filename, \"wb\") as f:\n",
    "    s3_client.download_fileobj(bucket, transcribe_output_filename, f)\n",
    "\n",
    "# 查看轉錄內容\n",
    "with open(transcribe_output_filename, \"r\") as f:\n",
    "    spanish_text = f.read()\n",
    "print(\"轉錄的西班牙語文本:\", spanish_text)"
   ]
  },
  {
   "cell_type": "code",
   "execution_count": 76,
   "metadata": {},
   "outputs": [
    {
     "name": "stdout",
     "output_type": "stream",
     "text": [
      "轉錄的西班牙語文本: prueba de prueba. Esta es una prueba.\n"
     ]
    }
   ],
   "source": [
    "# 提取西班牙語文本\n",
    "spanish_text = transcribe_data[\"results\"][\"transcripts\"][0][\"transcript\"]\n",
    "print(\"轉錄的西班牙語文本:\", spanish_text)"
   ]
  },
  {
   "cell_type": "markdown",
   "metadata": {},
   "source": [
    "將西班牙語文本翻譯為英文"
   ]
  },
  {
   "cell_type": "code",
   "execution_count": 77,
   "metadata": {},
   "outputs": [
    {
     "name": "stdout",
     "output_type": "stream",
     "text": [
      "翻譯後的英文文本: test test. This is a test.\n"
     ]
    }
   ],
   "source": [
    "# 使用 Amazon Translate 將西班牙語文本翻譯為英文\n",
    "response = translate_client.translate_text(\n",
    "    Text=spanish_text,\n",
    "    SourceLanguageCode=\"es\",\n",
    "    TargetLanguageCode=\"en\"\n",
    ")\n",
    "\n",
    "# 獲取翻譯後的英文文本\n",
    "english_text = response['TranslatedText']\n",
    "print(\"翻譯後的英文文本:\", english_text)\n"
   ]
  },
  {
   "cell_type": "markdown",
   "metadata": {},
   "source": [
    "將翻譯的英文文本轉換成語音"
   ]
  },
  {
   "cell_type": "code",
   "execution_count": 78,
   "metadata": {},
   "outputs": [
    {
     "name": "stdout",
     "output_type": "stream",
     "text": [
      ".英文語音文件 URI: https://s3.us-east-1.amazonaws.com/c133864a3391506l8170626t1w145745076948-labbucket-mhvzok7povxk/e76b99e4-a8c2-4f40-b5f0-92113911925f.mp3\n"
     ]
    }
   ],
   "source": [
    "# 啟動語音合成作業\n",
    "response = polly_client.start_speech_synthesis_task(\n",
    "    Engine=\"standard\",\n",
    "    OutputFormat=\"mp3\",\n",
    "    OutputS3BucketName=bucket,\n",
    "    Text=english_text,\n",
    "    VoiceId=\"Joanna\"  # 美式英文的 Joanna 聲音\n",
    ")\n",
    "\n",
    "# 等待語音合成作業完成並獲取文件 URI\n",
    "task_id = response[\"SynthesisTask\"][\"TaskId\"]\n",
    "while True:\n",
    "    polly_job = polly_client.get_speech_synthesis_task(TaskId=task_id)\n",
    "    if polly_job[\"SynthesisTask\"][\"TaskStatus\"] in [\"completed\", \"failed\"]:\n",
    "        break\n",
    "    sleep(20)\n",
    "    print(\".\", end=\"\")\n",
    "\n",
    "# 確認合成成功並獲取文件 URI\n",
    "if polly_job[\"SynthesisTask\"][\"TaskStatus\"] == \"completed\":\n",
    "    audio_file_uri = polly_job[\"SynthesisTask\"][\"OutputUri\"]\n",
    "    print(\"英文語音文件 URI:\", audio_file_uri)\n",
    "else:\n",
    "    print(\"語音合成失敗:\", polly_job[\"SynthesisTask\"][\"TaskStatus\"])\n"
   ]
  },
  {
   "cell_type": "markdown",
   "metadata": {},
   "source": [
    "使用 boto3 下載該文件"
   ]
  },
  {
   "cell_type": "code",
   "execution_count": 79,
   "metadata": {},
   "outputs": [
    {
     "name": "stdout",
     "output_type": "stream",
     "text": [
      "Bucket 名稱: c133864a3391506l8170626t1w145745076948-labbucket-mhvzok7povxk\n",
      "S3 文件完整路徑: 91f81a74-3ca3-48c8-a731-309bdff0b968.mp3\n"
     ]
    }
   ],
   "source": [
    "print(\"Bucket 名稱:\", bucket)\n",
    "print(\"S3 文件完整路徑:\", s3_file_key)"
   ]
  },
  {
   "cell_type": "code",
   "execution_count": 86,
   "metadata": {},
   "outputs": [
    {
     "name": "stdout",
     "output_type": "stream",
     "text": [
      "Bucket 名稱: c133864a3391506l8170626t1w145745076948-labbucket-mhvzok7povxk\n",
      "S3 文件完整路徑: e76b99e4-a8c2-4f40-b5f0-92113911925f.mp3\n",
      "文件存在於 S3 中，可以繼續進行下載。\n",
      "英文語音文件已成功下載到本地：downloaded_audio.mp3\n"
     ]
    }
   ],
   "source": [
    "# 根據 S3 文件的實際路徑修正文件 key\n",
    "s3_file_key = f\"{task_id}.mp3\"  # 文件直接位於根目錄\n",
    "\n",
    "# 定義本地文件名稱\n",
    "local_filename = \"downloaded_audio.mp3\"\n",
    "\n",
    "# 檢查文件是否存在於 S3 中並下載\n",
    "try:\n",
    "    # 確認 bucket 名稱和 key 是否正確\n",
    "    print(\"Bucket 名稱:\", bucket)\n",
    "    print(\"S3 文件完整路徑:\", s3_file_key)\n",
    "    \n",
    "    # 檢查文件是否存在\n",
    "    s3_client.head_object(Bucket=bucket, Key=s3_file_key)\n",
    "    print(\"文件存在於 S3 中，可以繼續進行下載。\")\n",
    "\n",
    "    # 下載文件\n",
    "    with open(local_filename, \"wb\") as f:\n",
    "        s3_client.download_fileobj(bucket, s3_file_key, f)\n",
    "\n",
    "    print(f\"英文語音文件已成功下載到本地：{local_filename}\")\n",
    "\n",
    "except s3_client.exceptions.ClientError as e:\n",
    "    error_code = e.response['Error']['Code']\n",
    "    if error_code == '404':\n",
    "        print(\n",
    "            f\"文件 '{s3_file_key}' 在 bucket '{bucket}' 中不存在。\"\n",
    "            \"請檢查路徑和文件名是否正確。\"\n",
    "        )\n",
    "    else:\n",
    "        print(\"其他 S3 錯誤:\", e)\n",
    "except Exception as ex:\n",
    "    print(\"下載過程中發生其他錯誤:\", ex)\n"
   ]
  },
  {
   "cell_type": "markdown",
   "metadata": {},
   "source": [
    "從西班牙語音檔進行轉錄，將 S3 中的西班牙語音檔轉換為西班牙文本"
   ]
  },
  {
   "cell_type": "code",
   "execution_count": null,
   "metadata": {},
   "outputs": [
    {
     "name": "stdout",
     "output_type": "stream",
     "text": [
      "..西班牙語轉錄文件 URI: https://s3.us-east-1.amazonaws.com/c133864a3391506l8170626t1w145745076948-labbucket-mhvzok7povxk/transcribe_output_es.txt\n"
     ]
    }
   ],
   "source": [
    "# 設定轉錄作業名稱和音頻文件的 URI\n",
    "job_uuid = uuid.uuid1()\n",
    "transcribe_job_name = f\"transcribe-job-{job_uuid}\"\n",
    "# 指向 S3 中的西班牙語音檔\n",
    "media_input_uri = f\"s3://{bucket}/{output_path}/{mp3_filename}\"  \n",
    "\n",
    "# 啟動轉錄作業\n",
    "response = transcribe_client.start_transcription_job(\n",
    "    TranscriptionJobName=transcribe_job_name,\n",
    "    Media={\"MediaFileUri\": media_input_uri},\n",
    "    MediaFormat=\"mp3\",\n",
    "    # 設定語言為西班牙語\n",
    "    LanguageCode=\"es-ES\",\n",
    "    OutputBucketName=bucket,\n",
    "    OutputKey=\"transcribe_output_es.txt\"\n",
    ")\n",
    "\n",
    "# 等待轉錄作業完成\n",
    "while True:\n",
    "    job = transcribe_client.get_transcription_job(TranscriptionJobName=transcribe_job_name)\n",
    "    if job[\"TranscriptionJob\"][\"TranscriptionJobStatus\"] in [\"COMPLETED\", \"FAILED\"]:\n",
    "        break\n",
    "    sleep(20)\n",
    "    print(\".\", end=\"\")\n",
    "\n",
    "# 確認作業完成並顯示結果 URI 或失敗原因\n",
    "if job[\"TranscriptionJob\"][\"TranscriptionJobStatus\"] == \"COMPLETED\":\n",
    "    transcription_file_uri = job[\"TranscriptionJob\"][\"Transcript\"][\"TranscriptFileUri\"]\n",
    "    print(\"西班牙語轉錄文件 URI:\", transcription_file_uri)\n",
    "else:\n",
    "    print(\"轉錄作業失敗，狀態:\", job[\"TranscriptionJob\"][\"TranscriptionJobStatus\"])\n",
    "    if \"FailureReason\" in job[\"TranscriptionJob\"]:\n",
    "        print(\"失敗原因:\", job[\"TranscriptionJob\"][\"FailureReason\"])\n"
   ]
  },
  {
   "cell_type": "markdown",
   "metadata": {},
   "source": [
    "轉錄完成後，下載生成的西班牙語文本，然後進行反向翻譯"
   ]
  },
  {
   "cell_type": "code",
   "execution_count": 53,
   "metadata": {},
   "outputs": [
    {
     "name": "stdout",
     "output_type": "stream",
     "text": [
      "轉錄的西班牙語文本已成功下載到本地：transcribe_output_es.txt\n"
     ]
    }
   ],
   "source": [
    "# 定義下載後的文件名稱\n",
    "transcribe_output_filename = \"transcribe_output_es.txt\"\n",
    "\n",
    "# 下載文件\n",
    "with open(transcribe_output_filename, \"wb\") as f:\n",
    "    s3_client.download_fileobj(bucket, \"transcribe_output_es.txt\", f)\n",
    "\n",
    "print(f\"轉錄的西班牙語文本已成功下載到本地：{transcribe_output_filename}\")\n"
   ]
  },
  {
   "cell_type": "markdown",
   "metadata": {},
   "source": [
    "將西班牙文本翻譯回英文"
   ]
  },
  {
   "cell_type": "code",
   "execution_count": 54,
   "metadata": {},
   "outputs": [
    {
     "name": "stdout",
     "output_type": "stream",
     "text": [
      "翻譯後的英文文本: test test. This is a test.\n"
     ]
    }
   ],
   "source": [
    "import json\n",
    "\n",
    "# 加載轉錄文本\n",
    "with open(transcribe_output_filename, \"r\", encoding=\"utf-8\") as f:\n",
    "    transcribed_text = json.load(f)[\"results\"][\"transcripts\"][0][\"transcript\"]\n",
    "\n",
    "# 建立 Amazon Translate 客戶端\n",
    "translate_client = boto3.client(\"translate\")\n",
    "\n",
    "# 執行翻譯\n",
    "result = translate_client.translate_text(\n",
    "    Text=transcribed_text,\n",
    "    SourceLanguageCode=\"es\",  # 西班牙語\n",
    "    TargetLanguageCode=\"en\"   # 英文\n",
    ")\n",
    "\n",
    "translated_text = result[\"TranslatedText\"]\n",
    "print(\"翻譯後的英文文本:\", translated_text)\n"
   ]
  },
  {
   "cell_type": "markdown",
   "metadata": {},
   "source": [
    "將英文文本轉換為英文語音"
   ]
  },
  {
   "cell_type": "code",
   "execution_count": 68,
   "metadata": {},
   "outputs": [
    {
     "name": "stdout",
     "output_type": "stream",
     "text": [
      "合成的英文語音文件 URI: https://s3.us-east-1.amazonaws.com/c133864a3391506l8170626t1w145745076948-labbucket-mhvzok7povxk/91f81a74-3ca3-48c8-a731-309bdff0b968.mp3\n"
     ]
    }
   ],
   "source": [
    "# 執行語音合成\n",
    "response = polly_client.start_speech_synthesis_task(\n",
    "    Engine=\"standard\",\n",
    "    OutputFormat=\"mp3\",\n",
    "    OutputS3BucketName=bucket,\n",
    "    Text=translated_text,\n",
    "    # 英文語音，可以選擇其他英文語音\n",
    "    VoiceId=\"Joanna\"\n",
    ")\n",
    "\n",
    "# 取得語音合成任務的輸出 URI\n",
    "polly_job_id = response[\"SynthesisTask\"][\"TaskId\"]\n",
    "polly_output_uri = response[\"SynthesisTask\"][\"OutputUri\"]\n",
    "print(\"合成的英文語音文件 URI:\", polly_output_uri)\n"
   ]
  },
  {
   "cell_type": "markdown",
   "metadata": {},
   "source": [
    "下載"
   ]
  },
  {
   "cell_type": "code",
   "execution_count": 70,
   "metadata": {},
   "outputs": [
    {
     "name": "stdout",
     "output_type": "stream",
     "text": [
      "合成的英文語音文件已成功下載到本地：91f81a74-3ca3-48c8-a731-309bdff0b968.mp3\n"
     ]
    }
   ],
   "source": [
    "# 從 polly_output_uri 中提取 bucket 名稱和 key\n",
    "bucket_name = polly_output_uri.split('/')[3]\n",
    "s3_file_key = '/'.join(polly_output_uri.split('/')[4:])\n",
    "\n",
    "# 建立 S3 客戶端\n",
    "s3_client = boto3.client(\"s3\")\n",
    "\n",
    "# 本地文件名稱\n",
    "local_filename = f\"{polly_job_id}.mp3\"\n",
    "\n",
    "# 從 S3 下載文件\n",
    "with open(local_filename, \"wb\") as f:\n",
    "    s3_client.download_fileobj(bucket_name, s3_file_key, f)\n",
    "\n",
    "print(f\"合成的英文語音文件已成功下載到本地：{local_filename}\")"
   ]
  }
 ],
 "metadata": {
  "kernelspec": {
   "display_name": "envAWS",
   "language": "python",
   "name": "python3"
  },
  "language_info": {
   "codemirror_mode": {
    "name": "ipython",
    "version": 3
   },
   "file_extension": ".py",
   "mimetype": "text/x-python",
   "name": "python",
   "nbconvert_exporter": "python",
   "pygments_lexer": "ipython3",
   "version": "3.10.11"
  }
 },
 "nbformat": 4,
 "nbformat_minor": 2
}
