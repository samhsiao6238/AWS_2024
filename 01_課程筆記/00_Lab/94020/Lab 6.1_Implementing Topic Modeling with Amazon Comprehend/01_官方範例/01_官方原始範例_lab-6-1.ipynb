{
 "cells": [
  {
   "cell_type": "markdown",
   "metadata": {},
   "source": [
    "Version: 02.14.2023"
   ]
  },
  {
   "cell_type": "markdown",
   "metadata": {},
   "source": [
    "# 实验 6.1：利用 Amazon Comprehend 实施主题建模\n",
    "\n",
    "在本实验中，您将使用 Amazon Comprehend 从 [20 个新闻组] (https://archive.ics.uci.edu/ml/datasets/Twenty+Newsgroups) 数据集中提取主题。\n",
    "\n",
    "## 关于该数据集\n",
    "\n",
    "20 个新闻组数据集是大约 20000 个新闻组文档的集合，这些文档（接近）平均分布在20个不同的新闻组中。\n",
    "在对机器学习技术（如文本分类和文本聚类）的文本应用进行实验时，此集合变得十分受欢迎。在本实验中，您将了解使用神经主题模型 (NTM) 算法可以从此组文档学到哪些主题。\n",
    "\n",
    "\n",
    "数据集来源：Tom Mitchell，*20 Newsgroups Data*，1999 年 9 月 9 日，由 UCI KDD Archive 分发。https://kdd.ics.uci.edu/databases/20newsgroups/20newsgroups.data.html。\n"
   ]
  },
  {
   "cell_type": "markdown",
   "metadata": {},
   "source": [
    "## 实验步骤\n",
    "\n",
    "要完成本实验，您需要按以下步骤操作：\n",
    "\n",
    "1. [导入要求并创建会话变量](#1.-Importing-requirements-and-creating-session-variables)\n",
    "2. [导入新闻组文件](#2.-Importing-the-newsgroup-files)\n",
    "3. [检查与预处理数据](#3.-Examining-and-preprocessing-the-data)\n",
    "4. [分析 Amazon Comprehend 事件输出](#4.-Analyzing-the-Amazon-Comprehend-Events-output)\n",
    "\n",
    "\n",
    "## 提交作业\n",
    "\n",
    "1.在实验室控制台中，选择 **Submit**（提交）记录您的进度，在出现提示时，选择 **Yes**（是）。\n",
    "\n",
    "1.如果在几分钟后仍未显示结果，请返回到这些说明的顶部，并选择 **Grades**（成绩）。\n",
    "\n",
    "     **提示**：您可以多次提交作业。您更改作业后，再次选择 **Submit**（提交）。您最后一次提交的作业将记为本实验室内容的作业。\n",
    "\n",
    "1.要查找有关您作业的详细反馈，请选择 **Details**（详细信息），然后选择 **View Submission Report**（查看提交报告）。"
   ]
  },
  {
   "cell_type": "markdown",
   "metadata": {},
   "source": [
    "## 1.导入要求和创建会话变量\n",
    "([转到顶部](#Lab-6.1:-Implementing-Topic-Modeling-with-Amazon-Comprehend))\n",
    "\n",
    "在这个部分，您将更新并安装您将在笔记本中使用的程序包。您还将创建会话变量。\n"
   ]
  },
  {
   "cell_type": "code",
   "execution_count": 1,
   "metadata": {},
   "outputs": [],
   "source": [
    "import boto3\n",
    "import uuid\n",
    "# Client and session information\n",
    "comprehend_client = boto3.client(service_name='comprehend')\n",
    "\n",
    "\n",
    "# Constants for the S3 bucket and input data file\n",
    "bucket = 'c133864a3391500l8216998t1w753251772626-labbucket-31pifhcc14df'\n",
    "data_access_role_arn = 'arn:aws:iam::753251772626:role/service-role/c133864a3391500l8216998t1w-ComprehendDataAccessRole-fFX23DqzvzMS'\n"
   ]
  },
  {
   "cell_type": "markdown",
   "metadata": {},
   "source": [
    "## 2.导入新闻组文件\n",
    "([转到顶部](#Lab-6.1:-Implementing-Topic-Modeling-with-Amazon-Comprehend))\n",
    "\n",
    "现在定义用于保存数据的文件夹。然后，清理文件夹，其中可能含有之前实验的数据。"
   ]
  },
  {
   "cell_type": "code",
   "execution_count": 2,
   "metadata": {},
   "outputs": [],
   "source": [
    "import os\n",
    "import shutil\n",
    "\n",
    "data_dir = '20_newsgroups'\n",
    "if os.path.exists(data_dir):  # Clean up existing data folder\n",
    "    shutil.rmtree(data_dir)"
   ]
  },
  {
   "cell_type": "markdown",
   "metadata": {},
   "source": [
    "新闻组文档作为单独的文件存储在 .tar 文件中。\n",
    "\n",
    "在接下来两个单元格中，您可以解压缩数据集并提取文件列表。"
   ]
  },
  {
   "cell_type": "code",
   "execution_count": 3,
   "metadata": {},
   "outputs": [
    {
     "name": "stdout",
     "output_type": "stream",
     "text": [
      "alt.atheism\t\t  rec.autos\t      sci.space\n",
      "comp.graphics\t\t  rec.motorcycles     soc.religion.christian\n",
      "comp.os.ms-windows.misc   rec.sport.baseball  talk.politics.guns\n",
      "comp.sys.ibm.pc.hardware  rec.sport.hockey    talk.politics.mideast\n",
      "comp.sys.mac.hardware\t  sci.crypt\t      talk.politics.misc\n",
      "comp.windows.x\t\t  sci.electronics     talk.religion.misc\n",
      "misc.forsale\t\t  sci.med\n"
     ]
    }
   ],
   "source": [
    "!tar -xzf ../s3/20_newsgroups.tar.gz\n",
    "!ls 20_newsgroups"
   ]
  },
  {
   "cell_type": "code",
   "execution_count": 4,
   "metadata": {},
   "outputs": [
    {
     "name": "stdout",
     "output_type": "stream",
     "text": [
      "Number of documents: 19997\n"
     ]
    }
   ],
   "source": [
    "folders = [os.path.join(data_dir,f) for f in sorted(os.listdir(data_dir)) if os.path.isdir(os.path.join(data_dir, f))]\n",
    "file_list = [os.path.join(d,f) for d in folders for f in os.listdir(d)]\n",
    "print('Number of documents:', len(file_list))"
   ]
  },
  {
   "cell_type": "markdown",
   "metadata": {},
   "source": [
    "## 3.检查与预处理数据\n",
    "([转到顶部](#Lab-6.1:-Implementing-Topic-Modeling-with-Amazon-Comprehend))\n",
    "    \n",
    "在这个部分，您将检查数据与执行部分标准的自然语言处理 (NLP) 数据清洗任务。"
   ]
  },
  {
   "cell_type": "code",
   "execution_count": 5,
   "metadata": {},
   "outputs": [
    {
     "name": "stdout",
     "output_type": "stream",
     "text": [
      "Path: cantaloupe.srv.cs.cmu.edu!crabapple.srv.cs.cmu.edu!fs7.ece.cmu.edu!europa.eng.gtefsd.com!howland.reston.ans.net!usc!elroy.jpl.nasa.gov!nntp-server.caltech.edu!andrey\n",
      "From: andrey@cco.caltech.edu (Andre T. Yew)\n",
      "Newsgroups: comp.graphics\n",
      "Subject: Re: 16 million vs 65 thousand colors\n",
      "Date: 3 Apr 1993 19:51:06 GMT\n",
      "Organization: California Institute of Technology, Pasadena\n",
      "Lines: 28\n",
      "Message-ID: <1pkpraINNck9@gap.caltech.edu>\n",
      "References: <1993Mar26.210323.27802@midway.uchicago.edu> <dotzlaw-020493084300@murphy.biochem.umanitoba.ca> <d9hh.733845825@dtek.chalmers.se>\n",
      "NNTP-Posting-Host: punisher.caltech.edu\n",
      "\n",
      "d9hh@dtek.chalmers.se (Henrik Harmsen) writes:\n",
      "\n",
      ">1-4 bits per R/G/B gives horrible machbanding visible in almost any picture.\n",
      "\n",
      ">5 bits per R/G/B (32768, 65000 colors) gives visible machbanding\n",
      "\n",
      ">color-gradient picture has _almost_ no machbanding. This color-resolution is \n",
      "\n",
      ">see some small machbanding on the smooth color-gradient picture, but all in all,\n",
      ">There _ARE_ situiations where you get visible mach-banding even in\n",
      ">a 24 bit card. If\n",
      ">you create a very smooth color gradient of dark-green-white-yellow\n",
      ">or something and turn\n",
      ">up the contrast on the monitor, you will probably see some mach-banding.\n",
      "\n",
      "    While I don't mean to damn Henrik's attempt to be helpful here,\n",
      "he's using a common misconception that should be corrected.\n",
      "\n",
      "    Mach banding will occur for any image.  It is not the color\n",
      "quantization you see when you don't have enough bits.  It is the\n",
      "human eye's response to transitions or edges between intensities.\n",
      "The result is that colors near the transistion look brighter on\n",
      "the brighter side and darker on the darker side.\n",
      "\n",
      "--Andre\n",
      "\n",
      "-- \n",
      "             Andre Yew andrey@cco.caltech.edu (131.215.139.2)\n"
     ]
    }
   ],
   "source": [
    "!cat 20_newsgroups/comp.graphics/37917"
   ]
  },
  {
   "cell_type": "markdown",
   "metadata": {},
   "source": [
    "每个新闻组文档都可能有以下部分：\n",
    "- 页眉 - 包含标准的新闻组页眉信息。它应该被移除。\n",
    "- 引用文本 - 上一条消息的文本，通常有 “>” 或 “|” 前缀，并且有时以 *writes*、*wrote*、*said* 或 *says* 开头。\n",
    "- 消息 - 您想要从中提取主题的消息正文。\n",
    "– 页脚 – 通常以签名结尾的消息。"
   ]
  },
  {
   "cell_type": "markdown",
   "metadata": {},
   "source": [
    "以下函数将移除页眉、引用文本和页脚。"
   ]
  },
  {
   "cell_type": "code",
   "execution_count": 6,
   "metadata": {},
   "outputs": [],
   "source": [
    "# From sklearn.datasets.twenty_newsgroups import strip_newsgroup_header, strip_newsgroup_quoting, strip_newsgroup_footer\n",
    "import re\n",
    "def strip_newsgroup_header(text):\n",
    "    \"\"\"\n",
    "    Given text in \"news\" format, strip the headers by removing everything\n",
    "    before the first blank line.\n",
    "    \"\"\"\n",
    "    _before, _blankline, after = text.partition('\\n\\n')\n",
    "    return after\n",
    "\n",
    "_QUOTE_RE = re.compile(r'(writes in|writes:|wrote:|says:|said:'\n",
    "                       r'|^In article|^Quoted from|^\\||^>)')\n",
    "\n",
    "\n",
    "def strip_newsgroup_quoting(text):\n",
    "    \"\"\"\n",
    "    Given text in \"news\" format, strip lines beginning with the quote\n",
    "    characters > or |, plus lines that often introduce a quoted section\n",
    "    (for example, because they contain the string 'writes:'.)\n",
    "    \"\"\"\n",
    "    good_lines = [line for line in text.split('\\n')\n",
    "                  if not _QUOTE_RE.search(line)]\n",
    "    return '\\n'.join(good_lines)\n",
    "\n",
    "\n",
    "def strip_newsgroup_footer(text):\n",
    "    \"\"\"\n",
    "    Given text in \"news\" format, attempt to remove a signature block.\n",
    "\n",
    "    As a rough heuristic, we assume that signatures are set apart by either\n",
    "    a blank line or a line made of hyphens, and that it is the last such line\n",
    "    in the file (disregarding blank lines at the end).\n",
    "    \"\"\"\n",
    "    lines = text.strip().split('\\n')\n",
    "    for line_num in range(len(lines) - 1, -1, -1):\n",
    "        line = lines[line_num]\n",
    "        if line.strip().strip('-') == '':\n",
    "            break\n",
    "\n",
    "    if line_num > 0:\n",
    "        return '\\n'.join(lines[:line_num])\n",
    "    else:\n",
    "        return text"
   ]
  },
  {
   "cell_type": "markdown",
   "metadata": {},
   "source": [
    "现在移除页眉、页脚和引号以清洗数据。使用刚才定义的三个函数。"
   ]
  },
  {
   "cell_type": "code",
   "execution_count": 7,
   "metadata": {},
   "outputs": [],
   "source": [
    "data = []\n",
    "for f in file_list:\n",
    "    with open(f, 'rb') as fin:\n",
    "        content = fin.read().decode('latin1')   \n",
    "        content = strip_newsgroup_header(content)\n",
    "        content = strip_newsgroup_quoting(content)\n",
    "        content = strip_newsgroup_footer(content)\n",
    "        # remove header, quoting and footer\n",
    "        data.append(content)"
   ]
  },
  {
   "cell_type": "markdown",
   "metadata": {},
   "source": [
    "接下来，将所有新闻组文档保存到单个文件中，每行包含一个文档。"
   ]
  },
  {
   "cell_type": "code",
   "execution_count": 8,
   "metadata": {},
   "outputs": [],
   "source": [
    "with open('comprehend_input.txt','w', encoding='UTF-8') as cf:\n",
    "    for line in data:\n",
    "        line = line.strip()\n",
    "        line = re.sub('\\n',' ',line)\n",
    "        line = re.sub('\\r',' ',line)\n",
    "        cf.write(line+'\\n')"
   ]
  },
  {
   "cell_type": "markdown",
   "metadata": {},
   "source": [
    "需要将数据上载到 S3 存储桶，Amazon Comprehend 才能使用数据。以下函数将数据上载到 Amazon S3。"
   ]
  },
  {
   "cell_type": "code",
   "execution_count": 9,
   "metadata": {},
   "outputs": [],
   "source": [
    "s3 = boto3.resource('s3')\n",
    "s3.Bucket(bucket).upload_file('comprehend_input.txt', 'comprehend/newsgroups')"
   ]
  },
  {
   "cell_type": "code",
   "execution_count": 10,
   "metadata": {},
   "outputs": [
    {
     "name": "stdout",
     "output_type": "stream",
     "text": [
      "s3://c133864a3391500l8216998t1w753251772626-labbucket-31pifhcc14df/comprehend\n"
     ]
    }
   ],
   "source": [
    "number_of_topics = 20\n",
    "\n",
    "input_s3_url = f\"s3://{bucket}/comprehend\"\n",
    "input_doc_format = \"ONE_DOC_PER_LINE\"\n",
    "input_data_config = {\"S3Uri\": input_s3_url, \"InputFormat\": input_doc_format}\n",
    "\n",
    "output_s3_url = f\"s3://{bucket}/outputfolder/\"\n",
    "output_data_config = {\"S3Uri\": output_s3_url}\n",
    "\n",
    "job_uuid = uuid.uuid1()\n",
    "job_name = f\"top-job-{job_uuid}\"\n",
    "\n",
    "print(input_s3_url)"
   ]
  },
  {
   "cell_type": "markdown",
   "metadata": {},
   "source": [
    "现在开始 Amazon Comprehend 主题检测任务。"
   ]
  },
  {
   "cell_type": "code",
   "execution_count": 11,
   "metadata": {},
   "outputs": [],
   "source": [
    "start_topics_detection_job_result = comprehend_client.start_topics_detection_job(NumberOfTopics=number_of_topics,\n",
    "                                                                              InputDataConfig=input_data_config,\n",
    "                                                                              JobName=job_name,\n",
    "                                                                              OutputDataConfig=output_data_config,\n",
    "                                                                              DataAccessRoleArn=data_access_role_arn\n",
    "                                                                            )\n",
    "\n",
    "\n"
   ]
  },
  {
   "cell_type": "markdown",
   "metadata": {},
   "source": [
    "获取任务状态并等待任务完成。该过程需要 25–35 分钟的时间。"
   ]
  },
  {
   "cell_type": "code",
   "execution_count": 12,
   "metadata": {},
   "outputs": [
    {
     "name": "stdout",
     "output_type": "stream",
     "text": [
      ".............................Ready\n"
     ]
    }
   ],
   "source": [
    "# Get current job status\n",
    "from time import sleep\n",
    "job = comprehend_client.describe_topics_detection_job(JobId=start_topics_detection_job_result['JobId'])\n",
    "\n",
    "# Loop until job is completed\n",
    "waited = 0\n",
    "timeout_minutes = 40\n",
    "while job['TopicsDetectionJobProperties']['JobStatus'] != 'COMPLETED':\n",
    "    sleep(60)\n",
    "    waited += 60\n",
    "    assert waited//60 < timeout_minutes, \"Job timed out after %d seconds.\" % waited\n",
    "    print('.', end='')\n",
    "    job = comprehend_client.describe_topics_detection_job(JobId=start_topics_detection_job_result['JobId'])\n",
    "\n",
    "print('Ready')"
   ]
  },
  {
   "cell_type": "markdown",
   "metadata": {},
   "source": [
    "任务完成后，下载结果。"
   ]
  },
  {
   "cell_type": "code",
   "execution_count": 13,
   "metadata": {},
   "outputs": [
    {
     "name": "stdout",
     "output_type": "stream",
     "text": [
      "output filename: s3://c133864a3391500l8216998t1w753251772626-labbucket-31pifhcc14df/outputfolder/753251772626-TOPICS-06c23b5f7b0cb37ab8cc4a0e6d444c3a/output/output.tar.gz\n",
      "outputfolder/753251772626-TOPICS-06c23b5f7b0cb37ab8cc4a0e6d444c3a/output/output.tar.gz\n"
     ]
    }
   ],
   "source": [
    "topic_comprehend_output_file = job['TopicsDetectionJobProperties']['OutputDataConfig']['S3Uri']\n",
    "print(f'output filename: {topic_comprehend_output_file}')\n",
    "\n",
    "topics_comprehend_bucket, topics_comprehend_key = topic_comprehend_output_file.replace(\"s3://\", \"\").split(\"/\", 1)\n",
    "print(topics_comprehend_key)\n",
    "s3r = boto3.resource('s3')\n",
    "s3r.meta.client.download_file(topics_comprehend_bucket, topics_comprehend_key, 'output.tar.gz')"
   ]
  },
  {
   "cell_type": "code",
   "execution_count": 14,
   "metadata": {},
   "outputs": [],
   "source": [
    "# Extract the .tar file\n",
    "import tarfile\n",
    "tf = tarfile.open('output.tar.gz')\n",
    "tf.extractall()"
   ]
  },
  {
   "cell_type": "markdown",
   "metadata": {
    "slideshow": {
     "slide_type": "slide"
    }
   },
   "source": [
    "## 4.分析 Amazon Comprehend 事件输出\n",
    "([转到顶部](#Lab-6.1:-Implementing-Topic-Modeling-with-Amazon-Comprehend))\n",
    "\n"
   ]
  },
  {
   "cell_type": "markdown",
   "metadata": {},
   "source": [
    "您从 Amazon Comprehend 下载的压缩文件包含 2 个文件：\n",
    "\n",
    "– **topic-terms.csv** 列出集合中的主题。针对每个主题，该列表包括前 10 个词语（按权重）。\n",
    "– **doc-topics.csv** 列出与主题关联的文档以及与该主题相关的文档的比例。一个文档可以列在多个主题中。"
   ]
  },
  {
   "cell_type": "markdown",
   "metadata": {},
   "source": [
    "将 topic-terms.csv 文件加载到 pandas DataFrame 中。"
   ]
  },
  {
   "cell_type": "code",
   "execution_count": 15,
   "metadata": {},
   "outputs": [],
   "source": [
    "import pandas as pd\n",
    "dftopicterms = pd.read_csv(\"topic-terms.csv\")"
   ]
  },
  {
   "cell_type": "markdown",
   "metadata": {},
   "source": [
    "查看前几行。"
   ]
  },
  {
   "cell_type": "code",
   "execution_count": 16,
   "metadata": {},
   "outputs": [
    {
     "data": {
      "text/html": [
       "<div>\n",
       "<style scoped>\n",
       "    .dataframe tbody tr th:only-of-type {\n",
       "        vertical-align: middle;\n",
       "    }\n",
       "\n",
       "    .dataframe tbody tr th {\n",
       "        vertical-align: top;\n",
       "    }\n",
       "\n",
       "    .dataframe thead th {\n",
       "        text-align: right;\n",
       "    }\n",
       "</style>\n",
       "<table border=\"1\" class=\"dataframe\">\n",
       "  <thead>\n",
       "    <tr style=\"text-align: right;\">\n",
       "      <th></th>\n",
       "      <th>topic</th>\n",
       "      <th>term</th>\n",
       "      <th>weight</th>\n",
       "    </tr>\n",
       "  </thead>\n",
       "  <tbody>\n",
       "    <tr>\n",
       "      <th>0</th>\n",
       "      <td>0</td>\n",
       "      <td>people</td>\n",
       "      <td>0.031250</td>\n",
       "    </tr>\n",
       "    <tr>\n",
       "      <th>1</th>\n",
       "      <td>0</td>\n",
       "      <td>thing</td>\n",
       "      <td>0.011662</td>\n",
       "    </tr>\n",
       "    <tr>\n",
       "      <th>2</th>\n",
       "      <td>0</td>\n",
       "      <td>government</td>\n",
       "      <td>0.009719</td>\n",
       "    </tr>\n",
       "    <tr>\n",
       "      <th>3</th>\n",
       "      <td>0</td>\n",
       "      <td>force</td>\n",
       "      <td>0.008121</td>\n",
       "    </tr>\n",
       "    <tr>\n",
       "      <th>4</th>\n",
       "      <td>0</td>\n",
       "      <td>kill</td>\n",
       "      <td>0.006174</td>\n",
       "    </tr>\n",
       "  </tbody>\n",
       "</table>\n",
       "</div>"
      ],
      "text/plain": [
       "   topic        term    weight\n",
       "0      0      people  0.031250\n",
       "1      0       thing  0.011662\n",
       "2      0  government  0.009719\n",
       "3      0       force  0.008121\n",
       "4      0        kill  0.006174"
      ]
     },
     "execution_count": 16,
     "metadata": {},
     "output_type": "execute_result"
    }
   ],
   "source": [
    "dftopicterms.head()"
   ]
  },
  {
   "cell_type": "markdown",
   "metadata": {},
   "source": [
    "打印每个主题，以及每个主题的热门单词。"
   ]
  },
  {
   "cell_type": "code",
   "execution_count": 17,
   "metadata": {},
   "outputs": [
    {
     "name": "stdout",
     "output_type": "stream",
     "text": [
      "Topic  0 - ['people', 'thing', 'government', 'force', 'kill', 'live', 'associate', 'gun', 'law', 'moral']\n",
      "Topic  1 - ['find', 'source', 'information', 'stuff', 'code', 'delete', 'site', 'ftp', 'image', 'advance']\n",
      "Topic  2 - ['year', 'team', 'ago', 'beat', 'win', 'player', 'play', 'game', 'league', 'season']\n",
      "Topic  3 - ['work', 'bike', 'bite', 'machine', 'modem', 'suppose', 'port', 'universe', 'version', 'accurately']\n",
      "Topic  4 - ['program', 'disk', 'read', 'run', 'mac', 'pc', 'book', 'write', 'speed', 'copy']\n",
      "Topic  5 - ['christian', 'jesus', 'koresh', 'david', 'people', 'claim', 'church', 'christ', 'bible', 'religion']\n",
      "Topic  6 - ['book', 'read', 'church', 'christian', 'randism', 'write', 'disk', 'jesus', 'article', 'bible']\n",
      "Topic  7 - ['sell', 'price', 'offer', 'ship', 'include', 'pay', 'condition', 'email', 'buy', 'interest']\n",
      "Topic  8 - ['post', 'day', 'article', 'read', 'delete', 'stuff', 'group', 'think', 'lot', 'reply']\n",
      "Topic  9 - ['file', 'format', 'program', 'window', 'convert', 'gif', 'find', 'image', 'directory', 'ftp']\n",
      "Topic 10 - ['card', 'video', 'monitor', 'driver', 'color', 'vga', 'bus', 'mode', 'graphic', 'window']\n",
      "Topic 11 - ['problem', 'year', 'monitor', 'fix', 'ago', 'file', 'time', 'uhc', 'print', 'change']\n",
      "Topic 12 - ['make', 'break', 'promise', 'thing', 'sense', 'begin', 'abortion', 'illegal', 'offer', 'wrong']\n",
      "Topic 13 - ['window', 'run', 'program', 'ms', 'application', 'manager', 'server', 'not', 'display', 'file']\n",
      "Topic 14 - ['bike', 'ride', 'good', 'work', 'buy', 'motorcycle', 'drive', 'dod', 'mile', 'think']\n",
      "Topic 15 - ['game', 'play', 'team', 'show', 'win', 'score', 'baseball', 'player', 'hockey', 'espn']\n",
      "Topic 16 - ['question', 'answer', 'time', 'reply', 'faq', 'hear', 'original', 'post', 'christian', 'black']\n",
      "Topic 17 - ['key', 'chip', 'encryption', 'send', 'clipper', 'government', 'escrow', 'encrypt', 'system', 'bite']\n",
      "Topic 18 - ['drive', 'hard', 'scsi', 'disk', 'floppy', 'controller', 'shaft', 'wheelie', 'cd', 'motorcycle']\n",
      "Topic 19 - ['numb', 'call', 'phone', 'dial', 'bbs', 'line', 'support', 'give', 'leg', 'tech']\n"
     ]
    }
   ],
   "source": [
    "# Selecting rows based on condition\n",
    "for t in range(0,number_of_topics):\n",
    "    rslt_df = dftopicterms.loc[dftopicterms['topic'] == t]\n",
    "    topic_list = rslt_df['term'].values.tolist()\n",
    "    print(f'Topic {t:2} - {topic_list}')"
   ]
  },
  {
   "cell_type": "markdown",
   "metadata": {},
   "source": [
    "请注意，主题未被命名。这需要人工参与才能确定。\n",
    "\n",
    "根据上一个单元格的输出中的单词，选择一个描述每个主题的单词。在下面的单元格中，将占位符文本替换为您决定用来描述每个主题的单词。"
   ]
  },
  {
   "cell_type": "code",
   "execution_count": 18,
   "metadata": {},
   "outputs": [],
   "source": [
    "colnames = pd.DataFrame({'topics':['topic 0', 'topic 1', 'topic 2', 'topic 3', 'topic 4', 'topic 5', 'topic 6','topic 7','topic 8','topic 9',\n",
    "       'topic 10', 'topic 11', 'topic 12', 'topic 13', 'topic 14', 'topic 15', 'topic 16','topic 17','topic 18','topic 19']})"
   ]
  },
  {
   "cell_type": "markdown",
   "metadata": {},
   "source": [
    "接下来，读入 doc-topics.csv 文件。"
   ]
  },
  {
   "cell_type": "code",
   "execution_count": 19,
   "metadata": {},
   "outputs": [
    {
     "data": {
      "text/html": [
       "<div>\n",
       "<style scoped>\n",
       "    .dataframe tbody tr th:only-of-type {\n",
       "        vertical-align: middle;\n",
       "    }\n",
       "\n",
       "    .dataframe tbody tr th {\n",
       "        vertical-align: top;\n",
       "    }\n",
       "\n",
       "    .dataframe thead th {\n",
       "        text-align: right;\n",
       "    }\n",
       "</style>\n",
       "<table border=\"1\" class=\"dataframe\">\n",
       "  <thead>\n",
       "    <tr style=\"text-align: right;\">\n",
       "      <th></th>\n",
       "      <th>docname</th>\n",
       "      <th>topic</th>\n",
       "      <th>proportion</th>\n",
       "    </tr>\n",
       "  </thead>\n",
       "  <tbody>\n",
       "    <tr>\n",
       "      <th>0</th>\n",
       "      <td>newsgroups:3</td>\n",
       "      <td>5</td>\n",
       "      <td>1.000000</td>\n",
       "    </tr>\n",
       "    <tr>\n",
       "      <th>1</th>\n",
       "      <td>newsgroups:38</td>\n",
       "      <td>2</td>\n",
       "      <td>1.000000</td>\n",
       "    </tr>\n",
       "    <tr>\n",
       "      <th>2</th>\n",
       "      <td>newsgroups:73</td>\n",
       "      <td>6</td>\n",
       "      <td>1.000000</td>\n",
       "    </tr>\n",
       "    <tr>\n",
       "      <th>3</th>\n",
       "      <td>newsgroups:108</td>\n",
       "      <td>5</td>\n",
       "      <td>0.863749</td>\n",
       "    </tr>\n",
       "    <tr>\n",
       "      <th>4</th>\n",
       "      <td>newsgroups:108</td>\n",
       "      <td>16</td>\n",
       "      <td>0.136251</td>\n",
       "    </tr>\n",
       "  </tbody>\n",
       "</table>\n",
       "</div>"
      ],
      "text/plain": [
       "          docname  topic  proportion\n",
       "0    newsgroups:3      5    1.000000\n",
       "1   newsgroups:38      2    1.000000\n",
       "2   newsgroups:73      6    1.000000\n",
       "3  newsgroups:108      5    0.863749\n",
       "4  newsgroups:108     16    0.136251"
      ]
     },
     "execution_count": 19,
     "metadata": {},
     "output_type": "execute_result"
    }
   ],
   "source": [
    "dfdoctopics = pd.read_csv(\"doc-topics.csv\")\n",
    "dfdoctopics.head()"
   ]
  },
  {
   "cell_type": "markdown",
   "metadata": {},
   "source": [
    "为了使可视化变得更简单，选择 5 篇文章进行绘制。"
   ]
  },
  {
   "cell_type": "code",
   "execution_count": 20,
   "metadata": {},
   "outputs": [],
   "source": [
    "to_chart = dfdoctopics.loc[dfdoctopics['docname'].isin(['newsgroups:1000','newsgroups:2000','newsgroups:3000','newsgroups:4000','newsgroups:5000'])]"
   ]
  },
  {
   "cell_type": "markdown",
   "metadata": {},
   "source": [
    "然后，使用  `pivot_table` 函数将 **docname** 列中的值映射到实际列。这将使创建图表变得更加容易。"
   ]
  },
  {
   "cell_type": "code",
   "execution_count": 21,
   "metadata": {},
   "outputs": [
    {
     "data": {
      "text/html": [
       "<div>\n",
       "<style scoped>\n",
       "    .dataframe tbody tr th:only-of-type {\n",
       "        vertical-align: middle;\n",
       "    }\n",
       "\n",
       "    .dataframe tbody tr th {\n",
       "        vertical-align: top;\n",
       "    }\n",
       "\n",
       "    .dataframe thead th {\n",
       "        text-align: right;\n",
       "    }\n",
       "</style>\n",
       "<table border=\"1\" class=\"dataframe\">\n",
       "  <thead>\n",
       "    <tr style=\"text-align: right;\">\n",
       "      <th>docname</th>\n",
       "      <th>newsgroups:1000</th>\n",
       "      <th>newsgroups:2000</th>\n",
       "      <th>newsgroups:3000</th>\n",
       "      <th>newsgroups:4000</th>\n",
       "      <th>newsgroups:5000</th>\n",
       "    </tr>\n",
       "    <tr>\n",
       "      <th>topic</th>\n",
       "      <th></th>\n",
       "      <th></th>\n",
       "      <th></th>\n",
       "      <th></th>\n",
       "      <th></th>\n",
       "    </tr>\n",
       "  </thead>\n",
       "  <tbody>\n",
       "    <tr>\n",
       "      <th>3</th>\n",
       "      <td>NaN</td>\n",
       "      <td>0.120490</td>\n",
       "      <td>NaN</td>\n",
       "      <td>1.0</td>\n",
       "      <td>1.0</td>\n",
       "    </tr>\n",
       "    <tr>\n",
       "      <th>4</th>\n",
       "      <td>NaN</td>\n",
       "      <td>0.139562</td>\n",
       "      <td>1.0</td>\n",
       "      <td>NaN</td>\n",
       "      <td>NaN</td>\n",
       "    </tr>\n",
       "    <tr>\n",
       "      <th>9</th>\n",
       "      <td>NaN</td>\n",
       "      <td>0.548436</td>\n",
       "      <td>NaN</td>\n",
       "      <td>NaN</td>\n",
       "      <td>NaN</td>\n",
       "    </tr>\n",
       "    <tr>\n",
       "      <th>10</th>\n",
       "      <td>1.0</td>\n",
       "      <td>NaN</td>\n",
       "      <td>NaN</td>\n",
       "      <td>NaN</td>\n",
       "      <td>NaN</td>\n",
       "    </tr>\n",
       "    <tr>\n",
       "      <th>13</th>\n",
       "      <td>NaN</td>\n",
       "      <td>0.191513</td>\n",
       "      <td>NaN</td>\n",
       "      <td>NaN</td>\n",
       "      <td>NaN</td>\n",
       "    </tr>\n",
       "  </tbody>\n",
       "</table>\n",
       "</div>"
      ],
      "text/plain": [
       "docname  newsgroups:1000  newsgroups:2000  newsgroups:3000  newsgroups:4000  \\\n",
       "topic                                                                         \n",
       "3                    NaN         0.120490              NaN              1.0   \n",
       "4                    NaN         0.139562              1.0              NaN   \n",
       "9                    NaN         0.548436              NaN              NaN   \n",
       "10                   1.0              NaN              NaN              NaN   \n",
       "13                   NaN         0.191513              NaN              NaN   \n",
       "\n",
       "docname  newsgroups:5000  \n",
       "topic                     \n",
       "3                    1.0  \n",
       "4                    NaN  \n",
       "9                    NaN  \n",
       "10                   NaN  \n",
       "13                   NaN  "
      ]
     },
     "execution_count": 21,
     "metadata": {},
     "output_type": "execute_result"
    }
   ],
   "source": [
    "to_chart = to_chart.pivot_table(values='proportion', index='topic', columns='docname')\n",
    "to_chart.head()"
   ]
  },
  {
   "cell_type": "markdown",
   "metadata": {},
   "source": [
    "最后，绘制属于您的新闻组文档的主题。\n",
    "\n",
    "您将看到有些文档有单个主题，其他的则包含主题混合。如果有太多主题，您可以尝试更改主题的数量以获得更好的结果。"
   ]
  },
  {
   "cell_type": "code",
   "execution_count": 22,
   "metadata": {},
   "outputs": [
    {
     "name": "stderr",
     "output_type": "stream",
     "text": [
      "Matplotlib is building the font cache; this may take a moment.\n"
     ]
    },
    {
     "data": {
      "text/plain": [
       "Text(0.5, 0, 'Topic ID')"
      ]
     },
     "execution_count": 22,
     "metadata": {},
     "output_type": "execute_result"
    },
    {
     "data": {
      "image/png": "[encoded data removed]",
      "text/plain": [
       "<Figure size 1600x400 with 1 Axes>"
      ]
     },
     "metadata": {},
     "output_type": "display_data"
    }
   ],
   "source": [
    "import matplotlib.pyplot as plt\n",
    "%matplotlib inline\n",
    "\n",
    "fs = 12\n",
    "# df.index = colnames['topic']\n",
    "to_chart.plot(kind='bar', figsize=(16,4), fontsize=fs)\n",
    "plt.ylabel('Topic assignment', fontsize=fs+2)\n",
    "plt.xlabel('Topic ID', fontsize=fs+2)"
   ]
  },
  {
   "cell_type": "markdown",
   "metadata": {},
   "source": [
    "# 恭喜！\n",
    "\n",
    "您已经完成了本实验室内容，现在可以按照实验室指南中的说明结束本实验室内容。"
   ]
  },
  {
   "cell_type": "markdown",
   "metadata": {},
   "source": [
    "*©2023 Amazon Web Services, Inc. 或其联属公司。保留所有权利。未经 Amazon Web Services, Inc. 事先书面许可，不得复制或转载本文的部分或全部内容。禁止因商业目的复制、出借或出售本文。所有商标均为各自所有者的财产。*\n"
   ]
  }
 ],
 "metadata": {
  "instance_type": "ml.t3.medium",
  "kernelspec": {
   "display_name": "conda_python3",
   "language": "python",
   "name": "conda_python3"
  },
  "language_info": {
   "codemirror_mode": {
    "name": "ipython",
    "version": 3
   },
   "file_extension": ".py",
   "mimetype": "text/x-python",
   "name": "python",
   "nbconvert_exporter": "python",
   "pygments_lexer": "ipython3",
   "version": "3.10.15"
  },
  "toc": {
   "base_numbering": 1,
   "nav_menu": {},
   "number_sections": true,
   "sideBar": true,
   "skip_h1_title": false,
   "title_cell": "Table of Contents",
   "title_sidebar": "Contents",
   "toc_cell": false,
   "toc_position": {},
   "toc_section_display": true,
   "toc_window_display": false
  },
  "vscode": {
   "interpreter": {
    "hash": "b71a13339a0be9489ff337af97259fe0ed71e682663adc836bae31ac651d564e"
   }
  }
 },
 "nbformat": 4,
 "nbformat_minor": 4
}
