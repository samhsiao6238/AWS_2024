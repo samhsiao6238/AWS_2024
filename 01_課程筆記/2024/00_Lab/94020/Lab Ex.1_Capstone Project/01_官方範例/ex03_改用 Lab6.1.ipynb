{
 "cells": [
  {
   "cell_type": "markdown",
   "metadata": {},
   "source": [
    "取得 Account ID 驗證 AWS 本機設置正確完成"
   ]
  },
  {
   "cell_type": "code",
   "execution_count": 1,
   "metadata": {},
   "outputs": [
    {
     "name": "stdout",
     "output_type": "stream",
     "text": [
      "AWS Account ID: 753251772626\n"
     ]
    }
   ],
   "source": [
    "import boto3\n",
    "\n",
    "# 載入 .env 檔案中的環境變數\n",
    "from dotenv import load_dotenv\n",
    "import os\n",
    "load_dotenv()\n",
    "\n",
    "# 建立 STS 客戶端\n",
    "sts_client = boto3.client(\"sts\")\n",
    "\n",
    "# 呼叫 get_caller_identity 以取得當前 AWS 帳號資訊\n",
    "response = sts_client.get_caller_identity()\n",
    "account_id = response[\"Account\"]\n",
    "\n",
    "print(f\"AWS Account ID: {account_id}\")"
   ]
  },
  {
   "cell_type": "markdown",
   "metadata": {},
   "source": [
    "遍歷所有 S3 bucket 中的資源並顯示樹狀結構"
   ]
  },
  {
   "cell_type": "code",
   "execution_count": 2,
   "metadata": {},
   "outputs": [
    {
     "name": "stdout",
     "output_type": "stream",
     "text": [
      "Bucket: c133864a3391500l8216998t1w75325177262-lambdabucket-gbht6yptzc87\n",
      " └──  s3cleaner_function.zip\n",
      "Bucket: c133864a3391500l8216998t1w753251772626-labbucket-m0jhfwhqvfik\n",
      " └──  20_newsgroups.tar.gz\n"
     ]
    }
   ],
   "source": [
    "import boto3\n",
    "\n",
    "# 建立 S3 資源對象\n",
    "s3 = boto3.resource('s3')\n",
    "\n",
    "def list_s3_bucket_structure(bucket_name):\n",
    "    bucket = s3.Bucket(bucket_name)\n",
    "    print(f\"Bucket: {bucket_name}\")\n",
    "    \n",
    "    has_objects = False\n",
    "    for obj in bucket.objects.all():\n",
    "        print(\" └── \", obj.key)\n",
    "        has_objects = True\n",
    "\n",
    "    if not has_objects:\n",
    "        print(\" └── <此 bucket 為空>\")\n",
    "\n",
    "# 取得所有 bucket 名稱並顯示每個 bucket 的樹狀結構\n",
    "s3_client = boto3.client(\"s3\")\n",
    "buckets = s3_client.list_buckets()[\"Buckets\"]\n",
    "\n",
    "if buckets:\n",
    "    for bucket in buckets:\n",
    "        list_s3_bucket_structure(bucket[\"Name\"])\n",
    "else:\n",
    "    print(\"當前為空的：沒有任何 S3 bucket\")"
   ]
  },
  {
   "cell_type": "markdown",
   "metadata": {},
   "source": [
    "檢查當前使用者在 S3 和 Comprehend 的權限"
   ]
  },
  {
   "cell_type": "code",
   "execution_count": 3,
   "metadata": {},
   "outputs": [
    {
     "name": "stdout",
     "output_type": "stream",
     "text": [
      "S3 權限檢查成功：有權限訪問 S3 服務。\n",
      "Comprehend 權限不足：無法使用 Comprehend。錯誤訊息: An error occurred (AccessDeniedException) when calling the DetectKeyPhrases operation: User: arn:aws:sts::753251772626:assumed-role/voclabs/user2069478=_________ is not authorized to perform: comprehend:DetectKeyPhrases because no identity-based policy allows the comprehend:DetectKeyPhrases action\n"
     ]
    }
   ],
   "source": [
    "import boto3\n",
    "from botocore.exceptions import ClientError\n",
    "\n",
    "# 檢查 S3 權限\n",
    "def check_s3_permission():\n",
    "    s3_client = boto3.client(\"s3\")\n",
    "    try:\n",
    "        # 嘗試列出所有 bucket，檢查是否有 S3 權限\n",
    "        response = s3_client.list_buckets()\n",
    "        print(\"S3 權限檢查成功：有權限訪問 S3 服務。\")\n",
    "    except ClientError as e:\n",
    "        if e.response['Error']['Code'] == 'AccessDenied':\n",
    "            print(\"S3 權限不足：無法訪問 S3。錯誤訊息:\", e)\n",
    "        else:\n",
    "            print(\"其他 S3 錯誤:\", e)\n",
    "\n",
    "# 檢查 Comprehend 權限\n",
    "def check_comprehend_permission():\n",
    "    comprehend_client = boto3.client(\"comprehend\")\n",
    "    sample_text = \"This is a sample text for checking permissions.\"\n",
    "\n",
    "    try:\n",
    "        # 嘗試提取關鍵詞組，檢查是否有 Comprehend 權限\n",
    "        comprehend_client.detect_key_phrases(Text=sample_text, LanguageCode=\"en\")\n",
    "        print(\"Comprehend 權限檢查成功：有權限使用 Comprehend 服務。\")\n",
    "    except ClientError as e:\n",
    "        if e.response['Error']['Code'] == 'AccessDeniedException':\n",
    "            print(\"Comprehend 權限不足：無法使用 Comprehend。錯誤訊息:\", e)\n",
    "        else:\n",
    "            print(\"其他 Comprehend 錯誤:\", e)\n",
    "\n",
    "# 執行權限檢查\n",
    "check_s3_permission()\n",
    "check_comprehend_permission()\n"
   ]
  },
  {
   "cell_type": "code",
   "execution_count": 4,
   "metadata": {},
   "outputs": [
    {
     "name": "stdout",
     "output_type": "stream",
     "text": [
      "正在檢查 S3 權限...\n",
      "S3 Bucket 'c133864a3391500l8216998t1w753251772626-labbucket-m0jhfwhqvfik' 存取成功，包含物件數量: 1\n",
      "\n",
      "正在檢查 Comprehend 權限...\n",
      "Comprehend 的 DetectKeyPhrases 操作失敗。錯誤訊息: An error occurred (AccessDeniedException) when calling the DetectKeyPhrases operation: User: arn:aws:sts::753251772626:assumed-role/voclabs/user2069478=_________ is not authorized to perform: comprehend:DetectKeyPhrases because no identity-based policy allows the comprehend:DetectKeyPhrases action\n",
      "Comprehend 的 DetectEntities 操作失敗。錯誤訊息: An error occurred (AccessDeniedException) when calling the DetectEntities operation: User: arn:aws:sts::753251772626:assumed-role/voclabs/user2069478=_________ is not authorized to perform: comprehend:DetectEntities because no identity-based policy allows the comprehend:DetectEntities action\n"
     ]
    }
   ],
   "source": [
    "import boto3\n",
    "from botocore.exceptions import ClientError\n",
    "\n",
    "# 設定 S3 和 Comprehend 客戶端\n",
    "s3_client = boto3.client(\"s3\")\n",
    "comprehend_client = boto3.client(\"comprehend\")\n",
    "\n",
    "# S3 Bucket 和 IAM Role ARN\n",
    "bucket = 'c133864a3391500l8216998t1w753251772626-labbucket-m0jhfwhqvfik'\n",
    "data_access_role_arn = 'arn:aws:iam::753251772626:role/service-role/c133864a3391500l8216998t1w-ComprehendDataAccessRole-BwjcVJXuvgaz'\n",
    "\n",
    "# 權限檢查：S3 存取權限\n",
    "def check_s3_access(bucket_name):\n",
    "    try:\n",
    "        # 嘗試列出 S3 Bucket 內容以確認權限\n",
    "        response = s3_client.list_objects_v2(Bucket=bucket_name)\n",
    "        if \"Contents\" in response:\n",
    "            print(f\"S3 Bucket '{bucket_name}' 存取成功，包含物件數量:\", len(response[\"Contents\"]))\n",
    "        else:\n",
    "            print(f\"S3 Bucket '{bucket_name}' 內無任何物件。\")\n",
    "    except ClientError as e:\n",
    "        print(f\"S3 存取失敗。錯誤訊息: {e}\")\n",
    "\n",
    "# 權限檢查：Comprehend 存取權限\n",
    "def check_comprehend_access(text_sample, role_arn):\n",
    "    try:\n",
    "        # 測試 Comprehend 的 DetectKeyPhrases 權限\n",
    "        response = comprehend_client.detect_key_phrases(\n",
    "            Text=text_sample,\n",
    "            LanguageCode=\"en\"\n",
    "        )\n",
    "        print(\"Comprehend 的 DetectKeyPhrases 操作成功。\")\n",
    "    except ClientError as e:\n",
    "        print(\"Comprehend 的 DetectKeyPhrases 操作失敗。錯誤訊息:\", e)\n",
    "\n",
    "    try:\n",
    "        # 測試 Comprehend 的 DetectEntities 權限\n",
    "        response = comprehend_client.detect_entities(\n",
    "            Text=text_sample,\n",
    "            LanguageCode=\"en\"\n",
    "        )\n",
    "        print(\"Comprehend 的 DetectEntities 操作成功。\")\n",
    "    except ClientError as e:\n",
    "        print(\"Comprehend 的 DetectEntities 操作失敗。錯誤訊息:\", e)\n",
    "\n",
    "# 測試樣本文本\n",
    "text_sample = \"This is a sample text for checking permissions in Comprehend.\"\n",
    "\n",
    "# 執行 S3 和 Comprehend 的權限檢查\n",
    "print(\"正在檢查 S3 權限...\")\n",
    "check_s3_access(bucket)\n",
    "\n",
    "print(\"\\n正在檢查 Comprehend 權限...\")\n",
    "check_comprehend_access(text_sample, data_access_role_arn)\n"
   ]
  }
 ],
 "metadata": {
  "kernelspec": {
   "display_name": "envAWS",
   "language": "python",
   "name": "python3"
  },
  "language_info": {
   "codemirror_mode": {
    "name": "ipython",
    "version": 3
   },
   "file_extension": ".py",
   "mimetype": "text/x-python",
   "name": "python",
   "nbconvert_exporter": "python",
   "pygments_lexer": "ipython3",
   "version": "3.10.11"
  }
 },
 "nbformat": 4,
 "nbformat_minor": 2
}
