{
 "cells": [
  {
   "cell_type": "code",
   "execution_count": 2,
   "metadata": {},
   "outputs": [
    {
     "name": "stdout",
     "output_type": "stream",
     "text": [
      "縮小圖片並覆蓋: img_04.png -> 新尺寸: (736, 566)\n",
      "縮小圖片並覆蓋: img_10.png -> 新尺寸: (204, 156)\n",
      "縮小圖片並覆蓋: img_11.png -> 新尺寸: (177, 160)\n",
      "縮小圖片並覆蓋: img_05.png -> 新尺寸: (857, 448)\n",
      "縮小圖片並覆蓋: img_13.png -> 新尺寸: (136, 90)\n",
      "縮小圖片並覆蓋: img_07.png -> 新尺寸: (811, 345)\n",
      "縮小圖片並覆蓋: img_06.png -> 新尺寸: (866, 288)\n",
      "縮小圖片並覆蓋: img_12.png -> 新尺寸: (956, 203)\n",
      "縮小圖片並覆蓋: img_16.png -> 新尺寸: (1092, 145)\n",
      "縮小圖片並覆蓋: img_02.png -> 新尺寸: (582, 220)\n",
      "縮小圖片並覆蓋: img_03.png -> 新尺寸: (798, 561)\n",
      "縮小圖片並覆蓋: img_17.png -> 新尺寸: (857, 149)\n",
      "縮小圖片並覆蓋: img_01.png -> 新尺寸: (947, 474)\n",
      "縮小圖片並覆蓋: img_15.png -> 新尺寸: (868, 118)\n",
      "縮小圖片並覆蓋: img_14.png -> 新尺寸: (442, 94)\n",
      "縮小圖片並覆蓋: img_18.png -> 新尺寸: (883, 643)\n",
      "縮小圖片並覆蓋: img_08.png -> 新尺寸: (188, 88)\n",
      "縮小圖片並覆蓋: img_09.png -> 新尺寸: (380, 184)\n"
     ]
    }
   ],
   "source": [
    "from PIL import Image\n",
    "import glob\n",
    "\n",
    "# 遍歷當前路徑中所有的 *.png 文件\n",
    "for file_path in glob.glob(\"*.png\"):\n",
    "    try:\n",
    "        # 打開圖片\n",
    "        with Image.open(file_path) as img:\n",
    "            # 計算新的尺寸\n",
    "            new_size = (int(img.width * 0.8), int(img.height * 0.8))\n",
    "            \n",
    "            # 調整圖片大小，使用 LANCZOS 作為抗鋸齒濾波器\n",
    "            resized_img = img.resize(new_size, Image.LANCZOS)\n",
    "            \n",
    "            # 覆蓋保存縮小後的圖片\n",
    "            resized_img.save(file_path)\n",
    "            \n",
    "            print(f\"縮小圖片並覆蓋: {file_path} -> 新尺寸: {new_size}\")\n",
    "    except Exception as e:\n",
    "        print(f\"處理 {file_path} 時發生錯誤: {e}\")\n"
   ]
  }
 ],
 "metadata": {
  "kernelspec": {
   "display_name": "envAWS",
   "language": "python",
   "name": "python3"
  },
  "language_info": {
   "codemirror_mode": {
    "name": "ipython",
    "version": 3
   },
   "file_extension": ".py",
   "mimetype": "text/x-python",
   "name": "python",
   "nbconvert_exporter": "python",
   "pygments_lexer": "ipython3",
   "version": "3.10.11"
  }
 },
 "nbformat": 4,
 "nbformat_minor": 2
}
