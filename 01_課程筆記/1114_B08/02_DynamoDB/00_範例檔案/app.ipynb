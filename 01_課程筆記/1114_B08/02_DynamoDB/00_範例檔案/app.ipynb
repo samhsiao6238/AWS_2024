{
 "cells": [
  {
   "cell_type": "markdown",
   "metadata": {},
   "source": [
    "確認環境變數"
   ]
  },
  {
   "cell_type": "code",
   "execution_count": null,
   "metadata": {},
   "outputs": [],
   "source": [
    "import os\n",
    "import boto3\n",
    "from dotenv import load_dotenv\n",
    "\n",
    "# 載入 .env 文件中的環境變數\n",
    "load_dotenv()\n",
    "\n",
    "def check_credentials():\n",
    "    # 初始化 boto3 session\n",
    "    session = boto3.Session()\n",
    "    print(\"Current Credentials:\")\n",
    "    print(\"Access Key:\", session.get_credentials().access_key)\n",
    "    print(\"Secret Key:\", session.get_credentials().secret_key)\n",
    "    print(\"Session Token:\", session.get_credentials().token)\n",
    "    print(\"Region:\", session.region_name)\n",
    "\n",
    "if __name__ == \"__main__\":\n",
    "    check_credentials()\n"
   ]
  },
  {
   "cell_type": "markdown",
   "metadata": {},
   "source": [
    "檢查使用者資訊"
   ]
  },
  {
   "cell_type": "code",
   "execution_count": null,
   "metadata": {},
   "outputs": [],
   "source": [
    "import boto3\n",
    "\n",
    "def get_account_id():\n",
    "    try:\n",
    "        # 初始化 STS 客戶端\n",
    "        sts_client = boto3.client('sts')\n",
    "        \n",
    "        # 取得當前身份的資訊\n",
    "        response = sts_client.get_caller_identity()\n",
    "        \n",
    "        # 輸出帳號 ID 和使用者 ARN\n",
    "        print(\"Account ID:\", response['Account'])\n",
    "        print(\"User ARN:\", response['Arn'])\n",
    "    except Exception as e:\n",
    "        print(\"無法取得帳號資訊，錯誤原因：\", e)\n",
    "\n",
    "if __name__ == \"__main__\":\n",
    "    get_account_id()\n"
   ]
  },
  {
   "cell_type": "markdown",
   "metadata": {},
   "source": [
    "查詢對話內容"
   ]
  },
  {
   "cell_type": "code",
   "execution_count": null,
   "metadata": {},
   "outputs": [],
   "source": [
    "import boto3\n",
    "from botocore.exceptions import ClientError\n",
    "\n",
    "def fetch_and_display_records():\n",
    "    # 初始化 DynamoDB 資源\n",
    "    dynamodb = boto3.resource('dynamodb', region_name='us-east-1')\n",
    "    table_name = \"LinebotMessages\"\n",
    "\n",
    "    try:\n",
    "        # 取得資料表\n",
    "        table = dynamodb.Table(table_name)\n",
    "\n",
    "        # 嘗試掃描資料表\n",
    "        response = table.scan()\n",
    "        items = response.get('Items', [])\n",
    "\n",
    "        # 如果無資料，提示使用者\n",
    "        if not items:\n",
    "            print(\"當前無資料。\")\n",
    "        else:\n",
    "            # 顯示所有記錄\n",
    "            for item in items:\n",
    "                print(\n",
    "                    f\"UserId: {item['UserId']}, \\n\"\n",
    "                    f\"Timestamp: {item['Timestamp']}, \\n\"\n",
    "                    f\"Message: {item['Message']}\\n\"\n",
    "                )\n",
    "    except ClientError as e:\n",
    "        # 檢查是否是資料表不存在的錯誤\n",
    "        error_code = e.response['Error']['Code']\n",
    "        if error_code == 'ResourceNotFoundException':\n",
    "            print(f\"資料表 {table_name} 不存在。\")\n",
    "        else:\n",
    "            print(f\"讀取資料表時發生錯誤：{e}\")\n",
    "    except Exception as e:\n",
    "        print(f\"發生未知錯誤：{e}\")\n",
    "\n",
    "if __name__ == \"__main__\":\n",
    "    fetch_and_display_records()\n"
   ]
  }
 ],
 "metadata": {
  "kernelspec": {
   "display_name": "envAWS3",
   "language": "python",
   "name": "python3"
  },
  "language_info": {
   "codemirror_mode": {
    "name": "ipython",
    "version": 3
   },
   "file_extension": ".py",
   "mimetype": "text/x-python",
   "name": "python",
   "nbconvert_exporter": "python",
   "pygments_lexer": "ipython3",
   "version": "3.10.11"
  }
 },
 "nbformat": 4,
 "nbformat_minor": 2
}
