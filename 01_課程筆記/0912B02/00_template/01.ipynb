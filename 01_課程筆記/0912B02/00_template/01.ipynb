{
 "cells": [
  {
   "cell_type": "code",
   "execution_count": 1,
   "metadata": {},
   "outputs": [
    {
     "name": "stdout",
     "output_type": "stream",
     "text": [
      "ImageId: ami-05c89af705fc8fb3c, CreationDate: 2024-01-09T23:41:00.000Z\n",
      "ImageId: ami-06883a492f195064e, CreationDate: 2024-04-13T00:11:45.000Z\n",
      "ImageId: ami-094a0fafc1bf73bd6, CreationDate: 2023-11-01T21:41:17.000Z\n",
      "ImageId: ami-0e30b3388d74cee6d, CreationDate: 2024-05-21T23:43:18.000Z\n",
      "ImageId: ami-01f8103a2082c0718, CreationDate: 2023-07-27T02:47:21.000Z\n",
      "ImageId: ami-0676a735c5f8e67c4, CreationDate: 2024-05-30T00:41:48.000Z\n",
      "ImageId: ami-04d0def24be0d27d6, CreationDate: 2023-06-28T20:12:57.000Z\n",
      "ImageId: ami-0f64dfdea96e44686, CreationDate: 2023-02-24T09:53:58.000Z\n",
      "ImageId: ami-0ef45c14a8b7161ce, CreationDate: 2024-06-21T01:05:13.000Z\n",
      "ImageId: ami-08e4eaf54ff5ee95e, CreationDate: 2022-11-14T23:00:14.000Z\n",
      "ImageId: ami-06e46a16a1f5d65f4, CreationDate: 2023-07-20T00:58:59.000Z\n",
      "ImageId: ami-04288abc8d2000768, CreationDate: 2023-08-22T19:47:36.000Z\n",
      "ImageId: ami-0c36451c41e1eefd2, CreationDate: 2024-01-26T19:11:43.000Z\n",
      "ImageId: ami-0319ef1a70c93d5c8, CreationDate: 2023-11-17T00:56:27.000Z\n",
      "ImageId: ami-08c3f791b55fe9c86, CreationDate: 2023-12-18T18:54:04.000Z\n",
      "ImageId: ami-0025f0db847eb6254, CreationDate: 2023-10-13T23:43:46.000Z\n",
      "ImageId: ami-00755a52896316cee, CreationDate: 2023-09-12T23:50:02.000Z\n",
      "ImageId: ami-0ec021424fb596d6c, CreationDate: 2023-05-05T19:27:33.000Z\n",
      "ImageId: ami-0620766f9d10d6c9e, CreationDate: 2022-09-15T08:47:06.000Z\n",
      "ImageId: ami-00572d57e771a4823, CreationDate: 2024-03-29T23:49:16.000Z\n",
      "ImageId: ami-0033f83482a4826f7, CreationDate: 2023-06-02T19:40:40.000Z\n",
      "ImageId: ami-0334e4d241a18536b, CreationDate: 2023-05-19T00:12:38.000Z\n",
      "ImageId: ami-08b5cbcab56780bc9, CreationDate: 2024-08-10T03:27:02.000Z\n",
      "ImageId: ami-0acb9a8339ab465bd, CreationDate: 2024-06-11T01:12:05.000Z\n",
      "ImageId: ami-0167739a362a4b484, CreationDate: 2023-09-06T19:41:49.000Z\n",
      "ImageId: ami-0e68eac8f2e9cde26, CreationDate: 2023-08-08T17:48:43.000Z\n",
      "ImageId: ami-001e91409ff66b7b0, CreationDate: 2023-03-22T11:06:57.000Z\n",
      "ImageId: ami-076e3756930a93fbb, CreationDate: 2024-01-24T01:46:42.000Z\n",
      "ImageId: ami-08578967e04feedea, CreationDate: 2024-08-17T04:00:21.000Z\n",
      "ImageId: ami-0f3b366cff2e46862, CreationDate: 2023-03-08T13:11:40.000Z\n",
      "ImageId: ami-060f936aec9003903, CreationDate: 2023-10-23T19:48:26.000Z\n",
      "ImageId: ami-069be11a330abe15b, CreationDate: 2023-04-20T19:32:44.000Z\n",
      "ImageId: ami-03eb5bfc849fa01ae, CreationDate: 2023-06-13T22:03:53.000Z\n",
      "ImageId: ami-06324ac42ce758be2, CreationDate: 2023-12-06T21:05:15.000Z\n",
      "ImageId: ami-06688e5fbed06b017, CreationDate: 2024-03-07T20:04:48.000Z\n",
      "ImageId: ami-0211c3296405e1021, CreationDate: 2024-07-20T03:58:41.000Z\n",
      "ImageId: ami-015dd47011d78eef5, CreationDate: 2023-10-19T00:07:40.000Z\n",
      "ImageId: ami-060aed23281407591, CreationDate: 2024-05-04T01:19:37.000Z\n",
      "ImageId: ami-03789dbbf779d9790, CreationDate: 2024-07-10T02:09:13.000Z\n",
      "ImageId: ami-0849a313b038afda0, CreationDate: 2022-12-16T01:56:14.000Z\n",
      "ImageId: ami-03808b1d5ea7e5ea8, CreationDate: 2024-09-04T00:09:38.000Z\n",
      "ImageId: ami-0913c47048d853921, CreationDate: 2023-01-25T17:09:30.000Z\n",
      "ImageId: ami-0c60a682662b226b3, CreationDate: 2024-03-20T02:47:15.000Z\n",
      "ImageId: ami-00b44d3dbe1f81742, CreationDate: 2023-02-09T12:09:10.000Z\n",
      "ImageId: ami-0044a0897b53acfb6, CreationDate: 2023-09-26T17:43:37.000Z\n",
      "ImageId: ami-0f9f005c313373218, CreationDate: 2022-10-13T21:02:20.000Z\n",
      "ImageId: ami-0a115fc69aa3ffd69, CreationDate: 2022-12-14T20:18:43.000Z\n",
      "ImageId: ami-06ca2a69bfc9aa4ec, CreationDate: 2023-04-04T22:10:51.000Z\n",
      "ImageId: ami-0f9fff25f1c7ca4f0, CreationDate: 2023-04-11T07:52:17.000Z\n",
      "ImageId: ami-0dfd45428f2d4af0c, CreationDate: 2024-02-23T06:31:45.000Z\n"
     ]
    }
   ],
   "source": [
    "import boto3\n",
    "\n",
    "# 初始化 EC2 資源\n",
    "ec2 = boto3.client('ec2', region_name='us-west-2')\n",
    "\n",
    "# 查詢 Amazon Linux 2 AMI\n",
    "response = ec2.describe_images(\n",
    "    Owners=['amazon'],\n",
    "    Filters=[\n",
    "        {'Name': 'name', 'Values': ['amzn2-ami-hvm-2.0.*-x86_64-gp2']}\n",
    "    ]\n",
    ")\n",
    "\n",
    "# 輸出所有找到的 AMI ID\n",
    "for image in response['Images']:\n",
    "    print(f\"ImageId: {image['ImageId']}, CreationDate: {image['CreationDate']}\")\n"
   ]
  }
 ],
 "metadata": {
  "kernelspec": {
   "display_name": "envAWS",
   "language": "python",
   "name": "python3"
  },
  "language_info": {
   "codemirror_mode": {
    "name": "ipython",
    "version": 3
   },
   "file_extension": ".py",
   "mimetype": "text/x-python",
   "name": "python",
   "nbconvert_exporter": "python",
   "pygments_lexer": "ipython3",
   "version": "3.10.11"
  }
 },
 "nbformat": 4,
 "nbformat_minor": 2
}
